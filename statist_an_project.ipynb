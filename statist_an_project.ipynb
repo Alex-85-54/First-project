{
 "cells": [
  {
   "cell_type": "markdown",
   "metadata": {},
   "source": [
    "<div style=\"border:solid green 2px; padding: 20px\">\n",
    "<b>Александр, привет!</b>\n",
    "\n",
    "Меня зовут Евгений Дащенко, и я буду проверять твой проект. Предлагаю общаться на «ты» 😊 Но если это не удобно - дай знать, и мы перейдем на \"вы\". \n",
    "    <div class=\"alert alert-info\">\n",
    "        Привет, Евгений! На \"ты\" ок)\n",
    "        </div>\n",
    "\n",
    "Моя основная цель — не указать на совершенные тобою ошибки, а поделиться своим опытом и помочь тебе стать аналитиком данных. Ты уже проделал большую работу над проектом, но давай сделаем его еще лучше. Ниже ты найдешь мои комментарии - пожалуйста, не перемещай, не изменяй и не удаляй их. Я буду использовать цветовую разметку:\n",
    "\n",
    "<div class=\"alert alert-danger\">\n",
    "<b>Комментарий ревьюера:</b> Так выделены самые важные замечания. Без их отработки проект не будет принят. </div>\n",
    "\n",
    "<div class=\"alert alert-warning\">\n",
    "<b>Комментарий ревьюера:</b> Так выделены небольшие замечания. Одна-два таких замечания в проекте допустимы, но если их будет больше - тебе будет необходимо внести исправления. Это как тестовое задание при приеме на работу: очень много мелких ошибок могут стать причиной отказа кандидату. \n",
    "\n",
    "</div>\n",
    "\n",
    "<div class=\"alert alert-success\">\n",
    "<b>Комментарий ревьюера:</b> Так я выделяю все остальные комментарии.</div>\n",
    "\n",
    "Давай работать над проектом в диалоге: если ты что-то меняешь в проекте или отвечаешь на мои комменатри — пиши об этом. Мне будет легче отследить изменения, если ты выделишь свои комментарии:\n",
    "<div class=\"alert alert-info\"> <b>Комментарий студента:</b> Например, вот так.</div>\n",
    "\n",
    "Всё это поможет выполнить повторную проверку твоего проекта оперативнее. "
   ]
  },
  {
   "cell_type": "markdown",
   "metadata": {},
   "source": [
    "# Определение перспективного тарифа для телеком компании"
   ]
  },
  {
   "cell_type": "markdown",
   "metadata": {},
   "source": [
    "Клиентам предлагают два тарифных плана: «Смарт» и «Ультра». \n",
    "Нужно сделать предварительный анализ тарифов на небольшой выборке клиентов. В нашем распоряжении данные 500 пользователей. Нужно проанализировать поведение клиентов и сделать вывод — какой тариф лучше.\n",
    "Чтобы скорректировать рекламный бюджет, коммерческий департамент хочет понять, какой тариф приносит больше денег. Выдвинем гипотезы и проверим их:\n",
    "+ 1. Средняя выручка пользователей тарифов «Ультра» и «Смарт» различаются.\n",
    "+ 2. Средняя выручка пользователи из Москвы отличается от выручки пользователей из других регионов."
   ]
  },
  {
   "cell_type": "markdown",
   "metadata": {},
   "source": [
    "Описание тарифов\n",
    "+ **Тариф «Смарт»**\n",
    "Ежемесячная плата: 550 рублей\n",
    "Включено 500 минут разговора, 50 сообщений и 15 Гб интернет-трафика\n",
    "Стоимость услуг сверх тарифного пакета: 1. минута разговора: 3 рубля («Мегалайн» всегда округляет вверх значения минут и мегабайтов. Если пользователь проговорил всего 1 секунду, в тарифе засчитывается целая минута); 2. сообщение: 3 рубля; 3. 1 Гб интернет-трафика: 200 рублей.\n",
    "+ **Тариф «Ультра»**\n",
    "Ежемесячная плата: 1950 рублей\n",
    "Включено 3000 минут разговора, 1000 сообщений и 30 Гб интернет-трафика\n",
    "Стоимость услуг сверх тарифного пакета: 1. минута разговора: 1 рубль; 2. сообщение: 1 рубль; 3. 1 Гб интернет-трафика: 150 рублей."
   ]
  },
  {
   "cell_type": "markdown",
   "metadata": {},
   "source": [
    "<div class=\"alert alert-success\">\n",
    "<b>Комментарий ревьюера:</b>\n",
    "\n",
    "Здорово, когда есть вступление в сам проект, каждый сможет быстрее разобраться в концепции / деталях работы. \n",
    "\n",
    "</div>"
   ]
  },
  {
   "cell_type": "markdown",
   "metadata": {},
   "source": [
    "## Предварительное изучение данных:"
   ]
  },
  {
   "cell_type": "markdown",
   "metadata": {},
   "source": [
    "### Загружаем данные и библиотеки:"
   ]
  },
  {
   "cell_type": "code",
   "execution_count": 83,
   "metadata": {},
   "outputs": [],
   "source": [
    "import pandas as pd\n",
    "import numpy as np\n",
    "import math as mt\n",
    "import matplotlib.pyplot as plt\n",
    "from scipy import stats as st"
   ]
  },
  {
   "cell_type": "code",
   "execution_count": 84,
   "metadata": {
    "scrolled": false
   },
   "outputs": [
    {
     "data": {
      "text/html": [
       "<div>\n",
       "<style scoped>\n",
       "    .dataframe tbody tr th:only-of-type {\n",
       "        vertical-align: middle;\n",
       "    }\n",
       "\n",
       "    .dataframe tbody tr th {\n",
       "        vertical-align: top;\n",
       "    }\n",
       "\n",
       "    .dataframe thead th {\n",
       "        text-align: right;\n",
       "    }\n",
       "</style>\n",
       "<table border=\"1\" class=\"dataframe\">\n",
       "  <thead>\n",
       "    <tr style=\"text-align: right;\">\n",
       "      <th></th>\n",
       "      <th>id</th>\n",
       "      <th>call_date</th>\n",
       "      <th>duration</th>\n",
       "      <th>user_id</th>\n",
       "    </tr>\n",
       "  </thead>\n",
       "  <tbody>\n",
       "    <tr>\n",
       "      <td>0</td>\n",
       "      <td>1000_0</td>\n",
       "      <td>2018-07-25</td>\n",
       "      <td>0.000</td>\n",
       "      <td>1000</td>\n",
       "    </tr>\n",
       "    <tr>\n",
       "      <td>1</td>\n",
       "      <td>1000_1</td>\n",
       "      <td>2018-08-17</td>\n",
       "      <td>0.000</td>\n",
       "      <td>1000</td>\n",
       "    </tr>\n",
       "    <tr>\n",
       "      <td>2</td>\n",
       "      <td>1000_2</td>\n",
       "      <td>2018-06-11</td>\n",
       "      <td>2.850</td>\n",
       "      <td>1000</td>\n",
       "    </tr>\n",
       "    <tr>\n",
       "      <td>3</td>\n",
       "      <td>1000_3</td>\n",
       "      <td>2018-09-21</td>\n",
       "      <td>13.800</td>\n",
       "      <td>1000</td>\n",
       "    </tr>\n",
       "    <tr>\n",
       "      <td>4</td>\n",
       "      <td>1000_4</td>\n",
       "      <td>2018-12-15</td>\n",
       "      <td>5.180</td>\n",
       "      <td>1000</td>\n",
       "    </tr>\n",
       "  </tbody>\n",
       "</table>\n",
       "</div>"
      ],
      "text/plain": [
       "       id   call_date  duration  user_id\n",
       "0  1000_0  2018-07-25     0.000     1000\n",
       "1  1000_1  2018-08-17     0.000     1000\n",
       "2  1000_2  2018-06-11     2.850     1000\n",
       "3  1000_3  2018-09-21    13.800     1000\n",
       "4  1000_4  2018-12-15     5.180     1000"
      ]
     },
     "metadata": {},
     "output_type": "display_data"
    }
   ],
   "source": [
    "df_1 = pd.read_csv('/datasets/calls.csv')\n",
    "display(df_1.head())"
   ]
  },
  {
   "cell_type": "code",
   "execution_count": 85,
   "metadata": {},
   "outputs": [
    {
     "data": {
      "text/html": [
       "<div>\n",
       "<style scoped>\n",
       "    .dataframe tbody tr th:only-of-type {\n",
       "        vertical-align: middle;\n",
       "    }\n",
       "\n",
       "    .dataframe tbody tr th {\n",
       "        vertical-align: top;\n",
       "    }\n",
       "\n",
       "    .dataframe thead th {\n",
       "        text-align: right;\n",
       "    }\n",
       "</style>\n",
       "<table border=\"1\" class=\"dataframe\">\n",
       "  <thead>\n",
       "    <tr style=\"text-align: right;\">\n",
       "      <th></th>\n",
       "      <th>Unnamed: 0</th>\n",
       "      <th>id</th>\n",
       "      <th>mb_used</th>\n",
       "      <th>session_date</th>\n",
       "      <th>user_id</th>\n",
       "    </tr>\n",
       "  </thead>\n",
       "  <tbody>\n",
       "    <tr>\n",
       "      <td>0</td>\n",
       "      <td>0</td>\n",
       "      <td>1000_0</td>\n",
       "      <td>112.950</td>\n",
       "      <td>2018-11-25</td>\n",
       "      <td>1000</td>\n",
       "    </tr>\n",
       "    <tr>\n",
       "      <td>1</td>\n",
       "      <td>1</td>\n",
       "      <td>1000_1</td>\n",
       "      <td>1052.810</td>\n",
       "      <td>2018-09-07</td>\n",
       "      <td>1000</td>\n",
       "    </tr>\n",
       "    <tr>\n",
       "      <td>2</td>\n",
       "      <td>2</td>\n",
       "      <td>1000_2</td>\n",
       "      <td>1197.260</td>\n",
       "      <td>2018-06-25</td>\n",
       "      <td>1000</td>\n",
       "    </tr>\n",
       "    <tr>\n",
       "      <td>3</td>\n",
       "      <td>3</td>\n",
       "      <td>1000_3</td>\n",
       "      <td>550.270</td>\n",
       "      <td>2018-08-22</td>\n",
       "      <td>1000</td>\n",
       "    </tr>\n",
       "    <tr>\n",
       "      <td>4</td>\n",
       "      <td>4</td>\n",
       "      <td>1000_4</td>\n",
       "      <td>302.560</td>\n",
       "      <td>2018-09-24</td>\n",
       "      <td>1000</td>\n",
       "    </tr>\n",
       "  </tbody>\n",
       "</table>\n",
       "</div>"
      ],
      "text/plain": [
       "   Unnamed: 0      id  mb_used session_date  user_id\n",
       "0           0  1000_0  112.950   2018-11-25     1000\n",
       "1           1  1000_1 1052.810   2018-09-07     1000\n",
       "2           2  1000_2 1197.260   2018-06-25     1000\n",
       "3           3  1000_3  550.270   2018-08-22     1000\n",
       "4           4  1000_4  302.560   2018-09-24     1000"
      ]
     },
     "metadata": {},
     "output_type": "display_data"
    }
   ],
   "source": [
    "df_2 = pd.read_csv('/datasets/internet.csv')\n",
    "display(df_2.head())"
   ]
  },
  {
   "cell_type": "code",
   "execution_count": 86,
   "metadata": {},
   "outputs": [
    {
     "data": {
      "text/html": [
       "<div>\n",
       "<style scoped>\n",
       "    .dataframe tbody tr th:only-of-type {\n",
       "        vertical-align: middle;\n",
       "    }\n",
       "\n",
       "    .dataframe tbody tr th {\n",
       "        vertical-align: top;\n",
       "    }\n",
       "\n",
       "    .dataframe thead th {\n",
       "        text-align: right;\n",
       "    }\n",
       "</style>\n",
       "<table border=\"1\" class=\"dataframe\">\n",
       "  <thead>\n",
       "    <tr style=\"text-align: right;\">\n",
       "      <th></th>\n",
       "      <th>id</th>\n",
       "      <th>message_date</th>\n",
       "      <th>user_id</th>\n",
       "    </tr>\n",
       "  </thead>\n",
       "  <tbody>\n",
       "    <tr>\n",
       "      <td>0</td>\n",
       "      <td>1000_0</td>\n",
       "      <td>2018-06-27</td>\n",
       "      <td>1000</td>\n",
       "    </tr>\n",
       "    <tr>\n",
       "      <td>1</td>\n",
       "      <td>1000_1</td>\n",
       "      <td>2018-10-08</td>\n",
       "      <td>1000</td>\n",
       "    </tr>\n",
       "    <tr>\n",
       "      <td>2</td>\n",
       "      <td>1000_2</td>\n",
       "      <td>2018-08-04</td>\n",
       "      <td>1000</td>\n",
       "    </tr>\n",
       "    <tr>\n",
       "      <td>3</td>\n",
       "      <td>1000_3</td>\n",
       "      <td>2018-06-16</td>\n",
       "      <td>1000</td>\n",
       "    </tr>\n",
       "    <tr>\n",
       "      <td>4</td>\n",
       "      <td>1000_4</td>\n",
       "      <td>2018-12-05</td>\n",
       "      <td>1000</td>\n",
       "    </tr>\n",
       "  </tbody>\n",
       "</table>\n",
       "</div>"
      ],
      "text/plain": [
       "       id message_date  user_id\n",
       "0  1000_0   2018-06-27     1000\n",
       "1  1000_1   2018-10-08     1000\n",
       "2  1000_2   2018-08-04     1000\n",
       "3  1000_3   2018-06-16     1000\n",
       "4  1000_4   2018-12-05     1000"
      ]
     },
     "metadata": {},
     "output_type": "display_data"
    }
   ],
   "source": [
    "df_3 = pd.read_csv('/datasets/messages.csv')\n",
    "display(df_3.head())"
   ]
  },
  {
   "cell_type": "code",
   "execution_count": 87,
   "metadata": {},
   "outputs": [
    {
     "data": {
      "text/html": [
       "<div>\n",
       "<style scoped>\n",
       "    .dataframe tbody tr th:only-of-type {\n",
       "        vertical-align: middle;\n",
       "    }\n",
       "\n",
       "    .dataframe tbody tr th {\n",
       "        vertical-align: top;\n",
       "    }\n",
       "\n",
       "    .dataframe thead th {\n",
       "        text-align: right;\n",
       "    }\n",
       "</style>\n",
       "<table border=\"1\" class=\"dataframe\">\n",
       "  <thead>\n",
       "    <tr style=\"text-align: right;\">\n",
       "      <th></th>\n",
       "      <th>messages_included</th>\n",
       "      <th>mb_per_month_included</th>\n",
       "      <th>minutes_included</th>\n",
       "      <th>rub_monthly_fee</th>\n",
       "      <th>rub_per_gb</th>\n",
       "      <th>rub_per_message</th>\n",
       "      <th>rub_per_minute</th>\n",
       "      <th>tariff_name</th>\n",
       "    </tr>\n",
       "  </thead>\n",
       "  <tbody>\n",
       "    <tr>\n",
       "      <td>0</td>\n",
       "      <td>50</td>\n",
       "      <td>15360</td>\n",
       "      <td>500</td>\n",
       "      <td>550</td>\n",
       "      <td>200</td>\n",
       "      <td>3</td>\n",
       "      <td>3</td>\n",
       "      <td>smart</td>\n",
       "    </tr>\n",
       "    <tr>\n",
       "      <td>1</td>\n",
       "      <td>1000</td>\n",
       "      <td>30720</td>\n",
       "      <td>3000</td>\n",
       "      <td>1950</td>\n",
       "      <td>150</td>\n",
       "      <td>1</td>\n",
       "      <td>1</td>\n",
       "      <td>ultra</td>\n",
       "    </tr>\n",
       "  </tbody>\n",
       "</table>\n",
       "</div>"
      ],
      "text/plain": [
       "   messages_included  mb_per_month_included  minutes_included  \\\n",
       "0                 50                  15360               500   \n",
       "1               1000                  30720              3000   \n",
       "\n",
       "   rub_monthly_fee  rub_per_gb  rub_per_message  rub_per_minute tariff_name  \n",
       "0              550         200                3               3       smart  \n",
       "1             1950         150                1               1       ultra  "
      ]
     },
     "metadata": {},
     "output_type": "display_data"
    }
   ],
   "source": [
    "df_4 = pd.read_csv('/datasets/tariffs.csv')\n",
    "display(df_4)"
   ]
  },
  {
   "cell_type": "code",
   "execution_count": 88,
   "metadata": {},
   "outputs": [
    {
     "data": {
      "text/html": [
       "<div>\n",
       "<style scoped>\n",
       "    .dataframe tbody tr th:only-of-type {\n",
       "        vertical-align: middle;\n",
       "    }\n",
       "\n",
       "    .dataframe tbody tr th {\n",
       "        vertical-align: top;\n",
       "    }\n",
       "\n",
       "    .dataframe thead th {\n",
       "        text-align: right;\n",
       "    }\n",
       "</style>\n",
       "<table border=\"1\" class=\"dataframe\">\n",
       "  <thead>\n",
       "    <tr style=\"text-align: right;\">\n",
       "      <th></th>\n",
       "      <th>user_id</th>\n",
       "      <th>age</th>\n",
       "      <th>churn_date</th>\n",
       "      <th>city</th>\n",
       "      <th>first_name</th>\n",
       "      <th>last_name</th>\n",
       "      <th>reg_date</th>\n",
       "      <th>tariff</th>\n",
       "    </tr>\n",
       "  </thead>\n",
       "  <tbody>\n",
       "    <tr>\n",
       "      <td>0</td>\n",
       "      <td>1000</td>\n",
       "      <td>52</td>\n",
       "      <td>NaN</td>\n",
       "      <td>Краснодар</td>\n",
       "      <td>Рафаил</td>\n",
       "      <td>Верещагин</td>\n",
       "      <td>2018-05-25</td>\n",
       "      <td>ultra</td>\n",
       "    </tr>\n",
       "    <tr>\n",
       "      <td>1</td>\n",
       "      <td>1001</td>\n",
       "      <td>41</td>\n",
       "      <td>NaN</td>\n",
       "      <td>Москва</td>\n",
       "      <td>Иван</td>\n",
       "      <td>Ежов</td>\n",
       "      <td>2018-11-01</td>\n",
       "      <td>smart</td>\n",
       "    </tr>\n",
       "    <tr>\n",
       "      <td>2</td>\n",
       "      <td>1002</td>\n",
       "      <td>59</td>\n",
       "      <td>NaN</td>\n",
       "      <td>Стерлитамак</td>\n",
       "      <td>Евгений</td>\n",
       "      <td>Абрамович</td>\n",
       "      <td>2018-06-17</td>\n",
       "      <td>smart</td>\n",
       "    </tr>\n",
       "    <tr>\n",
       "      <td>3</td>\n",
       "      <td>1003</td>\n",
       "      <td>23</td>\n",
       "      <td>NaN</td>\n",
       "      <td>Москва</td>\n",
       "      <td>Белла</td>\n",
       "      <td>Белякова</td>\n",
       "      <td>2018-08-17</td>\n",
       "      <td>ultra</td>\n",
       "    </tr>\n",
       "    <tr>\n",
       "      <td>4</td>\n",
       "      <td>1004</td>\n",
       "      <td>68</td>\n",
       "      <td>NaN</td>\n",
       "      <td>Новокузнецк</td>\n",
       "      <td>Татьяна</td>\n",
       "      <td>Авдеенко</td>\n",
       "      <td>2018-05-14</td>\n",
       "      <td>ultra</td>\n",
       "    </tr>\n",
       "  </tbody>\n",
       "</table>\n",
       "</div>"
      ],
      "text/plain": [
       "   user_id  age churn_date         city first_name  last_name    reg_date  \\\n",
       "0     1000   52        NaN    Краснодар     Рафаил  Верещагин  2018-05-25   \n",
       "1     1001   41        NaN       Москва       Иван       Ежов  2018-11-01   \n",
       "2     1002   59        NaN  Стерлитамак    Евгений  Абрамович  2018-06-17   \n",
       "3     1003   23        NaN       Москва      Белла   Белякова  2018-08-17   \n",
       "4     1004   68        NaN  Новокузнецк    Татьяна   Авдеенко  2018-05-14   \n",
       "\n",
       "  tariff  \n",
       "0  ultra  \n",
       "1  smart  \n",
       "2  smart  \n",
       "3  ultra  \n",
       "4  ultra  "
      ]
     },
     "metadata": {},
     "output_type": "display_data"
    }
   ],
   "source": [
    "df_5 = pd.read_csv('/datasets/users.csv')\n",
    "display(df_5.head())"
   ]
  },
  {
   "cell_type": "markdown",
   "metadata": {},
   "source": [
    "**Вывод**: данные загружены, читабельны. Названия колонок корректны."
   ]
  },
  {
   "cell_type": "markdown",
   "metadata": {},
   "source": [
    "Посмотрим общую информацию о данных:"
   ]
  },
  {
   "cell_type": "code",
   "execution_count": 89,
   "metadata": {},
   "outputs": [
    {
     "name": "stdout",
     "output_type": "stream",
     "text": [
      "**Первый дата-сет**\n",
      "<class 'pandas.core.frame.DataFrame'>\n",
      "RangeIndex: 202607 entries, 0 to 202606\n",
      "Data columns (total 4 columns):\n",
      "id           202607 non-null object\n",
      "call_date    202607 non-null object\n",
      "duration     202607 non-null float64\n",
      "user_id      202607 non-null int64\n",
      "dtypes: float64(1), int64(1), object(2)\n",
      "memory usage: 6.2+ MB\n",
      "\n",
      "**Второй дата-сет**\n",
      "<class 'pandas.core.frame.DataFrame'>\n",
      "RangeIndex: 149396 entries, 0 to 149395\n",
      "Data columns (total 5 columns):\n",
      "Unnamed: 0      149396 non-null int64\n",
      "id              149396 non-null object\n",
      "mb_used         149396 non-null float64\n",
      "session_date    149396 non-null object\n",
      "user_id         149396 non-null int64\n",
      "dtypes: float64(1), int64(2), object(2)\n",
      "memory usage: 5.7+ MB\n",
      "\n",
      "**Третий дата-сет**\n",
      "<class 'pandas.core.frame.DataFrame'>\n",
      "RangeIndex: 123036 entries, 0 to 123035\n",
      "Data columns (total 3 columns):\n",
      "id              123036 non-null object\n",
      "message_date    123036 non-null object\n",
      "user_id         123036 non-null int64\n",
      "dtypes: int64(1), object(2)\n",
      "memory usage: 2.8+ MB\n",
      "\n",
      "**Четвертый дата-сет**\n",
      "<class 'pandas.core.frame.DataFrame'>\n",
      "RangeIndex: 2 entries, 0 to 1\n",
      "Data columns (total 8 columns):\n",
      "messages_included        2 non-null int64\n",
      "mb_per_month_included    2 non-null int64\n",
      "minutes_included         2 non-null int64\n",
      "rub_monthly_fee          2 non-null int64\n",
      "rub_per_gb               2 non-null int64\n",
      "rub_per_message          2 non-null int64\n",
      "rub_per_minute           2 non-null int64\n",
      "tariff_name              2 non-null object\n",
      "dtypes: int64(7), object(1)\n",
      "memory usage: 256.0+ bytes\n",
      "\n",
      "**Пятый дата-сет**\n",
      "<class 'pandas.core.frame.DataFrame'>\n",
      "RangeIndex: 500 entries, 0 to 499\n",
      "Data columns (total 8 columns):\n",
      "user_id       500 non-null int64\n",
      "age           500 non-null int64\n",
      "churn_date    38 non-null object\n",
      "city          500 non-null object\n",
      "first_name    500 non-null object\n",
      "last_name     500 non-null object\n",
      "reg_date      500 non-null object\n",
      "tariff        500 non-null object\n",
      "dtypes: int64(2), object(6)\n",
      "memory usage: 31.4+ KB\n"
     ]
    }
   ],
   "source": [
    "print('**Первый дата-сет**')\n",
    "df_1.info()\n",
    "print()\n",
    "print('**Второй дата-сет**')\n",
    "df_2.info()\n",
    "print()\n",
    "print('**Третий дата-сет**')\n",
    "df_3.info()\n",
    "print()\n",
    "print('**Четвертый дата-сет**')\n",
    "df_4.info()\n",
    "print()\n",
    "print('**Пятый дата-сет**')\n",
    "df_5.info()"
   ]
  },
  {
   "cell_type": "markdown",
   "metadata": {},
   "source": [
    "**Вывод**: Названия колонок и информация о них(жирным шрифтом выделим то - над чем нужно будет поработать в разделе предобработки данных):\n",
    "+ **1. Первый дата-сет:** содержит 202607 строки и 4 колонки:\n",
    " + id - — уникальный номер звонка/ 202607 значений /  тип -  object\n",
    " + call_date — дата звонка       / 202607 значений /  **тип - object**\n",
    " + duration — длительность звонка в минутах / 202607 / тип - float64\n",
    " + user_id — идентификатор пользователя, сделавшего звонок / 202607 / тип - int64\n",
    "+ **2. Второй дата-сет:** содержит 149396 строки и 5 колонок:\n",
    " + Unnamed: 0 - порядковый номер строки / 149396 значений / тип - int64\n",
    " + id — уникальный номер сессии /         149396 значений / тип - object\n",
    " + mb_used — объём потраченного за сессию интернет-трафика (в мегабайтах) / 149396 значений /  тип - float64\n",
    " + session_date — дата интернет-сессии / 149396 значений /  **тип - object**\n",
    " + user_id — идентификатор пользователя / 149396 значений / тип - int64\n",
    "+ **3. Третий дата-сет:** 123036 строк и 3 колонки:\n",
    " + id — уникальный номер сообщения / 123036 значений / тип - object\n",
    " + message_date — дата сообщения /  123036 значений / **тип - object**\n",
    " + user_id — идентификатор пользователя, отправившего сообщение / 123036 значений / тип - int64\n",
    "+ **4. Четвертый дата-сет:** 2 строки и 8 колонок:\n",
    " + messages_included — количество сообщений в месяц, включённых в абонентскую плату / 2 значения / тип - int64\n",
    " + mb_per_month_included  — объём интернет-трафика, включённого в абонентскую плату (в мегабайтах) / 2 значения / тип - int64\n",
    " + minutes_included — количество минут разговора в месяц, включённых в абонентскую плату / 2 значения / тип - int64\n",
    " + rub_monthly_fee — ежемесячная абонентская плата в рублях / 2 значения / тип - int64 \n",
    " + rub_per_gb — стоим. дополн. гиг. интернет-трафика сверх тарифного пакета (1 гигабайт = 1024 мегабайта) / 2 значения / int64\n",
    " + rub_per_message — стоимость отправки сообщения сверх тарифного пакета /  2 значения / тип - int64\n",
    " + rub_per_minute — стоимость минуты разговора сверх тарифного пакета 2 значения / тип - int64\n",
    " + tariff_name — название тарифа / 2 значения / тип - object\n",
    "+ **5. Пятый дата-сет:** 500 строк и 8 колонок:\n",
    " + user_id — уникальный идентификатор пользователя / 500 значений / тип - int64\n",
    " + age — имя пользователя / 500 значений / тип - int64\n",
    " + churn_date — дата прекращения пользования тарифом (если значение пропущено, то тариф ещё действовал на момент выгрузки данных) / 38 значений / тип - object\n",
    " + city — город проживания пользователя / 500 значений / тип - object\n",
    " + first_name — имя пользователя / 500 значений / тип - object\n",
    " + last_name — фамилия пользователя / 500 значений / тип - object\n",
    " + reg_date — дата подключения тарифа (день, месяц, год) / 500 значений / **тип - object**\n",
    " + tariff — название тарифного плана / 500 значений / тип - object\n"
   ]
  },
  {
   "cell_type": "markdown",
   "metadata": {},
   "source": [
    "<div class=\"alert alert-success\">\n",
    "<b>Комментарий ревьюера:</b>\n",
    "\n",
    "Достаточно детально изучили наши первичные данные, давай теперь их обработаем. \n",
    "    \n",
    "В том числе можно было бы сделать функцию для проверки наших первичных данных: \n",
    "    \n",
    "- info\n",
    "- head\n",
    "- describe\n",
    "- и так далее \n",
    "    \n",
    "</div>"
   ]
  },
  {
   "cell_type": "markdown",
   "metadata": {},
   "source": [
    "## Предобработка данных:"
   ]
  },
  {
   "cell_type": "markdown",
   "metadata": {},
   "source": [
    "#### Предобработка df_1:"
   ]
  },
  {
   "cell_type": "markdown",
   "metadata": {},
   "source": [
    "По результатам метода info(), видим что пропусков нет. Посмотрим на наличие дубликатов:"
   ]
  },
  {
   "cell_type": "code",
   "execution_count": 90,
   "metadata": {
    "scrolled": true
   },
   "outputs": [
    {
     "name": "stdout",
     "output_type": "stream",
     "text": [
      "Количество дубликатов в df_1: 0\n"
     ]
    }
   ],
   "source": [
    "print('Количество дубликатов в df_1: {}'.format(df_1.duplicated().sum()))"
   ]
  },
  {
   "cell_type": "code",
   "execution_count": 91,
   "metadata": {},
   "outputs": [
    {
     "data": {
      "text/html": [
       "<div>\n",
       "<style scoped>\n",
       "    .dataframe tbody tr th:only-of-type {\n",
       "        vertical-align: middle;\n",
       "    }\n",
       "\n",
       "    .dataframe tbody tr th {\n",
       "        vertical-align: top;\n",
       "    }\n",
       "\n",
       "    .dataframe thead th {\n",
       "        text-align: right;\n",
       "    }\n",
       "</style>\n",
       "<table border=\"1\" class=\"dataframe\">\n",
       "  <thead>\n",
       "    <tr style=\"text-align: right;\">\n",
       "      <th></th>\n",
       "      <th>id</th>\n",
       "      <th>call_date</th>\n",
       "      <th>duration</th>\n",
       "      <th>user_id</th>\n",
       "    </tr>\n",
       "  </thead>\n",
       "  <tbody>\n",
       "    <tr>\n",
       "      <td>0</td>\n",
       "      <td>1000_0</td>\n",
       "      <td>2018-07-25</td>\n",
       "      <td>0.000</td>\n",
       "      <td>1000</td>\n",
       "    </tr>\n",
       "    <tr>\n",
       "      <td>1</td>\n",
       "      <td>1000_1</td>\n",
       "      <td>2018-08-17</td>\n",
       "      <td>0.000</td>\n",
       "      <td>1000</td>\n",
       "    </tr>\n",
       "  </tbody>\n",
       "</table>\n",
       "</div>"
      ],
      "text/plain": [
       "       id   call_date  duration  user_id\n",
       "0  1000_0  2018-07-25     0.000     1000\n",
       "1  1000_1  2018-08-17     0.000     1000"
      ]
     },
     "execution_count": 91,
     "metadata": {},
     "output_type": "execute_result"
    }
   ],
   "source": [
    "df_1.head(2)"
   ]
  },
  {
   "cell_type": "markdown",
   "metadata": {},
   "source": [
    "**Вывод:** в df_1 дубликатов нет."
   ]
  },
  {
   "cell_type": "markdown",
   "metadata": {},
   "source": [
    "Посмотрим на числовое описание колонки *duration*:"
   ]
  },
  {
   "cell_type": "code",
   "execution_count": 92,
   "metadata": {
    "scrolled": true
   },
   "outputs": [
    {
     "data": {
      "text/plain": [
       "count   202607.000\n",
       "mean         6.756\n",
       "std          5.843\n",
       "min          0.000\n",
       "25%          1.300\n",
       "50%          6.000\n",
       "75%         10.700\n",
       "max         38.000\n",
       "Name: duration, dtype: float64"
      ]
     },
     "execution_count": 92,
     "metadata": {},
     "output_type": "execute_result"
    }
   ],
   "source": [
    "df_1['duration'].describe()"
   ]
  },
  {
   "cell_type": "markdown",
   "metadata": {},
   "source": [
    "**Вывод**: Минимальное значение - 0, максимальное - 38 минут. Нулевые значения в дата-сете нам не нужны - это неотвеченные вызовы. Плата за них не взималась, поэтому их нужно удалить."
   ]
  },
  {
   "cell_type": "markdown",
   "metadata": {},
   "source": [
    "Удалим строки с нулевыми значениями: "
   ]
  },
  {
   "cell_type": "code",
   "execution_count": 93,
   "metadata": {},
   "outputs": [],
   "source": [
    "df_1 = df_1.query('duration != 0')"
   ]
  },
  {
   "cell_type": "code",
   "execution_count": 94,
   "metadata": {},
   "outputs": [
    {
     "name": "stdout",
     "output_type": "stream",
     "text": [
      "Количество строк с нулевой продолжительностью: 0\n"
     ]
    }
   ],
   "source": [
    "print('Количество строк с нулевой продолжительностью: {}'.format(len(df_1[df_1['duration'] == 0])))"
   ]
  },
  {
   "cell_type": "markdown",
   "metadata": {},
   "source": [
    "Тип данных в столбце *call_date* - object. Приведем его к типу datetime, который будет соответствовать смыслу значений этого столбца:"
   ]
  },
  {
   "cell_type": "code",
   "execution_count": 95,
   "metadata": {
    "scrolled": false
   },
   "outputs": [
    {
     "name": "stdout",
     "output_type": "stream",
     "text": [
      "<class 'pandas.core.frame.DataFrame'>\n",
      "Int64Index: 162994 entries, 2 to 202606\n",
      "Data columns (total 4 columns):\n",
      "id           162994 non-null object\n",
      "call_date    162994 non-null datetime64[ns]\n",
      "duration     162994 non-null float64\n",
      "user_id      162994 non-null int64\n",
      "dtypes: datetime64[ns](1), float64(1), int64(1), object(1)\n",
      "memory usage: 6.2+ MB\n"
     ]
    }
   ],
   "source": [
    "df_1['call_date'] = pd.to_datetime(df_1['call_date'], format= '%Y-%m-%d')\n",
    "df_1.info()"
   ]
  },
  {
   "cell_type": "markdown",
   "metadata": {},
   "source": [
    "**Вывод**: Тип данных столбца *call_date* приведен к типу datetime."
   ]
  },
  {
   "cell_type": "markdown",
   "metadata": {},
   "source": [
    "Посмотрим на уникальные значения колонки *user_id*:"
   ]
  },
  {
   "cell_type": "code",
   "execution_count": 96,
   "metadata": {
    "scrolled": true
   },
   "outputs": [
    {
     "name": "stdout",
     "output_type": "stream",
     "text": [
      "1377    1424\n",
      "1168    1384\n",
      "1375    1270\n",
      "1453    1145\n",
      "1196     978\n",
      "        ... \n",
      "1397      27\n",
      "1442      23\n",
      "1373      17\n",
      "1016      14\n",
      "1257       7\n",
      "Name: user_id, Length: 492, dtype: int64\n"
     ]
    }
   ],
   "source": [
    "print(df_1['user_id'].value_counts())"
   ]
  },
  {
   "cell_type": "markdown",
   "metadata": {},
   "source": [
    "**Вывод**: видим, что в колонке 492 уникальных значения. Значения корректны. "
   ]
  },
  {
   "cell_type": "markdown",
   "metadata": {},
   "source": [
    "Посмотрим на диапазон дат:"
   ]
  },
  {
   "cell_type": "code",
   "execution_count": 97,
   "metadata": {},
   "outputs": [
    {
     "data": {
      "text/plain": [
       "min   2018-01-01\n",
       "max   2018-12-31\n",
       "Name: call_date, dtype: datetime64[ns]"
      ]
     },
     "execution_count": 97,
     "metadata": {},
     "output_type": "execute_result"
    }
   ],
   "source": [
    "df_1['call_date'].agg([min, max])"
   ]
  },
  {
   "cell_type": "markdown",
   "metadata": {},
   "source": [
    "**Вывод**: имеем выборку за один год."
   ]
  },
  {
   "cell_type": "markdown",
   "metadata": {},
   "source": [
    "#### Предобработка df_2:"
   ]
  },
  {
   "cell_type": "markdown",
   "metadata": {},
   "source": [
    "По результатам метода info(), видим что пропусков нет. Посмотрим на наличие дубликатов:"
   ]
  },
  {
   "cell_type": "code",
   "execution_count": 98,
   "metadata": {
    "scrolled": true
   },
   "outputs": [
    {
     "name": "stdout",
     "output_type": "stream",
     "text": [
      "Количество дубликатов в df_2: 0\n"
     ]
    }
   ],
   "source": [
    "print('Количество дубликатов в df_2: {}'.format(df_2.duplicated().sum()))"
   ]
  },
  {
   "cell_type": "markdown",
   "metadata": {},
   "source": [
    "**Вывод:** в df_2 дубликатов нет."
   ]
  },
  {
   "cell_type": "markdown",
   "metadata": {},
   "source": [
    "Посмотрим на числовое описание колонки *mb_used*:"
   ]
  },
  {
   "cell_type": "code",
   "execution_count": 99,
   "metadata": {
    "scrolled": true
   },
   "outputs": [
    {
     "data": {
      "text/plain": [
       "count   149396.000\n",
       "mean       370.192\n",
       "std        278.301\n",
       "min          0.000\n",
       "25%        138.188\n",
       "50%        348.015\n",
       "75%        559.553\n",
       "max       1724.830\n",
       "Name: mb_used, dtype: float64"
      ]
     },
     "execution_count": 99,
     "metadata": {},
     "output_type": "execute_result"
    }
   ],
   "source": [
    "df_2['mb_used'].describe()"
   ]
  },
  {
   "cell_type": "markdown",
   "metadata": {},
   "source": [
    "**Вывод**: Минимальное значение - 0 , максимальное - 1724.83 Мегабайт за сеанс. Значения вполне адекватны. Нулевые значения можно убрать."
   ]
  },
  {
   "cell_type": "markdown",
   "metadata": {},
   "source": [
    "Удалим строки с нулевыми значениями в колонке *mb_used*: "
   ]
  },
  {
   "cell_type": "code",
   "execution_count": 100,
   "metadata": {},
   "outputs": [
    {
     "name": "stdout",
     "output_type": "stream",
     "text": [
      "Количество строк после в df_2 после удаления строк с нулевыми значениями в колонке *mb_used*: 129798\n"
     ]
    }
   ],
   "source": [
    "df_2 = df_2.query('mb_used != 0')\n",
    "print('Количество строк после в df_2 после удаления строк с нулевыми значениями в колонке *mb_used*: {}'.format(len(df_2)))"
   ]
  },
  {
   "cell_type": "markdown",
   "metadata": {},
   "source": [
    "<div class=\"alert alert-success\">\n",
    "<b>Комментарий ревьюера:</b>\n",
    "\n",
    "Здорово, что подписываешь с помощью текста получившиеся расчеты 👍, ведь так быстрее понять что мы хотели посчитать.\n",
    "    \n",
    "</div>"
   ]
  },
  {
   "cell_type": "markdown",
   "metadata": {},
   "source": [
    "Тип данных в столбце *session_date* - object. Приведем его к типу datetime, который будет соответствовать смыслу значений этого столбца:"
   ]
  },
  {
   "cell_type": "code",
   "execution_count": 101,
   "metadata": {
    "scrolled": false
   },
   "outputs": [
    {
     "name": "stdout",
     "output_type": "stream",
     "text": [
      "<class 'pandas.core.frame.DataFrame'>\n",
      "Int64Index: 129798 entries, 0 to 149395\n",
      "Data columns (total 5 columns):\n",
      "Unnamed: 0      129798 non-null int64\n",
      "id              129798 non-null object\n",
      "mb_used         129798 non-null float64\n",
      "session_date    129798 non-null datetime64[ns]\n",
      "user_id         129798 non-null int64\n",
      "dtypes: datetime64[ns](1), float64(1), int64(2), object(1)\n",
      "memory usage: 5.9+ MB\n"
     ]
    }
   ],
   "source": [
    "df_2['session_date'] = pd.to_datetime(df_2['session_date'], format= '%Y-%m-%d')\n",
    "df_2.info()"
   ]
  },
  {
   "cell_type": "markdown",
   "metadata": {},
   "source": [
    "**Вывод**: Тип данных столбца *session_date* приведен к типу datetime."
   ]
  },
  {
   "cell_type": "markdown",
   "metadata": {},
   "source": [
    "Посмотрим на уникальные значения колонки *user_id*:"
   ]
  },
  {
   "cell_type": "code",
   "execution_count": 102,
   "metadata": {
    "scrolled": true
   },
   "outputs": [
    {
     "name": "stdout",
     "output_type": "stream",
     "text": [
      "1240    731\n",
      "1385    725\n",
      "1496    693\n",
      "1227    691\n",
      "1180    651\n",
      "       ... \n",
      "1062     29\n",
      "1467     26\n",
      "1343     26\n",
      "1192     21\n",
      "1399      8\n",
      "Name: user_id, Length: 497, dtype: int64\n"
     ]
    }
   ],
   "source": [
    "print(df_2['user_id'].value_counts())"
   ]
  },
  {
   "cell_type": "markdown",
   "metadata": {},
   "source": [
    "**Вывод**: видим, что в колонке 497 уникальных значения. Значения корректны. "
   ]
  },
  {
   "cell_type": "markdown",
   "metadata": {},
   "source": [
    "#### Предобработка df_3:"
   ]
  },
  {
   "cell_type": "markdown",
   "metadata": {},
   "source": [
    "По результатам метода info(), видим что пропусков нет. Посмотрим на наличие дубликатов:"
   ]
  },
  {
   "cell_type": "code",
   "execution_count": 103,
   "metadata": {
    "scrolled": true
   },
   "outputs": [
    {
     "name": "stdout",
     "output_type": "stream",
     "text": [
      "Количество дубликатов в df_3: 0\n"
     ]
    }
   ],
   "source": [
    "print('Количество дубликатов в df_3: {}'.format(df_3.duplicated().sum()))"
   ]
  },
  {
   "cell_type": "markdown",
   "metadata": {},
   "source": [
    "**Вывод:** в df_3 дубликатов нет."
   ]
  },
  {
   "cell_type": "markdown",
   "metadata": {},
   "source": [
    "Тип данных в столбце *message_date* - object. Приведем его к типу datetime, который будет соответствовать смыслу значений этого столбца:"
   ]
  },
  {
   "cell_type": "code",
   "execution_count": 104,
   "metadata": {
    "scrolled": false
   },
   "outputs": [
    {
     "name": "stdout",
     "output_type": "stream",
     "text": [
      "<class 'pandas.core.frame.DataFrame'>\n",
      "RangeIndex: 123036 entries, 0 to 123035\n",
      "Data columns (total 3 columns):\n",
      "id              123036 non-null object\n",
      "message_date    123036 non-null datetime64[ns]\n",
      "user_id         123036 non-null int64\n",
      "dtypes: datetime64[ns](1), int64(1), object(1)\n",
      "memory usage: 2.8+ MB\n"
     ]
    }
   ],
   "source": [
    "df_3['message_date'] = pd.to_datetime(df_3['message_date'], format= '%Y-%m-%d')\n",
    "df_3.info()"
   ]
  },
  {
   "cell_type": "markdown",
   "metadata": {},
   "source": [
    "**Вывод**: Тип данных столбца *message_date* приведен к типу datetime."
   ]
  },
  {
   "cell_type": "markdown",
   "metadata": {},
   "source": [
    "Посмотрим на уникальные значения колонки *user_id*:"
   ]
  },
  {
   "cell_type": "code",
   "execution_count": 105,
   "metadata": {
    "scrolled": true
   },
   "outputs": [
    {
     "name": "stdout",
     "output_type": "stream",
     "text": [
      "1277    1463\n",
      "1089    1408\n",
      "1231    1384\n",
      "1385    1380\n",
      "1356    1224\n",
      "        ... \n",
      "1389       6\n",
      "1279       5\n",
      "1074       3\n",
      "1159       2\n",
      "1141       1\n",
      "Name: user_id, Length: 426, dtype: int64\n"
     ]
    }
   ],
   "source": [
    "print(df_3['user_id'].value_counts())"
   ]
  },
  {
   "cell_type": "markdown",
   "metadata": {},
   "source": [
    "**Вывод**: видим, что в колонке 426 уникальных значения. Значения корректны. "
   ]
  },
  {
   "cell_type": "markdown",
   "metadata": {},
   "source": [
    "#### Предобработка df_4:"
   ]
  },
  {
   "cell_type": "markdown",
   "metadata": {},
   "source": [
    "В дата-сете **df_4** имеем всего 2 строки - это информация о тарифах. В предобработке не нуждается."
   ]
  },
  {
   "cell_type": "markdown",
   "metadata": {},
   "source": [
    "#### Предобработка df_5:"
   ]
  },
  {
   "cell_type": "code",
   "execution_count": 106,
   "metadata": {
    "scrolled": true
   },
   "outputs": [
    {
     "data": {
      "text/html": [
       "<div>\n",
       "<style scoped>\n",
       "    .dataframe tbody tr th:only-of-type {\n",
       "        vertical-align: middle;\n",
       "    }\n",
       "\n",
       "    .dataframe tbody tr th {\n",
       "        vertical-align: top;\n",
       "    }\n",
       "\n",
       "    .dataframe thead th {\n",
       "        text-align: right;\n",
       "    }\n",
       "</style>\n",
       "<table border=\"1\" class=\"dataframe\">\n",
       "  <thead>\n",
       "    <tr style=\"text-align: right;\">\n",
       "      <th></th>\n",
       "      <th>user_id</th>\n",
       "      <th>age</th>\n",
       "      <th>churn_date</th>\n",
       "      <th>city</th>\n",
       "      <th>first_name</th>\n",
       "      <th>last_name</th>\n",
       "      <th>reg_date</th>\n",
       "      <th>tariff</th>\n",
       "    </tr>\n",
       "  </thead>\n",
       "  <tbody>\n",
       "    <tr>\n",
       "      <td>0</td>\n",
       "      <td>1000</td>\n",
       "      <td>52</td>\n",
       "      <td>NaN</td>\n",
       "      <td>Краснодар</td>\n",
       "      <td>Рафаил</td>\n",
       "      <td>Верещагин</td>\n",
       "      <td>2018-05-25</td>\n",
       "      <td>ultra</td>\n",
       "    </tr>\n",
       "    <tr>\n",
       "      <td>1</td>\n",
       "      <td>1001</td>\n",
       "      <td>41</td>\n",
       "      <td>NaN</td>\n",
       "      <td>Москва</td>\n",
       "      <td>Иван</td>\n",
       "      <td>Ежов</td>\n",
       "      <td>2018-11-01</td>\n",
       "      <td>smart</td>\n",
       "    </tr>\n",
       "    <tr>\n",
       "      <td>2</td>\n",
       "      <td>1002</td>\n",
       "      <td>59</td>\n",
       "      <td>NaN</td>\n",
       "      <td>Стерлитамак</td>\n",
       "      <td>Евгений</td>\n",
       "      <td>Абрамович</td>\n",
       "      <td>2018-06-17</td>\n",
       "      <td>smart</td>\n",
       "    </tr>\n",
       "  </tbody>\n",
       "</table>\n",
       "</div>"
      ],
      "text/plain": [
       "   user_id  age churn_date         city first_name  last_name    reg_date  \\\n",
       "0     1000   52        NaN    Краснодар     Рафаил  Верещагин  2018-05-25   \n",
       "1     1001   41        NaN       Москва       Иван       Ежов  2018-11-01   \n",
       "2     1002   59        NaN  Стерлитамак    Евгений  Абрамович  2018-06-17   \n",
       "\n",
       "  tariff  \n",
       "0  ultra  \n",
       "1  smart  \n",
       "2  smart  "
      ]
     },
     "metadata": {},
     "output_type": "display_data"
    }
   ],
   "source": [
    "display(df_5.head(3))"
   ]
  },
  {
   "cell_type": "markdown",
   "metadata": {},
   "source": [
    "Посморим долю пропусков в колонке *churn_date*:"
   ]
  },
  {
   "cell_type": "code",
   "execution_count": 107,
   "metadata": {
    "scrolled": true
   },
   "outputs": [
    {
     "name": "stdout",
     "output_type": "stream",
     "text": [
      "Доля пропусков в колонке churn_date: 0.924\n"
     ]
    }
   ],
   "source": [
    "print('Доля пропусков в колонке churn_date: {}'.format(df_5['churn_date'].isna().mean()))"
   ]
  },
  {
   "cell_type": "markdown",
   "metadata": {},
   "source": [
    "Пропущенные значения - это абоненты, которые пользовались услугами связи как минимум до конца года. Так как рассматриваемый нами период - год, мы можем заполнить пропуски крайней датой этого года, т.е 2018-12-31:"
   ]
  },
  {
   "cell_type": "code",
   "execution_count": 108,
   "metadata": {},
   "outputs": [
    {
     "name": "stdout",
     "output_type": "stream",
     "text": [
      "Доля пропусков в колонке churn_date: 0.0\n"
     ]
    }
   ],
   "source": [
    "df_5['churn_date'] = df_5['churn_date'].replace(np.nan, '2018-12-31')\n",
    "print('Доля пропусков в колонке churn_date: {}'.format(df_5['churn_date'].isna().mean()))"
   ]
  },
  {
   "cell_type": "markdown",
   "metadata": {},
   "source": [
    "<div class=\"alert alert-success\">\n",
    "<b>Комментарий ревьюера:</b>\n",
    "\n",
    "Классный способ посчитать доли пропусков в наших данных 👍\n",
    "    \n",
    "</div>"
   ]
  },
  {
   "cell_type": "markdown",
   "metadata": {},
   "source": [
    "**Вывод**: пропуски в колонке *churn_date* заполнены"
   ]
  },
  {
   "cell_type": "code",
   "execution_count": 109,
   "metadata": {
    "scrolled": true
   },
   "outputs": [
    {
     "name": "stdout",
     "output_type": "stream",
     "text": [
      "Количество дубликатов в df_5: 0\n"
     ]
    }
   ],
   "source": [
    "print('Количество дубликатов в df_5: {}'.format(df_5.duplicated().sum()))"
   ]
  },
  {
   "cell_type": "markdown",
   "metadata": {},
   "source": [
    "**Вывод:** в df_5 дубликатов нет."
   ]
  },
  {
   "cell_type": "markdown",
   "metadata": {},
   "source": [
    "Посмотрим на уникальные значения колонки *user_id*:"
   ]
  },
  {
   "cell_type": "code",
   "execution_count": 110,
   "metadata": {
    "scrolled": false
   },
   "outputs": [
    {
     "name": "stdout",
     "output_type": "stream",
     "text": [
      "1023    1\n",
      "1194    1\n",
      "1181    1\n",
      "1182    1\n",
      "1183    1\n",
      "       ..\n",
      "1362    1\n",
      "1363    1\n",
      "1364    1\n",
      "1365    1\n",
      "1024    1\n",
      "Name: user_id, Length: 500, dtype: int64\n"
     ]
    }
   ],
   "source": [
    "print(df_5['user_id'].value_counts())"
   ]
  },
  {
   "cell_type": "markdown",
   "metadata": {},
   "source": [
    "**Вывод**: видим, что в колонке 500 уникальных значений. Значения корректны. "
   ]
  },
  {
   "cell_type": "markdown",
   "metadata": {},
   "source": [
    "Посмотрим на числовое описание колонки *age*:"
   ]
  },
  {
   "cell_type": "code",
   "execution_count": 111,
   "metadata": {
    "scrolled": true
   },
   "outputs": [
    {
     "data": {
      "text/plain": [
       "count   500.000\n",
       "mean     46.588\n",
       "std      16.668\n",
       "min      18.000\n",
       "25%      32.000\n",
       "50%      46.000\n",
       "75%      62.000\n",
       "max      75.000\n",
       "Name: age, dtype: float64"
      ]
     },
     "execution_count": 111,
     "metadata": {},
     "output_type": "execute_result"
    }
   ],
   "source": [
    "df_5['age'].describe()"
   ]
  },
  {
   "cell_type": "markdown",
   "metadata": {},
   "source": [
    "**Вывод**: минимальное значение возраста - 18 лет, максимальное - 75. Все в порядке."
   ]
  },
  {
   "cell_type": "markdown",
   "metadata": {},
   "source": [
    "Тип данных в столбцах *churn_date* и *reg_date* - object. Приведем их к типу datetime, который будет соответствовать смыслу значений этого столбцов:"
   ]
  },
  {
   "cell_type": "code",
   "execution_count": 112,
   "metadata": {
    "scrolled": false
   },
   "outputs": [
    {
     "name": "stdout",
     "output_type": "stream",
     "text": [
      "<class 'pandas.core.frame.DataFrame'>\n",
      "RangeIndex: 500 entries, 0 to 499\n",
      "Data columns (total 8 columns):\n",
      "user_id       500 non-null int64\n",
      "age           500 non-null int64\n",
      "churn_date    500 non-null datetime64[ns]\n",
      "city          500 non-null object\n",
      "first_name    500 non-null object\n",
      "last_name     500 non-null object\n",
      "reg_date      500 non-null datetime64[ns]\n",
      "tariff        500 non-null object\n",
      "dtypes: datetime64[ns](2), int64(2), object(4)\n",
      "memory usage: 31.4+ KB\n"
     ]
    }
   ],
   "source": [
    "df_5['churn_date'] = pd.to_datetime(df_5['churn_date'], format= '%Y-%m-%d')\n",
    "df_5['reg_date'] = pd.to_datetime(df_5['reg_date'], format= '%Y-%m-%d')\n",
    "df_5.info()"
   ]
  },
  {
   "cell_type": "markdown",
   "metadata": {},
   "source": [
    "**Вывод**: Тип данных столбцах *churn_date* и *reg_date* приведены к типу datetime."
   ]
  },
  {
   "cell_type": "markdown",
   "metadata": {},
   "source": [
    "B столбцах *reg_date* и *churn_date* нам интересен только месяц, поэтому округлим эту дату до месяца:"
   ]
  },
  {
   "cell_type": "code",
   "execution_count": 113,
   "metadata": {},
   "outputs": [],
   "source": [
    "df_5['reg_date'] = df_5['reg_date'].to_numpy().astype('datetime64[M]')\n",
    "df_5['churn_date'] = df_5['churn_date'].to_numpy().astype('datetime64[M]')"
   ]
  },
  {
   "cell_type": "markdown",
   "metadata": {},
   "source": [
    "<div class=\"alert alert-success\">\n",
    "<b>Комментарий ревьюера:</b>\n",
    "\n",
    "Супер, просто супер 👍\n",
    "    \n",
    "На самом деле вижу наверное 2-ой или 3-ий раз такой способ получения дат 😊\n",
    "    \n",
    "</div>"
   ]
  },
  {
   "cell_type": "code",
   "execution_count": 114,
   "metadata": {
    "scrolled": true
   },
   "outputs": [
    {
     "data": {
      "text/html": [
       "<div>\n",
       "<style scoped>\n",
       "    .dataframe tbody tr th:only-of-type {\n",
       "        vertical-align: middle;\n",
       "    }\n",
       "\n",
       "    .dataframe tbody tr th {\n",
       "        vertical-align: top;\n",
       "    }\n",
       "\n",
       "    .dataframe thead th {\n",
       "        text-align: right;\n",
       "    }\n",
       "</style>\n",
       "<table border=\"1\" class=\"dataframe\">\n",
       "  <thead>\n",
       "    <tr style=\"text-align: right;\">\n",
       "      <th></th>\n",
       "      <th>user_id</th>\n",
       "      <th>age</th>\n",
       "      <th>churn_date</th>\n",
       "      <th>city</th>\n",
       "      <th>first_name</th>\n",
       "      <th>last_name</th>\n",
       "      <th>reg_date</th>\n",
       "      <th>tariff</th>\n",
       "    </tr>\n",
       "  </thead>\n",
       "  <tbody>\n",
       "    <tr>\n",
       "      <td>0</td>\n",
       "      <td>1000</td>\n",
       "      <td>52</td>\n",
       "      <td>2018-12-01</td>\n",
       "      <td>Краснодар</td>\n",
       "      <td>Рафаил</td>\n",
       "      <td>Верещагин</td>\n",
       "      <td>2018-05-01</td>\n",
       "      <td>ultra</td>\n",
       "    </tr>\n",
       "    <tr>\n",
       "      <td>1</td>\n",
       "      <td>1001</td>\n",
       "      <td>41</td>\n",
       "      <td>2018-12-01</td>\n",
       "      <td>Москва</td>\n",
       "      <td>Иван</td>\n",
       "      <td>Ежов</td>\n",
       "      <td>2018-11-01</td>\n",
       "      <td>smart</td>\n",
       "    </tr>\n",
       "    <tr>\n",
       "      <td>2</td>\n",
       "      <td>1002</td>\n",
       "      <td>59</td>\n",
       "      <td>2018-12-01</td>\n",
       "      <td>Стерлитамак</td>\n",
       "      <td>Евгений</td>\n",
       "      <td>Абрамович</td>\n",
       "      <td>2018-06-01</td>\n",
       "      <td>smart</td>\n",
       "    </tr>\n",
       "    <tr>\n",
       "      <td>3</td>\n",
       "      <td>1003</td>\n",
       "      <td>23</td>\n",
       "      <td>2018-12-01</td>\n",
       "      <td>Москва</td>\n",
       "      <td>Белла</td>\n",
       "      <td>Белякова</td>\n",
       "      <td>2018-08-01</td>\n",
       "      <td>ultra</td>\n",
       "    </tr>\n",
       "    <tr>\n",
       "      <td>4</td>\n",
       "      <td>1004</td>\n",
       "      <td>68</td>\n",
       "      <td>2018-12-01</td>\n",
       "      <td>Новокузнецк</td>\n",
       "      <td>Татьяна</td>\n",
       "      <td>Авдеенко</td>\n",
       "      <td>2018-05-01</td>\n",
       "      <td>ultra</td>\n",
       "    </tr>\n",
       "  </tbody>\n",
       "</table>\n",
       "</div>"
      ],
      "text/plain": [
       "   user_id  age churn_date         city first_name  last_name   reg_date  \\\n",
       "0     1000   52 2018-12-01    Краснодар     Рафаил  Верещагин 2018-05-01   \n",
       "1     1001   41 2018-12-01       Москва       Иван       Ежов 2018-11-01   \n",
       "2     1002   59 2018-12-01  Стерлитамак    Евгений  Абрамович 2018-06-01   \n",
       "3     1003   23 2018-12-01       Москва      Белла   Белякова 2018-08-01   \n",
       "4     1004   68 2018-12-01  Новокузнецк    Татьяна   Авдеенко 2018-05-01   \n",
       "\n",
       "  tariff  \n",
       "0  ultra  \n",
       "1  smart  \n",
       "2  smart  \n",
       "3  ultra  \n",
       "4  ultra  "
      ]
     },
     "execution_count": 114,
     "metadata": {},
     "output_type": "execute_result"
    }
   ],
   "source": [
    "df_5.head()"
   ]
  },
  {
   "cell_type": "markdown",
   "metadata": {},
   "source": [
    "## Добавление новых столбцов:"
   ]
  },
  {
   "cell_type": "markdown",
   "metadata": {},
   "source": [
    "Отчетным периодом в данных тарифах является месяц, поэтому выделим в отдельную колонку значения месяца в df_1, df_2 и df_3:"
   ]
  },
  {
   "cell_type": "code",
   "execution_count": 115,
   "metadata": {
    "scrolled": true
   },
   "outputs": [],
   "source": [
    "df_1['month'] = df_1['call_date'].to_numpy().astype('datetime64[M]')\n",
    "df_2['month'] = df_2['session_date'].to_numpy().astype('datetime64[M]')\n",
    "df_3['month'] = df_3['message_date'].to_numpy().astype('datetime64[M]')"
   ]
  },
  {
   "cell_type": "markdown",
   "metadata": {},
   "source": [
    "Так как округление длительности звонков происходит в большую сторону до целой минуты, для расчетов нам нужен столбец длительности звонков с целочисленным значением минут. Получим его путем округления значений столбца *duration* в большую сторону. Назовем его *duration_tariff*:"
   ]
  },
  {
   "cell_type": "code",
   "execution_count": 116,
   "metadata": {},
   "outputs": [],
   "source": [
    "duration_tariff = []\n",
    "duration_list = list(df_1['duration'])\n",
    "for index in range(len(duration_list)):\n",
    "    duration_tariff.append(mt.ceil(duration_list[index]))\n",
    "df_1['duration_tariff'] = duration_tariff  "
   ]
  },
  {
   "cell_type": "markdown",
   "metadata": {},
   "source": [
    "<div class=\"alert alert-warning\">\n",
    "<b>Комментарий ревьюера:</b>\n",
    "\n",
    "Лучше всего не использовать цикл при обработке наши данных на прямую, это может быть очень долго. На крайний случай мы можем использовать метод `apply` \n",
    "    \n",
    "</div>"
   ]
  },
  {
   "cell_type": "markdown",
   "metadata": {},
   "source": [
    "<div class=\"alert alert-info\">\n",
    "     Я, на самом деле, пробовал создать  столбец округления минут напрямую, но получилось только через цикл.\n",
    "        </div>"
   ]
  },
  {
   "cell_type": "markdown",
   "metadata": {},
   "source": [
    "<div class=\"alert alert-success\">\n",
    "<b>Комментарий ревьюера:</b>\n",
    "\n",
    "Хорошо, что учитываем условия работы оператора связи.\n",
    "    \n",
    "</div>"
   ]
  },
  {
   "cell_type": "markdown",
   "metadata": {},
   "source": [
    "<div class=\"alert alert-warning\">\n",
    "<b>Комментарий ревьюера:</b>\n",
    "\n",
    "Однако лучше использовать метод `np.ceil` и применять ко всему столбцу целиком, так вычисления будут работать быстрее.  \n",
    "    \n",
    "Вот неплохая статья по скоростям вычисления в различных способах.\n",
    "    \n",
    "https://engineering.upside.com/a-beginners-guide-to-optimizing-pandas-code-for-speed-c09ef2c6a4d6\n",
    "    \n",
    "</div>"
   ]
  },
  {
   "cell_type": "markdown",
   "metadata": {},
   "source": [
    "<div class=\"alert alert-info\">\n",
    "     Пробовал вот так, но не работает\n",
    "\"df_1['duration_tariff'] = mt.ceil(df_1['duration'])\""
   ]
  },
  {
   "cell_type": "markdown",
   "metadata": {},
   "source": [
    "<div class=\"alert alert-success\">\n",
    "<b>Комментарий ревьюера (2):</b>\n",
    "\n",
    "Поэтому лучше использовать `numpy.ceil`, потому что вероятнее всего `math.ceil` работает только с одним числом.\n",
    "    \n",
    "</div>"
   ]
  },
  {
   "cell_type": "markdown",
   "metadata": {},
   "source": [
    "<div class=\"alert alert-success\">\n",
    "<b>Комментарий ревьюера:</b>\n",
    "\n",
    "Оставил пример ниже по скорости отработки разных подходов.\n",
    "    \n",
    "</div>"
   ]
  },
  {
   "cell_type": "code",
   "execution_count": 117,
   "metadata": {},
   "outputs": [
    {
     "name": "stdout",
     "output_type": "stream",
     "text": [
      "CPU times: user 94.7 ms, sys: 4.12 ms, total: 98.8 ms\n",
      "Wall time: 103 ms\n"
     ]
    }
   ],
   "source": [
    "%%time\n",
    "duration_tariff = []\n",
    "duration_list = list(df_1['duration'])\n",
    "for index in range(len(duration_list)):\n",
    "    duration_tariff.append(mt.ceil(duration_list[index]))"
   ]
  },
  {
   "cell_type": "code",
   "execution_count": 118,
   "metadata": {
    "scrolled": true
   },
   "outputs": [
    {
     "name": "stdout",
     "output_type": "stream",
     "text": [
      "332 µs ± 35 µs per loop (mean ± std. dev. of 7 runs, 1000 loops each)\n"
     ]
    }
   ],
   "source": [
    "%timeit np.ceil(df_1['duration'])"
   ]
  },
  {
   "cell_type": "markdown",
   "metadata": {},
   "source": [
    "<div class=\"alert alert-info\">\n",
    "   Да, есть разница: милисекунды и наносекунды.\n",
    "        </div>"
   ]
  },
  {
   "cell_type": "markdown",
   "metadata": {},
   "source": [
    "Добавим новый столбец *gb_tariff* показыващий количество израсходованного трафика в гигабайтах согласно условиям тарификации, с округлением количества мегабайт в большую сторону:"
   ]
  },
  {
   "cell_type": "code",
   "execution_count": 119,
   "metadata": {},
   "outputs": [],
   "source": [
    "gb_tariff = []\n",
    "mb_used_list = list(df_2['mb_used'])\n",
    "for index in range(len(mb_used_list)):\n",
    "     gb_tariff.append(mt.ceil(mb_used_list[index]/1024))\n",
    "df_2['gb_tariff'] = gb_tariff       "
   ]
  },
  {
   "cell_type": "code",
   "execution_count": 120,
   "metadata": {},
   "outputs": [
    {
     "data": {
      "text/html": [
       "<div>\n",
       "<style scoped>\n",
       "    .dataframe tbody tr th:only-of-type {\n",
       "        vertical-align: middle;\n",
       "    }\n",
       "\n",
       "    .dataframe tbody tr th {\n",
       "        vertical-align: top;\n",
       "    }\n",
       "\n",
       "    .dataframe thead th {\n",
       "        text-align: right;\n",
       "    }\n",
       "</style>\n",
       "<table border=\"1\" class=\"dataframe\">\n",
       "  <thead>\n",
       "    <tr style=\"text-align: right;\">\n",
       "      <th></th>\n",
       "      <th>id</th>\n",
       "      <th>call_date</th>\n",
       "      <th>duration</th>\n",
       "      <th>user_id</th>\n",
       "      <th>month</th>\n",
       "      <th>duration_tariff</th>\n",
       "    </tr>\n",
       "  </thead>\n",
       "  <tbody>\n",
       "    <tr>\n",
       "      <td>2</td>\n",
       "      <td>1000_2</td>\n",
       "      <td>2018-06-11</td>\n",
       "      <td>2.850</td>\n",
       "      <td>1000</td>\n",
       "      <td>2018-06-01</td>\n",
       "      <td>3</td>\n",
       "    </tr>\n",
       "    <tr>\n",
       "      <td>3</td>\n",
       "      <td>1000_3</td>\n",
       "      <td>2018-09-21</td>\n",
       "      <td>13.800</td>\n",
       "      <td>1000</td>\n",
       "      <td>2018-09-01</td>\n",
       "      <td>14</td>\n",
       "    </tr>\n",
       "    <tr>\n",
       "      <td>4</td>\n",
       "      <td>1000_4</td>\n",
       "      <td>2018-12-15</td>\n",
       "      <td>5.180</td>\n",
       "      <td>1000</td>\n",
       "      <td>2018-12-01</td>\n",
       "      <td>6</td>\n",
       "    </tr>\n",
       "  </tbody>\n",
       "</table>\n",
       "</div>"
      ],
      "text/plain": [
       "       id  call_date  duration  user_id      month  duration_tariff\n",
       "2  1000_2 2018-06-11     2.850     1000 2018-06-01                3\n",
       "3  1000_3 2018-09-21    13.800     1000 2018-09-01               14\n",
       "4  1000_4 2018-12-15     5.180     1000 2018-12-01                6"
      ]
     },
     "metadata": {},
     "output_type": "display_data"
    },
    {
     "data": {
      "text/html": [
       "<div>\n",
       "<style scoped>\n",
       "    .dataframe tbody tr th:only-of-type {\n",
       "        vertical-align: middle;\n",
       "    }\n",
       "\n",
       "    .dataframe tbody tr th {\n",
       "        vertical-align: top;\n",
       "    }\n",
       "\n",
       "    .dataframe thead th {\n",
       "        text-align: right;\n",
       "    }\n",
       "</style>\n",
       "<table border=\"1\" class=\"dataframe\">\n",
       "  <thead>\n",
       "    <tr style=\"text-align: right;\">\n",
       "      <th></th>\n",
       "      <th>Unnamed: 0</th>\n",
       "      <th>id</th>\n",
       "      <th>mb_used</th>\n",
       "      <th>session_date</th>\n",
       "      <th>user_id</th>\n",
       "      <th>month</th>\n",
       "      <th>gb_tariff</th>\n",
       "    </tr>\n",
       "  </thead>\n",
       "  <tbody>\n",
       "    <tr>\n",
       "      <td>0</td>\n",
       "      <td>0</td>\n",
       "      <td>1000_0</td>\n",
       "      <td>112.950</td>\n",
       "      <td>2018-11-25</td>\n",
       "      <td>1000</td>\n",
       "      <td>2018-11-01</td>\n",
       "      <td>1</td>\n",
       "    </tr>\n",
       "    <tr>\n",
       "      <td>1</td>\n",
       "      <td>1</td>\n",
       "      <td>1000_1</td>\n",
       "      <td>1052.810</td>\n",
       "      <td>2018-09-07</td>\n",
       "      <td>1000</td>\n",
       "      <td>2018-09-01</td>\n",
       "      <td>2</td>\n",
       "    </tr>\n",
       "    <tr>\n",
       "      <td>2</td>\n",
       "      <td>2</td>\n",
       "      <td>1000_2</td>\n",
       "      <td>1197.260</td>\n",
       "      <td>2018-06-25</td>\n",
       "      <td>1000</td>\n",
       "      <td>2018-06-01</td>\n",
       "      <td>2</td>\n",
       "    </tr>\n",
       "  </tbody>\n",
       "</table>\n",
       "</div>"
      ],
      "text/plain": [
       "   Unnamed: 0      id  mb_used session_date  user_id      month  gb_tariff\n",
       "0           0  1000_0  112.950   2018-11-25     1000 2018-11-01          1\n",
       "1           1  1000_1 1052.810   2018-09-07     1000 2018-09-01          2\n",
       "2           2  1000_2 1197.260   2018-06-25     1000 2018-06-01          2"
      ]
     },
     "metadata": {},
     "output_type": "display_data"
    },
    {
     "data": {
      "text/html": [
       "<div>\n",
       "<style scoped>\n",
       "    .dataframe tbody tr th:only-of-type {\n",
       "        vertical-align: middle;\n",
       "    }\n",
       "\n",
       "    .dataframe tbody tr th {\n",
       "        vertical-align: top;\n",
       "    }\n",
       "\n",
       "    .dataframe thead th {\n",
       "        text-align: right;\n",
       "    }\n",
       "</style>\n",
       "<table border=\"1\" class=\"dataframe\">\n",
       "  <thead>\n",
       "    <tr style=\"text-align: right;\">\n",
       "      <th></th>\n",
       "      <th>id</th>\n",
       "      <th>message_date</th>\n",
       "      <th>user_id</th>\n",
       "      <th>month</th>\n",
       "    </tr>\n",
       "  </thead>\n",
       "  <tbody>\n",
       "    <tr>\n",
       "      <td>0</td>\n",
       "      <td>1000_0</td>\n",
       "      <td>2018-06-27</td>\n",
       "      <td>1000</td>\n",
       "      <td>2018-06-01</td>\n",
       "    </tr>\n",
       "    <tr>\n",
       "      <td>1</td>\n",
       "      <td>1000_1</td>\n",
       "      <td>2018-10-08</td>\n",
       "      <td>1000</td>\n",
       "      <td>2018-10-01</td>\n",
       "    </tr>\n",
       "    <tr>\n",
       "      <td>2</td>\n",
       "      <td>1000_2</td>\n",
       "      <td>2018-08-04</td>\n",
       "      <td>1000</td>\n",
       "      <td>2018-08-01</td>\n",
       "    </tr>\n",
       "  </tbody>\n",
       "</table>\n",
       "</div>"
      ],
      "text/plain": [
       "       id message_date  user_id      month\n",
       "0  1000_0   2018-06-27     1000 2018-06-01\n",
       "1  1000_1   2018-10-08     1000 2018-10-01\n",
       "2  1000_2   2018-08-04     1000 2018-08-01"
      ]
     },
     "metadata": {},
     "output_type": "display_data"
    }
   ],
   "source": [
    "display(df_1.head(3))\n",
    "display(df_2.head(3))\n",
    "display(df_3.head(3))"
   ]
  },
  {
   "cell_type": "markdown",
   "metadata": {},
   "source": [
    "**Вывод**: дополнительные столбцы в **df_1**, **df_2** и **df_3** добавлены."
   ]
  },
  {
   "cell_type": "markdown",
   "metadata": {},
   "source": [
    "Создадим столбец месяца регистраци *reg_month* в df_5:"
   ]
  },
  {
   "cell_type": "code",
   "execution_count": 121,
   "metadata": {},
   "outputs": [
    {
     "data": {
      "text/html": [
       "<div>\n",
       "<style scoped>\n",
       "    .dataframe tbody tr th:only-of-type {\n",
       "        vertical-align: middle;\n",
       "    }\n",
       "\n",
       "    .dataframe tbody tr th {\n",
       "        vertical-align: top;\n",
       "    }\n",
       "\n",
       "    .dataframe thead th {\n",
       "        text-align: right;\n",
       "    }\n",
       "</style>\n",
       "<table border=\"1\" class=\"dataframe\">\n",
       "  <thead>\n",
       "    <tr style=\"text-align: right;\">\n",
       "      <th></th>\n",
       "      <th>user_id</th>\n",
       "      <th>age</th>\n",
       "      <th>churn_date</th>\n",
       "      <th>city</th>\n",
       "      <th>first_name</th>\n",
       "      <th>last_name</th>\n",
       "      <th>reg_date</th>\n",
       "      <th>tariff</th>\n",
       "      <th>reg_month</th>\n",
       "    </tr>\n",
       "  </thead>\n",
       "  <tbody>\n",
       "    <tr>\n",
       "      <td>0</td>\n",
       "      <td>1000</td>\n",
       "      <td>52</td>\n",
       "      <td>2018-12-01</td>\n",
       "      <td>Краснодар</td>\n",
       "      <td>Рафаил</td>\n",
       "      <td>Верещагин</td>\n",
       "      <td>2018-05-01</td>\n",
       "      <td>ultra</td>\n",
       "      <td>2018-05-01</td>\n",
       "    </tr>\n",
       "    <tr>\n",
       "      <td>1</td>\n",
       "      <td>1001</td>\n",
       "      <td>41</td>\n",
       "      <td>2018-12-01</td>\n",
       "      <td>Москва</td>\n",
       "      <td>Иван</td>\n",
       "      <td>Ежов</td>\n",
       "      <td>2018-11-01</td>\n",
       "      <td>smart</td>\n",
       "      <td>2018-11-01</td>\n",
       "    </tr>\n",
       "  </tbody>\n",
       "</table>\n",
       "</div>"
      ],
      "text/plain": [
       "   user_id  age churn_date       city first_name  last_name   reg_date tariff  \\\n",
       "0     1000   52 2018-12-01  Краснодар     Рафаил  Верещагин 2018-05-01  ultra   \n",
       "1     1001   41 2018-12-01     Москва       Иван       Ежов 2018-11-01  smart   \n",
       "\n",
       "   reg_month  \n",
       "0 2018-05-01  \n",
       "1 2018-11-01  "
      ]
     },
     "execution_count": 121,
     "metadata": {},
     "output_type": "execute_result"
    }
   ],
   "source": [
    "df_5['reg_month'] = df_5['reg_date'].to_numpy().astype('datetime64[M]')\n",
    "df_5.head(2)"
   ]
  },
  {
   "cell_type": "markdown",
   "metadata": {},
   "source": [
    "## Рассчеты:"
   ]
  },
  {
   "cell_type": "markdown",
   "metadata": {},
   "source": [
    "#### Количество израсходованных минут по месяцам для каждого пользователя:"
   ]
  },
  {
   "cell_type": "markdown",
   "metadata": {},
   "source": [
    "Рассчитаем количество израсходованных минут разговора по месяцам для каждого пользователя:"
   ]
  },
  {
   "cell_type": "code",
   "execution_count": 122,
   "metadata": {
    "scrolled": true
   },
   "outputs": [
    {
     "data": {
      "text/html": [
       "<div>\n",
       "<style scoped>\n",
       "    .dataframe tbody tr th:only-of-type {\n",
       "        vertical-align: middle;\n",
       "    }\n",
       "\n",
       "    .dataframe tbody tr th {\n",
       "        vertical-align: top;\n",
       "    }\n",
       "\n",
       "    .dataframe thead th {\n",
       "        text-align: right;\n",
       "    }\n",
       "</style>\n",
       "<table border=\"1\" class=\"dataframe\">\n",
       "  <thead>\n",
       "    <tr style=\"text-align: right;\">\n",
       "      <th></th>\n",
       "      <th>user_id</th>\n",
       "      <th>month</th>\n",
       "      <th>duration_tariff</th>\n",
       "    </tr>\n",
       "  </thead>\n",
       "  <tbody>\n",
       "    <tr>\n",
       "      <td>0</td>\n",
       "      <td>1000</td>\n",
       "      <td>2018-05-01</td>\n",
       "      <td>159</td>\n",
       "    </tr>\n",
       "    <tr>\n",
       "      <td>1</td>\n",
       "      <td>1000</td>\n",
       "      <td>2018-06-01</td>\n",
       "      <td>172</td>\n",
       "    </tr>\n",
       "    <tr>\n",
       "      <td>2</td>\n",
       "      <td>1000</td>\n",
       "      <td>2018-07-01</td>\n",
       "      <td>340</td>\n",
       "    </tr>\n",
       "    <tr>\n",
       "      <td>3</td>\n",
       "      <td>1000</td>\n",
       "      <td>2018-08-01</td>\n",
       "      <td>408</td>\n",
       "    </tr>\n",
       "    <tr>\n",
       "      <td>4</td>\n",
       "      <td>1000</td>\n",
       "      <td>2018-09-01</td>\n",
       "      <td>466</td>\n",
       "    </tr>\n",
       "    <tr>\n",
       "      <td>...</td>\n",
       "      <td>...</td>\n",
       "      <td>...</td>\n",
       "      <td>...</td>\n",
       "    </tr>\n",
       "    <tr>\n",
       "      <td>3163</td>\n",
       "      <td>1498</td>\n",
       "      <td>2018-10-01</td>\n",
       "      <td>247</td>\n",
       "    </tr>\n",
       "    <tr>\n",
       "      <td>3164</td>\n",
       "      <td>1499</td>\n",
       "      <td>2018-09-01</td>\n",
       "      <td>70</td>\n",
       "    </tr>\n",
       "    <tr>\n",
       "      <td>3165</td>\n",
       "      <td>1499</td>\n",
       "      <td>2018-10-01</td>\n",
       "      <td>449</td>\n",
       "    </tr>\n",
       "    <tr>\n",
       "      <td>3166</td>\n",
       "      <td>1499</td>\n",
       "      <td>2018-11-01</td>\n",
       "      <td>612</td>\n",
       "    </tr>\n",
       "    <tr>\n",
       "      <td>3167</td>\n",
       "      <td>1499</td>\n",
       "      <td>2018-12-01</td>\n",
       "      <td>492</td>\n",
       "    </tr>\n",
       "  </tbody>\n",
       "</table>\n",
       "<p>3168 rows × 3 columns</p>\n",
       "</div>"
      ],
      "text/plain": [
       "      user_id      month  duration_tariff\n",
       "0        1000 2018-05-01              159\n",
       "1        1000 2018-06-01              172\n",
       "2        1000 2018-07-01              340\n",
       "3        1000 2018-08-01              408\n",
       "4        1000 2018-09-01              466\n",
       "...       ...        ...              ...\n",
       "3163     1498 2018-10-01              247\n",
       "3164     1499 2018-09-01               70\n",
       "3165     1499 2018-10-01              449\n",
       "3166     1499 2018-11-01              612\n",
       "3167     1499 2018-12-01              492\n",
       "\n",
       "[3168 rows x 3 columns]"
      ]
     },
     "metadata": {},
     "output_type": "display_data"
    }
   ],
   "source": [
    "df_call_month = df_1.pivot_table(index= ['user_id', 'month'], values= 'duration_tariff', aggfunc='sum').reset_index()\n",
    "display(df_call_month)"
   ]
  },
  {
   "cell_type": "markdown",
   "metadata": {},
   "source": [
    "<div class=\"alert alert-success\">\n",
    "<b>Комментарий ревьюера:</b>\n",
    "\n",
    "С группировкой данных мы разобрались, этот инструмент мы будем использовать достаточно часто в нашей практике 👍\n",
    "    \n",
    "</div>"
   ]
  },
  {
   "cell_type": "markdown",
   "metadata": {},
   "source": [
    "**Вывод:** имеем количество потраченных минут в месяц для каждого пользователя. "
   ]
  },
  {
   "cell_type": "markdown",
   "metadata": {},
   "source": [
    "#### Объем потраченного трафика для каждого пользователя по месяцам:"
   ]
  },
  {
   "cell_type": "markdown",
   "metadata": {},
   "source": [
    "Расчитаем объем потраченного трафика:"
   ]
  },
  {
   "cell_type": "code",
   "execution_count": 123,
   "metadata": {
    "scrolled": false
   },
   "outputs": [
    {
     "data": {
      "text/html": [
       "<div>\n",
       "<style scoped>\n",
       "    .dataframe tbody tr th:only-of-type {\n",
       "        vertical-align: middle;\n",
       "    }\n",
       "\n",
       "    .dataframe tbody tr th {\n",
       "        vertical-align: top;\n",
       "    }\n",
       "\n",
       "    .dataframe thead th {\n",
       "        text-align: right;\n",
       "    }\n",
       "</style>\n",
       "<table border=\"1\" class=\"dataframe\">\n",
       "  <thead>\n",
       "    <tr style=\"text-align: right;\">\n",
       "      <th></th>\n",
       "      <th>user_id</th>\n",
       "      <th>month</th>\n",
       "      <th>gb_tariff</th>\n",
       "    </tr>\n",
       "  </thead>\n",
       "  <tbody>\n",
       "    <tr>\n",
       "      <td>0</td>\n",
       "      <td>1000</td>\n",
       "      <td>2018-05-01</td>\n",
       "      <td>4</td>\n",
       "    </tr>\n",
       "    <tr>\n",
       "      <td>1</td>\n",
       "      <td>1000</td>\n",
       "      <td>2018-06-01</td>\n",
       "      <td>49</td>\n",
       "    </tr>\n",
       "    <tr>\n",
       "      <td>2</td>\n",
       "      <td>1000</td>\n",
       "      <td>2018-07-01</td>\n",
       "      <td>28</td>\n",
       "    </tr>\n",
       "    <tr>\n",
       "      <td>3</td>\n",
       "      <td>1000</td>\n",
       "      <td>2018-08-01</td>\n",
       "      <td>27</td>\n",
       "    </tr>\n",
       "    <tr>\n",
       "      <td>4</td>\n",
       "      <td>1000</td>\n",
       "      <td>2018-09-01</td>\n",
       "      <td>26</td>\n",
       "    </tr>\n",
       "    <tr>\n",
       "      <td>...</td>\n",
       "      <td>...</td>\n",
       "      <td>...</td>\n",
       "      <td>...</td>\n",
       "    </tr>\n",
       "    <tr>\n",
       "      <td>3196</td>\n",
       "      <td>1498</td>\n",
       "      <td>2018-10-01</td>\n",
       "      <td>50</td>\n",
       "    </tr>\n",
       "    <tr>\n",
       "      <td>3197</td>\n",
       "      <td>1499</td>\n",
       "      <td>2018-09-01</td>\n",
       "      <td>5</td>\n",
       "    </tr>\n",
       "    <tr>\n",
       "      <td>3198</td>\n",
       "      <td>1499</td>\n",
       "      <td>2018-10-01</td>\n",
       "      <td>44</td>\n",
       "    </tr>\n",
       "    <tr>\n",
       "      <td>3199</td>\n",
       "      <td>1499</td>\n",
       "      <td>2018-11-01</td>\n",
       "      <td>41</td>\n",
       "    </tr>\n",
       "    <tr>\n",
       "      <td>3200</td>\n",
       "      <td>1499</td>\n",
       "      <td>2018-12-01</td>\n",
       "      <td>40</td>\n",
       "    </tr>\n",
       "  </tbody>\n",
       "</table>\n",
       "<p>3201 rows × 3 columns</p>\n",
       "</div>"
      ],
      "text/plain": [
       "      user_id      month  gb_tariff\n",
       "0        1000 2018-05-01          4\n",
       "1        1000 2018-06-01         49\n",
       "2        1000 2018-07-01         28\n",
       "3        1000 2018-08-01         27\n",
       "4        1000 2018-09-01         26\n",
       "...       ...        ...        ...\n",
       "3196     1498 2018-10-01         50\n",
       "3197     1499 2018-09-01          5\n",
       "3198     1499 2018-10-01         44\n",
       "3199     1499 2018-11-01         41\n",
       "3200     1499 2018-12-01         40\n",
       "\n",
       "[3201 rows x 3 columns]"
      ]
     },
     "metadata": {},
     "output_type": "display_data"
    }
   ],
   "source": [
    "df_mb_month = df_2.pivot_table(index=['user_id', 'month'], values= 'gb_tariff', aggfunc= 'sum').reset_index()\n",
    "display(df_mb_month)"
   ]
  },
  {
   "cell_type": "markdown",
   "metadata": {},
   "source": [
    "**Вывод**: имеем количество потраченных гигабайт для каждого пользователя по месяцам."
   ]
  },
  {
   "cell_type": "markdown",
   "metadata": {},
   "source": [
    "####  Количество отправленных сообщений для каждого пользователя по месяцам:"
   ]
  },
  {
   "cell_type": "code",
   "execution_count": 124,
   "metadata": {
    "scrolled": true
   },
   "outputs": [
    {
     "data": {
      "text/html": [
       "<div>\n",
       "<style scoped>\n",
       "    .dataframe tbody tr th:only-of-type {\n",
       "        vertical-align: middle;\n",
       "    }\n",
       "\n",
       "    .dataframe tbody tr th {\n",
       "        vertical-align: top;\n",
       "    }\n",
       "\n",
       "    .dataframe thead th {\n",
       "        text-align: right;\n",
       "    }\n",
       "</style>\n",
       "<table border=\"1\" class=\"dataframe\">\n",
       "  <thead>\n",
       "    <tr style=\"text-align: right;\">\n",
       "      <th></th>\n",
       "      <th>user_id</th>\n",
       "      <th>month</th>\n",
       "      <th>mess_count</th>\n",
       "    </tr>\n",
       "  </thead>\n",
       "  <tbody>\n",
       "    <tr>\n",
       "      <td>0</td>\n",
       "      <td>1000</td>\n",
       "      <td>2018-05-01</td>\n",
       "      <td>22</td>\n",
       "    </tr>\n",
       "    <tr>\n",
       "      <td>1</td>\n",
       "      <td>1000</td>\n",
       "      <td>2018-06-01</td>\n",
       "      <td>60</td>\n",
       "    </tr>\n",
       "    <tr>\n",
       "      <td>2</td>\n",
       "      <td>1000</td>\n",
       "      <td>2018-07-01</td>\n",
       "      <td>75</td>\n",
       "    </tr>\n",
       "    <tr>\n",
       "      <td>3</td>\n",
       "      <td>1000</td>\n",
       "      <td>2018-08-01</td>\n",
       "      <td>81</td>\n",
       "    </tr>\n",
       "    <tr>\n",
       "      <td>4</td>\n",
       "      <td>1000</td>\n",
       "      <td>2018-09-01</td>\n",
       "      <td>57</td>\n",
       "    </tr>\n",
       "    <tr>\n",
       "      <td>...</td>\n",
       "      <td>...</td>\n",
       "      <td>...</td>\n",
       "      <td>...</td>\n",
       "    </tr>\n",
       "    <tr>\n",
       "      <td>2712</td>\n",
       "      <td>1498</td>\n",
       "      <td>2018-10-01</td>\n",
       "      <td>42</td>\n",
       "    </tr>\n",
       "    <tr>\n",
       "      <td>2713</td>\n",
       "      <td>1499</td>\n",
       "      <td>2018-09-01</td>\n",
       "      <td>11</td>\n",
       "    </tr>\n",
       "    <tr>\n",
       "      <td>2714</td>\n",
       "      <td>1499</td>\n",
       "      <td>2018-10-01</td>\n",
       "      <td>48</td>\n",
       "    </tr>\n",
       "    <tr>\n",
       "      <td>2715</td>\n",
       "      <td>1499</td>\n",
       "      <td>2018-11-01</td>\n",
       "      <td>59</td>\n",
       "    </tr>\n",
       "    <tr>\n",
       "      <td>2716</td>\n",
       "      <td>1499</td>\n",
       "      <td>2018-12-01</td>\n",
       "      <td>66</td>\n",
       "    </tr>\n",
       "  </tbody>\n",
       "</table>\n",
       "<p>2717 rows × 3 columns</p>\n",
       "</div>"
      ],
      "text/plain": [
       "      user_id      month  mess_count\n",
       "0        1000 2018-05-01          22\n",
       "1        1000 2018-06-01          60\n",
       "2        1000 2018-07-01          75\n",
       "3        1000 2018-08-01          81\n",
       "4        1000 2018-09-01          57\n",
       "...       ...        ...         ...\n",
       "2712     1498 2018-10-01          42\n",
       "2713     1499 2018-09-01          11\n",
       "2714     1499 2018-10-01          48\n",
       "2715     1499 2018-11-01          59\n",
       "2716     1499 2018-12-01          66\n",
       "\n",
       "[2717 rows x 3 columns]"
      ]
     },
     "execution_count": 124,
     "metadata": {},
     "output_type": "execute_result"
    }
   ],
   "source": [
    "df_message_month = df_3.pivot_table(index=['user_id', 'month'], values='id', aggfunc= 'count').reset_index()\n",
    "df_message_month = df_message_month.rename(columns={'id':'mess_count'}) # переименуем колонку *id* в *mess_count*\n",
    "df_message_month\n"
   ]
  },
  {
   "cell_type": "markdown",
   "metadata": {},
   "source": [
    "**Вывод**: имеем суммарное количество сообщений по месяцам для каждого пользователя."
   ]
  },
  {
   "cell_type": "markdown",
   "metadata": {},
   "source": [
    "## Объединение дата-сетов:"
   ]
  },
  {
   "cell_type": "markdown",
   "metadata": {},
   "source": [
    "Для работы нам нужно объеденить все дата-сеты в один. Мы имеем 4 дата-сета с одинаковой колонкой *user_id*.  Объединять будем по этой колонке. За базовый дата-сет примем 5-ый, к нему будем по очереди добавлять остальные. Для начала посмотрим уникальные значения и их количество в колонке *user_id* в df_5:"
   ]
  },
  {
   "cell_type": "code",
   "execution_count": 125,
   "metadata": {
    "scrolled": true
   },
   "outputs": [
    {
     "name": "stdout",
     "output_type": "stream",
     "text": [
      "Количество уникальных пользователей в df_5: 500\n"
     ]
    }
   ],
   "source": [
    "print('Количество уникальных пользователей в df_5: {}'.format(df_5['user_id'].nunique()))"
   ]
  },
  {
   "cell_type": "markdown",
   "metadata": {},
   "source": [
    "В **df_5** не хватает столбца, показывающего период пользования. Создадим колонку *key*, с помощью которой мы  мы будем присоединять столбец *month*: "
   ]
  },
  {
   "cell_type": "code",
   "execution_count": 126,
   "metadata": {
    "scrolled": true
   },
   "outputs": [
    {
     "data": {
      "text/html": [
       "<div>\n",
       "<style scoped>\n",
       "    .dataframe tbody tr th:only-of-type {\n",
       "        vertical-align: middle;\n",
       "    }\n",
       "\n",
       "    .dataframe tbody tr th {\n",
       "        vertical-align: top;\n",
       "    }\n",
       "\n",
       "    .dataframe thead th {\n",
       "        text-align: right;\n",
       "    }\n",
       "</style>\n",
       "<table border=\"1\" class=\"dataframe\">\n",
       "  <thead>\n",
       "    <tr style=\"text-align: right;\">\n",
       "      <th></th>\n",
       "      <th>user_id</th>\n",
       "      <th>age</th>\n",
       "      <th>churn_date</th>\n",
       "      <th>city</th>\n",
       "      <th>first_name</th>\n",
       "      <th>last_name</th>\n",
       "      <th>reg_date</th>\n",
       "      <th>tariff</th>\n",
       "      <th>reg_month</th>\n",
       "      <th>key</th>\n",
       "    </tr>\n",
       "  </thead>\n",
       "  <tbody>\n",
       "    <tr>\n",
       "      <td>0</td>\n",
       "      <td>1000</td>\n",
       "      <td>52</td>\n",
       "      <td>2018-12-01</td>\n",
       "      <td>Краснодар</td>\n",
       "      <td>Рафаил</td>\n",
       "      <td>Верещагин</td>\n",
       "      <td>2018-05-01</td>\n",
       "      <td>ultra</td>\n",
       "      <td>2018-05-01</td>\n",
       "      <td>1</td>\n",
       "    </tr>\n",
       "    <tr>\n",
       "      <td>1</td>\n",
       "      <td>1001</td>\n",
       "      <td>41</td>\n",
       "      <td>2018-12-01</td>\n",
       "      <td>Москва</td>\n",
       "      <td>Иван</td>\n",
       "      <td>Ежов</td>\n",
       "      <td>2018-11-01</td>\n",
       "      <td>smart</td>\n",
       "      <td>2018-11-01</td>\n",
       "      <td>1</td>\n",
       "    </tr>\n",
       "    <tr>\n",
       "      <td>2</td>\n",
       "      <td>1002</td>\n",
       "      <td>59</td>\n",
       "      <td>2018-12-01</td>\n",
       "      <td>Стерлитамак</td>\n",
       "      <td>Евгений</td>\n",
       "      <td>Абрамович</td>\n",
       "      <td>2018-06-01</td>\n",
       "      <td>smart</td>\n",
       "      <td>2018-06-01</td>\n",
       "      <td>1</td>\n",
       "    </tr>\n",
       "    <tr>\n",
       "      <td>3</td>\n",
       "      <td>1003</td>\n",
       "      <td>23</td>\n",
       "      <td>2018-12-01</td>\n",
       "      <td>Москва</td>\n",
       "      <td>Белла</td>\n",
       "      <td>Белякова</td>\n",
       "      <td>2018-08-01</td>\n",
       "      <td>ultra</td>\n",
       "      <td>2018-08-01</td>\n",
       "      <td>1</td>\n",
       "    </tr>\n",
       "    <tr>\n",
       "      <td>4</td>\n",
       "      <td>1004</td>\n",
       "      <td>68</td>\n",
       "      <td>2018-12-01</td>\n",
       "      <td>Новокузнецк</td>\n",
       "      <td>Татьяна</td>\n",
       "      <td>Авдеенко</td>\n",
       "      <td>2018-05-01</td>\n",
       "      <td>ultra</td>\n",
       "      <td>2018-05-01</td>\n",
       "      <td>1</td>\n",
       "    </tr>\n",
       "  </tbody>\n",
       "</table>\n",
       "</div>"
      ],
      "text/plain": [
       "   user_id  age churn_date         city first_name  last_name   reg_date  \\\n",
       "0     1000   52 2018-12-01    Краснодар     Рафаил  Верещагин 2018-05-01   \n",
       "1     1001   41 2018-12-01       Москва       Иван       Ежов 2018-11-01   \n",
       "2     1002   59 2018-12-01  Стерлитамак    Евгений  Абрамович 2018-06-01   \n",
       "3     1003   23 2018-12-01       Москва      Белла   Белякова 2018-08-01   \n",
       "4     1004   68 2018-12-01  Новокузнецк    Татьяна   Авдеенко 2018-05-01   \n",
       "\n",
       "  tariff  reg_month  key  \n",
       "0  ultra 2018-05-01    1  \n",
       "1  smart 2018-11-01    1  \n",
       "2  smart 2018-06-01    1  \n",
       "3  ultra 2018-08-01    1  \n",
       "4  ultra 2018-05-01    1  "
      ]
     },
     "execution_count": 126,
     "metadata": {},
     "output_type": "execute_result"
    }
   ],
   "source": [
    "df_5['key'] = 1\n",
    "df_5.head()"
   ]
  },
  {
   "cell_type": "markdown",
   "metadata": {},
   "source": [
    "**Вывод**: Колонка *key* добавлена в **df_5**"
   ]
  },
  {
   "cell_type": "markdown",
   "metadata": {},
   "source": [
    "Создадим series, с периодом использования:"
   ]
  },
  {
   "cell_type": "code",
   "execution_count": 127,
   "metadata": {
    "scrolled": true
   },
   "outputs": [
    {
     "data": {
      "text/html": [
       "<div>\n",
       "<style scoped>\n",
       "    .dataframe tbody tr th:only-of-type {\n",
       "        vertical-align: middle;\n",
       "    }\n",
       "\n",
       "    .dataframe tbody tr th {\n",
       "        vertical-align: top;\n",
       "    }\n",
       "\n",
       "    .dataframe thead th {\n",
       "        text-align: right;\n",
       "    }\n",
       "</style>\n",
       "<table border=\"1\" class=\"dataframe\">\n",
       "  <thead>\n",
       "    <tr style=\"text-align: right;\">\n",
       "      <th></th>\n",
       "      <th>month</th>\n",
       "      <th>key</th>\n",
       "    </tr>\n",
       "  </thead>\n",
       "  <tbody>\n",
       "    <tr>\n",
       "      <td>0</td>\n",
       "      <td>2018-01-01</td>\n",
       "      <td>1</td>\n",
       "    </tr>\n",
       "    <tr>\n",
       "      <td>1</td>\n",
       "      <td>2018-02-01</td>\n",
       "      <td>1</td>\n",
       "    </tr>\n",
       "    <tr>\n",
       "      <td>2</td>\n",
       "      <td>2018-03-01</td>\n",
       "      <td>1</td>\n",
       "    </tr>\n",
       "    <tr>\n",
       "      <td>3</td>\n",
       "      <td>2018-04-01</td>\n",
       "      <td>1</td>\n",
       "    </tr>\n",
       "    <tr>\n",
       "      <td>4</td>\n",
       "      <td>2018-05-01</td>\n",
       "      <td>1</td>\n",
       "    </tr>\n",
       "    <tr>\n",
       "      <td>5</td>\n",
       "      <td>2018-06-01</td>\n",
       "      <td>1</td>\n",
       "    </tr>\n",
       "    <tr>\n",
       "      <td>6</td>\n",
       "      <td>2018-07-01</td>\n",
       "      <td>1</td>\n",
       "    </tr>\n",
       "    <tr>\n",
       "      <td>7</td>\n",
       "      <td>2018-08-01</td>\n",
       "      <td>1</td>\n",
       "    </tr>\n",
       "    <tr>\n",
       "      <td>8</td>\n",
       "      <td>2018-09-01</td>\n",
       "      <td>1</td>\n",
       "    </tr>\n",
       "    <tr>\n",
       "      <td>9</td>\n",
       "      <td>2018-10-01</td>\n",
       "      <td>1</td>\n",
       "    </tr>\n",
       "    <tr>\n",
       "      <td>10</td>\n",
       "      <td>2018-11-01</td>\n",
       "      <td>1</td>\n",
       "    </tr>\n",
       "    <tr>\n",
       "      <td>11</td>\n",
       "      <td>2018-12-01</td>\n",
       "      <td>1</td>\n",
       "    </tr>\n",
       "  </tbody>\n",
       "</table>\n",
       "</div>"
      ],
      "text/plain": [
       "        month  key\n",
       "0  2018-01-01    1\n",
       "1  2018-02-01    1\n",
       "2  2018-03-01    1\n",
       "3  2018-04-01    1\n",
       "4  2018-05-01    1\n",
       "5  2018-06-01    1\n",
       "6  2018-07-01    1\n",
       "7  2018-08-01    1\n",
       "8  2018-09-01    1\n",
       "9  2018-10-01    1\n",
       "10 2018-11-01    1\n",
       "11 2018-12-01    1"
      ]
     },
     "metadata": {},
     "output_type": "display_data"
    }
   ],
   "source": [
    "month = pd.DataFrame(pd.date_range('2018-01-01', '2018-12-01', freq='MS'))\n",
    "month.columns = ['month']\n",
    "# добавим столбец *key* по которому будем присоединять *month*\n",
    "month['key'] = 1\n",
    "display(month)"
   ]
  },
  {
   "cell_type": "markdown",
   "metadata": {},
   "source": [
    "**Вывод:** столбец *month*, показыващий период пользования - создан. "
   ]
  },
  {
   "cell_type": "markdown",
   "metadata": {},
   "source": [
    "Присоединяем столбец  *month*, показывающий период пользования тарифом к df_5:"
   ]
  },
  {
   "cell_type": "code",
   "execution_count": 128,
   "metadata": {
    "scrolled": false
   },
   "outputs": [
    {
     "data": {
      "text/html": [
       "<div>\n",
       "<style scoped>\n",
       "    .dataframe tbody tr th:only-of-type {\n",
       "        vertical-align: middle;\n",
       "    }\n",
       "\n",
       "    .dataframe tbody tr th {\n",
       "        vertical-align: top;\n",
       "    }\n",
       "\n",
       "    .dataframe thead th {\n",
       "        text-align: right;\n",
       "    }\n",
       "</style>\n",
       "<table border=\"1\" class=\"dataframe\">\n",
       "  <thead>\n",
       "    <tr style=\"text-align: right;\">\n",
       "      <th></th>\n",
       "      <th>user_id</th>\n",
       "      <th>age</th>\n",
       "      <th>churn_date</th>\n",
       "      <th>city</th>\n",
       "      <th>first_name</th>\n",
       "      <th>last_name</th>\n",
       "      <th>reg_date</th>\n",
       "      <th>tariff</th>\n",
       "      <th>reg_month</th>\n",
       "      <th>key</th>\n",
       "      <th>month</th>\n",
       "    </tr>\n",
       "  </thead>\n",
       "  <tbody>\n",
       "    <tr>\n",
       "      <td>0</td>\n",
       "      <td>1000</td>\n",
       "      <td>52</td>\n",
       "      <td>2018-12-01</td>\n",
       "      <td>Краснодар</td>\n",
       "      <td>Рафаил</td>\n",
       "      <td>Верещагин</td>\n",
       "      <td>2018-05-01</td>\n",
       "      <td>ultra</td>\n",
       "      <td>2018-05-01</td>\n",
       "      <td>1</td>\n",
       "      <td>2018-01-01</td>\n",
       "    </tr>\n",
       "    <tr>\n",
       "      <td>1</td>\n",
       "      <td>1000</td>\n",
       "      <td>52</td>\n",
       "      <td>2018-12-01</td>\n",
       "      <td>Краснодар</td>\n",
       "      <td>Рафаил</td>\n",
       "      <td>Верещагин</td>\n",
       "      <td>2018-05-01</td>\n",
       "      <td>ultra</td>\n",
       "      <td>2018-05-01</td>\n",
       "      <td>1</td>\n",
       "      <td>2018-02-01</td>\n",
       "    </tr>\n",
       "    <tr>\n",
       "      <td>2</td>\n",
       "      <td>1000</td>\n",
       "      <td>52</td>\n",
       "      <td>2018-12-01</td>\n",
       "      <td>Краснодар</td>\n",
       "      <td>Рафаил</td>\n",
       "      <td>Верещагин</td>\n",
       "      <td>2018-05-01</td>\n",
       "      <td>ultra</td>\n",
       "      <td>2018-05-01</td>\n",
       "      <td>1</td>\n",
       "      <td>2018-03-01</td>\n",
       "    </tr>\n",
       "    <tr>\n",
       "      <td>3</td>\n",
       "      <td>1000</td>\n",
       "      <td>52</td>\n",
       "      <td>2018-12-01</td>\n",
       "      <td>Краснодар</td>\n",
       "      <td>Рафаил</td>\n",
       "      <td>Верещагин</td>\n",
       "      <td>2018-05-01</td>\n",
       "      <td>ultra</td>\n",
       "      <td>2018-05-01</td>\n",
       "      <td>1</td>\n",
       "      <td>2018-04-01</td>\n",
       "    </tr>\n",
       "    <tr>\n",
       "      <td>4</td>\n",
       "      <td>1000</td>\n",
       "      <td>52</td>\n",
       "      <td>2018-12-01</td>\n",
       "      <td>Краснодар</td>\n",
       "      <td>Рафаил</td>\n",
       "      <td>Верещагин</td>\n",
       "      <td>2018-05-01</td>\n",
       "      <td>ultra</td>\n",
       "      <td>2018-05-01</td>\n",
       "      <td>1</td>\n",
       "      <td>2018-05-01</td>\n",
       "    </tr>\n",
       "  </tbody>\n",
       "</table>\n",
       "</div>"
      ],
      "text/plain": [
       "   user_id  age churn_date       city first_name  last_name   reg_date tariff  \\\n",
       "0     1000   52 2018-12-01  Краснодар     Рафаил  Верещагин 2018-05-01  ultra   \n",
       "1     1000   52 2018-12-01  Краснодар     Рафаил  Верещагин 2018-05-01  ultra   \n",
       "2     1000   52 2018-12-01  Краснодар     Рафаил  Верещагин 2018-05-01  ultra   \n",
       "3     1000   52 2018-12-01  Краснодар     Рафаил  Верещагин 2018-05-01  ultra   \n",
       "4     1000   52 2018-12-01  Краснодар     Рафаил  Верещагин 2018-05-01  ultra   \n",
       "\n",
       "   reg_month  key      month  \n",
       "0 2018-05-01    1 2018-01-01  \n",
       "1 2018-05-01    1 2018-02-01  \n",
       "2 2018-05-01    1 2018-03-01  \n",
       "3 2018-05-01    1 2018-04-01  \n",
       "4 2018-05-01    1 2018-05-01  "
      ]
     },
     "execution_count": 128,
     "metadata": {},
     "output_type": "execute_result"
    }
   ],
   "source": [
    "df_5 = df_5.merge(month, on='key', how='left')\n",
    "df_5.head()"
   ]
  },
  {
   "cell_type": "markdown",
   "metadata": {},
   "source": [
    "**Вывод:** Столбец *month* присоединен к **df_5**. Но мы видим на примере пользователя с id==1000, что в *month* есть месяцы, в которых абонент не использовал тариф, так как он зарегестрировался только в мае."
   ]
  },
  {
   "cell_type": "markdown",
   "metadata": {},
   "source": [
    "Добавим в **df_5** фильтрацию, которая уберет даты, в которых абонент не пользовался тарифом. Это периоды до регистрации *reg_month*, и после даты оттока *churn_date*:"
   ]
  },
  {
   "cell_type": "code",
   "execution_count": 129,
   "metadata": {
    "scrolled": true
   },
   "outputs": [
    {
     "data": {
      "text/html": [
       "<div>\n",
       "<style scoped>\n",
       "    .dataframe tbody tr th:only-of-type {\n",
       "        vertical-align: middle;\n",
       "    }\n",
       "\n",
       "    .dataframe tbody tr th {\n",
       "        vertical-align: top;\n",
       "    }\n",
       "\n",
       "    .dataframe thead th {\n",
       "        text-align: right;\n",
       "    }\n",
       "</style>\n",
       "<table border=\"1\" class=\"dataframe\">\n",
       "  <thead>\n",
       "    <tr style=\"text-align: right;\">\n",
       "      <th></th>\n",
       "      <th>user_id</th>\n",
       "      <th>age</th>\n",
       "      <th>churn_date</th>\n",
       "      <th>city</th>\n",
       "      <th>first_name</th>\n",
       "      <th>last_name</th>\n",
       "      <th>reg_date</th>\n",
       "      <th>tariff</th>\n",
       "      <th>reg_month</th>\n",
       "      <th>key</th>\n",
       "      <th>month</th>\n",
       "    </tr>\n",
       "  </thead>\n",
       "  <tbody>\n",
       "    <tr>\n",
       "      <td>4</td>\n",
       "      <td>1000</td>\n",
       "      <td>52</td>\n",
       "      <td>2018-12-01</td>\n",
       "      <td>Краснодар</td>\n",
       "      <td>Рафаил</td>\n",
       "      <td>Верещагин</td>\n",
       "      <td>2018-05-01</td>\n",
       "      <td>ultra</td>\n",
       "      <td>2018-05-01</td>\n",
       "      <td>1</td>\n",
       "      <td>2018-05-01</td>\n",
       "    </tr>\n",
       "    <tr>\n",
       "      <td>5</td>\n",
       "      <td>1000</td>\n",
       "      <td>52</td>\n",
       "      <td>2018-12-01</td>\n",
       "      <td>Краснодар</td>\n",
       "      <td>Рафаил</td>\n",
       "      <td>Верещагин</td>\n",
       "      <td>2018-05-01</td>\n",
       "      <td>ultra</td>\n",
       "      <td>2018-05-01</td>\n",
       "      <td>1</td>\n",
       "      <td>2018-06-01</td>\n",
       "    </tr>\n",
       "    <tr>\n",
       "      <td>6</td>\n",
       "      <td>1000</td>\n",
       "      <td>52</td>\n",
       "      <td>2018-12-01</td>\n",
       "      <td>Краснодар</td>\n",
       "      <td>Рафаил</td>\n",
       "      <td>Верещагин</td>\n",
       "      <td>2018-05-01</td>\n",
       "      <td>ultra</td>\n",
       "      <td>2018-05-01</td>\n",
       "      <td>1</td>\n",
       "      <td>2018-07-01</td>\n",
       "    </tr>\n",
       "    <tr>\n",
       "      <td>7</td>\n",
       "      <td>1000</td>\n",
       "      <td>52</td>\n",
       "      <td>2018-12-01</td>\n",
       "      <td>Краснодар</td>\n",
       "      <td>Рафаил</td>\n",
       "      <td>Верещагин</td>\n",
       "      <td>2018-05-01</td>\n",
       "      <td>ultra</td>\n",
       "      <td>2018-05-01</td>\n",
       "      <td>1</td>\n",
       "      <td>2018-08-01</td>\n",
       "    </tr>\n",
       "    <tr>\n",
       "      <td>8</td>\n",
       "      <td>1000</td>\n",
       "      <td>52</td>\n",
       "      <td>2018-12-01</td>\n",
       "      <td>Краснодар</td>\n",
       "      <td>Рафаил</td>\n",
       "      <td>Верещагин</td>\n",
       "      <td>2018-05-01</td>\n",
       "      <td>ultra</td>\n",
       "      <td>2018-05-01</td>\n",
       "      <td>1</td>\n",
       "      <td>2018-09-01</td>\n",
       "    </tr>\n",
       "  </tbody>\n",
       "</table>\n",
       "</div>"
      ],
      "text/plain": [
       "   user_id  age churn_date       city first_name  last_name   reg_date tariff  \\\n",
       "4     1000   52 2018-12-01  Краснодар     Рафаил  Верещагин 2018-05-01  ultra   \n",
       "5     1000   52 2018-12-01  Краснодар     Рафаил  Верещагин 2018-05-01  ultra   \n",
       "6     1000   52 2018-12-01  Краснодар     Рафаил  Верещагин 2018-05-01  ultra   \n",
       "7     1000   52 2018-12-01  Краснодар     Рафаил  Верещагин 2018-05-01  ultra   \n",
       "8     1000   52 2018-12-01  Краснодар     Рафаил  Верещагин 2018-05-01  ultra   \n",
       "\n",
       "   reg_month  key      month  \n",
       "4 2018-05-01    1 2018-05-01  \n",
       "5 2018-05-01    1 2018-06-01  \n",
       "6 2018-05-01    1 2018-07-01  \n",
       "7 2018-05-01    1 2018-08-01  \n",
       "8 2018-05-01    1 2018-09-01  "
      ]
     },
     "execution_count": 129,
     "metadata": {},
     "output_type": "execute_result"
    }
   ],
   "source": [
    "df_5 = df_5[(df_5['month'] >= df_5['reg_month']) & (df_5['month'] <= df_5['churn_date'])] \n",
    "df_5.head()"
   ]
  },
  {
   "cell_type": "code",
   "execution_count": 130,
   "metadata": {},
   "outputs": [
    {
     "data": {
      "text/plain": [
       "3216"
      ]
     },
     "execution_count": 130,
     "metadata": {},
     "output_type": "execute_result"
    }
   ],
   "source": [
    "len(df_5)"
   ]
  },
  {
   "cell_type": "markdown",
   "metadata": {},
   "source": [
    "Будем по порядку присоединять полученные сводные таблицы **df_call_month**, **df_mb_month** и **df_message_month** к **df_5**: "
   ]
  },
  {
   "cell_type": "code",
   "execution_count": 131,
   "metadata": {
    "scrolled": false
   },
   "outputs": [
    {
     "data": {
      "text/html": [
       "<div>\n",
       "<style scoped>\n",
       "    .dataframe tbody tr th:only-of-type {\n",
       "        vertical-align: middle;\n",
       "    }\n",
       "\n",
       "    .dataframe tbody tr th {\n",
       "        vertical-align: top;\n",
       "    }\n",
       "\n",
       "    .dataframe thead th {\n",
       "        text-align: right;\n",
       "    }\n",
       "</style>\n",
       "<table border=\"1\" class=\"dataframe\">\n",
       "  <thead>\n",
       "    <tr style=\"text-align: right;\">\n",
       "      <th></th>\n",
       "      <th>user_id</th>\n",
       "      <th>age</th>\n",
       "      <th>churn_date</th>\n",
       "      <th>city</th>\n",
       "      <th>reg_date</th>\n",
       "      <th>tariff_name</th>\n",
       "      <th>duration_tariff</th>\n",
       "      <th>gb_tariff</th>\n",
       "      <th>mess_count</th>\n",
       "    </tr>\n",
       "  </thead>\n",
       "  <tbody>\n",
       "    <tr>\n",
       "      <td>0</td>\n",
       "      <td>1000</td>\n",
       "      <td>52</td>\n",
       "      <td>2018-12-01</td>\n",
       "      <td>Краснодар</td>\n",
       "      <td>2018-05-01</td>\n",
       "      <td>ultra</td>\n",
       "      <td>159.000</td>\n",
       "      <td>4.000</td>\n",
       "      <td>22.000</td>\n",
       "    </tr>\n",
       "    <tr>\n",
       "      <td>1</td>\n",
       "      <td>1000</td>\n",
       "      <td>52</td>\n",
       "      <td>2018-12-01</td>\n",
       "      <td>Краснодар</td>\n",
       "      <td>2018-05-01</td>\n",
       "      <td>ultra</td>\n",
       "      <td>172.000</td>\n",
       "      <td>49.000</td>\n",
       "      <td>60.000</td>\n",
       "    </tr>\n",
       "    <tr>\n",
       "      <td>2</td>\n",
       "      <td>1000</td>\n",
       "      <td>52</td>\n",
       "      <td>2018-12-01</td>\n",
       "      <td>Краснодар</td>\n",
       "      <td>2018-05-01</td>\n",
       "      <td>ultra</td>\n",
       "      <td>340.000</td>\n",
       "      <td>28.000</td>\n",
       "      <td>75.000</td>\n",
       "    </tr>\n",
       "    <tr>\n",
       "      <td>3</td>\n",
       "      <td>1000</td>\n",
       "      <td>52</td>\n",
       "      <td>2018-12-01</td>\n",
       "      <td>Краснодар</td>\n",
       "      <td>2018-05-01</td>\n",
       "      <td>ultra</td>\n",
       "      <td>408.000</td>\n",
       "      <td>27.000</td>\n",
       "      <td>81.000</td>\n",
       "    </tr>\n",
       "    <tr>\n",
       "      <td>4</td>\n",
       "      <td>1000</td>\n",
       "      <td>52</td>\n",
       "      <td>2018-12-01</td>\n",
       "      <td>Краснодар</td>\n",
       "      <td>2018-05-01</td>\n",
       "      <td>ultra</td>\n",
       "      <td>466.000</td>\n",
       "      <td>26.000</td>\n",
       "      <td>57.000</td>\n",
       "    </tr>\n",
       "    <tr>\n",
       "      <td>...</td>\n",
       "      <td>...</td>\n",
       "      <td>...</td>\n",
       "      <td>...</td>\n",
       "      <td>...</td>\n",
       "      <td>...</td>\n",
       "      <td>...</td>\n",
       "      <td>...</td>\n",
       "      <td>...</td>\n",
       "      <td>...</td>\n",
       "    </tr>\n",
       "    <tr>\n",
       "      <td>3211</td>\n",
       "      <td>1498</td>\n",
       "      <td>68</td>\n",
       "      <td>2018-10-01</td>\n",
       "      <td>Владикавказ</td>\n",
       "      <td>2018-07-01</td>\n",
       "      <td>smart</td>\n",
       "      <td>247.000</td>\n",
       "      <td>50.000</td>\n",
       "      <td>42.000</td>\n",
       "    </tr>\n",
       "    <tr>\n",
       "      <td>3212</td>\n",
       "      <td>1499</td>\n",
       "      <td>35</td>\n",
       "      <td>2018-12-01</td>\n",
       "      <td>Пермь</td>\n",
       "      <td>2018-09-01</td>\n",
       "      <td>smart</td>\n",
       "      <td>70.000</td>\n",
       "      <td>5.000</td>\n",
       "      <td>11.000</td>\n",
       "    </tr>\n",
       "    <tr>\n",
       "      <td>3213</td>\n",
       "      <td>1499</td>\n",
       "      <td>35</td>\n",
       "      <td>2018-12-01</td>\n",
       "      <td>Пермь</td>\n",
       "      <td>2018-09-01</td>\n",
       "      <td>smart</td>\n",
       "      <td>449.000</td>\n",
       "      <td>44.000</td>\n",
       "      <td>48.000</td>\n",
       "    </tr>\n",
       "    <tr>\n",
       "      <td>3214</td>\n",
       "      <td>1499</td>\n",
       "      <td>35</td>\n",
       "      <td>2018-12-01</td>\n",
       "      <td>Пермь</td>\n",
       "      <td>2018-09-01</td>\n",
       "      <td>smart</td>\n",
       "      <td>612.000</td>\n",
       "      <td>41.000</td>\n",
       "      <td>59.000</td>\n",
       "    </tr>\n",
       "    <tr>\n",
       "      <td>3215</td>\n",
       "      <td>1499</td>\n",
       "      <td>35</td>\n",
       "      <td>2018-12-01</td>\n",
       "      <td>Пермь</td>\n",
       "      <td>2018-09-01</td>\n",
       "      <td>smart</td>\n",
       "      <td>492.000</td>\n",
       "      <td>40.000</td>\n",
       "      <td>66.000</td>\n",
       "    </tr>\n",
       "  </tbody>\n",
       "</table>\n",
       "<p>3216 rows × 9 columns</p>\n",
       "</div>"
      ],
      "text/plain": [
       "      user_id  age churn_date         city   reg_date tariff_name  \\\n",
       "0        1000   52 2018-12-01    Краснодар 2018-05-01       ultra   \n",
       "1        1000   52 2018-12-01    Краснодар 2018-05-01       ultra   \n",
       "2        1000   52 2018-12-01    Краснодар 2018-05-01       ultra   \n",
       "3        1000   52 2018-12-01    Краснодар 2018-05-01       ultra   \n",
       "4        1000   52 2018-12-01    Краснодар 2018-05-01       ultra   \n",
       "...       ...  ...        ...          ...        ...         ...   \n",
       "3211     1498   68 2018-10-01  Владикавказ 2018-07-01       smart   \n",
       "3212     1499   35 2018-12-01        Пермь 2018-09-01       smart   \n",
       "3213     1499   35 2018-12-01        Пермь 2018-09-01       smart   \n",
       "3214     1499   35 2018-12-01        Пермь 2018-09-01       smart   \n",
       "3215     1499   35 2018-12-01        Пермь 2018-09-01       smart   \n",
       "\n",
       "      duration_tariff  gb_tariff  mess_count  \n",
       "0             159.000      4.000      22.000  \n",
       "1             172.000     49.000      60.000  \n",
       "2             340.000     28.000      75.000  \n",
       "3             408.000     27.000      81.000  \n",
       "4             466.000     26.000      57.000  \n",
       "...               ...        ...         ...  \n",
       "3211          247.000     50.000      42.000  \n",
       "3212           70.000      5.000      11.000  \n",
       "3213          449.000     44.000      48.000  \n",
       "3214          612.000     41.000      59.000  \n",
       "3215          492.000     40.000      66.000  \n",
       "\n",
       "[3216 rows x 9 columns]"
      ]
     },
     "metadata": {},
     "output_type": "display_data"
    }
   ],
   "source": [
    "df = df_5.merge(df_mb_month,on= ['user_id', 'month'], how='left')\n",
    "df = df.merge(df_call_month, on= ['user_id', 'month'], how='left')\n",
    "df = df.merge(df_message_month,on= ['user_id', 'month'], how='left')\n",
    "# уберем из дата-сета колонки  с именем и фамилией пользователя\n",
    "df = df[['user_id','age','churn_date','city', 'reg_date', 'tariff', 'duration_tariff', 'gb_tariff', 'mess_count']]\n",
    "# переименуем колонку 'tariff' в 'tariff_name'\n",
    "df = df.rename(columns={'tariff':'tariff_name'})\n",
    "display(df)"
   ]
  },
  {
   "cell_type": "markdown",
   "metadata": {},
   "source": [
    "<div class=\"alert alert-success\">\n",
    "<b>Комментарий ревьюера:</b>\n",
    "\n",
    "В целом таблицы мы соединили верно.\n",
    "    \n",
    "Ни один пользователь не потерялся при их соединении 👍\n",
    "    \n",
    "</div>"
   ]
  },
  {
   "cell_type": "code",
   "execution_count": 132,
   "metadata": {},
   "outputs": [
    {
     "data": {
      "text/plain": [
       "500"
      ]
     },
     "execution_count": 132,
     "metadata": {},
     "output_type": "execute_result"
    }
   ],
   "source": [
    "df.user_id.nunique()"
   ]
  },
  {
   "cell_type": "markdown",
   "metadata": {},
   "source": [
    "Присоеденим дата-сет *df_4* с параметрами тарифов к *df*:"
   ]
  },
  {
   "cell_type": "code",
   "execution_count": 133,
   "metadata": {
    "scrolled": false
   },
   "outputs": [
    {
     "data": {
      "text/html": [
       "<div>\n",
       "<style scoped>\n",
       "    .dataframe tbody tr th:only-of-type {\n",
       "        vertical-align: middle;\n",
       "    }\n",
       "\n",
       "    .dataframe tbody tr th {\n",
       "        vertical-align: top;\n",
       "    }\n",
       "\n",
       "    .dataframe thead th {\n",
       "        text-align: right;\n",
       "    }\n",
       "</style>\n",
       "<table border=\"1\" class=\"dataframe\">\n",
       "  <thead>\n",
       "    <tr style=\"text-align: right;\">\n",
       "      <th></th>\n",
       "      <th>user_id</th>\n",
       "      <th>age</th>\n",
       "      <th>churn_date</th>\n",
       "      <th>city</th>\n",
       "      <th>reg_date</th>\n",
       "      <th>tariff_name</th>\n",
       "      <th>duration_tariff</th>\n",
       "      <th>gb_tariff</th>\n",
       "      <th>mess_count</th>\n",
       "      <th>messages_included</th>\n",
       "      <th>mb_per_month_included</th>\n",
       "      <th>minutes_included</th>\n",
       "      <th>rub_monthly_fee</th>\n",
       "      <th>rub_per_gb</th>\n",
       "      <th>rub_per_message</th>\n",
       "      <th>rub_per_minute</th>\n",
       "    </tr>\n",
       "  </thead>\n",
       "  <tbody>\n",
       "    <tr>\n",
       "      <td>0</td>\n",
       "      <td>1000</td>\n",
       "      <td>52</td>\n",
       "      <td>2018-12-01</td>\n",
       "      <td>Краснодар</td>\n",
       "      <td>2018-05-01</td>\n",
       "      <td>ultra</td>\n",
       "      <td>159.000</td>\n",
       "      <td>4.000</td>\n",
       "      <td>22.000</td>\n",
       "      <td>1000</td>\n",
       "      <td>30720</td>\n",
       "      <td>3000</td>\n",
       "      <td>1950</td>\n",
       "      <td>150</td>\n",
       "      <td>1</td>\n",
       "      <td>1</td>\n",
       "    </tr>\n",
       "    <tr>\n",
       "      <td>1</td>\n",
       "      <td>1000</td>\n",
       "      <td>52</td>\n",
       "      <td>2018-12-01</td>\n",
       "      <td>Краснодар</td>\n",
       "      <td>2018-05-01</td>\n",
       "      <td>ultra</td>\n",
       "      <td>172.000</td>\n",
       "      <td>49.000</td>\n",
       "      <td>60.000</td>\n",
       "      <td>1000</td>\n",
       "      <td>30720</td>\n",
       "      <td>3000</td>\n",
       "      <td>1950</td>\n",
       "      <td>150</td>\n",
       "      <td>1</td>\n",
       "      <td>1</td>\n",
       "    </tr>\n",
       "    <tr>\n",
       "      <td>2</td>\n",
       "      <td>1000</td>\n",
       "      <td>52</td>\n",
       "      <td>2018-12-01</td>\n",
       "      <td>Краснодар</td>\n",
       "      <td>2018-05-01</td>\n",
       "      <td>ultra</td>\n",
       "      <td>340.000</td>\n",
       "      <td>28.000</td>\n",
       "      <td>75.000</td>\n",
       "      <td>1000</td>\n",
       "      <td>30720</td>\n",
       "      <td>3000</td>\n",
       "      <td>1950</td>\n",
       "      <td>150</td>\n",
       "      <td>1</td>\n",
       "      <td>1</td>\n",
       "    </tr>\n",
       "    <tr>\n",
       "      <td>3</td>\n",
       "      <td>1000</td>\n",
       "      <td>52</td>\n",
       "      <td>2018-12-01</td>\n",
       "      <td>Краснодар</td>\n",
       "      <td>2018-05-01</td>\n",
       "      <td>ultra</td>\n",
       "      <td>408.000</td>\n",
       "      <td>27.000</td>\n",
       "      <td>81.000</td>\n",
       "      <td>1000</td>\n",
       "      <td>30720</td>\n",
       "      <td>3000</td>\n",
       "      <td>1950</td>\n",
       "      <td>150</td>\n",
       "      <td>1</td>\n",
       "      <td>1</td>\n",
       "    </tr>\n",
       "    <tr>\n",
       "      <td>4</td>\n",
       "      <td>1000</td>\n",
       "      <td>52</td>\n",
       "      <td>2018-12-01</td>\n",
       "      <td>Краснодар</td>\n",
       "      <td>2018-05-01</td>\n",
       "      <td>ultra</td>\n",
       "      <td>466.000</td>\n",
       "      <td>26.000</td>\n",
       "      <td>57.000</td>\n",
       "      <td>1000</td>\n",
       "      <td>30720</td>\n",
       "      <td>3000</td>\n",
       "      <td>1950</td>\n",
       "      <td>150</td>\n",
       "      <td>1</td>\n",
       "      <td>1</td>\n",
       "    </tr>\n",
       "  </tbody>\n",
       "</table>\n",
       "</div>"
      ],
      "text/plain": [
       "   user_id  age churn_date       city   reg_date tariff_name  duration_tariff  \\\n",
       "0     1000   52 2018-12-01  Краснодар 2018-05-01       ultra          159.000   \n",
       "1     1000   52 2018-12-01  Краснодар 2018-05-01       ultra          172.000   \n",
       "2     1000   52 2018-12-01  Краснодар 2018-05-01       ultra          340.000   \n",
       "3     1000   52 2018-12-01  Краснодар 2018-05-01       ultra          408.000   \n",
       "4     1000   52 2018-12-01  Краснодар 2018-05-01       ultra          466.000   \n",
       "\n",
       "   gb_tariff  mess_count  messages_included  mb_per_month_included  \\\n",
       "0      4.000      22.000               1000                  30720   \n",
       "1     49.000      60.000               1000                  30720   \n",
       "2     28.000      75.000               1000                  30720   \n",
       "3     27.000      81.000               1000                  30720   \n",
       "4     26.000      57.000               1000                  30720   \n",
       "\n",
       "   minutes_included  rub_monthly_fee  rub_per_gb  rub_per_message  \\\n",
       "0              3000             1950         150                1   \n",
       "1              3000             1950         150                1   \n",
       "2              3000             1950         150                1   \n",
       "3              3000             1950         150                1   \n",
       "4              3000             1950         150                1   \n",
       "\n",
       "   rub_per_minute  \n",
       "0               1  \n",
       "1               1  \n",
       "2               1  \n",
       "3               1  \n",
       "4               1  "
      ]
     },
     "metadata": {},
     "output_type": "display_data"
    }
   ],
   "source": [
    "df = df.merge(df_4, on= 'tariff_name', how='left')\n",
    "display(df.head())"
   ]
  },
  {
   "cell_type": "markdown",
   "metadata": {},
   "source": [
    "Проверим наличие пропусков в столбцах полученного дата-сета. Пропуски образуются в том случае, когда обонент не пользовался какой-либо услугой в течении месяца."
   ]
  },
  {
   "cell_type": "code",
   "execution_count": 134,
   "metadata": {
    "scrolled": true
   },
   "outputs": [
    {
     "name": "stdout",
     "output_type": "stream",
     "text": [
      "Количество пропусков в столбце gb_tariff: 15\n"
     ]
    }
   ],
   "source": [
    "print('Количество пропусков в столбце gb_tariff: {}'.format(len(df[df['gb_tariff'].isna()])))"
   ]
  },
  {
   "cell_type": "code",
   "execution_count": 135,
   "metadata": {
    "scrolled": true
   },
   "outputs": [
    {
     "name": "stdout",
     "output_type": "stream",
     "text": [
      "Количество пропусков в столбце duration_tariff: 48\n"
     ]
    }
   ],
   "source": [
    "print('Количество пропусков в столбце duration_tariff: {}'.format(len(df[df['duration_tariff'].isna()])))"
   ]
  },
  {
   "cell_type": "code",
   "execution_count": 136,
   "metadata": {
    "scrolled": false
   },
   "outputs": [
    {
     "name": "stdout",
     "output_type": "stream",
     "text": [
      "Количество пропусков в столбце mess_count: 499\n"
     ]
    }
   ],
   "source": [
    "print('Количество пропусков в столбце mess_count: {}'.format(len(df[df['mess_count'].isna()])))"
   ]
  },
  {
   "cell_type": "markdown",
   "metadata": {},
   "source": [
    "Мы можем заполнить обнаруженные пропуски нулями, так как услуга не была оказана. Сразу проверим количество пропуков:"
   ]
  },
  {
   "cell_type": "code",
   "execution_count": 137,
   "metadata": {},
   "outputs": [
    {
     "name": "stdout",
     "output_type": "stream",
     "text": [
      "Количество пропусков в столбце gb_tariff: 0\n",
      "Количество пропусков в столбце duration_tariff: 0\n",
      "Количество пропусков в столбце mess_count: 0\n"
     ]
    }
   ],
   "source": [
    "df['gb_tariff'] = df['gb_tariff'].fillna(0)\n",
    "df['duration_tariff'] = df['duration_tariff'].fillna(0)\n",
    "df['mess_count'] = df['mess_count'].fillna(0)\n",
    "print('Количество пропусков в столбце gb_tariff: {}'.format(len(df[df['gb_tariff'].isna()])))\n",
    "print('Количество пропусков в столбце duration_tariff: {}'.format(len(df[df['duration_tariff'].isna()])))\n",
    "print('Количество пропусков в столбце mess_count: {}'.format(len(df[df['mess_count'].isna()])))"
   ]
  },
  {
   "cell_type": "markdown",
   "metadata": {},
   "source": [
    "<div class=\"alert alert-success\">\n",
    "<b>Комментарий ревьюера:</b>\n",
    "\n",
    "В том числе метод `fillna` и `astype` можно применять к нескольким столбцам одновременно.\n",
    "    \n",
    "Если столбцов более 2–ух, то рекомендую применять цикл `for`.\n",
    "    \n",
    "Пример: \n",
    "    \n",
    "`df.astype({ \"col1\": \"float64\", \"col2\": \"int64\"})`\n",
    "    \n",
    "</div>"
   ]
  },
  {
   "cell_type": "markdown",
   "metadata": {},
   "source": [
    "```python\n",
    "\n",
    "columns = [col1, col2, col3]\n",
    "\n",
    "for i in columns:\n",
    "    df[i] = df[i].fillna(0)\n",
    "\n",
    "```"
   ]
  },
  {
   "cell_type": "markdown",
   "metadata": {},
   "source": [
    "<div class=\"alert alert-info\">\n",
    "    Интересный подход, положу к себе в копилку)\n",
    "        </div>"
   ]
  },
  {
   "cell_type": "markdown",
   "metadata": {},
   "source": [
    "<div class=\"alert alert-success\">\n",
    "<b>Комментарий ревьюера (2):</b>\n",
    "\n",
    "✅\n",
    "    \n",
    "</div>"
   ]
  },
  {
   "cell_type": "markdown",
   "metadata": {},
   "source": [
    "**Вывод**: теперь у нас есть все данные в одном дата-сете, которые позволят подсчитать ежемесячную прибыль с каждого пользователя. В колонке использованного трафика *gb_tariff* значения в гигабайтах, а трафик *mb_per_month_included*, включенный в абоненскую плату в мегабайтах."
   ]
  },
  {
   "cell_type": "markdown",
   "metadata": {},
   "source": [
    " Переведем значения *mb_per_month_included* в гигабайты:"
   ]
  },
  {
   "cell_type": "code",
   "execution_count": 138,
   "metadata": {
    "scrolled": true
   },
   "outputs": [
    {
     "data": {
      "text/html": [
       "<div>\n",
       "<style scoped>\n",
       "    .dataframe tbody tr th:only-of-type {\n",
       "        vertical-align: middle;\n",
       "    }\n",
       "\n",
       "    .dataframe tbody tr th {\n",
       "        vertical-align: top;\n",
       "    }\n",
       "\n",
       "    .dataframe thead th {\n",
       "        text-align: right;\n",
       "    }\n",
       "</style>\n",
       "<table border=\"1\" class=\"dataframe\">\n",
       "  <thead>\n",
       "    <tr style=\"text-align: right;\">\n",
       "      <th></th>\n",
       "      <th>user_id</th>\n",
       "      <th>age</th>\n",
       "      <th>churn_date</th>\n",
       "      <th>city</th>\n",
       "      <th>reg_date</th>\n",
       "      <th>tariff_name</th>\n",
       "      <th>duration_tariff</th>\n",
       "      <th>gb_tariff</th>\n",
       "      <th>mess_count</th>\n",
       "      <th>messages_included</th>\n",
       "      <th>mb_per_month_included</th>\n",
       "      <th>minutes_included</th>\n",
       "      <th>rub_monthly_fee</th>\n",
       "      <th>rub_per_gb</th>\n",
       "      <th>rub_per_message</th>\n",
       "      <th>rub_per_minute</th>\n",
       "    </tr>\n",
       "  </thead>\n",
       "  <tbody>\n",
       "    <tr>\n",
       "      <td>0</td>\n",
       "      <td>1000</td>\n",
       "      <td>52</td>\n",
       "      <td>2018-12-01</td>\n",
       "      <td>Краснодар</td>\n",
       "      <td>2018-05-01</td>\n",
       "      <td>ultra</td>\n",
       "      <td>159.000</td>\n",
       "      <td>4.000</td>\n",
       "      <td>22.000</td>\n",
       "      <td>1000</td>\n",
       "      <td>30.000</td>\n",
       "      <td>3000</td>\n",
       "      <td>1950</td>\n",
       "      <td>150</td>\n",
       "      <td>1</td>\n",
       "      <td>1</td>\n",
       "    </tr>\n",
       "    <tr>\n",
       "      <td>1</td>\n",
       "      <td>1000</td>\n",
       "      <td>52</td>\n",
       "      <td>2018-12-01</td>\n",
       "      <td>Краснодар</td>\n",
       "      <td>2018-05-01</td>\n",
       "      <td>ultra</td>\n",
       "      <td>172.000</td>\n",
       "      <td>49.000</td>\n",
       "      <td>60.000</td>\n",
       "      <td>1000</td>\n",
       "      <td>30.000</td>\n",
       "      <td>3000</td>\n",
       "      <td>1950</td>\n",
       "      <td>150</td>\n",
       "      <td>1</td>\n",
       "      <td>1</td>\n",
       "    </tr>\n",
       "  </tbody>\n",
       "</table>\n",
       "</div>"
      ],
      "text/plain": [
       "   user_id  age churn_date       city   reg_date tariff_name  duration_tariff  \\\n",
       "0     1000   52 2018-12-01  Краснодар 2018-05-01       ultra          159.000   \n",
       "1     1000   52 2018-12-01  Краснодар 2018-05-01       ultra          172.000   \n",
       "\n",
       "   gb_tariff  mess_count  messages_included  mb_per_month_included  \\\n",
       "0      4.000      22.000               1000                 30.000   \n",
       "1     49.000      60.000               1000                 30.000   \n",
       "\n",
       "   minutes_included  rub_monthly_fee  rub_per_gb  rub_per_message  \\\n",
       "0              3000             1950         150                1   \n",
       "1              3000             1950         150                1   \n",
       "\n",
       "   rub_per_minute  \n",
       "0               1  \n",
       "1               1  "
      ]
     },
     "execution_count": 138,
     "metadata": {},
     "output_type": "execute_result"
    }
   ],
   "source": [
    "df['mb_per_month_included'] = df['mb_per_month_included'] / 1024\n",
    "df.head(2)"
   ]
  },
  {
   "cell_type": "markdown",
   "metadata": {},
   "source": [
    "**Вывод**: значения в колонке *mb_per_month_included* переведены в гигабайты."
   ]
  },
  {
   "cell_type": "markdown",
   "metadata": {},
   "source": [
    "Создадим три столбца *minutes_profit*, *traffics_profit*, *messages_profit*, показывающие прибыль за потраченные минуты, гигабайты и сообщения сверх включенного пакета:"
   ]
  },
  {
   "cell_type": "code",
   "execution_count": 139,
   "metadata": {
    "scrolled": true
   },
   "outputs": [
    {
     "data": {
      "text/html": [
       "<div>\n",
       "<style scoped>\n",
       "    .dataframe tbody tr th:only-of-type {\n",
       "        vertical-align: middle;\n",
       "    }\n",
       "\n",
       "    .dataframe tbody tr th {\n",
       "        vertical-align: top;\n",
       "    }\n",
       "\n",
       "    .dataframe thead th {\n",
       "        text-align: right;\n",
       "    }\n",
       "</style>\n",
       "<table border=\"1\" class=\"dataframe\">\n",
       "  <thead>\n",
       "    <tr style=\"text-align: right;\">\n",
       "      <th></th>\n",
       "      <th>user_id</th>\n",
       "      <th>age</th>\n",
       "      <th>churn_date</th>\n",
       "      <th>city</th>\n",
       "      <th>reg_date</th>\n",
       "      <th>tariff_name</th>\n",
       "      <th>duration_tariff</th>\n",
       "      <th>gb_tariff</th>\n",
       "      <th>mess_count</th>\n",
       "      <th>messages_included</th>\n",
       "      <th>mb_per_month_included</th>\n",
       "      <th>minutes_included</th>\n",
       "      <th>rub_monthly_fee</th>\n",
       "      <th>rub_per_gb</th>\n",
       "      <th>rub_per_message</th>\n",
       "      <th>rub_per_minute</th>\n",
       "      <th>minutes_profit</th>\n",
       "      <th>traffics_profit</th>\n",
       "      <th>messages_profit</th>\n",
       "    </tr>\n",
       "  </thead>\n",
       "  <tbody>\n",
       "    <tr>\n",
       "      <td>0</td>\n",
       "      <td>1000</td>\n",
       "      <td>52</td>\n",
       "      <td>2018-12-01</td>\n",
       "      <td>Краснодар</td>\n",
       "      <td>2018-05-01</td>\n",
       "      <td>ultra</td>\n",
       "      <td>159.000</td>\n",
       "      <td>4.000</td>\n",
       "      <td>22.000</td>\n",
       "      <td>1000</td>\n",
       "      <td>30.000</td>\n",
       "      <td>3000</td>\n",
       "      <td>1950</td>\n",
       "      <td>150</td>\n",
       "      <td>1</td>\n",
       "      <td>1</td>\n",
       "      <td>0.000</td>\n",
       "      <td>0.000</td>\n",
       "      <td>0.000</td>\n",
       "    </tr>\n",
       "    <tr>\n",
       "      <td>1</td>\n",
       "      <td>1000</td>\n",
       "      <td>52</td>\n",
       "      <td>2018-12-01</td>\n",
       "      <td>Краснодар</td>\n",
       "      <td>2018-05-01</td>\n",
       "      <td>ultra</td>\n",
       "      <td>172.000</td>\n",
       "      <td>49.000</td>\n",
       "      <td>60.000</td>\n",
       "      <td>1000</td>\n",
       "      <td>30.000</td>\n",
       "      <td>3000</td>\n",
       "      <td>1950</td>\n",
       "      <td>150</td>\n",
       "      <td>1</td>\n",
       "      <td>1</td>\n",
       "      <td>0.000</td>\n",
       "      <td>2850.000</td>\n",
       "      <td>0.000</td>\n",
       "    </tr>\n",
       "  </tbody>\n",
       "</table>\n",
       "</div>"
      ],
      "text/plain": [
       "   user_id  age churn_date       city   reg_date tariff_name  duration_tariff  \\\n",
       "0     1000   52 2018-12-01  Краснодар 2018-05-01       ultra          159.000   \n",
       "1     1000   52 2018-12-01  Краснодар 2018-05-01       ultra          172.000   \n",
       "\n",
       "   gb_tariff  mess_count  messages_included  mb_per_month_included  \\\n",
       "0      4.000      22.000               1000                 30.000   \n",
       "1     49.000      60.000               1000                 30.000   \n",
       "\n",
       "   minutes_included  rub_monthly_fee  rub_per_gb  rub_per_message  \\\n",
       "0              3000             1950         150                1   \n",
       "1              3000             1950         150                1   \n",
       "\n",
       "   rub_per_minute  minutes_profit  traffics_profit  messages_profit  \n",
       "0               1           0.000            0.000            0.000  \n",
       "1               1           0.000         2850.000            0.000  "
      ]
     },
     "execution_count": 139,
     "metadata": {},
     "output_type": "execute_result"
    }
   ],
   "source": [
    "df['minutes_profit'] = df['rub_per_minute'] * (np.where((df['duration_tariff'] - df['minutes_included'])<0, 0,\n",
    "                                                        (df['duration_tariff'] - df['minutes_included'])))\n",
    "df['traffics_profit'] = df['rub_per_gb'] * (np.where((df['gb_tariff'] - df['mb_per_month_included'])<0, 0,\n",
    "                                                        (df['gb_tariff'] - df['mb_per_month_included'])))\n",
    "df['messages_profit'] = df['rub_per_message'] * (np.where((df['mess_count'] - df['messages_included'])<0, 0,\n",
    "                                                        (df['mess_count'] - df['messages_included'])))\n",
    "df.head(2)"
   ]
  },
  {
   "cell_type": "markdown",
   "metadata": {},
   "source": [
    "Создадим столбец *profit* в котором будет суммарный доход(\"абонентская плата\" + \"доход от минут\" + \"доход от трафика\" + \"доход от сообщений\") от абонента по месяцам:  "
   ]
  },
  {
   "cell_type": "code",
   "execution_count": 140,
   "metadata": {
    "scrolled": true
   },
   "outputs": [
    {
     "data": {
      "text/html": [
       "<div>\n",
       "<style scoped>\n",
       "    .dataframe tbody tr th:only-of-type {\n",
       "        vertical-align: middle;\n",
       "    }\n",
       "\n",
       "    .dataframe tbody tr th {\n",
       "        vertical-align: top;\n",
       "    }\n",
       "\n",
       "    .dataframe thead th {\n",
       "        text-align: right;\n",
       "    }\n",
       "</style>\n",
       "<table border=\"1\" class=\"dataframe\">\n",
       "  <thead>\n",
       "    <tr style=\"text-align: right;\">\n",
       "      <th></th>\n",
       "      <th>user_id</th>\n",
       "      <th>age</th>\n",
       "      <th>churn_date</th>\n",
       "      <th>city</th>\n",
       "      <th>reg_date</th>\n",
       "      <th>tariff_name</th>\n",
       "      <th>duration_tariff</th>\n",
       "      <th>gb_tariff</th>\n",
       "      <th>mess_count</th>\n",
       "      <th>messages_included</th>\n",
       "      <th>mb_per_month_included</th>\n",
       "      <th>minutes_included</th>\n",
       "      <th>rub_monthly_fee</th>\n",
       "      <th>rub_per_gb</th>\n",
       "      <th>rub_per_message</th>\n",
       "      <th>rub_per_minute</th>\n",
       "      <th>minutes_profit</th>\n",
       "      <th>traffics_profit</th>\n",
       "      <th>messages_profit</th>\n",
       "      <th>profit</th>\n",
       "    </tr>\n",
       "  </thead>\n",
       "  <tbody>\n",
       "    <tr>\n",
       "      <td>0</td>\n",
       "      <td>1000</td>\n",
       "      <td>52</td>\n",
       "      <td>2018-12-01</td>\n",
       "      <td>Краснодар</td>\n",
       "      <td>2018-05-01</td>\n",
       "      <td>ultra</td>\n",
       "      <td>159.000</td>\n",
       "      <td>4.000</td>\n",
       "      <td>22.000</td>\n",
       "      <td>1000</td>\n",
       "      <td>30.000</td>\n",
       "      <td>3000</td>\n",
       "      <td>1950</td>\n",
       "      <td>150</td>\n",
       "      <td>1</td>\n",
       "      <td>1</td>\n",
       "      <td>0.000</td>\n",
       "      <td>0.000</td>\n",
       "      <td>0.000</td>\n",
       "      <td>1950.000</td>\n",
       "    </tr>\n",
       "    <tr>\n",
       "      <td>1</td>\n",
       "      <td>1000</td>\n",
       "      <td>52</td>\n",
       "      <td>2018-12-01</td>\n",
       "      <td>Краснодар</td>\n",
       "      <td>2018-05-01</td>\n",
       "      <td>ultra</td>\n",
       "      <td>172.000</td>\n",
       "      <td>49.000</td>\n",
       "      <td>60.000</td>\n",
       "      <td>1000</td>\n",
       "      <td>30.000</td>\n",
       "      <td>3000</td>\n",
       "      <td>1950</td>\n",
       "      <td>150</td>\n",
       "      <td>1</td>\n",
       "      <td>1</td>\n",
       "      <td>0.000</td>\n",
       "      <td>2850.000</td>\n",
       "      <td>0.000</td>\n",
       "      <td>4800.000</td>\n",
       "    </tr>\n",
       "  </tbody>\n",
       "</table>\n",
       "</div>"
      ],
      "text/plain": [
       "   user_id  age churn_date       city   reg_date tariff_name  duration_tariff  \\\n",
       "0     1000   52 2018-12-01  Краснодар 2018-05-01       ultra          159.000   \n",
       "1     1000   52 2018-12-01  Краснодар 2018-05-01       ultra          172.000   \n",
       "\n",
       "   gb_tariff  mess_count  messages_included  mb_per_month_included  \\\n",
       "0      4.000      22.000               1000                 30.000   \n",
       "1     49.000      60.000               1000                 30.000   \n",
       "\n",
       "   minutes_included  rub_monthly_fee  rub_per_gb  rub_per_message  \\\n",
       "0              3000             1950         150                1   \n",
       "1              3000             1950         150                1   \n",
       "\n",
       "   rub_per_minute  minutes_profit  traffics_profit  messages_profit   profit  \n",
       "0               1           0.000            0.000            0.000 1950.000  \n",
       "1               1           0.000         2850.000            0.000 4800.000  "
      ]
     },
     "execution_count": 140,
     "metadata": {},
     "output_type": "execute_result"
    }
   ],
   "source": [
    "df['profit'] = df['rub_monthly_fee'] + df['minutes_profit'] + df['traffics_profit'] + df['messages_profit']\n",
    "df.head(2)"
   ]
  },
  {
   "cell_type": "markdown",
   "metadata": {},
   "source": [
    "<div class=\"alert alert-success\">\n",
    "<b>Комментарий ревьюера:</b>\n",
    "\n",
    "Выручка посчитана верно, теперь любая фин.отчетность нам не помеха 😊\n",
    "    \n",
    "Кстати здорово, что ещё и посчитали отдельное значение сколько пользователи платят сверх своего лимита.\n",
    "    \n",
    "</div>"
   ]
  },
  {
   "cell_type": "code",
   "execution_count": 141,
   "metadata": {},
   "outputs": [
    {
     "data": {
      "text/plain": [
       "count    3216.000\n",
       "mean     5508.085\n",
       "std      2911.568\n",
       "min       550.000\n",
       "25%      3000.000\n",
       "50%      5544.500\n",
       "75%      7550.000\n",
       "max     19370.000\n",
       "Name: profit, dtype: float64"
      ]
     },
     "execution_count": 141,
     "metadata": {},
     "output_type": "execute_result"
    }
   ],
   "source": [
    "df['profit'].describe()"
   ]
  },
  {
   "cell_type": "markdown",
   "metadata": {},
   "source": [
    "**Вывод:** мы получили окончательныу таблицу со всеми необходимыми полями. Теперь её можно анализировать и делать выводы."
   ]
  },
  {
   "cell_type": "markdown",
   "metadata": {},
   "source": [
    "## Исследовательский анализ:"
   ]
  },
  {
   "cell_type": "markdown",
   "metadata": {},
   "source": [
    "В полученном общем дата-сете **df** мы имеем клиентов с тарифами \"Смарт\" и \"Ультра\". Разделим этих клиентов и сохраним в двух разных переменных **df_smart** и **df_ultra**: "
   ]
  },
  {
   "cell_type": "code",
   "execution_count": 142,
   "metadata": {
    "scrolled": true
   },
   "outputs": [
    {
     "name": "stdout",
     "output_type": "stream",
     "text": [
      "Количество клиентов с тарифом \"Смарт\": 2230\n",
      "Количество клиентов с тарифом \"Ультра\": 986\n"
     ]
    }
   ],
   "source": [
    "df_smart = df.query('tariff_name == \"smart\"')\n",
    "df_ultra = df.query('tariff_name == \"ultra\"')\n",
    "print('Количество клиентов с тарифом \"Смарт\": {}'.format(len(df_smart)))\n",
    "print('Количество клиентов с тарифом \"Ультра\": {}'.format(len(df_ultra)))"
   ]
  },
  {
   "cell_type": "markdown",
   "metadata": {},
   "source": [
    "Так как пользователей с тарифом \"Смарт\" больше, то гисторграмма этого тарифа будет выше чем \"Ультра\"."
   ]
  },
  {
   "cell_type": "markdown",
   "metadata": {},
   "source": [
    "Проанализируем гистограммы длительности звонков в зависимости от тарифа. Синий цвет - \"Смарт\", желтый - \"Ультра\"."
   ]
  },
  {
   "cell_type": "code",
   "execution_count": 157,
   "metadata": {
    "scrolled": false
   },
   "outputs": [
    {
     "data": {
      "text/plain": [
       "<matplotlib.axes._subplots.AxesSubplot at 0x7f8f0b2d3610>"
      ]
     },
     "execution_count": 157,
     "metadata": {},
     "output_type": "execute_result"
    },
    {
     "data": {
      "image/png": "[encoded data removed]",
      "text/plain": [
       "<Figure size 1008x360 with 1 Axes>"
      ]
     },
     "metadata": {},
     "output_type": "display_data"
    }
   ],
   "source": [
    "df_smart['duration_tariff'].hist(figsize= (14,5), alpha=1) \n",
    "df_ultra['duration_tariff'].hist(figsize= (14,5), alpha=0.7)"
   ]
  },
  {
   "cell_type": "markdown",
   "metadata": {},
   "source": [
    "<div class=\"alert alert-warning\">\n",
    "<b>Комментарий ревьюера:</b>\n",
    "\n",
    "Не забывай пожалуйста подписывать каждый график.\n",
    "    \n",
    "Это важный момент всего проекта, так быстрее понять о чем идёт речь на графике.\n",
    "    \n",
    "</div>"
   ]
  },
  {
   "cell_type": "markdown",
   "metadata": {},
   "source": [
    "**Вывод**: Мы видим, что пик гистограммы суммарной длительности звонков тарифа \"Ультра\" смещен правее пика тарифа \"Смарт\" и имеет более длинный хвост вправо. Это говорит о том, что пользователи тарифа \"Ультра\" в среднем тратят гораздо больше минут в месяц чем пользователи \"Смарта\".  "
   ]
  },
  {
   "cell_type": "markdown",
   "metadata": {},
   "source": [
    "Построим гистограммы потраченного трафика в зависимости от тарифа. Синий цвет - \"Смарт\", желтый - \"Ультра\"."
   ]
  },
  {
   "cell_type": "code",
   "execution_count": 144,
   "metadata": {
    "scrolled": true
   },
   "outputs": [
    {
     "data": {
      "text/plain": [
       "<matplotlib.axes._subplots.AxesSubplot at 0x7f8f0d206bd0>"
      ]
     },
     "execution_count": 144,
     "metadata": {},
     "output_type": "execute_result"
    },
    {
     "data": {
      "image/png": "[encoded data removed]",
      "text/plain": [
       "<Figure size 1008x360 with 1 Axes>"
      ]
     },
     "metadata": {},
     "output_type": "display_data"
    }
   ],
   "source": [
    "df_smart['gb_tariff'].hist(figsize= (14,5), alpha=1) \n",
    "df_ultra['gb_tariff'].hist(figsize= (14,5), alpha=0.7)"
   ]
  },
  {
   "cell_type": "markdown",
   "metadata": {},
   "source": [
    "**Вывод**: по количеству потраченных гигабайт интернета мы видим одинаковую картину. Пик  тарифа \"Смарт\" смещен правее, поэтому вероятно на \"Смарте\" трафика интернета тратят больше чем на \"Ультре.\"  "
   ]
  },
  {
   "cell_type": "markdown",
   "metadata": {},
   "source": [
    "<div class=\"alert alert-success\">\n",
    "<b>Комментарий ревьюера:</b>\n",
    "\n",
    "Обрати внимание, что наши действия повторяются, это говорит о том, что мы можем создать функцию для построения графиков. Тем самым оптимизировав свой код.\n",
    "    \n",
    "</div>"
   ]
  },
  {
   "cell_type": "markdown",
   "metadata": {},
   "source": [
    "Посмотрим гистограммы отправленных SMS в зависимости от тарифа. Синий цвет - \"Смарт\", желтый - \"Ультра\"."
   ]
  },
  {
   "cell_type": "code",
   "execution_count": 145,
   "metadata": {
    "scrolled": true
   },
   "outputs": [
    {
     "data": {
      "text/plain": [
       "<matplotlib.axes._subplots.AxesSubplot at 0x7f8f0d1de7d0>"
      ]
     },
     "execution_count": 145,
     "metadata": {},
     "output_type": "execute_result"
    },
    {
     "data": {
      "image/png": "[encoded data removed]",
      "text/plain": [
       "<Figure size 1008x360 with 1 Axes>"
      ]
     },
     "metadata": {},
     "output_type": "display_data"
    }
   ],
   "source": [
    "df_smart['mess_count'].hist(figsize= (14,5), alpha=1) \n",
    "df_ultra['mess_count'].hist(figsize= (14,5), alpha=0.7)"
   ]
  },
  {
   "cell_type": "markdown",
   "metadata": {},
   "source": [
    "**Вывод**: мы видим, что у гистограммы тарифа \"Ультра\" хвост вправо гораздо длиннее чем у тарифа \"Смарт\". Это говорит о том, что поользователи тарифом \"Ультра\" отправляют больше сообщений."
   ]
  },
  {
   "cell_type": "markdown",
   "metadata": {},
   "source": [
    "Построим гистограммы размера выручки в зависимости от тарифа. Синий цвет - \"Смарт\", желтый - \"Ультра\"."
   ]
  },
  {
   "cell_type": "code",
   "execution_count": 146,
   "metadata": {
    "scrolled": false
   },
   "outputs": [
    {
     "data": {
      "text/plain": [
       "<matplotlib.axes._subplots.AxesSubplot at 0x7f8f0d2f8a10>"
      ]
     },
     "execution_count": 146,
     "metadata": {},
     "output_type": "execute_result"
    },
    {
     "data": {
      "image/png": "[encoded data removed]",
      "text/plain": [
       "<Figure size 1008x360 with 1 Axes>"
      ]
     },
     "metadata": {},
     "output_type": "display_data"
    }
   ],
   "source": [
    "df_smart['profit'].hist(bins= 20, figsize= (14,5), alpha=1) \n",
    "df_ultra['profit'].hist(bins= 20,  figsize= (14,5), alpha=0.7)"
   ]
  },
  {
   "cell_type": "markdown",
   "metadata": {},
   "source": [
    "**Вывод**: по оси Х(размер выручки в месяц) в диапазоне от 0 до 2500 мы видим по одному пику на каждой гистограмме. Эти пики соответствуют тем абонентам, кто не тратит больше размера фиксированной абоненской платы в месяц. Все,что правее этих пиков - это траты сверх абоненской платы. Соотнесём высоты этих пиков к высоте остальной гистограммы: на тарифе \"Смарт\" высота остальной гистограммы гораздо выше чем пик абоненской платы, когда на тарифе \"Ультра\" траты сверх пакета намного ниже абоненской платы. Гистограммы показывают, что пользователи тарифа \"Ультра\" более рационально умеют использовать свои траты на мобильную связь. "
   ]
  },
  {
   "cell_type": "markdown",
   "metadata": {},
   "source": [
    "Построим сводную таблицу, показывающую среднее количество потраченных минут, гигабайт трафика и SMS в зависимости от тарифа. Так же включим в неё среднюю прибыль от абонента: <a id='profit'></a>, <a id='gipa-a'></a>"
   ]
  },
  {
   "cell_type": "code",
   "execution_count": 147,
   "metadata": {
    "scrolled": true
   },
   "outputs": [
    {
     "data": {
      "text/html": [
       "<div>\n",
       "<style scoped>\n",
       "    .dataframe tbody tr th:only-of-type {\n",
       "        vertical-align: middle;\n",
       "    }\n",
       "\n",
       "    .dataframe tbody tr th {\n",
       "        vertical-align: top;\n",
       "    }\n",
       "\n",
       "    .dataframe thead th {\n",
       "        text-align: right;\n",
       "    }\n",
       "</style>\n",
       "<table border=\"1\" class=\"dataframe\">\n",
       "  <thead>\n",
       "    <tr style=\"text-align: right;\">\n",
       "      <th></th>\n",
       "      <th>duration_tariff</th>\n",
       "      <th>gb_tariff</th>\n",
       "      <th>mess_count</th>\n",
       "      <th>profit</th>\n",
       "    </tr>\n",
       "    <tr>\n",
       "      <th>tariff_name</th>\n",
       "      <th></th>\n",
       "      <th></th>\n",
       "      <th></th>\n",
       "      <th></th>\n",
       "    </tr>\n",
       "  </thead>\n",
       "  <tbody>\n",
       "    <tr>\n",
       "      <td>smart</td>\n",
       "      <td>417.748</td>\n",
       "      <td>42.399</td>\n",
       "      <td>33.369</td>\n",
       "      <td>6244.530</td>\n",
       "    </tr>\n",
       "    <tr>\n",
       "      <td>ultra</td>\n",
       "      <td>526.089</td>\n",
       "      <td>38.126</td>\n",
       "      <td>49.313</td>\n",
       "      <td>3842.495</td>\n",
       "    </tr>\n",
       "  </tbody>\n",
       "</table>\n",
       "</div>"
      ],
      "text/plain": [
       "             duration_tariff  gb_tariff  mess_count   profit\n",
       "tariff_name                                                 \n",
       "smart                417.748     42.399      33.369 6244.530\n",
       "ultra                526.089     38.126      49.313 3842.495"
      ]
     },
     "execution_count": 147,
     "metadata": {},
     "output_type": "execute_result"
    }
   ],
   "source": [
    "df_tariff_table = df.pivot_table(index='tariff_name', values=['duration_tariff', 'gb_tariff', 'mess_count', 'profit'], aggfunc= 'mean')\n",
    "df_tariff_table"
   ]
  },
  {
   "cell_type": "markdown",
   "metadata": {},
   "source": [
    "Сводная таблица подтверждает наши выводы, сделанные на основе гистограмм, только здесь мы их видим ещё и в численном выражении. Пользователи тарифа \"Ультра\" в целом используют ресурсов больше, а платят меньше чем пользователи тарифа \"Смарт\"."
   ]
  },
  {
   "cell_type": "markdown",
   "metadata": {},
   "source": [
    "Рссчитаем дисперсию и стандартное отклонение потраченных минут *duration_tariff*, гигабайт *gb_tariff* и SMS *mess_count* в каждом тарифе:\n",
    "+ Тариф \"Смарт\""
   ]
  },
  {
   "cell_type": "code",
   "execution_count": 148,
   "metadata": {
    "scrolled": false
   },
   "outputs": [
    {
     "name": "stdout",
     "output_type": "stream",
     "text": [
      "Дисперсия длительности звонков тарифа \"Смарт\": 36281\n",
      "Дисперсия потраченных гигабайт тарифа \"Смарт\": 224\n",
      "Дисперсия потраченных сообщений тарифа \"Смарт\": 797\n",
      "Дисперсия помесячной выручки тарифа \"Смарт\": 8384399\n",
      "Стандартное отклонение длительности звонков тарифа \"Смарт\": 190\n",
      "Стандартное отклонение потраченных гигабайт тарифа \"Смарт\": 15\n",
      "Стандартное отклонение потраченных сообщений тарифа \"Смарт\": 28\n",
      "Стандартное отклонение помесячной выручки тарифа \"Смарт\": 2896\n"
     ]
    }
   ],
   "source": [
    "# дисперсия\n",
    "var_smart_dur = np.var(df_smart['duration_tariff'], ddof=1)\n",
    "var_smart_traf = np.var(df_smart['gb_tariff'], ddof=1)\n",
    "var_smart_sms = np.var(df_smart['mess_count'], ddof=1)\n",
    "var_smart_profit = np.var(df_smart['profit'], ddof=1)\n",
    "# стандартное отклонение\n",
    "std_smart_dur = np.sqrt(var_smart_dur)\n",
    "std_smart_traf = np.sqrt(var_smart_traf)\n",
    "std_smart_sms = np.sqrt(var_smart_sms)\n",
    "std_smart_profit = np.sqrt(var_smart_profit)\n",
    "print('Дисперсия длительности звонков тарифа \"Смарт\": {:.0f}'.format(var_smart_dur))\n",
    "print('Дисперсия потраченных гигабайт тарифа \"Смарт\": {:.0f}'.format(var_smart_traf))\n",
    "print('Дисперсия потраченных сообщений тарифа \"Смарт\": {:.0f}'.format(var_smart_sms))\n",
    "print('Дисперсия помесячной выручки тарифа \"Смарт\": {:.0f}'.format(var_smart_profit))\n",
    "print('Стандартное отклонение длительности звонков тарифа \"Смарт\": {:.0f}'.format(std_smart_dur))\n",
    "print('Стандартное отклонение потраченных гигабайт тарифа \"Смарт\": {:.0f}'.format(std_smart_traf))\n",
    "print('Стандартное отклонение потраченных сообщений тарифа \"Смарт\": {:.0f}'.format(std_smart_sms))\n",
    "print('Стандартное отклонение помесячной выручки тарифа \"Смарт\": {:.0f}'.format(std_smart_profit))"
   ]
  },
  {
   "cell_type": "markdown",
   "metadata": {},
   "source": [
    "<div class=\"alert alert-success\">\n",
    "<b>Комментарий ревьюера:</b>\n",
    "\n",
    "Кстати весь этот расчет можно было сделать с помощью сводной таблицы.\n",
    "    \n",
    "Где в атрибуте `aggfunc` мы укажем нужные нам метрики – `aggfunc = [np.var, np.std,]` и т.д.\n",
    "    \n",
    "</div>"
   ]
  },
  {
   "cell_type": "markdown",
   "metadata": {},
   "source": [
    "<div class=\"alert alert-info\">\n",
    "     О, класс! Я и не знал, что в aggfunc есть такие метрики. Я пока знаю только, mean, median, sum и count))\n",
    "        </div>"
   ]
  },
  {
   "cell_type": "markdown",
   "metadata": {},
   "source": [
    "<div class=\"alert alert-success\">\n",
    "<b>Комментарий ревьюера (2):</b>\n",
    "\n",
    "На самом деле, рекомендую изучать всегда официальную документацию, за чистую в большинстве случаев там есть все описание 😊\n",
    "    \n",
    "Как раз в документации говориться о том, какой тип данных принимает атрибут `aggfunc` \n",
    "    \n",
    "https://pandas.pydata.org/docs/reference/api/pandas.pivot_table.html\n",
    "    \n",
    "</div>"
   ]
  },
  {
   "cell_type": "markdown",
   "metadata": {},
   "source": [
    "+ Тариф \"Ультра\""
   ]
  },
  {
   "cell_type": "code",
   "execution_count": 149,
   "metadata": {},
   "outputs": [
    {
     "name": "stdout",
     "output_type": "stream",
     "text": [
      "Дисперсия длительности звонков тарифа \"Ультра\": 101052\n",
      "Дисперсия потраченных гигабайт тарифа \"Ультра\": 384\n",
      "Дисперсия потраченных сообщений тарифа \"Ультра\": 2285\n",
      "Дисперсия помесячной выручки тарифа \"Ультра\": 4691035\n",
      "Стандартное отклонение длительности звонков тарифа \"Ультра\": 318\n",
      "Стандартное отклонение потраченных гигабайт тарифа \"Ультра\": 20\n",
      "Стандартное отклонение потраченных сообщений тарифа \"Ультра\": 48\n",
      "Стандартное отклонение помесячной выручки тарифа \"Ультра\": 2166\n"
     ]
    }
   ],
   "source": [
    "# дисперсия\n",
    "var_ultra_dur = np.var(df_ultra['duration_tariff'], ddof=1)\n",
    "var_ultra_traf = np.var(df_ultra['gb_tariff'], ddof=1)\n",
    "var_ultra_sms = np.var(df_ultra['mess_count'], ddof=1)\n",
    "var_ultra_profit = np.var(df_ultra['profit'], ddof=1)\n",
    "# стандартное отклонение\n",
    "std_ultra_dur = np.sqrt(var_ultra_dur)\n",
    "std_ultra_traf = np.sqrt(var_ultra_traf)\n",
    "std_ultra_sms = np.sqrt(var_ultra_sms)\n",
    "std_ultra_prifit = np.sqrt(var_ultra_profit)\n",
    "print('Дисперсия длительности звонков тарифа \"Ультра\": {:.0f}'.format(var_ultra_dur))\n",
    "print('Дисперсия потраченных гигабайт тарифа \"Ультра\": {:.0f}'.format(var_ultra_traf))\n",
    "print('Дисперсия потраченных сообщений тарифа \"Ультра\": {:.0f}'.format(var_ultra_sms))\n",
    "print('Дисперсия помесячной выручки тарифа \"Ультра\": {:.0f}'.format(var_ultra_profit))\n",
    "print('Стандартное отклонение длительности звонков тарифа \"Ультра\": {:.0f}'.format(std_ultra_dur))\n",
    "print('Стандартное отклонение потраченных гигабайт тарифа \"Ультра\": {:.0f}'.format(std_ultra_traf))\n",
    "print('Стандартное отклонение потраченных сообщений тарифа \"Ультра\": {:.0f}'.format(std_ultra_sms))\n",
    "print('Стандартное отклонение помесячной выручки тарифа \"Ультра\": {:.0f}'.format(std_ultra_prifit))"
   ]
  },
  {
   "cell_type": "markdown",
   "metadata": {},
   "source": [
    "#### Проверка гипотезы \"Средняя выручка пользователей из Москвы отличается от средней выручки пользователей из других городов\": "
   ]
  },
  {
   "cell_type": "markdown",
   "metadata": {},
   "source": [
    "Для проверки этой гипотезы нам нужно создать столбец *region*, где будет две категории: \"Москва\" и \"Провинция\":<a id='gip2-2'></a>"
   ]
  },
  {
   "cell_type": "code",
   "execution_count": 150,
   "metadata": {},
   "outputs": [
    {
     "data": {
      "text/html": [
       "<div>\n",
       "<style scoped>\n",
       "    .dataframe tbody tr th:only-of-type {\n",
       "        vertical-align: middle;\n",
       "    }\n",
       "\n",
       "    .dataframe tbody tr th {\n",
       "        vertical-align: top;\n",
       "    }\n",
       "\n",
       "    .dataframe thead th {\n",
       "        text-align: right;\n",
       "    }\n",
       "</style>\n",
       "<table border=\"1\" class=\"dataframe\">\n",
       "  <thead>\n",
       "    <tr style=\"text-align: right;\">\n",
       "      <th></th>\n",
       "      <th>user_id</th>\n",
       "      <th>age</th>\n",
       "      <th>churn_date</th>\n",
       "      <th>city</th>\n",
       "      <th>reg_date</th>\n",
       "      <th>tariff_name</th>\n",
       "      <th>duration_tariff</th>\n",
       "      <th>gb_tariff</th>\n",
       "      <th>mess_count</th>\n",
       "      <th>messages_included</th>\n",
       "      <th>...</th>\n",
       "      <th>minutes_included</th>\n",
       "      <th>rub_monthly_fee</th>\n",
       "      <th>rub_per_gb</th>\n",
       "      <th>rub_per_message</th>\n",
       "      <th>rub_per_minute</th>\n",
       "      <th>minutes_profit</th>\n",
       "      <th>traffics_profit</th>\n",
       "      <th>messages_profit</th>\n",
       "      <th>profit</th>\n",
       "      <th>region</th>\n",
       "    </tr>\n",
       "  </thead>\n",
       "  <tbody>\n",
       "    <tr>\n",
       "      <td>0</td>\n",
       "      <td>1000</td>\n",
       "      <td>52</td>\n",
       "      <td>2018-12-01</td>\n",
       "      <td>Краснодар</td>\n",
       "      <td>2018-05-01</td>\n",
       "      <td>ultra</td>\n",
       "      <td>159.000</td>\n",
       "      <td>4.000</td>\n",
       "      <td>22.000</td>\n",
       "      <td>1000</td>\n",
       "      <td>...</td>\n",
       "      <td>3000</td>\n",
       "      <td>1950</td>\n",
       "      <td>150</td>\n",
       "      <td>1</td>\n",
       "      <td>1</td>\n",
       "      <td>0.000</td>\n",
       "      <td>0.000</td>\n",
       "      <td>0.000</td>\n",
       "      <td>1950.000</td>\n",
       "      <td>Провинция</td>\n",
       "    </tr>\n",
       "    <tr>\n",
       "      <td>1</td>\n",
       "      <td>1000</td>\n",
       "      <td>52</td>\n",
       "      <td>2018-12-01</td>\n",
       "      <td>Краснодар</td>\n",
       "      <td>2018-05-01</td>\n",
       "      <td>ultra</td>\n",
       "      <td>172.000</td>\n",
       "      <td>49.000</td>\n",
       "      <td>60.000</td>\n",
       "      <td>1000</td>\n",
       "      <td>...</td>\n",
       "      <td>3000</td>\n",
       "      <td>1950</td>\n",
       "      <td>150</td>\n",
       "      <td>1</td>\n",
       "      <td>1</td>\n",
       "      <td>0.000</td>\n",
       "      <td>2850.000</td>\n",
       "      <td>0.000</td>\n",
       "      <td>4800.000</td>\n",
       "      <td>Провинция</td>\n",
       "    </tr>\n",
       "  </tbody>\n",
       "</table>\n",
       "<p>2 rows × 21 columns</p>\n",
       "</div>"
      ],
      "text/plain": [
       "   user_id  age churn_date       city   reg_date tariff_name  duration_tariff  \\\n",
       "0     1000   52 2018-12-01  Краснодар 2018-05-01       ultra          159.000   \n",
       "1     1000   52 2018-12-01  Краснодар 2018-05-01       ultra          172.000   \n",
       "\n",
       "   gb_tariff  mess_count  messages_included  ...  minutes_included  \\\n",
       "0      4.000      22.000               1000  ...              3000   \n",
       "1     49.000      60.000               1000  ...              3000   \n",
       "\n",
       "   rub_monthly_fee  rub_per_gb  rub_per_message  rub_per_minute  \\\n",
       "0             1950         150                1               1   \n",
       "1             1950         150                1               1   \n",
       "\n",
       "   minutes_profit  traffics_profit  messages_profit   profit     region  \n",
       "0           0.000            0.000            0.000 1950.000  Провинция  \n",
       "1           0.000         2850.000            0.000 4800.000  Провинция  \n",
       "\n",
       "[2 rows x 21 columns]"
      ]
     },
     "execution_count": 150,
     "metadata": {},
     "output_type": "execute_result"
    }
   ],
   "source": [
    "region = []\n",
    "city_list = list(df['city'])\n",
    "for index in range(len(city_list)):\n",
    "    if city_list[index] == 'Москва':\n",
    "        region.append('Москва')\n",
    "    else:\n",
    "        region.append('Провинция')\n",
    "df['region'] = region\n",
    "df.head(2)"
   ]
  },
  {
   "cell_type": "markdown",
   "metadata": {},
   "source": [
    "**Вывод**: столбец *region* успешно добавлен, теперь можно определять среднюю выручку по регионам."
   ]
  },
  {
   "cell_type": "code",
   "execution_count": 151,
   "metadata": {},
   "outputs": [
    {
     "data": {
      "text/html": [
       "<div>\n",
       "<style scoped>\n",
       "    .dataframe tbody tr th:only-of-type {\n",
       "        vertical-align: middle;\n",
       "    }\n",
       "\n",
       "    .dataframe tbody tr th {\n",
       "        vertical-align: top;\n",
       "    }\n",
       "\n",
       "    .dataframe thead tr th {\n",
       "        text-align: left;\n",
       "    }\n",
       "\n",
       "    .dataframe thead tr:last-of-type th {\n",
       "        text-align: right;\n",
       "    }\n",
       "</style>\n",
       "<table border=\"1\" class=\"dataframe\">\n",
       "  <thead>\n",
       "    <tr>\n",
       "      <th></th>\n",
       "      <th>mean</th>\n",
       "      <th>count</th>\n",
       "    </tr>\n",
       "    <tr>\n",
       "      <th></th>\n",
       "      <th>profit</th>\n",
       "      <th>profit</th>\n",
       "    </tr>\n",
       "    <tr>\n",
       "      <th>region</th>\n",
       "      <th></th>\n",
       "      <th></th>\n",
       "    </tr>\n",
       "  </thead>\n",
       "  <tbody>\n",
       "    <tr>\n",
       "      <td>Москва</td>\n",
       "      <td>5397.041</td>\n",
       "      <td>611</td>\n",
       "    </tr>\n",
       "    <tr>\n",
       "      <td>Провинция</td>\n",
       "      <td>5534.130</td>\n",
       "      <td>2605</td>\n",
       "    </tr>\n",
       "  </tbody>\n",
       "</table>\n",
       "</div>"
      ],
      "text/plain": [
       "              mean  count\n",
       "            profit profit\n",
       "region                   \n",
       "Москва    5397.041    611\n",
       "Провинция 5534.130   2605"
      ]
     },
     "execution_count": 151,
     "metadata": {},
     "output_type": "execute_result"
    }
   ],
   "source": [
    "df_gip_2 = df.pivot_table(index='region', values='profit', aggfunc=['mean','count'])\n",
    "df_gip_2"
   ]
  },
  {
   "cell_type": "markdown",
   "metadata": {},
   "source": [
    "**Вывод по гипотезе 2:** средняя выручка пользователей из Москвы и из других регионов примерно одинаковая, разница 6%. Это незначительно. Гиптеза не верна."
   ]
  },
  {
   "cell_type": "markdown",
   "metadata": {},
   "source": [
    "## Статистический анализ."
   ]
  },
  {
   "cell_type": "markdown",
   "metadata": {},
   "source": [
    "### Проверка статистической значимости Гипотезы 1:     "
   ]
  },
  {
   "cell_type": "markdown",
   "metadata": {},
   "source": [
    "**Гипотеза 1**: средняя выручка пользователей тарифов «Ультра» и «Смарт» различаются. Для проверки этой гипотезы выдвинем нулевую гипотезу **Hо** - средняя выручка пользователей тарифом \"Смарт\" равна средней выручке пользователей тарифом \"Ультра\". Если **Ho** будет отвергнута, то будет принята альтернативная гипотеза **H1** - средние выручки пользователей тарифов \"Смарт\" и \"Ультра\" не равны. **Гипотеза 1** проверяемая в данной работе будет верна, если будет принята **Н1**, т.е.     **Гипотеза 1** == **Н1**  <a id='gipa'></a>"
   ]
  },
  {
   "cell_type": "markdown",
   "metadata": {},
   "source": [
    "Представим, что у нас имеются две генеральные совокупности: Генеральная совокупность пользователей тарифом \"Смарт\" и Генеральная совокупность пользователей тарифом \"Ультра\" из которых мы взяли выборки."
   ]
  },
  {
   "cell_type": "markdown",
   "metadata": {},
   "source": [
    "Мы будем сравнивать средние значения двух выборок:\n",
    "+ Пользователи тарифом \"Смарт\" и соответественно их средняя выручка\n",
    "+ Пользователи тарифом \"Ультра\" и соответественно их средняя выручка"
   ]
  },
  {
   "cell_type": "markdown",
   "metadata": {},
   "source": [
    "<div class=\"alert alert-success\">\n",
    "<b>Комментарий ревьюера:</b>\n",
    "\n",
    "Гипотезы сформулированы верно.\n",
    "    \n",
    "    \n",
    "**Best practies:**\n",
    "    \n",
    "Перед проверкой гипотезы рекомендую проверить дисперсии выборок, чтобы корректно определить атрибут `equal_val` в Т–тесте.\n",
    "    \n",
    "В том числе стоит визуализировать распределение каждой выборки, чтобы определить нормальное ли у них распределение или нет.\n",
    "    \n",
    "Так мы покажем логичность и последовательность наших действий.\n",
    "    \n",
    "</div>"
   ]
  },
  {
   "cell_type": "markdown",
   "metadata": {},
   "source": [
    "Получим эти выборки:"
   ]
  },
  {
   "cell_type": "code",
   "execution_count": 152,
   "metadata": {
    "scrolled": true
   },
   "outputs": [
    {
     "name": "stdout",
     "output_type": "stream",
     "text": [
      "Количество значений в выборке тариф \"Смарт\": 2230\n",
      "Количество значений в выборке тариф \"Ультра\": 986\n"
     ]
    }
   ],
   "source": [
    "df_smart = df.query('tariff_name == \"smart\"')\n",
    "df_ultra = df.query('tariff_name == \"ultra\"')\n",
    "print('Количество значений в выборке тариф \"Смарт\": {}'.format(len(df_smart)))\n",
    "print('Количество значений в выборке тариф \"Ультра\": {}'.format(len(df_ultra)))"
   ]
  },
  {
   "cell_type": "markdown",
   "metadata": {},
   "source": [
    "**Вывод**: выборки получены. Количество значений в них превышает 30, значит согласно ЦПТ выборочные средние будут распределяться номально."
   ]
  },
  {
   "cell_type": "markdown",
   "metadata": {},
   "source": [
    "Чтобы использовать t-test для сравнения средних значений этих выборок нужно соблюсти три условия:\n",
    "+ 1. Генеральные совокупности не должны зависеть друг от друга. Такой зависимости нет, так как пользователи тарифов - это разные люди.\n",
    "+ 2. Выборочные средние должны быть нормально распределены. ЦПТ нам говорит, что если количество значений в выборке больше 30, то можно утверждать, что выборочное среднее распределенор нормально. У нас количество значений больше 1000, так что условие соблюдается.\n",
    "+ 3. Дисперсии Генеральных совокупностей равны. Мы не можем утверждать, что дисперсии рассматриваемых Генеральных совокупностей равны, но при проведени t-tast'а у нас есть параметр *equal_var*, которому можно дать значение *equal_var == False*, который учтет разность дисперсий."
   ]
  },
  {
   "cell_type": "code",
   "execution_count": 153,
   "metadata": {},
   "outputs": [],
   "source": [
    "pd.set_option('display.float_format', lambda x: '%.3f' % x) # отключим формат вывода больших чисел"
   ]
  },
  {
   "cell_type": "code",
   "execution_count": 154,
   "metadata": {},
   "outputs": [
    {
     "name": "stdout",
     "output_type": "stream",
     "text": [
      "p-значение:  3.335098369704004e-132\n",
      "Отвергаем нулевую гипотезу\n"
     ]
    }
   ],
   "source": [
    "profit_smart = list(df_smart['profit'])\n",
    "profit_ultra = list(df_ultra['profit'])\n",
    "alpha = 0.05\n",
    "results = st.ttest_ind(profit_smart, profit_ultra, equal_var = False)\n",
    "print('p-значение: ', results.pvalue)\n",
    "if results.pvalue < alpha:\n",
    "    print(\"Отвергаем нулевую гипотезу\")\n",
    "else: \n",
    "    print(\"Не получилось отвергнуть нулевую гипотезу\")\n"
   ]
  },
  {
   "cell_type": "markdown",
   "metadata": {},
   "source": [
    "**Вывод**: по результатам t-теста мы отвергаем нулевую гипотезу **Но**, которая говорит нам , что средние выручки тарифов \"Смарт\" и \"Ультра\" равны. Значит, если **Но** отвергаем, то принимаем альтернативную гипотезу **H1 - средние выручки тарифов \"Смарт\" и \"Ультра\" не равны**."
   ]
  },
  {
   "cell_type": "markdown",
   "metadata": {},
   "source": [
    "### Проверка статистической значимости Гипотезы 2: <a id='gip2'></a>"
   ]
  },
  {
   "cell_type": "markdown",
   "metadata": {},
   "source": [
    "**Гипотеза 1**: средняя выручка пользователи из Москвы отличается от выручки пользователей из других регионов. Для проверки этой гипотезы выдвинем нулевую гипотезу **Hо** - средняя выручка пользователей из Москвы равна средней выручке пользователей из других регионов. Если **Ho** будет отвергнута, то будет принята альтернативная гипотеза **H1** - средняя выручка пользователей из Москвы не равна средней выручке пользователей из других регионов. **Гипотеза 2** проверяемая в данной работе будет верна, если **Но** не будет отвергнута."
   ]
  },
  {
   "cell_type": "markdown",
   "metadata": {},
   "source": [
    "<div class=\"alert alert-success\">\n",
    "<b>Комментарий ревьюера:</b>\n",
    "\n",
    "Гипотезы сформулированы верно.\n",
    "    \n",
    "    \n",
    "</div>"
   ]
  },
  {
   "cell_type": "markdown",
   "metadata": {},
   "source": [
    "Представим, что у нас имеются две генеральные совокупности: Генеральная совокупность пользователей города Москва и Генеральная совокупность пользователей из других регионов из которых мы взяли выборки."
   ]
  },
  {
   "cell_type": "markdown",
   "metadata": {},
   "source": [
    "Мы будем сравнивать средние значения двух выборок:\n",
    "\n",
    "+ Пользователи города Москва и соответественно их средняя выручка\n",
    "+ Пользователи других регионов и соответественно их средняя выручка"
   ]
  },
  {
   "cell_type": "markdown",
   "metadata": {},
   "source": [
    "Получим эти выборки:"
   ]
  },
  {
   "cell_type": "code",
   "execution_count": 155,
   "metadata": {},
   "outputs": [
    {
     "name": "stdout",
     "output_type": "stream",
     "text": [
      "Количество значений в выборке \"Москва\": 611\n",
      "Количество значений в выборке \"Провинция\": 2605\n"
     ]
    }
   ],
   "source": [
    "df_moscow = df.query('region == \"Москва\"')\n",
    "df_provinc = df.query('region == \"Провинция\"')\n",
    "print('Количество значений в выборке \"Москва\": {}'.format(len(df_moscow)))\n",
    "print('Количество значений в выборке \"Провинция\": {}'.format(len(df_provinc)))"
   ]
  },
  {
   "cell_type": "markdown",
   "metadata": {},
   "source": [
    "**Вывод:** выборки получены. Количество значений в них превышает 30, значит согласно ЦПТ выборочные средние будут распределяться номально."
   ]
  },
  {
   "cell_type": "markdown",
   "metadata": {},
   "source": [
    "Для проверки гипотезы будем применять t-test. Условия применения t-test'а приведены в п 7.1. В данном пункте условия применимости аналогичны."
   ]
  },
  {
   "cell_type": "code",
   "execution_count": 156,
   "metadata": {},
   "outputs": [
    {
     "name": "stdout",
     "output_type": "stream",
     "text": [
      "p-значение:  0.2656875417083935\n",
      "Не получилось отвергнуть нулевую гипотезу\n"
     ]
    }
   ],
   "source": [
    "profit_moscow = list(df_moscow['profit'])\n",
    "profit_provinc = list(df_provinc['profit'])\n",
    "alpha = 0.05\n",
    "results = st.ttest_ind(profit_moscow, profit_provinc, equal_var = False)\n",
    "print('p-значение: ', results.pvalue)\n",
    "if results.pvalue < alpha:\n",
    "    print(\"Отвергаем нулевую гипотезу\")\n",
    "else: \n",
    "    print(\"Не получилось отвергнуть нулевую гипотезу\")\n"
   ]
  },
  {
   "cell_type": "markdown",
   "metadata": {},
   "source": [
    "**Вывод**: как видим **Но** отвергнуть не получилось. Значит **Гипотеза 2 верна** - средняя выручка пользователей из Москвы равна средней выручке пользователей из других регионов."
   ]
  },
  {
   "cell_type": "markdown",
   "metadata": {},
   "source": [
    "<div class=\"alert alert-success\">\n",
    "<b>Комментарий ревьюера:</b>\n",
    "\n",
    "Обрати внимание, что наши действия также повторяются с точки зрения расчетов статистических тестов, это говорит о том, что мы можем также создать здесь функцию 😊\n",
    "    \n",
    "</div>"
   ]
  },
  {
   "cell_type": "markdown",
   "metadata": {},
   "source": [
    "## Общий вывод: "
   ]
  },
  {
   "cell_type": "markdown",
   "metadata": {},
   "source": [
    "+ 1. Мы достигли главной цели проекта - определение самого перспективного тарифа. Это тариф \"Смарт\", так как средняя выручка от одного абонента тарифа \"Смарт\" гораздо выше чем средняя выручка от абонента тарифа \"Ультра\". [Подробнее](#profit)\n",
    "+ 2. В данной работе мы проверили две гипотезы. **Гипотеза 1**: средняя выручка пользователей тарифов «Ультра» и «Смарт» различаются и **Гиптеза 2**: средняя выручка пользователи из Москвы отличается от выручки пользователей из других регионов. Результат таков:\n",
    "    + Гипотеза 1 - не верна   [Подробнее](#gipa)\n",
    "    + Гиптоеза 2 - верна.   [Подробнее](#gipb)\n",
    "+ Количественные показатели по гипотезам: [Гипотеза 1](#gipa-a), [Гипотеза 2](#gipb-b)"
   ]
  },
  {
   "cell_type": "markdown",
   "metadata": {},
   "source": [
    "<div class=\"alert alert-success\">\n",
    "<b>Комментарий ревьюера:</b>\n",
    "\n",
    "Выводы понятны и логичны, а самое главное подкреплены выявленными фактами.\n",
    "       \n",
    "В целом сам проект выполнен на хорошем уровне! На протяжении всей работы чувствуется глубина проработки задачи и это безусловный плюс для нас. Было использовано большое количество методов, которые будут помогать тебе в дальнейших проектах.\n",
    "       \n",
    "Рекомендую посмотреть в открытом доступе на ютубе например – курс по Алгоритмам и структурам данных, эта информация поможет нам в дальнейшем при работе с данными.\n",
    "    \n",
    "\n",
    "    \n",
    "**[общий комментарий]** Ячейки **markdown** в том числе мы можем использовать как дополнительный способ стилизации нашего проекта. Оставил ниже ссылку, с примерами стилизации.\n",
    "\n",
    "https://sqlbak.com/blog/jupyter-notebook-markdown-cheatsheet\n",
    " \n",
    "    \n",
    "</div>"
   ]
  },
  {
   "cell_type": "markdown",
   "metadata": {},
   "source": [
    "<div class=\"alert alert-success\">\n",
    "<b>Комментарий ревьюера:</b>\n",
    "    \n",
    "\n",
    "Возвращаю проект обратно, чтобы убедиться что все мои комментарии понятны.\n",
    "    \n",
    "Если вдруг у тебя возникнут какие-то вопросы, то я с радостью отвечу на них 😊\n",
    "    \n",
    "</div>"
   ]
  },
  {
   "cell_type": "markdown",
   "metadata": {},
   "source": [
    "  <div class=\"alert alert-info\">\n",
    "       Евгений, благодарю тебя за подробное и качественное ревью. Благодяря ему я пополнил свой багаж)\n",
    "        </div>"
   ]
  },
  {
   "cell_type": "markdown",
   "metadata": {},
   "source": [
    "<div class=\"alert alert-success\">\n",
    "<b>Комментарий ревьюера (2):</b>\n",
    "\n",
    "Рад, что в целом все понятно, тогда предлагаю двигаться дальше 😊    \n",
    "    \n",
    "Поздравляю с успешным завершением проекта 😊👍\n",
    "    \n",
    "И желаю успехов в новых работах 😊\n",
    "    \n",
    "</div>"
   ]
  },
  {
   "cell_type": "code",
   "execution_count": null,
   "metadata": {},
   "outputs": [],
   "source": []
  }
 ],
 "metadata": {
  "ExecuteTimeLog": [
   {
    "duration": 620,
    "start_time": "2021-08-15T22:38:47.995Z"
   },
   {
    "duration": 158,
    "start_time": "2021-08-15T22:40:42.527Z"
   },
   {
    "duration": 135,
    "start_time": "2021-08-15T22:41:54.153Z"
   },
   {
    "duration": 91,
    "start_time": "2021-08-15T22:43:13.708Z"
   },
   {
    "duration": 169,
    "start_time": "2021-08-15T22:43:30.713Z"
   },
   {
    "duration": 139,
    "start_time": "2021-08-15T22:43:41.232Z"
   },
   {
    "duration": 102,
    "start_time": "2021-08-15T22:44:15.077Z"
   },
   {
    "duration": 236,
    "start_time": "2021-08-15T22:45:50.314Z"
   },
   {
    "duration": 23,
    "start_time": "2021-08-15T22:46:30.244Z"
   },
   {
    "duration": 22,
    "start_time": "2021-08-15T22:46:48.194Z"
   },
   {
    "duration": 47,
    "start_time": "2021-08-15T22:48:09.328Z"
   },
   {
    "duration": 34,
    "start_time": "2021-08-15T22:52:57.314Z"
   },
   {
    "duration": 36,
    "start_time": "2021-08-15T22:53:15.804Z"
   },
   {
    "duration": 36,
    "start_time": "2021-08-15T22:54:26.720Z"
   },
   {
    "duration": 34,
    "start_time": "2021-08-15T22:54:42.474Z"
   },
   {
    "duration": 50,
    "start_time": "2021-08-15T22:56:16.386Z"
   },
   {
    "duration": 876,
    "start_time": "2021-08-16T22:52:41.871Z"
   },
   {
    "duration": 233,
    "start_time": "2021-08-16T22:52:42.751Z"
   },
   {
    "duration": 167,
    "start_time": "2021-08-16T22:52:42.987Z"
   },
   {
    "duration": 114,
    "start_time": "2021-08-16T22:52:43.156Z"
   },
   {
    "duration": 23,
    "start_time": "2021-08-16T22:52:43.272Z"
   },
   {
    "duration": 37,
    "start_time": "2021-08-16T22:52:43.297Z"
   },
   {
    "duration": 74,
    "start_time": "2021-08-16T22:52:43.336Z"
   },
   {
    "duration": 343,
    "start_time": "2021-08-16T23:07:21.608Z"
   },
   {
    "duration": 6,
    "start_time": "2021-08-16T23:07:33.008Z"
   },
   {
    "duration": 6,
    "start_time": "2021-08-16T23:07:38.008Z"
   },
   {
    "duration": 3,
    "start_time": "2021-08-16T23:08:00.649Z"
   },
   {
    "duration": 221,
    "start_time": "2021-08-16T23:08:00.655Z"
   },
   {
    "duration": 184,
    "start_time": "2021-08-16T23:08:00.883Z"
   },
   {
    "duration": 120,
    "start_time": "2021-08-16T23:08:01.070Z"
   },
   {
    "duration": 24,
    "start_time": "2021-08-16T23:08:01.192Z"
   },
   {
    "duration": 42,
    "start_time": "2021-08-16T23:08:01.218Z"
   },
   {
    "duration": 76,
    "start_time": "2021-08-16T23:08:01.263Z"
   },
   {
    "duration": 83,
    "start_time": "2021-08-16T23:08:01.342Z"
   },
   {
    "duration": 3,
    "start_time": "2021-08-16T23:08:15.149Z"
   },
   {
    "duration": 199,
    "start_time": "2021-08-16T23:08:15.155Z"
   },
   {
    "duration": 168,
    "start_time": "2021-08-16T23:08:15.357Z"
   },
   {
    "duration": 120,
    "start_time": "2021-08-16T23:08:15.528Z"
   },
   {
    "duration": 24,
    "start_time": "2021-08-16T23:08:15.650Z"
   },
   {
    "duration": 34,
    "start_time": "2021-08-16T23:08:15.683Z"
   },
   {
    "duration": 74,
    "start_time": "2021-08-16T23:08:15.719Z"
   },
   {
    "duration": 5,
    "start_time": "2021-08-16T23:08:15.795Z"
   },
   {
    "duration": 10,
    "start_time": "2021-08-16T23:11:15.438Z"
   },
   {
    "duration": 14,
    "start_time": "2021-08-16T23:24:18.107Z"
   },
   {
    "duration": 31,
    "start_time": "2021-08-16T23:32:10.378Z"
   },
   {
    "duration": 268,
    "start_time": "2021-08-16T23:33:44.837Z"
   },
   {
    "duration": 6,
    "start_time": "2021-08-16T23:34:20.776Z"
   },
   {
    "duration": 5,
    "start_time": "2021-08-16T23:34:34.967Z"
   },
   {
    "duration": 16,
    "start_time": "2021-08-16T23:45:42.498Z"
   },
   {
    "duration": 250,
    "start_time": "2021-08-16T23:55:27.627Z"
   },
   {
    "duration": 6057,
    "start_time": "2021-08-16T23:55:47.484Z"
   },
   {
    "duration": 4,
    "start_time": "2021-08-16T23:57:24.896Z"
   },
   {
    "duration": 212,
    "start_time": "2021-08-16T23:57:24.902Z"
   },
   {
    "duration": 158,
    "start_time": "2021-08-16T23:57:25.116Z"
   },
   {
    "duration": 117,
    "start_time": "2021-08-16T23:57:25.276Z"
   },
   {
    "duration": 22,
    "start_time": "2021-08-16T23:57:25.395Z"
   },
   {
    "duration": 53,
    "start_time": "2021-08-16T23:57:25.419Z"
   },
   {
    "duration": 65,
    "start_time": "2021-08-16T23:57:25.474Z"
   },
   {
    "duration": 9,
    "start_time": "2021-08-16T23:57:25.541Z"
   },
   {
    "duration": 30,
    "start_time": "2021-08-16T23:57:25.554Z"
   },
   {
    "duration": 27,
    "start_time": "2021-08-16T23:57:25.587Z"
   },
   {
    "duration": 19,
    "start_time": "2021-08-16T23:57:25.617Z"
   },
   {
    "duration": 17,
    "start_time": "2021-08-16T23:57:25.638Z"
   },
   {
    "duration": 7,
    "start_time": "2021-08-16T23:57:59.798Z"
   },
   {
    "duration": 6,
    "start_time": "2021-08-16T23:58:12.077Z"
   },
   {
    "duration": 7,
    "start_time": "2021-08-16T23:58:47.668Z"
   },
   {
    "duration": 7,
    "start_time": "2021-08-16T23:58:57.428Z"
   },
   {
    "duration": 7,
    "start_time": "2021-08-16T23:59:07.668Z"
   },
   {
    "duration": 127,
    "start_time": "2021-08-16T23:59:30.178Z"
   },
   {
    "duration": 118,
    "start_time": "2021-08-16T23:59:44.438Z"
   },
   {
    "duration": 109,
    "start_time": "2021-08-17T00:00:16.047Z"
   },
   {
    "duration": 109,
    "start_time": "2021-08-17T00:05:26.398Z"
   },
   {
    "duration": 22,
    "start_time": "2021-08-17T00:07:44.238Z"
   },
   {
    "duration": 39,
    "start_time": "2021-08-17T00:19:48.318Z"
   },
   {
    "duration": 242,
    "start_time": "2021-08-17T00:20:09.868Z"
   },
   {
    "duration": 13,
    "start_time": "2021-08-17T00:20:18.398Z"
   },
   {
    "duration": 228,
    "start_time": "2021-08-17T00:20:42.229Z"
   },
   {
    "duration": 27,
    "start_time": "2021-08-17T00:20:54.698Z"
   },
   {
    "duration": 261,
    "start_time": "2021-08-17T00:21:23.078Z"
   },
   {
    "duration": 14,
    "start_time": "2021-08-17T00:21:34.846Z"
   },
   {
    "duration": 14,
    "start_time": "2021-08-17T00:23:16.088Z"
   },
   {
    "duration": 12,
    "start_time": "2021-08-17T00:23:34.518Z"
   },
   {
    "duration": 25,
    "start_time": "2021-08-17T00:24:18.148Z"
   },
   {
    "duration": 25,
    "start_time": "2021-08-17T00:26:37.498Z"
   },
   {
    "duration": 24,
    "start_time": "2021-08-17T00:27:08.318Z"
   },
   {
    "duration": 10,
    "start_time": "2021-08-17T00:37:53.148Z"
   },
   {
    "duration": 11,
    "start_time": "2021-08-17T00:48:40.258Z"
   },
   {
    "duration": 93,
    "start_time": "2021-08-17T00:50:02.929Z"
   },
   {
    "duration": 5842,
    "start_time": "2021-08-17T00:50:40.668Z"
   },
   {
    "duration": 17,
    "start_time": "2021-08-17T00:50:57.228Z"
   },
   {
    "duration": 885,
    "start_time": "2021-08-17T22:11:19.769Z"
   },
   {
    "duration": 227,
    "start_time": "2021-08-17T22:11:20.657Z"
   },
   {
    "duration": 189,
    "start_time": "2021-08-17T22:11:20.886Z"
   },
   {
    "duration": 122,
    "start_time": "2021-08-17T22:11:21.078Z"
   },
   {
    "duration": 27,
    "start_time": "2021-08-17T22:11:21.203Z"
   },
   {
    "duration": 46,
    "start_time": "2021-08-17T22:11:21.233Z"
   },
   {
    "duration": 80,
    "start_time": "2021-08-17T22:11:21.281Z"
   },
   {
    "duration": 151,
    "start_time": "2021-08-17T22:11:21.363Z"
   },
   {
    "duration": 38,
    "start_time": "2021-08-17T22:11:21.518Z"
   },
   {
    "duration": 60,
    "start_time": "2021-08-17T22:11:21.559Z"
   },
   {
    "duration": 33,
    "start_time": "2021-08-17T22:11:21.621Z"
   },
   {
    "duration": 12,
    "start_time": "2021-08-17T22:11:21.657Z"
   },
   {
    "duration": 130,
    "start_time": "2021-08-17T22:11:21.671Z"
   },
   {
    "duration": 21,
    "start_time": "2021-08-17T22:11:21.804Z"
   },
   {
    "duration": 44,
    "start_time": "2021-08-17T22:11:21.828Z"
   },
   {
    "duration": 10,
    "start_time": "2021-08-17T22:11:21.875Z"
   },
   {
    "duration": 14,
    "start_time": "2021-08-17T22:11:21.888Z"
   },
   {
    "duration": 28,
    "start_time": "2021-08-17T22:11:21.904Z"
   },
   {
    "duration": 2,
    "start_time": "2021-08-17T22:11:21.955Z"
   },
   {
    "duration": 8,
    "start_time": "2021-08-17T22:11:21.960Z"
   },
   {
    "duration": 13,
    "start_time": "2021-08-17T22:13:43.047Z"
   },
   {
    "duration": 62,
    "start_time": "2021-08-17T22:14:38.449Z"
   },
   {
    "duration": 63,
    "start_time": "2021-08-17T22:14:55.905Z"
   },
   {
    "duration": 24,
    "start_time": "2021-08-17T22:15:45.665Z"
   },
   {
    "duration": 86,
    "start_time": "2021-08-17T22:17:47.078Z"
   },
   {
    "duration": 20,
    "start_time": "2021-08-17T22:18:17.237Z"
   },
   {
    "duration": 18,
    "start_time": "2021-08-17T22:18:40.718Z"
   },
   {
    "duration": 7574,
    "start_time": "2021-08-17T22:20:22.757Z"
   },
   {
    "duration": 43,
    "start_time": "2021-08-17T22:21:08.197Z"
   },
   {
    "duration": 9,
    "start_time": "2021-08-17T22:21:45.597Z"
   },
   {
    "duration": 11,
    "start_time": "2021-08-17T22:25:00.735Z"
   },
   {
    "duration": 61,
    "start_time": "2021-08-17T22:26:01.619Z"
   },
   {
    "duration": 52,
    "start_time": "2021-08-17T22:27:31.347Z"
   },
   {
    "duration": 20,
    "start_time": "2021-08-17T22:27:43.355Z"
   },
   {
    "duration": 21,
    "start_time": "2021-08-17T22:27:52.375Z"
   },
   {
    "duration": 11,
    "start_time": "2021-08-17T22:30:59.397Z"
   },
   {
    "duration": 8,
    "start_time": "2021-08-17T22:34:09.821Z"
   },
   {
    "duration": 12,
    "start_time": "2021-08-17T22:35:01.631Z"
   },
   {
    "duration": 15,
    "start_time": "2021-08-17T22:39:44.571Z"
   },
   {
    "duration": 11,
    "start_time": "2021-08-17T22:43:48.732Z"
   },
   {
    "duration": 9,
    "start_time": "2021-08-17T22:44:54.462Z"
   },
   {
    "duration": 22,
    "start_time": "2021-08-17T22:47:24.971Z"
   },
   {
    "duration": 11,
    "start_time": "2021-08-17T22:47:54.781Z"
   },
   {
    "duration": 18,
    "start_time": "2021-08-17T22:55:43.768Z"
   },
   {
    "duration": 12,
    "start_time": "2021-08-17T22:55:52.398Z"
   },
   {
    "duration": 16,
    "start_time": "2021-08-17T22:56:40.993Z"
   },
   {
    "duration": 16,
    "start_time": "2021-08-17T22:59:25.227Z"
   },
   {
    "duration": 6545,
    "start_time": "2021-08-17T23:15:29.141Z"
   },
   {
    "duration": 90,
    "start_time": "2021-08-17T23:16:34.942Z"
   },
   {
    "duration": 276,
    "start_time": "2021-08-17T23:34:13.288Z"
   },
   {
    "duration": 66,
    "start_time": "2021-08-17T23:36:26.225Z"
   },
   {
    "duration": 273,
    "start_time": "2021-08-17T23:37:11.346Z"
   },
   {
    "duration": 285,
    "start_time": "2021-08-17T23:37:45.466Z"
   },
   {
    "duration": 102,
    "start_time": "2021-08-17T23:47:58.471Z"
   },
   {
    "duration": 125,
    "start_time": "2021-08-17T23:48:26.360Z"
   },
   {
    "duration": 119,
    "start_time": "2021-08-17T23:48:55.880Z"
   },
   {
    "duration": 68,
    "start_time": "2021-08-17T23:49:16.190Z"
   },
   {
    "duration": 61,
    "start_time": "2021-08-17T23:49:26.520Z"
   },
   {
    "duration": 302,
    "start_time": "2021-08-17T23:51:56.001Z"
   },
   {
    "duration": 13,
    "start_time": "2021-08-17T23:52:05.991Z"
   },
   {
    "duration": 973,
    "start_time": "2021-08-19T13:20:58.950Z"
   },
   {
    "duration": 246,
    "start_time": "2021-08-19T13:20:59.926Z"
   },
   {
    "duration": 282,
    "start_time": "2021-08-19T13:21:00.176Z"
   },
   {
    "duration": 187,
    "start_time": "2021-08-19T13:21:00.461Z"
   },
   {
    "duration": 33,
    "start_time": "2021-08-19T13:21:00.651Z"
   },
   {
    "duration": 41,
    "start_time": "2021-08-19T13:21:00.687Z"
   },
   {
    "duration": 93,
    "start_time": "2021-08-19T13:21:00.730Z"
   },
   {
    "duration": 162,
    "start_time": "2021-08-19T13:21:00.827Z"
   },
   {
    "duration": 22,
    "start_time": "2021-08-19T13:21:00.992Z"
   },
   {
    "duration": 90,
    "start_time": "2021-08-19T13:21:01.017Z"
   },
   {
    "duration": 11,
    "start_time": "2021-08-19T13:21:01.110Z"
   },
   {
    "duration": 148,
    "start_time": "2021-08-19T13:21:01.123Z"
   },
   {
    "duration": 26,
    "start_time": "2021-08-19T13:21:01.274Z"
   },
   {
    "duration": 38,
    "start_time": "2021-08-19T13:21:01.303Z"
   },
   {
    "duration": 73,
    "start_time": "2021-08-19T13:21:01.373Z"
   },
   {
    "duration": 30,
    "start_time": "2021-08-19T13:21:01.449Z"
   },
   {
    "duration": 67,
    "start_time": "2021-08-19T13:21:01.481Z"
   },
   {
    "duration": 53,
    "start_time": "2021-08-19T13:21:01.551Z"
   },
   {
    "duration": 11,
    "start_time": "2021-08-19T13:21:01.607Z"
   },
   {
    "duration": 53,
    "start_time": "2021-08-19T13:21:01.622Z"
   },
   {
    "duration": 13,
    "start_time": "2021-08-19T13:21:01.678Z"
   },
   {
    "duration": 17,
    "start_time": "2021-08-19T13:21:01.693Z"
   },
   {
    "duration": 35,
    "start_time": "2021-08-19T13:21:01.717Z"
   },
   {
    "duration": 27,
    "start_time": "2021-08-19T13:21:01.756Z"
   },
   {
    "duration": 42,
    "start_time": "2021-08-19T13:21:01.785Z"
   },
   {
    "duration": 116,
    "start_time": "2021-08-19T13:21:01.830Z"
   },
   {
    "duration": 37,
    "start_time": "2021-08-19T13:21:01.948Z"
   },
   {
    "duration": 11,
    "start_time": "2021-08-19T13:21:01.987Z"
   },
   {
    "duration": 16,
    "start_time": "2021-08-19T13:21:02.000Z"
   },
   {
    "duration": 14,
    "start_time": "2021-08-19T13:21:02.019Z"
   },
   {
    "duration": 21,
    "start_time": "2021-08-19T13:27:18.681Z"
   },
   {
    "duration": 4,
    "start_time": "2021-08-19T13:28:51.971Z"
   },
   {
    "duration": 251,
    "start_time": "2021-08-19T13:28:51.980Z"
   },
   {
    "duration": 190,
    "start_time": "2021-08-19T13:28:52.235Z"
   },
   {
    "duration": 127,
    "start_time": "2021-08-19T13:28:52.429Z"
   },
   {
    "duration": 35,
    "start_time": "2021-08-19T13:28:52.559Z"
   },
   {
    "duration": 38,
    "start_time": "2021-08-19T13:28:52.596Z"
   },
   {
    "duration": 87,
    "start_time": "2021-08-19T13:28:52.637Z"
   },
   {
    "duration": 157,
    "start_time": "2021-08-19T13:28:52.727Z"
   },
   {
    "duration": 21,
    "start_time": "2021-08-19T13:28:52.891Z"
   },
   {
    "duration": 23,
    "start_time": "2021-08-19T13:28:52.915Z"
   },
   {
    "duration": 88,
    "start_time": "2021-08-19T13:28:52.940Z"
   },
   {
    "duration": 8,
    "start_time": "2021-08-19T13:28:53.031Z"
   },
   {
    "duration": 128,
    "start_time": "2021-08-19T13:28:53.042Z"
   },
   {
    "duration": 22,
    "start_time": "2021-08-19T13:28:53.173Z"
   },
   {
    "duration": 18,
    "start_time": "2021-08-19T13:28:53.199Z"
   },
   {
    "duration": 74,
    "start_time": "2021-08-19T13:28:53.219Z"
   },
   {
    "duration": 9,
    "start_time": "2021-08-19T13:28:53.295Z"
   },
   {
    "duration": 82,
    "start_time": "2021-08-19T13:28:53.307Z"
   },
   {
    "duration": 37,
    "start_time": "2021-08-19T13:28:53.395Z"
   },
   {
    "duration": 8,
    "start_time": "2021-08-19T13:28:53.434Z"
   },
   {
    "duration": 40,
    "start_time": "2021-08-19T13:28:53.444Z"
   },
   {
    "duration": 16,
    "start_time": "2021-08-19T13:28:53.486Z"
   },
   {
    "duration": 14,
    "start_time": "2021-08-19T13:28:53.504Z"
   },
   {
    "duration": 23,
    "start_time": "2021-08-19T13:28:53.520Z"
   },
   {
    "duration": 44,
    "start_time": "2021-08-19T13:28:53.545Z"
   },
   {
    "duration": 17,
    "start_time": "2021-08-19T13:28:53.593Z"
   },
   {
    "duration": 109,
    "start_time": "2021-08-19T13:28:53.614Z"
   },
   {
    "duration": 14,
    "start_time": "2021-08-19T13:28:53.725Z"
   },
   {
    "duration": 32,
    "start_time": "2021-08-19T13:28:53.741Z"
   },
   {
    "duration": 15,
    "start_time": "2021-08-19T13:28:53.775Z"
   },
   {
    "duration": 9,
    "start_time": "2021-08-19T13:28:53.792Z"
   },
   {
    "duration": 65,
    "start_time": "2021-08-19T13:32:27.983Z"
   },
   {
    "duration": 23,
    "start_time": "2021-08-19T13:48:07.706Z"
   },
   {
    "duration": 6,
    "start_time": "2021-08-19T13:52:41.665Z"
   },
   {
    "duration": 297,
    "start_time": "2021-08-19T13:52:41.674Z"
   },
   {
    "duration": 176,
    "start_time": "2021-08-19T13:52:41.974Z"
   },
   {
    "duration": 116,
    "start_time": "2021-08-19T13:52:42.153Z"
   },
   {
    "duration": 24,
    "start_time": "2021-08-19T13:52:42.273Z"
   },
   {
    "duration": 36,
    "start_time": "2021-08-19T13:52:42.299Z"
   },
   {
    "duration": 78,
    "start_time": "2021-08-19T13:52:42.337Z"
   },
   {
    "duration": 150,
    "start_time": "2021-08-19T13:52:42.417Z"
   },
   {
    "duration": 19,
    "start_time": "2021-08-19T13:52:42.571Z"
   },
   {
    "duration": 20,
    "start_time": "2021-08-19T13:52:42.593Z"
   },
   {
    "duration": 81,
    "start_time": "2021-08-19T13:52:42.616Z"
   },
   {
    "duration": 9,
    "start_time": "2021-08-19T13:52:42.699Z"
   },
   {
    "duration": 126,
    "start_time": "2021-08-19T13:52:42.710Z"
   },
   {
    "duration": 29,
    "start_time": "2021-08-19T13:52:42.839Z"
   },
   {
    "duration": 20,
    "start_time": "2021-08-19T13:52:42.871Z"
   },
   {
    "duration": 43,
    "start_time": "2021-08-19T13:52:42.893Z"
   },
   {
    "duration": 33,
    "start_time": "2021-08-19T13:52:42.939Z"
   },
   {
    "duration": 58,
    "start_time": "2021-08-19T13:52:42.975Z"
   },
   {
    "duration": 65,
    "start_time": "2021-08-19T13:52:43.036Z"
   },
   {
    "duration": 8,
    "start_time": "2021-08-19T13:52:43.103Z"
   },
   {
    "duration": 14,
    "start_time": "2021-08-19T13:52:43.114Z"
   },
   {
    "duration": 41,
    "start_time": "2021-08-19T13:52:43.131Z"
   },
   {
    "duration": 9,
    "start_time": "2021-08-19T13:52:43.174Z"
   },
   {
    "duration": 13,
    "start_time": "2021-08-19T13:52:43.185Z"
   },
   {
    "duration": 14,
    "start_time": "2021-08-19T13:52:43.201Z"
   },
   {
    "duration": 55,
    "start_time": "2021-08-19T13:52:43.218Z"
   },
   {
    "duration": 65,
    "start_time": "2021-08-19T13:52:43.277Z"
   },
   {
    "duration": 44,
    "start_time": "2021-08-19T13:52:43.345Z"
   },
   {
    "duration": 17,
    "start_time": "2021-08-19T13:52:43.391Z"
   },
   {
    "duration": 9,
    "start_time": "2021-08-19T13:52:43.410Z"
   },
   {
    "duration": 5,
    "start_time": "2021-08-19T13:52:43.421Z"
   },
   {
    "duration": 40,
    "start_time": "2021-08-19T13:52:43.428Z"
   },
   {
    "duration": 476,
    "start_time": "2021-08-19T13:54:34.088Z"
   },
   {
    "duration": 6561,
    "start_time": "2021-08-19T14:10:20.035Z"
   },
   {
    "duration": 6010,
    "start_time": "2021-08-19T14:10:53.585Z"
   },
   {
    "duration": 4087,
    "start_time": "2021-08-19T14:12:19.794Z"
   },
   {
    "duration": 259,
    "start_time": "2021-08-19T14:13:25.889Z"
   },
   {
    "duration": 4,
    "start_time": "2021-08-19T14:14:02.872Z"
   },
   {
    "duration": 302,
    "start_time": "2021-08-19T14:14:02.880Z"
   },
   {
    "duration": 210,
    "start_time": "2021-08-19T14:14:03.186Z"
   },
   {
    "duration": 147,
    "start_time": "2021-08-19T14:14:03.399Z"
   },
   {
    "duration": 36,
    "start_time": "2021-08-19T14:14:03.549Z"
   },
   {
    "duration": 61,
    "start_time": "2021-08-19T14:14:03.588Z"
   },
   {
    "duration": 103,
    "start_time": "2021-08-19T14:14:03.651Z"
   },
   {
    "duration": 195,
    "start_time": "2021-08-19T14:14:03.758Z"
   },
   {
    "duration": 33,
    "start_time": "2021-08-19T14:14:03.956Z"
   },
   {
    "duration": 24,
    "start_time": "2021-08-19T14:14:03.991Z"
   },
   {
    "duration": 295,
    "start_time": "2021-08-19T14:14:04.017Z"
   },
   {
    "duration": 564,
    "start_time": "2021-08-19T14:14:03.751Z"
   },
   {
    "duration": 555,
    "start_time": "2021-08-19T14:14:03.762Z"
   },
   {
    "duration": 551,
    "start_time": "2021-08-19T14:14:03.767Z"
   },
   {
    "duration": 547,
    "start_time": "2021-08-19T14:14:03.773Z"
   },
   {
    "duration": 529,
    "start_time": "2021-08-19T14:14:03.793Z"
   },
   {
    "duration": 523,
    "start_time": "2021-08-19T14:14:03.800Z"
   },
   {
    "duration": 515,
    "start_time": "2021-08-19T14:14:03.809Z"
   },
   {
    "duration": 508,
    "start_time": "2021-08-19T14:14:03.818Z"
   },
   {
    "duration": 501,
    "start_time": "2021-08-19T14:14:03.826Z"
   },
   {
    "duration": 498,
    "start_time": "2021-08-19T14:14:03.831Z"
   },
   {
    "duration": 494,
    "start_time": "2021-08-19T14:14:03.836Z"
   },
   {
    "duration": 491,
    "start_time": "2021-08-19T14:14:03.841Z"
   },
   {
    "duration": 488,
    "start_time": "2021-08-19T14:14:03.846Z"
   },
   {
    "duration": 485,
    "start_time": "2021-08-19T14:14:03.850Z"
   },
   {
    "duration": 473,
    "start_time": "2021-08-19T14:14:03.864Z"
   },
   {
    "duration": 469,
    "start_time": "2021-08-19T14:14:03.869Z"
   },
   {
    "duration": 465,
    "start_time": "2021-08-19T14:14:03.874Z"
   },
   {
    "duration": 462,
    "start_time": "2021-08-19T14:14:03.879Z"
   },
   {
    "duration": 458,
    "start_time": "2021-08-19T14:14:03.884Z"
   },
   {
    "duration": 453,
    "start_time": "2021-08-19T14:14:03.890Z"
   },
   {
    "duration": 450,
    "start_time": "2021-08-19T14:14:03.895Z"
   },
   {
    "duration": 446,
    "start_time": "2021-08-19T14:14:03.900Z"
   },
   {
    "duration": 6849,
    "start_time": "2021-08-19T14:14:59.853Z"
   },
   {
    "duration": 11,
    "start_time": "2021-08-19T14:16:00.151Z"
   },
   {
    "duration": 7,
    "start_time": "2021-08-19T14:16:32.523Z"
   },
   {
    "duration": 52,
    "start_time": "2021-08-19T14:16:47.790Z"
   },
   {
    "duration": 10,
    "start_time": "2021-08-19T14:16:52.193Z"
   },
   {
    "duration": 122,
    "start_time": "2021-08-19T14:16:55.912Z"
   },
   {
    "duration": 18,
    "start_time": "2021-08-19T14:16:58.133Z"
   },
   {
    "duration": 18,
    "start_time": "2021-08-19T14:17:09.204Z"
   },
   {
    "duration": 42,
    "start_time": "2021-08-19T14:17:11.213Z"
   },
   {
    "duration": 9,
    "start_time": "2021-08-19T14:17:14.593Z"
   },
   {
    "duration": 4153,
    "start_time": "2021-08-19T14:17:29.843Z"
   },
   {
    "duration": 143,
    "start_time": "2021-08-19T14:19:53.272Z"
   },
   {
    "duration": 161,
    "start_time": "2021-08-19T14:19:56.661Z"
   },
   {
    "duration": 21,
    "start_time": "2021-08-19T14:20:28.669Z"
   },
   {
    "duration": 357,
    "start_time": "2021-08-19T14:21:09.278Z"
   },
   {
    "duration": 4,
    "start_time": "2021-08-19T14:21:29.009Z"
   },
   {
    "duration": 231,
    "start_time": "2021-08-19T14:21:29.015Z"
   },
   {
    "duration": 224,
    "start_time": "2021-08-19T14:21:29.249Z"
   },
   {
    "duration": 138,
    "start_time": "2021-08-19T14:21:29.477Z"
   },
   {
    "duration": 33,
    "start_time": "2021-08-19T14:21:29.618Z"
   },
   {
    "duration": 55,
    "start_time": "2021-08-19T14:21:29.653Z"
   },
   {
    "duration": 91,
    "start_time": "2021-08-19T14:21:29.711Z"
   },
   {
    "duration": 154,
    "start_time": "2021-08-19T14:21:29.805Z"
   },
   {
    "duration": 24,
    "start_time": "2021-08-19T14:21:29.968Z"
   },
   {
    "duration": 22,
    "start_time": "2021-08-19T14:21:29.995Z"
   },
   {
    "duration": 8,
    "start_time": "2021-08-19T14:21:30.019Z"
   },
   {
    "duration": 92,
    "start_time": "2021-08-19T14:21:30.030Z"
   },
   {
    "duration": 8,
    "start_time": "2021-08-19T14:21:30.125Z"
   },
   {
    "duration": 134,
    "start_time": "2021-08-19T14:21:30.136Z"
   },
   {
    "duration": 20,
    "start_time": "2021-08-19T14:21:30.274Z"
   },
   {
    "duration": 18,
    "start_time": "2021-08-19T14:21:30.296Z"
   },
   {
    "duration": 70,
    "start_time": "2021-08-19T14:21:30.317Z"
   },
   {
    "duration": 10,
    "start_time": "2021-08-19T14:21:30.390Z"
   },
   {
    "duration": 98,
    "start_time": "2021-08-19T14:21:30.402Z"
   },
   {
    "duration": 39,
    "start_time": "2021-08-19T14:21:30.503Z"
   },
   {
    "duration": 35,
    "start_time": "2021-08-19T14:21:30.544Z"
   },
   {
    "duration": 19,
    "start_time": "2021-08-19T14:21:30.582Z"
   },
   {
    "duration": 24,
    "start_time": "2021-08-19T14:21:30.603Z"
   },
   {
    "duration": 11,
    "start_time": "2021-08-19T14:21:30.629Z"
   },
   {
    "duration": 40,
    "start_time": "2021-08-19T14:21:30.642Z"
   },
   {
    "duration": 18,
    "start_time": "2021-08-19T14:21:30.684Z"
   },
   {
    "duration": 22,
    "start_time": "2021-08-19T14:21:30.707Z"
   },
   {
    "duration": 93,
    "start_time": "2021-08-19T14:21:30.731Z"
   },
   {
    "duration": 159,
    "start_time": "2021-08-19T14:21:30.827Z"
   },
   {
    "duration": 20,
    "start_time": "2021-08-19T14:21:30.988Z"
   },
   {
    "duration": 19,
    "start_time": "2021-08-19T14:21:31.010Z"
   },
   {
    "duration": 34,
    "start_time": "2021-08-19T14:21:31.032Z"
   },
   {
    "duration": 3,
    "start_time": "2021-08-19T14:21:31.073Z"
   },
   {
    "duration": 25,
    "start_time": "2021-08-19T14:21:31.080Z"
   },
   {
    "duration": 168,
    "start_time": "2021-08-19T14:22:03.957Z"
   },
   {
    "duration": 26,
    "start_time": "2021-08-19T14:27:00.213Z"
   },
   {
    "duration": 50,
    "start_time": "2021-08-19T14:32:28.511Z"
   },
   {
    "duration": 5967,
    "start_time": "2021-08-19T14:55:49.908Z"
   },
   {
    "duration": 6359,
    "start_time": "2021-08-19T14:56:43.728Z"
   },
   {
    "duration": 6956,
    "start_time": "2021-08-19T14:57:41.798Z"
   },
   {
    "duration": 6445,
    "start_time": "2021-08-19T14:58:11.879Z"
   },
   {
    "duration": 6504,
    "start_time": "2021-08-19T14:58:45.817Z"
   },
   {
    "duration": 95,
    "start_time": "2021-08-19T14:59:57.098Z"
   },
   {
    "duration": 6686,
    "start_time": "2021-08-19T15:00:47.568Z"
   },
   {
    "duration": 5139,
    "start_time": "2021-08-19T15:01:00.056Z"
   },
   {
    "duration": 280,
    "start_time": "2021-08-19T23:17:11.393Z"
   },
   {
    "duration": 646,
    "start_time": "2021-08-19T23:17:27.093Z"
   },
   {
    "duration": 147,
    "start_time": "2021-08-19T23:17:27.741Z"
   },
   {
    "duration": 4,
    "start_time": "2021-08-19T23:17:27.890Z"
   },
   {
    "duration": 125,
    "start_time": "2021-08-19T23:17:27.896Z"
   },
   {
    "duration": 83,
    "start_time": "2021-08-19T23:17:28.023Z"
   },
   {
    "duration": 20,
    "start_time": "2021-08-19T23:17:28.108Z"
   },
   {
    "duration": 35,
    "start_time": "2021-08-19T23:17:28.129Z"
   },
   {
    "duration": 46,
    "start_time": "2021-08-19T23:17:28.166Z"
   },
   {
    "duration": 193,
    "start_time": "2021-08-19T23:17:28.214Z"
   },
   {
    "duration": 16,
    "start_time": "2021-08-19T23:17:28.408Z"
   },
   {
    "duration": 28,
    "start_time": "2021-08-19T23:17:28.425Z"
   },
   {
    "duration": 6,
    "start_time": "2021-08-19T23:17:28.454Z"
   },
   {
    "duration": 33,
    "start_time": "2021-08-19T23:17:28.461Z"
   },
   {
    "duration": 7,
    "start_time": "2021-08-19T23:17:28.496Z"
   },
   {
    "duration": 83,
    "start_time": "2021-08-19T23:17:28.505Z"
   },
   {
    "duration": 13,
    "start_time": "2021-08-19T23:17:28.590Z"
   },
   {
    "duration": 14,
    "start_time": "2021-08-19T23:17:28.605Z"
   },
   {
    "duration": 28,
    "start_time": "2021-08-19T23:17:28.641Z"
   },
   {
    "duration": 6,
    "start_time": "2021-08-19T23:17:28.671Z"
   },
   {
    "duration": 63,
    "start_time": "2021-08-19T23:17:28.679Z"
   },
   {
    "duration": 28,
    "start_time": "2021-08-19T23:17:28.744Z"
   },
   {
    "duration": 6,
    "start_time": "2021-08-19T23:17:28.774Z"
   },
   {
    "duration": 9,
    "start_time": "2021-08-19T23:17:28.784Z"
   },
   {
    "duration": 7,
    "start_time": "2021-08-19T23:17:28.795Z"
   },
   {
    "duration": 39,
    "start_time": "2021-08-19T23:17:28.804Z"
   },
   {
    "duration": 8,
    "start_time": "2021-08-19T23:17:28.845Z"
   },
   {
    "duration": 15,
    "start_time": "2021-08-19T23:17:28.855Z"
   },
   {
    "duration": 13,
    "start_time": "2021-08-19T23:17:28.871Z"
   },
   {
    "duration": 22,
    "start_time": "2021-08-19T23:17:28.885Z"
   },
   {
    "duration": 140,
    "start_time": "2021-08-19T23:17:28.908Z"
   },
   {
    "duration": 13,
    "start_time": "2021-08-19T23:17:29.049Z"
   },
   {
    "duration": 39,
    "start_time": "2021-08-19T23:17:29.064Z"
   },
   {
    "duration": 97,
    "start_time": "2021-08-19T23:17:29.105Z"
   },
   {
    "duration": 1250,
    "start_time": "2021-08-19T23:17:27.954Z"
   },
   {
    "duration": 1245,
    "start_time": "2021-08-19T23:17:27.961Z"
   },
   {
    "duration": 1240,
    "start_time": "2021-08-19T23:17:27.967Z"
   },
   {
    "duration": 6062,
    "start_time": "2021-08-19T23:18:08.193Z"
   },
   {
    "duration": 5,
    "start_time": "2021-08-19T23:18:32.631Z"
   },
   {
    "duration": 5950,
    "start_time": "2021-08-19T23:19:14.294Z"
   },
   {
    "duration": 5,
    "start_time": "2021-08-19T23:19:40.693Z"
   },
   {
    "duration": 4,
    "start_time": "2021-08-19T23:20:19.794Z"
   },
   {
    "duration": 269,
    "start_time": "2021-08-19T23:21:15.164Z"
   },
   {
    "duration": 43,
    "start_time": "2021-08-19T23:21:28.804Z"
   },
   {
    "duration": 6246,
    "start_time": "2021-08-19T23:21:31.831Z"
   },
   {
    "duration": 38,
    "start_time": "2021-08-19T23:22:16.276Z"
   },
   {
    "duration": 39,
    "start_time": "2021-08-19T23:22:21.031Z"
   },
   {
    "duration": 38,
    "start_time": "2021-08-19T23:24:53.593Z"
   },
   {
    "duration": 5,
    "start_time": "2021-08-19T23:24:57.410Z"
   },
   {
    "duration": 5,
    "start_time": "2021-08-19T23:25:13.563Z"
   },
   {
    "duration": 4,
    "start_time": "2021-08-19T23:25:46.733Z"
   },
   {
    "duration": 40,
    "start_time": "2021-08-19T23:28:37.803Z"
   },
   {
    "duration": 39,
    "start_time": "2021-08-19T23:29:05.293Z"
   },
   {
    "duration": 38,
    "start_time": "2021-08-19T23:29:31.633Z"
   },
   {
    "duration": 6945,
    "start_time": "2021-08-19T23:29:37.043Z"
   },
   {
    "duration": 40,
    "start_time": "2021-08-19T23:30:03.293Z"
   },
   {
    "duration": 4,
    "start_time": "2021-08-19T23:31:34.753Z"
   },
   {
    "duration": 859,
    "start_time": "2021-08-23T00:28:28.411Z"
   },
   {
    "duration": 208,
    "start_time": "2021-08-23T00:28:29.273Z"
   },
   {
    "duration": 181,
    "start_time": "2021-08-23T00:28:29.485Z"
   },
   {
    "duration": 122,
    "start_time": "2021-08-23T00:28:29.669Z"
   },
   {
    "duration": 26,
    "start_time": "2021-08-23T00:28:29.794Z"
   },
   {
    "duration": 63,
    "start_time": "2021-08-23T00:28:29.822Z"
   },
   {
    "duration": 68,
    "start_time": "2021-08-23T00:28:29.888Z"
   },
   {
    "duration": 141,
    "start_time": "2021-08-23T00:28:29.959Z"
   },
   {
    "duration": 22,
    "start_time": "2021-08-23T00:28:30.104Z"
   },
   {
    "duration": 37,
    "start_time": "2021-08-23T00:28:30.129Z"
   },
   {
    "duration": 32,
    "start_time": "2021-08-23T00:28:30.168Z"
   },
   {
    "duration": 54,
    "start_time": "2021-08-23T00:28:30.203Z"
   },
   {
    "duration": 9,
    "start_time": "2021-08-23T00:28:30.260Z"
   },
   {
    "duration": 115,
    "start_time": "2021-08-23T00:28:30.271Z"
   },
   {
    "duration": 27,
    "start_time": "2021-08-23T00:28:30.388Z"
   },
   {
    "duration": 19,
    "start_time": "2021-08-23T00:28:30.418Z"
   },
   {
    "duration": 70,
    "start_time": "2021-08-23T00:28:30.440Z"
   },
   {
    "duration": 8,
    "start_time": "2021-08-23T00:28:30.513Z"
   },
   {
    "duration": 84,
    "start_time": "2021-08-23T00:28:30.524Z"
   },
   {
    "duration": 35,
    "start_time": "2021-08-23T00:28:30.611Z"
   },
   {
    "duration": 8,
    "start_time": "2021-08-23T00:28:30.649Z"
   },
   {
    "duration": 44,
    "start_time": "2021-08-23T00:28:30.660Z"
   },
   {
    "duration": 10,
    "start_time": "2021-08-23T00:28:30.707Z"
   },
   {
    "duration": 8,
    "start_time": "2021-08-23T00:28:30.720Z"
   },
   {
    "duration": 14,
    "start_time": "2021-08-23T00:28:30.730Z"
   },
   {
    "duration": 56,
    "start_time": "2021-08-23T00:28:30.746Z"
   },
   {
    "duration": 19,
    "start_time": "2021-08-23T00:28:30.807Z"
   },
   {
    "duration": 30,
    "start_time": "2021-08-23T00:28:30.828Z"
   },
   {
    "duration": 160,
    "start_time": "2021-08-23T00:28:30.860Z"
   },
   {
    "duration": 20,
    "start_time": "2021-08-23T00:28:31.023Z"
   },
   {
    "duration": 85,
    "start_time": "2021-08-23T00:28:31.045Z"
   },
   {
    "duration": 3,
    "start_time": "2021-08-23T00:28:31.133Z"
   },
   {
    "duration": 12,
    "start_time": "2021-08-23T00:28:31.139Z"
   },
   {
    "duration": 26,
    "start_time": "2021-08-23T00:40:33.640Z"
   },
   {
    "duration": 136,
    "start_time": "2021-08-23T00:40:37.341Z"
   },
   {
    "duration": 25,
    "start_time": "2021-08-23T00:40:41.419Z"
   },
   {
    "duration": 892,
    "start_time": "2021-08-23T13:14:57.488Z"
   },
   {
    "duration": 220,
    "start_time": "2021-08-23T13:14:58.382Z"
   },
   {
    "duration": 183,
    "start_time": "2021-08-23T13:14:58.605Z"
   },
   {
    "duration": 154,
    "start_time": "2021-08-23T13:14:58.792Z"
   },
   {
    "duration": 32,
    "start_time": "2021-08-23T13:14:58.957Z"
   },
   {
    "duration": 1186,
    "start_time": "2021-08-23T13:14:58.992Z"
   },
   {
    "duration": 79,
    "start_time": "2021-08-23T13:15:00.180Z"
   },
   {
    "duration": 152,
    "start_time": "2021-08-23T13:15:00.262Z"
   },
   {
    "duration": 20,
    "start_time": "2021-08-23T13:15:00.417Z"
   },
   {
    "duration": 52,
    "start_time": "2021-08-23T13:15:00.439Z"
   },
   {
    "duration": 9,
    "start_time": "2021-08-23T13:15:00.494Z"
   },
   {
    "duration": 82,
    "start_time": "2021-08-23T13:15:00.506Z"
   },
   {
    "duration": 9,
    "start_time": "2021-08-23T13:15:00.591Z"
   },
   {
    "duration": 136,
    "start_time": "2021-08-23T13:15:00.603Z"
   },
   {
    "duration": 28,
    "start_time": "2021-08-23T13:15:00.743Z"
   },
   {
    "duration": 25,
    "start_time": "2021-08-23T13:15:00.774Z"
   },
   {
    "duration": 88,
    "start_time": "2021-08-23T13:15:00.803Z"
   },
   {
    "duration": 9,
    "start_time": "2021-08-23T13:15:00.894Z"
   },
   {
    "duration": 90,
    "start_time": "2021-08-23T13:15:00.905Z"
   },
   {
    "duration": 41,
    "start_time": "2021-08-23T13:15:00.997Z"
   },
   {
    "duration": 39,
    "start_time": "2021-08-23T13:15:01.057Z"
   },
   {
    "duration": 50,
    "start_time": "2021-08-23T13:15:01.099Z"
   },
   {
    "duration": 31,
    "start_time": "2021-08-23T13:15:01.157Z"
   },
   {
    "duration": 22,
    "start_time": "2021-08-23T13:15:01.192Z"
   },
   {
    "duration": 49,
    "start_time": "2021-08-23T13:15:01.217Z"
   },
   {
    "duration": 53,
    "start_time": "2021-08-23T13:15:01.268Z"
   },
   {
    "duration": 69,
    "start_time": "2021-08-23T13:15:01.323Z"
   },
   {
    "duration": 29,
    "start_time": "2021-08-23T13:15:01.395Z"
   },
   {
    "duration": 142,
    "start_time": "2021-08-23T13:15:01.426Z"
   },
   {
    "duration": 28,
    "start_time": "2021-08-23T13:15:01.570Z"
   },
   {
    "duration": 95,
    "start_time": "2021-08-23T13:15:01.601Z"
   },
   {
    "duration": 3,
    "start_time": "2021-08-23T13:15:01.698Z"
   },
   {
    "duration": 38,
    "start_time": "2021-08-23T13:15:01.703Z"
   },
   {
    "duration": 270,
    "start_time": "2021-08-23T13:21:11.706Z"
   },
   {
    "duration": 73,
    "start_time": "2021-08-23T13:21:24.837Z"
   },
   {
    "duration": 446,
    "start_time": "2021-08-23T13:37:11.045Z"
   },
   {
    "duration": 19,
    "start_time": "2021-08-23T13:39:55.327Z"
   },
   {
    "duration": 13,
    "start_time": "2021-08-23T13:40:11.448Z"
   },
   {
    "duration": 74,
    "start_time": "2021-08-23T13:40:46.025Z"
   },
   {
    "duration": 58,
    "start_time": "2021-08-23T13:50:33.249Z"
   },
   {
    "duration": 30,
    "start_time": "2021-08-23T13:52:35.185Z"
   },
   {
    "duration": 54,
    "start_time": "2021-08-23T13:54:30.744Z"
   },
   {
    "duration": 15,
    "start_time": "2021-08-23T13:55:18.696Z"
   },
   {
    "duration": 49,
    "start_time": "2021-08-23T13:56:34.787Z"
   },
   {
    "duration": 20,
    "start_time": "2021-08-23T14:00:41.224Z"
   },
   {
    "duration": 11,
    "start_time": "2021-08-23T14:00:54.436Z"
   },
   {
    "duration": 37,
    "start_time": "2021-08-23T14:04:30.306Z"
   },
   {
    "duration": 50,
    "start_time": "2021-08-23T14:04:44.756Z"
   },
   {
    "duration": 564,
    "start_time": "2021-08-23T14:06:22.196Z"
   },
   {
    "duration": 51,
    "start_time": "2021-08-23T14:06:29.946Z"
   },
   {
    "duration": 54,
    "start_time": "2021-08-23T14:10:44.806Z"
   },
   {
    "duration": 469,
    "start_time": "2021-08-23T14:10:57.184Z"
   },
   {
    "duration": 75,
    "start_time": "2021-08-23T14:11:02.668Z"
   },
   {
    "duration": 51,
    "start_time": "2021-08-23T14:11:19.676Z"
   },
   {
    "duration": 49,
    "start_time": "2021-08-23T14:11:54.144Z"
   },
   {
    "duration": 65,
    "start_time": "2021-08-23T14:12:33.406Z"
   },
   {
    "duration": 64,
    "start_time": "2021-08-23T14:13:00.836Z"
   },
   {
    "duration": 4,
    "start_time": "2021-08-23T14:17:38.186Z"
   },
   {
    "duration": 5,
    "start_time": "2021-08-23T14:18:24.685Z"
   },
   {
    "duration": 5,
    "start_time": "2021-08-23T14:18:40.426Z"
   },
   {
    "duration": 697,
    "start_time": "2021-08-24T00:27:55.489Z"
   },
   {
    "duration": 165,
    "start_time": "2021-08-24T00:27:56.188Z"
   },
   {
    "duration": 130,
    "start_time": "2021-08-24T00:27:56.355Z"
   },
   {
    "duration": 87,
    "start_time": "2021-08-24T00:27:56.487Z"
   },
   {
    "duration": 20,
    "start_time": "2021-08-24T00:27:56.576Z"
   },
   {
    "duration": 37,
    "start_time": "2021-08-24T00:27:56.598Z"
   },
   {
    "duration": 50,
    "start_time": "2021-08-24T00:27:56.637Z"
   },
   {
    "duration": 104,
    "start_time": "2021-08-24T00:27:56.689Z"
   },
   {
    "duration": 15,
    "start_time": "2021-08-24T00:27:56.795Z"
   },
   {
    "duration": 18,
    "start_time": "2021-08-24T00:27:56.811Z"
   },
   {
    "duration": 5,
    "start_time": "2021-08-24T00:27:56.830Z"
   },
   {
    "duration": 55,
    "start_time": "2021-08-24T00:27:56.836Z"
   },
   {
    "duration": 6,
    "start_time": "2021-08-24T00:27:56.893Z"
   },
   {
    "duration": 60,
    "start_time": "2021-08-24T00:27:56.900Z"
   },
   {
    "duration": 33,
    "start_time": "2021-08-24T00:27:56.962Z"
   },
   {
    "duration": 14,
    "start_time": "2021-08-24T00:27:56.996Z"
   },
   {
    "duration": 28,
    "start_time": "2021-08-24T00:27:57.011Z"
   },
   {
    "duration": 5,
    "start_time": "2021-08-24T00:27:57.041Z"
   },
   {
    "duration": 74,
    "start_time": "2021-08-24T00:27:57.047Z"
   },
   {
    "duration": 27,
    "start_time": "2021-08-24T00:27:57.123Z"
   },
   {
    "duration": 5,
    "start_time": "2021-08-24T00:27:57.152Z"
   },
   {
    "duration": 30,
    "start_time": "2021-08-24T00:27:57.159Z"
   },
   {
    "duration": 8,
    "start_time": "2021-08-24T00:27:57.192Z"
   },
   {
    "duration": 6,
    "start_time": "2021-08-24T00:27:57.202Z"
   },
   {
    "duration": 12,
    "start_time": "2021-08-24T00:27:57.209Z"
   },
   {
    "duration": 17,
    "start_time": "2021-08-24T00:27:57.222Z"
   },
   {
    "duration": 13,
    "start_time": "2021-08-24T00:27:57.241Z"
   },
   {
    "duration": 65,
    "start_time": "2021-08-24T00:27:57.256Z"
   },
   {
    "duration": 99,
    "start_time": "2021-08-24T00:27:57.322Z"
   },
   {
    "duration": 20,
    "start_time": "2021-08-24T00:27:57.423Z"
   },
   {
    "duration": 62,
    "start_time": "2021-08-24T00:27:57.445Z"
   },
   {
    "duration": 10,
    "start_time": "2021-08-24T00:27:57.509Z"
   },
   {
    "duration": 32,
    "start_time": "2021-08-24T00:27:57.521Z"
   },
   {
    "duration": 37,
    "start_time": "2021-08-24T00:27:57.555Z"
   },
   {
    "duration": 37,
    "start_time": "2021-08-24T00:27:57.594Z"
   },
   {
    "duration": 4,
    "start_time": "2021-08-24T00:27:57.633Z"
   },
   {
    "duration": 92,
    "start_time": "2021-08-24T00:27:57.639Z"
   },
   {
    "duration": 84,
    "start_time": "2021-08-24T00:33:21.189Z"
   },
   {
    "duration": 96,
    "start_time": "2021-08-24T00:33:48.714Z"
   },
   {
    "duration": 70,
    "start_time": "2021-08-24T00:33:54.213Z"
   },
   {
    "duration": 22,
    "start_time": "2021-08-24T00:35:38.432Z"
   },
   {
    "duration": 22,
    "start_time": "2021-08-24T00:37:05.753Z"
   },
   {
    "duration": 54,
    "start_time": "2021-08-24T00:37:36.232Z"
   },
   {
    "duration": 56,
    "start_time": "2021-08-24T00:40:21.711Z"
   },
   {
    "duration": 1254,
    "start_time": "2021-08-24T00:41:10.082Z"
   },
   {
    "duration": 362,
    "start_time": "2021-08-24T00:42:23.433Z"
   },
   {
    "duration": 59,
    "start_time": "2021-08-24T00:42:40.272Z"
   },
   {
    "duration": 60,
    "start_time": "2021-08-24T00:42:56.972Z"
   },
   {
    "duration": 1205,
    "start_time": "2021-08-24T00:43:31.190Z"
   },
   {
    "duration": 59,
    "start_time": "2021-08-24T00:44:14.053Z"
   },
   {
    "duration": 34,
    "start_time": "2021-08-24T00:44:35.726Z"
   },
   {
    "duration": 91,
    "start_time": "2021-08-24T00:47:10.964Z"
   },
   {
    "duration": 87,
    "start_time": "2021-08-24T00:48:07.593Z"
   },
   {
    "duration": 331,
    "start_time": "2021-08-24T00:52:51.453Z"
   },
   {
    "duration": 98,
    "start_time": "2021-08-24T00:53:10.842Z"
   },
   {
    "duration": 102,
    "start_time": "2021-08-24T00:57:53.125Z"
   },
   {
    "duration": 98,
    "start_time": "2021-08-24T00:59:19.812Z"
   },
   {
    "duration": 114,
    "start_time": "2021-08-24T01:00:52.790Z"
   },
   {
    "duration": 50,
    "start_time": "2021-08-24T01:04:29.859Z"
   },
   {
    "duration": 866,
    "start_time": "2021-08-24T22:15:51.859Z"
   },
   {
    "duration": 213,
    "start_time": "2021-08-24T22:15:52.728Z"
   },
   {
    "duration": 173,
    "start_time": "2021-08-24T22:15:52.944Z"
   },
   {
    "duration": 126,
    "start_time": "2021-08-24T22:15:53.119Z"
   },
   {
    "duration": 21,
    "start_time": "2021-08-24T22:15:53.248Z"
   },
   {
    "duration": 38,
    "start_time": "2021-08-24T22:15:53.272Z"
   },
   {
    "duration": 71,
    "start_time": "2021-08-24T22:15:53.312Z"
   },
   {
    "duration": 131,
    "start_time": "2021-08-24T22:15:53.386Z"
   },
   {
    "duration": 21,
    "start_time": "2021-08-24T22:15:53.521Z"
   },
   {
    "duration": 48,
    "start_time": "2021-08-24T22:15:53.545Z"
   },
   {
    "duration": 7,
    "start_time": "2021-08-24T22:15:53.596Z"
   },
   {
    "duration": 48,
    "start_time": "2021-08-24T22:15:53.606Z"
   },
   {
    "duration": 25,
    "start_time": "2021-08-24T22:15:53.657Z"
   },
   {
    "duration": 123,
    "start_time": "2021-08-24T22:15:53.685Z"
   },
   {
    "duration": 18,
    "start_time": "2021-08-24T22:15:53.810Z"
   },
   {
    "duration": 17,
    "start_time": "2021-08-24T22:15:53.830Z"
   },
   {
    "duration": 66,
    "start_time": "2021-08-24T22:15:53.850Z"
   },
   {
    "duration": 9,
    "start_time": "2021-08-24T22:15:53.918Z"
   },
   {
    "duration": 93,
    "start_time": "2021-08-24T22:15:53.929Z"
   },
   {
    "duration": 38,
    "start_time": "2021-08-24T22:15:54.024Z"
   },
   {
    "duration": 21,
    "start_time": "2021-08-24T22:15:54.064Z"
   },
   {
    "duration": 13,
    "start_time": "2021-08-24T22:15:54.087Z"
   },
   {
    "duration": 8,
    "start_time": "2021-08-24T22:15:54.103Z"
   },
   {
    "duration": 8,
    "start_time": "2021-08-24T22:15:54.113Z"
   },
   {
    "duration": 12,
    "start_time": "2021-08-24T22:15:54.123Z"
   },
   {
    "duration": 15,
    "start_time": "2021-08-24T22:15:54.181Z"
   },
   {
    "duration": 15,
    "start_time": "2021-08-24T22:15:54.201Z"
   },
   {
    "duration": 78,
    "start_time": "2021-08-24T22:15:54.219Z"
   },
   {
    "duration": 155,
    "start_time": "2021-08-24T22:15:54.299Z"
   },
   {
    "duration": 42,
    "start_time": "2021-08-24T22:15:54.456Z"
   },
   {
    "duration": 52,
    "start_time": "2021-08-24T22:15:54.500Z"
   },
   {
    "duration": 34,
    "start_time": "2021-08-24T22:15:54.554Z"
   },
   {
    "duration": 47,
    "start_time": "2021-08-24T22:15:54.590Z"
   },
   {
    "duration": 11,
    "start_time": "2021-08-24T22:15:54.639Z"
   },
   {
    "duration": 48,
    "start_time": "2021-08-24T22:15:54.682Z"
   },
   {
    "duration": 4,
    "start_time": "2021-08-24T22:15:54.733Z"
   },
   {
    "duration": 189,
    "start_time": "2021-08-24T22:15:54.740Z"
   },
   {
    "duration": 89,
    "start_time": "2021-08-24T22:15:54.931Z"
   },
   {
    "duration": 7,
    "start_time": "2021-08-24T22:21:08.977Z"
   },
   {
    "duration": 31,
    "start_time": "2021-08-24T22:21:13.397Z"
   },
   {
    "duration": 326,
    "start_time": "2021-08-24T22:21:58.463Z"
   },
   {
    "duration": 5,
    "start_time": "2021-08-24T22:23:12.507Z"
   },
   {
    "duration": 264,
    "start_time": "2021-08-24T22:30:38.507Z"
   },
   {
    "duration": 3,
    "start_time": "2021-08-24T22:31:37.308Z"
   },
   {
    "duration": 209,
    "start_time": "2021-08-24T22:31:37.314Z"
   },
   {
    "duration": 177,
    "start_time": "2021-08-24T22:31:37.526Z"
   },
   {
    "duration": 116,
    "start_time": "2021-08-24T22:31:37.706Z"
   },
   {
    "duration": 28,
    "start_time": "2021-08-24T22:31:37.825Z"
   },
   {
    "duration": 35,
    "start_time": "2021-08-24T22:31:37.856Z"
   },
   {
    "duration": 70,
    "start_time": "2021-08-24T22:31:37.893Z"
   },
   {
    "duration": 139,
    "start_time": "2021-08-24T22:31:37.965Z"
   },
   {
    "duration": 17,
    "start_time": "2021-08-24T22:31:38.108Z"
   },
   {
    "duration": 20,
    "start_time": "2021-08-24T22:31:38.128Z"
   },
   {
    "duration": 32,
    "start_time": "2021-08-24T22:31:38.151Z"
   },
   {
    "duration": 46,
    "start_time": "2021-08-24T22:31:38.185Z"
   },
   {
    "duration": 9,
    "start_time": "2021-08-24T22:31:38.233Z"
   },
   {
    "duration": 116,
    "start_time": "2021-08-24T22:31:38.244Z"
   },
   {
    "duration": 28,
    "start_time": "2021-08-24T22:31:38.362Z"
   },
   {
    "duration": 17,
    "start_time": "2021-08-24T22:31:38.392Z"
   },
   {
    "duration": 38,
    "start_time": "2021-08-24T22:31:38.411Z"
   },
   {
    "duration": 37,
    "start_time": "2021-08-24T22:31:38.451Z"
   },
   {
    "duration": 52,
    "start_time": "2021-08-24T22:31:38.491Z"
   },
   {
    "duration": 59,
    "start_time": "2021-08-24T22:31:38.546Z"
   },
   {
    "duration": 10,
    "start_time": "2021-08-24T22:31:38.608Z"
   },
   {
    "duration": 21,
    "start_time": "2021-08-24T22:31:38.620Z"
   },
   {
    "duration": 43,
    "start_time": "2021-08-24T22:31:38.643Z"
   },
   {
    "duration": 8,
    "start_time": "2021-08-24T22:31:38.689Z"
   },
   {
    "duration": 12,
    "start_time": "2021-08-24T22:31:38.700Z"
   },
   {
    "duration": 16,
    "start_time": "2021-08-24T22:31:38.715Z"
   },
   {
    "duration": 58,
    "start_time": "2021-08-24T22:31:38.736Z"
   },
   {
    "duration": 51,
    "start_time": "2021-08-24T22:31:38.798Z"
   },
   {
    "duration": 361,
    "start_time": "2021-08-24T22:31:38.852Z"
   },
   {
    "duration": 463,
    "start_time": "2021-08-24T22:31:38.753Z"
   },
   {
    "duration": 459,
    "start_time": "2021-08-24T22:31:38.758Z"
   },
   {
    "duration": 455,
    "start_time": "2021-08-24T22:31:38.763Z"
   },
   {
    "duration": 453,
    "start_time": "2021-08-24T22:31:38.767Z"
   },
   {
    "duration": 445,
    "start_time": "2021-08-24T22:31:38.776Z"
   },
   {
    "duration": 441,
    "start_time": "2021-08-24T22:31:38.782Z"
   },
   {
    "duration": 438,
    "start_time": "2021-08-24T22:31:38.786Z"
   },
   {
    "duration": 434,
    "start_time": "2021-08-24T22:31:38.792Z"
   },
   {
    "duration": 430,
    "start_time": "2021-08-24T22:31:38.797Z"
   },
   {
    "duration": 426,
    "start_time": "2021-08-24T22:31:38.802Z"
   },
   {
    "duration": 155,
    "start_time": "2021-08-24T22:32:16.406Z"
   },
   {
    "duration": 112,
    "start_time": "2021-08-24T22:32:29.707Z"
   },
   {
    "duration": 33,
    "start_time": "2021-08-24T22:32:32.997Z"
   },
   {
    "duration": 4,
    "start_time": "2021-08-24T22:33:42.588Z"
   },
   {
    "duration": 214,
    "start_time": "2021-08-24T22:33:42.594Z"
   },
   {
    "duration": 180,
    "start_time": "2021-08-24T22:33:42.813Z"
   },
   {
    "duration": 108,
    "start_time": "2021-08-24T22:33:42.997Z"
   },
   {
    "duration": 22,
    "start_time": "2021-08-24T22:33:43.107Z"
   },
   {
    "duration": 37,
    "start_time": "2021-08-24T22:33:43.132Z"
   },
   {
    "duration": 78,
    "start_time": "2021-08-24T22:33:43.171Z"
   },
   {
    "duration": 124,
    "start_time": "2021-08-24T22:33:43.251Z"
   },
   {
    "duration": 18,
    "start_time": "2021-08-24T22:33:43.383Z"
   },
   {
    "duration": 20,
    "start_time": "2021-08-24T22:33:43.404Z"
   },
   {
    "duration": 7,
    "start_time": "2021-08-24T22:33:43.426Z"
   },
   {
    "duration": 91,
    "start_time": "2021-08-24T22:33:43.435Z"
   },
   {
    "duration": 10,
    "start_time": "2021-08-24T22:33:43.529Z"
   },
   {
    "duration": 106,
    "start_time": "2021-08-24T22:33:43.541Z"
   },
   {
    "duration": 18,
    "start_time": "2021-08-24T22:33:43.649Z"
   },
   {
    "duration": 25,
    "start_time": "2021-08-24T22:33:43.669Z"
   },
   {
    "duration": 36,
    "start_time": "2021-08-24T22:33:43.697Z"
   },
   {
    "duration": 8,
    "start_time": "2021-08-24T22:33:43.736Z"
   },
   {
    "duration": 57,
    "start_time": "2021-08-24T22:33:43.782Z"
   },
   {
    "duration": 64,
    "start_time": "2021-08-24T22:33:43.841Z"
   },
   {
    "duration": 7,
    "start_time": "2021-08-24T22:33:43.908Z"
   },
   {
    "duration": 13,
    "start_time": "2021-08-24T22:33:43.918Z"
   },
   {
    "duration": 11,
    "start_time": "2021-08-24T22:33:43.933Z"
   },
   {
    "duration": 41,
    "start_time": "2021-08-24T22:33:43.946Z"
   },
   {
    "duration": 14,
    "start_time": "2021-08-24T22:33:43.989Z"
   },
   {
    "duration": 15,
    "start_time": "2021-08-24T22:33:44.005Z"
   },
   {
    "duration": 13,
    "start_time": "2021-08-24T22:33:44.025Z"
   },
   {
    "duration": 86,
    "start_time": "2021-08-24T22:33:44.041Z"
   },
   {
    "duration": 138,
    "start_time": "2021-08-24T22:33:44.130Z"
   },
   {
    "duration": 124,
    "start_time": "2021-08-24T22:33:44.270Z"
   },
   {
    "duration": 31,
    "start_time": "2021-08-24T22:33:44.396Z"
   },
   {
    "duration": 66,
    "start_time": "2021-08-24T22:33:44.429Z"
   },
   {
    "duration": 14,
    "start_time": "2021-08-24T22:33:44.497Z"
   },
   {
    "duration": 45,
    "start_time": "2021-08-24T22:33:44.514Z"
   },
   {
    "duration": 12,
    "start_time": "2021-08-24T22:33:44.581Z"
   },
   {
    "duration": 55,
    "start_time": "2021-08-24T22:33:44.595Z"
   },
   {
    "duration": 29,
    "start_time": "2021-08-24T22:33:44.653Z"
   },
   {
    "duration": 150,
    "start_time": "2021-08-24T22:33:44.684Z"
   },
   {
    "duration": 80,
    "start_time": "2021-08-24T22:33:44.836Z"
   },
   {
    "duration": 40,
    "start_time": "2021-08-24T22:35:17.618Z"
   },
   {
    "duration": 203,
    "start_time": "2021-08-24T22:36:09.918Z"
   },
   {
    "duration": 31,
    "start_time": "2021-08-24T22:36:14.407Z"
   },
   {
    "duration": 117,
    "start_time": "2021-08-24T22:36:29.078Z"
   },
   {
    "duration": 32,
    "start_time": "2021-08-24T22:36:32.257Z"
   },
   {
    "duration": 15,
    "start_time": "2021-08-24T22:36:51.618Z"
   },
   {
    "duration": 16,
    "start_time": "2021-08-24T22:36:57.447Z"
   },
   {
    "duration": 4,
    "start_time": "2021-08-24T22:37:23.677Z"
   },
   {
    "duration": 233,
    "start_time": "2021-08-24T22:37:23.683Z"
   },
   {
    "duration": 173,
    "start_time": "2021-08-24T22:37:23.920Z"
   },
   {
    "duration": 110,
    "start_time": "2021-08-24T22:37:24.096Z"
   },
   {
    "duration": 22,
    "start_time": "2021-08-24T22:37:24.208Z"
   },
   {
    "duration": 36,
    "start_time": "2021-08-24T22:37:24.232Z"
   },
   {
    "duration": 85,
    "start_time": "2021-08-24T22:37:24.271Z"
   },
   {
    "duration": 141,
    "start_time": "2021-08-24T22:37:24.362Z"
   },
   {
    "duration": 19,
    "start_time": "2021-08-24T22:37:24.506Z"
   },
   {
    "duration": 22,
    "start_time": "2021-08-24T22:37:24.527Z"
   },
   {
    "duration": 34,
    "start_time": "2021-08-24T22:37:24.551Z"
   },
   {
    "duration": 47,
    "start_time": "2021-08-24T22:37:24.587Z"
   },
   {
    "duration": 8,
    "start_time": "2021-08-24T22:37:24.637Z"
   },
   {
    "duration": 120,
    "start_time": "2021-08-24T22:37:24.647Z"
   },
   {
    "duration": 27,
    "start_time": "2021-08-24T22:37:24.770Z"
   },
   {
    "duration": 19,
    "start_time": "2021-08-24T22:37:24.800Z"
   },
   {
    "duration": 69,
    "start_time": "2021-08-24T22:37:24.821Z"
   },
   {
    "duration": 8,
    "start_time": "2021-08-24T22:37:24.892Z"
   },
   {
    "duration": 57,
    "start_time": "2021-08-24T22:37:24.903Z"
   },
   {
    "duration": 51,
    "start_time": "2021-08-24T22:37:24.962Z"
   },
   {
    "duration": 9,
    "start_time": "2021-08-24T22:37:25.016Z"
   },
   {
    "duration": 14,
    "start_time": "2021-08-24T22:37:25.027Z"
   },
   {
    "duration": 40,
    "start_time": "2021-08-24T22:37:25.046Z"
   },
   {
    "duration": 7,
    "start_time": "2021-08-24T22:37:25.089Z"
   },
   {
    "duration": 12,
    "start_time": "2021-08-24T22:37:25.098Z"
   },
   {
    "duration": 14,
    "start_time": "2021-08-24T22:37:25.112Z"
   },
   {
    "duration": 55,
    "start_time": "2021-08-24T22:37:25.128Z"
   },
   {
    "duration": 52,
    "start_time": "2021-08-24T22:37:25.185Z"
   },
   {
    "duration": 149,
    "start_time": "2021-08-24T22:37:25.240Z"
   },
   {
    "duration": 113,
    "start_time": "2021-08-24T22:37:25.391Z"
   },
   {
    "duration": 31,
    "start_time": "2021-08-24T22:37:25.507Z"
   },
   {
    "duration": 62,
    "start_time": "2021-08-24T22:37:25.540Z"
   },
   {
    "duration": 15,
    "start_time": "2021-08-24T22:37:25.604Z"
   },
   {
    "duration": 349,
    "start_time": "2021-08-24T22:37:25.621Z"
   },
   {
    "duration": 471,
    "start_time": "2021-08-24T22:37:25.502Z"
   },
   {
    "duration": 465,
    "start_time": "2021-08-24T22:37:25.509Z"
   },
   {
    "duration": 460,
    "start_time": "2021-08-24T22:37:25.516Z"
   },
   {
    "duration": 443,
    "start_time": "2021-08-24T22:37:25.535Z"
   },
   {
    "duration": 438,
    "start_time": "2021-08-24T22:37:25.541Z"
   },
   {
    "duration": 77,
    "start_time": "2021-08-24T22:39:23.028Z"
   },
   {
    "duration": 56,
    "start_time": "2021-08-24T22:39:50.467Z"
   },
   {
    "duration": 350,
    "start_time": "2021-08-24T22:41:38.178Z"
   },
   {
    "duration": 339,
    "start_time": "2021-08-24T22:42:01.326Z"
   },
   {
    "duration": 145,
    "start_time": "2021-08-24T22:42:29.189Z"
   },
   {
    "duration": 70,
    "start_time": "2021-08-24T22:43:08.097Z"
   },
   {
    "duration": 23,
    "start_time": "2021-08-24T22:45:46.824Z"
   },
   {
    "duration": 7061,
    "start_time": "2021-08-24T22:50:20.988Z"
   },
   {
    "duration": 114,
    "start_time": "2021-08-24T22:50:57.877Z"
   },
   {
    "duration": 9,
    "start_time": "2021-08-24T22:51:27.017Z"
   },
   {
    "duration": 159,
    "start_time": "2021-08-24T22:51:40.077Z"
   },
   {
    "duration": 35,
    "start_time": "2021-08-24T22:51:50.689Z"
   },
   {
    "duration": 6,
    "start_time": "2021-08-24T23:05:44.157Z"
   },
   {
    "duration": 32,
    "start_time": "2021-08-24T23:05:58.907Z"
   },
   {
    "duration": 5,
    "start_time": "2021-08-24T23:10:50.448Z"
   },
   {
    "duration": 41,
    "start_time": "2021-08-24T23:10:51.967Z"
   },
   {
    "duration": 5,
    "start_time": "2021-08-24T23:14:26.948Z"
   },
   {
    "duration": 15,
    "start_time": "2021-08-24T23:20:20.917Z"
   },
   {
    "duration": 9,
    "start_time": "2021-08-24T23:21:09.437Z"
   },
   {
    "duration": 104,
    "start_time": "2021-08-24T23:31:30.988Z"
   },
   {
    "duration": 8,
    "start_time": "2021-08-24T23:31:51.807Z"
   },
   {
    "duration": 8,
    "start_time": "2021-08-24T23:33:03.743Z"
   },
   {
    "duration": 5,
    "start_time": "2021-08-24T23:36:41.677Z"
   },
   {
    "duration": 10,
    "start_time": "2021-08-24T23:37:07.337Z"
   },
   {
    "duration": 15,
    "start_time": "2021-08-24T23:37:50.145Z"
   },
   {
    "duration": 10,
    "start_time": "2021-08-24T23:43:31.787Z"
   },
   {
    "duration": 5,
    "start_time": "2021-08-24T23:43:36.427Z"
   },
   {
    "duration": 5,
    "start_time": "2021-08-24T23:44:07.107Z"
   },
   {
    "duration": 6,
    "start_time": "2021-08-24T23:44:09.817Z"
   },
   {
    "duration": 106,
    "start_time": "2021-08-24T23:44:20.598Z"
   },
   {
    "duration": 32,
    "start_time": "2021-08-24T23:44:32.337Z"
   },
   {
    "duration": 17,
    "start_time": "2021-08-24T23:44:59.107Z"
   },
   {
    "duration": 12,
    "start_time": "2021-08-24T23:45:48.330Z"
   },
   {
    "duration": 11,
    "start_time": "2021-08-24T23:47:42.637Z"
   },
   {
    "duration": 42,
    "start_time": "2021-08-24T23:47:51.867Z"
   },
   {
    "duration": 282,
    "start_time": "2021-08-24T23:49:17.725Z"
   },
   {
    "duration": 194,
    "start_time": "2021-08-24T23:50:40.117Z"
   },
   {
    "duration": 264,
    "start_time": "2021-08-24T23:51:06.941Z"
   },
   {
    "duration": 22,
    "start_time": "2021-08-24T23:51:26.947Z"
   },
   {
    "duration": 4,
    "start_time": "2021-08-24T23:52:03.448Z"
   },
   {
    "duration": 192,
    "start_time": "2021-08-24T23:52:03.454Z"
   },
   {
    "duration": 176,
    "start_time": "2021-08-24T23:52:03.649Z"
   },
   {
    "duration": 113,
    "start_time": "2021-08-24T23:52:03.828Z"
   },
   {
    "duration": 22,
    "start_time": "2021-08-24T23:52:03.944Z"
   },
   {
    "duration": 52,
    "start_time": "2021-08-24T23:52:03.968Z"
   },
   {
    "duration": 79,
    "start_time": "2021-08-24T23:52:04.022Z"
   },
   {
    "duration": 132,
    "start_time": "2021-08-24T23:52:04.104Z"
   },
   {
    "duration": 19,
    "start_time": "2021-08-24T23:52:04.239Z"
   },
   {
    "duration": 48,
    "start_time": "2021-08-24T23:52:04.260Z"
   },
   {
    "duration": 8,
    "start_time": "2021-08-24T23:52:04.310Z"
   },
   {
    "duration": 70,
    "start_time": "2021-08-24T23:52:04.320Z"
   },
   {
    "duration": 9,
    "start_time": "2021-08-24T23:52:04.393Z"
   },
   {
    "duration": 12,
    "start_time": "2021-08-24T23:52:04.405Z"
   },
   {
    "duration": 12,
    "start_time": "2021-08-24T23:52:04.419Z"
   },
   {
    "duration": 120,
    "start_time": "2021-08-24T23:52:04.433Z"
   },
   {
    "duration": 16,
    "start_time": "2021-08-24T23:52:04.555Z"
   },
   {
    "duration": 20,
    "start_time": "2021-08-24T23:52:04.584Z"
   },
   {
    "duration": 37,
    "start_time": "2021-08-24T23:52:04.606Z"
   },
   {
    "duration": 40,
    "start_time": "2021-08-24T23:52:04.645Z"
   },
   {
    "duration": 52,
    "start_time": "2021-08-24T23:52:04.689Z"
   },
   {
    "duration": 58,
    "start_time": "2021-08-24T23:52:04.743Z"
   },
   {
    "duration": 11,
    "start_time": "2021-08-24T23:52:04.804Z"
   },
   {
    "duration": 15,
    "start_time": "2021-08-24T23:52:04.818Z"
   },
   {
    "duration": 50,
    "start_time": "2021-08-24T23:52:04.836Z"
   },
   {
    "duration": 8,
    "start_time": "2021-08-24T23:52:04.889Z"
   },
   {
    "duration": 9,
    "start_time": "2021-08-24T23:52:04.902Z"
   },
   {
    "duration": 18,
    "start_time": "2021-08-24T23:52:04.914Z"
   },
   {
    "duration": 95,
    "start_time": "2021-08-24T23:52:04.935Z"
   },
   {
    "duration": 137,
    "start_time": "2021-08-24T23:52:05.032Z"
   },
   {
    "duration": 133,
    "start_time": "2021-08-24T23:52:05.171Z"
   },
   {
    "duration": 32,
    "start_time": "2021-08-24T23:52:05.307Z"
   },
   {
    "duration": 75,
    "start_time": "2021-08-24T23:52:05.341Z"
   },
   {
    "duration": 43,
    "start_time": "2021-08-24T23:52:05.419Z"
   },
   {
    "duration": 65,
    "start_time": "2021-08-24T23:52:05.464Z"
   },
   {
    "duration": 21,
    "start_time": "2021-08-24T23:52:11.077Z"
   },
   {
    "duration": 17,
    "start_time": "2021-08-24T23:52:24.327Z"
   },
   {
    "duration": 4,
    "start_time": "2021-08-24T23:52:31.348Z"
   },
   {
    "duration": 250,
    "start_time": "2021-08-24T23:52:31.355Z"
   },
   {
    "duration": 172,
    "start_time": "2021-08-24T23:52:31.610Z"
   },
   {
    "duration": 112,
    "start_time": "2021-08-24T23:52:31.786Z"
   },
   {
    "duration": 23,
    "start_time": "2021-08-24T23:52:31.900Z"
   },
   {
    "duration": 46,
    "start_time": "2021-08-24T23:52:31.926Z"
   },
   {
    "duration": 79,
    "start_time": "2021-08-24T23:52:31.974Z"
   },
   {
    "duration": 155,
    "start_time": "2021-08-24T23:52:32.055Z"
   },
   {
    "duration": 26,
    "start_time": "2021-08-24T23:52:32.214Z"
   },
   {
    "duration": 42,
    "start_time": "2021-08-24T23:52:32.243Z"
   },
   {
    "duration": 12,
    "start_time": "2021-08-24T23:52:32.288Z"
   },
   {
    "duration": 47,
    "start_time": "2021-08-24T23:52:32.303Z"
   },
   {
    "duration": 41,
    "start_time": "2021-08-24T23:52:32.353Z"
   },
   {
    "duration": 12,
    "start_time": "2021-08-24T23:52:32.398Z"
   },
   {
    "duration": 12,
    "start_time": "2021-08-24T23:52:32.413Z"
   },
   {
    "duration": 125,
    "start_time": "2021-08-24T23:52:32.428Z"
   },
   {
    "duration": 43,
    "start_time": "2021-08-24T23:52:32.556Z"
   },
   {
    "duration": 17,
    "start_time": "2021-08-24T23:52:32.602Z"
   },
   {
    "duration": 37,
    "start_time": "2021-08-24T23:52:32.621Z"
   },
   {
    "duration": 35,
    "start_time": "2021-08-24T23:52:32.661Z"
   },
   {
    "duration": 63,
    "start_time": "2021-08-24T23:52:32.700Z"
   },
   {
    "duration": 43,
    "start_time": "2021-08-24T23:52:32.786Z"
   },
   {
    "duration": 10,
    "start_time": "2021-08-24T23:52:32.832Z"
   },
   {
    "duration": 52,
    "start_time": "2021-08-24T23:52:32.845Z"
   },
   {
    "duration": 9,
    "start_time": "2021-08-24T23:52:32.899Z"
   },
   {
    "duration": 12,
    "start_time": "2021-08-24T23:52:32.910Z"
   },
   {
    "duration": 12,
    "start_time": "2021-08-24T23:52:32.927Z"
   },
   {
    "duration": 52,
    "start_time": "2021-08-24T23:52:32.942Z"
   },
   {
    "duration": 61,
    "start_time": "2021-08-24T23:52:32.997Z"
   },
   {
    "duration": 150,
    "start_time": "2021-08-24T23:52:33.060Z"
   },
   {
    "duration": 119,
    "start_time": "2021-08-24T23:52:33.213Z"
   },
   {
    "duration": 31,
    "start_time": "2021-08-24T23:52:33.334Z"
   },
   {
    "duration": 51,
    "start_time": "2021-08-24T23:52:33.383Z"
   },
   {
    "duration": 65,
    "start_time": "2021-08-24T23:52:33.436Z"
   },
   {
    "duration": 45,
    "start_time": "2021-08-24T23:52:33.504Z"
   },
   {
    "duration": 15,
    "start_time": "2021-08-24T23:52:35.385Z"
   },
   {
    "duration": 9,
    "start_time": "2021-08-24T23:52:44.663Z"
   },
   {
    "duration": 246,
    "start_time": "2021-08-24T23:52:51.317Z"
   },
   {
    "duration": 92,
    "start_time": "2021-08-24T23:53:09.367Z"
   },
   {
    "duration": 299,
    "start_time": "2021-08-24T23:53:18.718Z"
   },
   {
    "duration": 20,
    "start_time": "2021-08-24T23:54:09.018Z"
   },
   {
    "duration": 245,
    "start_time": "2021-08-24T23:54:21.824Z"
   },
   {
    "duration": 271,
    "start_time": "2021-08-24T23:54:42.030Z"
   },
   {
    "duration": 17,
    "start_time": "2021-08-24T23:54:59.630Z"
   },
   {
    "duration": 12,
    "start_time": "2021-08-24T23:55:07.247Z"
   },
   {
    "duration": 31,
    "start_time": "2021-08-24T23:55:27.577Z"
   },
   {
    "duration": 13,
    "start_time": "2021-08-25T00:09:15.537Z"
   },
   {
    "duration": 14,
    "start_time": "2021-08-25T00:09:30.738Z"
   },
   {
    "duration": 11,
    "start_time": "2021-08-25T00:11:23.348Z"
   },
   {
    "duration": 12,
    "start_time": "2021-08-25T00:13:32.108Z"
   },
   {
    "duration": 39,
    "start_time": "2021-08-25T00:13:38.843Z"
   },
   {
    "duration": 151,
    "start_time": "2021-08-25T00:13:42.288Z"
   },
   {
    "duration": 2397,
    "start_time": "2021-08-25T00:13:55.848Z"
   },
   {
    "duration": 4,
    "start_time": "2021-08-25T00:14:08.018Z"
   },
   {
    "duration": 196,
    "start_time": "2021-08-25T00:14:08.025Z"
   },
   {
    "duration": 159,
    "start_time": "2021-08-25T00:14:08.224Z"
   },
   {
    "duration": 101,
    "start_time": "2021-08-25T00:14:08.387Z"
   },
   {
    "duration": 23,
    "start_time": "2021-08-25T00:14:08.491Z"
   },
   {
    "duration": 184,
    "start_time": "2021-08-25T00:14:08.516Z"
   },
   {
    "duration": 86,
    "start_time": "2021-08-25T00:14:08.702Z"
   },
   {
    "duration": 122,
    "start_time": "2021-08-25T00:14:08.790Z"
   },
   {
    "duration": 19,
    "start_time": "2021-08-25T00:14:08.916Z"
   },
   {
    "duration": 20,
    "start_time": "2021-08-25T00:14:08.938Z"
   },
   {
    "duration": 28,
    "start_time": "2021-08-25T00:14:08.960Z"
   },
   {
    "duration": 58,
    "start_time": "2021-08-25T00:14:08.990Z"
   },
   {
    "duration": 9,
    "start_time": "2021-08-25T00:14:09.050Z"
   },
   {
    "duration": 30,
    "start_time": "2021-08-25T00:14:09.061Z"
   },
   {
    "duration": 16,
    "start_time": "2021-08-25T00:14:09.093Z"
   },
   {
    "duration": 95,
    "start_time": "2021-08-25T00:14:09.111Z"
   },
   {
    "duration": 15,
    "start_time": "2021-08-25T00:14:09.209Z"
   },
   {
    "duration": 17,
    "start_time": "2021-08-25T00:14:09.227Z"
   },
   {
    "duration": 61,
    "start_time": "2021-08-25T00:14:09.246Z"
   },
   {
    "duration": 8,
    "start_time": "2021-08-25T00:14:09.310Z"
   },
   {
    "duration": 78,
    "start_time": "2021-08-25T00:14:09.320Z"
   },
   {
    "duration": 34,
    "start_time": "2021-08-25T00:14:09.401Z"
   },
   {
    "duration": 8,
    "start_time": "2021-08-25T00:14:09.438Z"
   },
   {
    "duration": 51,
    "start_time": "2021-08-25T00:14:09.448Z"
   },
   {
    "duration": 11,
    "start_time": "2021-08-25T00:14:09.501Z"
   },
   {
    "duration": 8,
    "start_time": "2021-08-25T00:14:09.514Z"
   },
   {
    "duration": 9,
    "start_time": "2021-08-25T00:14:09.527Z"
   },
   {
    "duration": 54,
    "start_time": "2021-08-25T00:14:09.539Z"
   },
   {
    "duration": 51,
    "start_time": "2021-08-25T00:14:09.595Z"
   },
   {
    "duration": 139,
    "start_time": "2021-08-25T00:14:09.649Z"
   },
   {
    "duration": 116,
    "start_time": "2021-08-25T00:14:09.791Z"
   },
   {
    "duration": 36,
    "start_time": "2021-08-25T00:14:09.909Z"
   },
   {
    "duration": 61,
    "start_time": "2021-08-25T00:14:09.947Z"
   },
   {
    "duration": 41,
    "start_time": "2021-08-25T00:14:10.010Z"
   },
   {
    "duration": 72,
    "start_time": "2021-08-25T00:14:10.055Z"
   },
   {
    "duration": 6,
    "start_time": "2021-08-25T00:14:10.130Z"
   },
   {
    "duration": 45,
    "start_time": "2021-08-25T00:14:10.139Z"
   },
   {
    "duration": 14,
    "start_time": "2021-08-25T00:14:10.186Z"
   },
   {
    "duration": 25,
    "start_time": "2021-08-25T00:14:10.203Z"
   },
   {
    "duration": 1524,
    "start_time": "2021-08-25T00:14:10.231Z"
   },
   {
    "duration": 732,
    "start_time": "2021-08-25T00:14:11.758Z"
   },
   {
    "duration": 18,
    "start_time": "2021-08-25T00:14:12.493Z"
   },
   {
    "duration": 23,
    "start_time": "2021-08-25T00:14:12.514Z"
   },
   {
    "duration": 20,
    "start_time": "2021-08-25T00:15:29.356Z"
   },
   {
    "duration": 6410,
    "start_time": "2021-08-25T00:17:27.907Z"
   },
   {
    "duration": 6323,
    "start_time": "2021-08-25T00:18:51.988Z"
   },
   {
    "duration": 262,
    "start_time": "2021-08-25T00:19:48.958Z"
   },
   {
    "duration": 113,
    "start_time": "2021-08-25T00:20:23.618Z"
   },
   {
    "duration": 7,
    "start_time": "2021-08-25T00:21:32.267Z"
   },
   {
    "duration": 19,
    "start_time": "2021-08-25T00:21:48.483Z"
   },
   {
    "duration": 5,
    "start_time": "2021-08-25T00:39:16.218Z"
   },
   {
    "duration": 5,
    "start_time": "2021-08-25T00:39:34.027Z"
   },
   {
    "duration": 17,
    "start_time": "2021-08-25T00:39:46.518Z"
   },
   {
    "duration": 3,
    "start_time": "2021-08-25T01:32:23.752Z"
   },
   {
    "duration": 197,
    "start_time": "2021-08-25T01:32:23.758Z"
   },
   {
    "duration": 183,
    "start_time": "2021-08-25T01:32:23.958Z"
   },
   {
    "duration": 101,
    "start_time": "2021-08-25T01:32:24.143Z"
   },
   {
    "duration": 21,
    "start_time": "2021-08-25T01:32:24.247Z"
   },
   {
    "duration": 36,
    "start_time": "2021-08-25T01:32:24.270Z"
   },
   {
    "duration": 78,
    "start_time": "2021-08-25T01:32:24.308Z"
   },
   {
    "duration": 135,
    "start_time": "2021-08-25T01:32:24.388Z"
   },
   {
    "duration": 20,
    "start_time": "2021-08-25T01:32:24.529Z"
   },
   {
    "duration": 47,
    "start_time": "2021-08-25T01:32:24.553Z"
   },
   {
    "duration": 9,
    "start_time": "2021-08-25T01:32:24.603Z"
   },
   {
    "duration": 76,
    "start_time": "2021-08-25T01:32:24.615Z"
   },
   {
    "duration": 10,
    "start_time": "2021-08-25T01:32:24.694Z"
   },
   {
    "duration": 13,
    "start_time": "2021-08-25T01:32:24.707Z"
   },
   {
    "duration": 10,
    "start_time": "2021-08-25T01:32:24.723Z"
   },
   {
    "duration": 126,
    "start_time": "2021-08-25T01:32:24.736Z"
   },
   {
    "duration": 34,
    "start_time": "2021-08-25T01:32:24.865Z"
   },
   {
    "duration": 19,
    "start_time": "2021-08-25T01:32:24.902Z"
   },
   {
    "duration": 77,
    "start_time": "2021-08-25T01:32:24.924Z"
   },
   {
    "duration": 11,
    "start_time": "2021-08-25T01:32:25.004Z"
   },
   {
    "duration": 81,
    "start_time": "2021-08-25T01:32:25.017Z"
   },
   {
    "duration": 39,
    "start_time": "2021-08-25T01:32:25.101Z"
   },
   {
    "duration": 8,
    "start_time": "2021-08-25T01:32:25.143Z"
   },
   {
    "duration": 37,
    "start_time": "2021-08-25T01:32:25.153Z"
   },
   {
    "duration": 8,
    "start_time": "2021-08-25T01:32:25.193Z"
   },
   {
    "duration": 8,
    "start_time": "2021-08-25T01:32:25.204Z"
   },
   {
    "duration": 11,
    "start_time": "2021-08-25T01:32:25.218Z"
   },
   {
    "duration": 60,
    "start_time": "2021-08-25T01:32:25.232Z"
   },
   {
    "duration": 12,
    "start_time": "2021-08-25T01:32:25.294Z"
   },
   {
    "duration": 19,
    "start_time": "2021-08-25T01:32:25.308Z"
   },
   {
    "duration": 72,
    "start_time": "2021-08-25T01:32:25.329Z"
   },
   {
    "duration": 131,
    "start_time": "2021-08-25T01:32:25.404Z"
   },
   {
    "duration": 110,
    "start_time": "2021-08-25T01:32:25.537Z"
   },
   {
    "duration": 48,
    "start_time": "2021-08-25T01:32:25.649Z"
   },
   {
    "duration": 42,
    "start_time": "2021-08-25T01:32:25.699Z"
   },
   {
    "duration": 65,
    "start_time": "2021-08-25T01:32:25.743Z"
   },
   {
    "duration": 48,
    "start_time": "2021-08-25T01:32:25.811Z"
   },
   {
    "duration": 21,
    "start_time": "2021-08-25T01:32:25.862Z"
   },
   {
    "duration": 16,
    "start_time": "2021-08-25T01:32:25.885Z"
   },
   {
    "duration": 12,
    "start_time": "2021-08-25T01:32:25.904Z"
   },
   {
    "duration": 39,
    "start_time": "2021-08-25T01:32:25.919Z"
   },
   {
    "duration": 19,
    "start_time": "2021-08-25T01:32:25.982Z"
   },
   {
    "duration": 1555,
    "start_time": "2021-08-25T01:32:26.003Z"
   },
   {
    "duration": 832,
    "start_time": "2021-08-25T01:32:27.561Z"
   },
   {
    "duration": 15,
    "start_time": "2021-08-25T01:32:28.396Z"
   },
   {
    "duration": 21,
    "start_time": "2021-08-25T01:32:28.414Z"
   },
   {
    "duration": 21,
    "start_time": "2021-08-25T01:33:33.052Z"
   },
   {
    "duration": 675,
    "start_time": "2021-08-25T22:34:16.610Z"
   },
   {
    "duration": 153,
    "start_time": "2021-08-25T22:34:17.287Z"
   },
   {
    "duration": 124,
    "start_time": "2021-08-25T22:34:17.442Z"
   },
   {
    "duration": 85,
    "start_time": "2021-08-25T22:34:17.568Z"
   },
   {
    "duration": 21,
    "start_time": "2021-08-25T22:34:17.655Z"
   },
   {
    "duration": 35,
    "start_time": "2021-08-25T22:34:17.677Z"
   },
   {
    "duration": 47,
    "start_time": "2021-08-25T22:34:17.714Z"
   },
   {
    "duration": 94,
    "start_time": "2021-08-25T22:34:17.763Z"
   },
   {
    "duration": 16,
    "start_time": "2021-08-25T22:34:17.860Z"
   },
   {
    "duration": 20,
    "start_time": "2021-08-25T22:34:17.878Z"
   },
   {
    "duration": 5,
    "start_time": "2021-08-25T22:34:17.900Z"
   },
   {
    "duration": 55,
    "start_time": "2021-08-25T22:34:17.907Z"
   },
   {
    "duration": 6,
    "start_time": "2021-08-25T22:34:17.964Z"
   },
   {
    "duration": 9,
    "start_time": "2021-08-25T22:34:17.971Z"
   },
   {
    "duration": 8,
    "start_time": "2021-08-25T22:34:17.981Z"
   },
   {
    "duration": 73,
    "start_time": "2021-08-25T22:34:17.991Z"
   },
   {
    "duration": 13,
    "start_time": "2021-08-25T22:34:18.066Z"
   },
   {
    "duration": 16,
    "start_time": "2021-08-25T22:34:18.081Z"
   },
   {
    "duration": 54,
    "start_time": "2021-08-25T22:34:18.099Z"
   },
   {
    "duration": 6,
    "start_time": "2021-08-25T22:34:18.155Z"
   },
   {
    "duration": 40,
    "start_time": "2021-08-25T22:34:18.163Z"
   },
   {
    "duration": 51,
    "start_time": "2021-08-25T22:34:18.205Z"
   },
   {
    "duration": 7,
    "start_time": "2021-08-25T22:34:18.257Z"
   },
   {
    "duration": 12,
    "start_time": "2021-08-25T22:34:18.265Z"
   },
   {
    "duration": 14,
    "start_time": "2021-08-25T22:34:18.279Z"
   },
   {
    "duration": 11,
    "start_time": "2021-08-25T22:34:18.295Z"
   },
   {
    "duration": 11,
    "start_time": "2021-08-25T22:34:18.310Z"
   },
   {
    "duration": 24,
    "start_time": "2021-08-25T22:34:18.323Z"
   },
   {
    "duration": 3,
    "start_time": "2021-08-25T22:34:18.349Z"
   },
   {
    "duration": 12,
    "start_time": "2021-08-25T22:34:18.354Z"
   },
   {
    "duration": 39,
    "start_time": "2021-08-25T22:34:18.368Z"
   },
   {
    "duration": 109,
    "start_time": "2021-08-25T22:34:18.409Z"
   },
   {
    "duration": 80,
    "start_time": "2021-08-25T22:34:18.520Z"
   },
   {
    "duration": 21,
    "start_time": "2021-08-25T22:34:18.602Z"
   },
   {
    "duration": 58,
    "start_time": "2021-08-25T22:34:18.624Z"
   },
   {
    "duration": 33,
    "start_time": "2021-08-25T22:34:18.684Z"
   },
   {
    "duration": 34,
    "start_time": "2021-08-25T22:34:18.741Z"
   },
   {
    "duration": 4,
    "start_time": "2021-08-25T22:34:18.777Z"
   },
   {
    "duration": 12,
    "start_time": "2021-08-25T22:34:18.783Z"
   },
   {
    "duration": 10,
    "start_time": "2021-08-25T22:34:18.797Z"
   },
   {
    "duration": 46,
    "start_time": "2021-08-25T22:34:18.809Z"
   },
   {
    "duration": 16,
    "start_time": "2021-08-25T22:34:18.857Z"
   },
   {
    "duration": 1206,
    "start_time": "2021-08-25T22:34:18.875Z"
   },
   {
    "duration": 495,
    "start_time": "2021-08-25T22:34:20.083Z"
   },
   {
    "duration": 15,
    "start_time": "2021-08-25T22:34:20.580Z"
   },
   {
    "duration": 15,
    "start_time": "2021-08-25T22:34:20.597Z"
   },
   {
    "duration": 5,
    "start_time": "2021-08-25T22:37:25.567Z"
   },
   {
    "duration": 11,
    "start_time": "2021-08-25T22:47:08.429Z"
   },
   {
    "duration": 12,
    "start_time": "2021-08-25T23:03:41.390Z"
   },
   {
    "duration": 327,
    "start_time": "2021-08-25T23:05:26.428Z"
   },
   {
    "duration": 4,
    "start_time": "2021-08-25T23:07:03.630Z"
   },
   {
    "duration": 11,
    "start_time": "2021-08-25T23:07:05.660Z"
   },
   {
    "duration": 265,
    "start_time": "2021-08-25T23:07:21.640Z"
   },
   {
    "duration": 14,
    "start_time": "2021-08-25T23:07:46.179Z"
   },
   {
    "duration": 13,
    "start_time": "2021-08-25T23:08:03.520Z"
   },
   {
    "duration": 269,
    "start_time": "2021-08-25T23:09:10.900Z"
   },
   {
    "duration": 261,
    "start_time": "2021-08-25T23:09:21.600Z"
   },
   {
    "duration": 4,
    "start_time": "2021-08-25T23:09:28.629Z"
   },
   {
    "duration": 20,
    "start_time": "2021-08-25T23:09:42.569Z"
   },
   {
    "duration": 15,
    "start_time": "2021-08-25T23:11:51.890Z"
   },
   {
    "duration": 22,
    "start_time": "2021-08-25T23:12:02.109Z"
   },
   {
    "duration": 16,
    "start_time": "2021-08-25T23:12:18.670Z"
   },
   {
    "duration": 3,
    "start_time": "2021-08-25T23:14:13.530Z"
   },
   {
    "duration": 144,
    "start_time": "2021-08-25T23:14:13.535Z"
   },
   {
    "duration": 114,
    "start_time": "2021-08-25T23:14:13.681Z"
   },
   {
    "duration": 96,
    "start_time": "2021-08-25T23:14:13.797Z"
   },
   {
    "duration": 23,
    "start_time": "2021-08-25T23:14:13.895Z"
   },
   {
    "duration": 41,
    "start_time": "2021-08-25T23:14:13.920Z"
   },
   {
    "duration": 74,
    "start_time": "2021-08-25T23:14:13.963Z"
   },
   {
    "duration": 113,
    "start_time": "2021-08-25T23:14:14.041Z"
   },
   {
    "duration": 14,
    "start_time": "2021-08-25T23:14:14.157Z"
   },
   {
    "duration": 14,
    "start_time": "2021-08-25T23:14:14.173Z"
   },
   {
    "duration": 4,
    "start_time": "2021-08-25T23:14:14.189Z"
   },
   {
    "duration": 62,
    "start_time": "2021-08-25T23:14:14.195Z"
   },
   {
    "duration": 6,
    "start_time": "2021-08-25T23:14:14.259Z"
   },
   {
    "duration": 6,
    "start_time": "2021-08-25T23:14:14.266Z"
   },
   {
    "duration": 43,
    "start_time": "2021-08-25T23:14:14.274Z"
   },
   {
    "duration": 17,
    "start_time": "2021-08-25T23:14:14.340Z"
   },
   {
    "duration": 13,
    "start_time": "2021-08-25T23:14:14.359Z"
   },
   {
    "duration": 26,
    "start_time": "2021-08-25T23:14:14.373Z"
   },
   {
    "duration": 5,
    "start_time": "2021-08-25T23:14:14.401Z"
   },
   {
    "duration": 70,
    "start_time": "2021-08-25T23:14:14.408Z"
   },
   {
    "duration": 25,
    "start_time": "2021-08-25T23:14:14.480Z"
   },
   {
    "duration": 5,
    "start_time": "2021-08-25T23:14:14.507Z"
   },
   {
    "duration": 33,
    "start_time": "2021-08-25T23:14:14.514Z"
   },
   {
    "duration": 7,
    "start_time": "2021-08-25T23:14:14.550Z"
   },
   {
    "duration": 21,
    "start_time": "2021-08-25T23:14:14.559Z"
   },
   {
    "duration": 9,
    "start_time": "2021-08-25T23:14:14.582Z"
   },
   {
    "duration": 9,
    "start_time": "2021-08-25T23:14:14.595Z"
   },
   {
    "duration": 41,
    "start_time": "2021-08-25T23:14:14.607Z"
   },
   {
    "duration": 7,
    "start_time": "2021-08-25T23:14:14.650Z"
   },
   {
    "duration": 11,
    "start_time": "2021-08-25T23:14:14.658Z"
   },
   {
    "duration": 38,
    "start_time": "2021-08-25T23:14:14.671Z"
   },
   {
    "duration": 109,
    "start_time": "2021-08-25T23:14:14.711Z"
   },
   {
    "duration": 81,
    "start_time": "2021-08-25T23:14:14.822Z"
   },
   {
    "duration": 20,
    "start_time": "2021-08-25T23:14:14.905Z"
   },
   {
    "duration": 45,
    "start_time": "2021-08-25T23:14:14.926Z"
   },
   {
    "duration": 27,
    "start_time": "2021-08-25T23:14:14.973Z"
   },
   {
    "duration": 65,
    "start_time": "2021-08-25T23:14:15.001Z"
   },
   {
    "duration": 3,
    "start_time": "2021-08-25T23:14:15.068Z"
   },
   {
    "duration": 14,
    "start_time": "2021-08-25T23:14:15.073Z"
   },
   {
    "duration": 9,
    "start_time": "2021-08-25T23:14:15.089Z"
   },
   {
    "duration": 16,
    "start_time": "2021-08-25T23:14:15.100Z"
   },
   {
    "duration": 37,
    "start_time": "2021-08-25T23:14:15.118Z"
   },
   {
    "duration": 17,
    "start_time": "2021-08-25T23:14:15.157Z"
   },
   {
    "duration": 974,
    "start_time": "2021-08-25T23:14:15.176Z"
   },
   {
    "duration": 383,
    "start_time": "2021-08-25T23:14:16.152Z"
   },
   {
    "duration": 14,
    "start_time": "2021-08-25T23:14:16.540Z"
   },
   {
    "duration": 14,
    "start_time": "2021-08-25T23:14:16.556Z"
   },
   {
    "duration": 20,
    "start_time": "2021-08-25T23:15:58.385Z"
   },
   {
    "duration": 20,
    "start_time": "2021-08-25T23:16:26.450Z"
   },
   {
    "duration": 19,
    "start_time": "2021-08-25T23:16:33.960Z"
   },
   {
    "duration": 5,
    "start_time": "2021-08-25T23:16:41.790Z"
   },
   {
    "duration": 12,
    "start_time": "2021-08-25T23:16:44.469Z"
   },
   {
    "duration": 5,
    "start_time": "2021-08-25T23:18:50.280Z"
   },
   {
    "duration": 3,
    "start_time": "2021-08-25T23:18:57.200Z"
   },
   {
    "duration": 159,
    "start_time": "2021-08-25T23:18:57.205Z"
   },
   {
    "duration": 126,
    "start_time": "2021-08-25T23:18:57.366Z"
   },
   {
    "duration": 88,
    "start_time": "2021-08-25T23:18:57.495Z"
   },
   {
    "duration": 22,
    "start_time": "2021-08-25T23:18:57.585Z"
   },
   {
    "duration": 36,
    "start_time": "2021-08-25T23:18:57.608Z"
   },
   {
    "duration": 55,
    "start_time": "2021-08-25T23:18:57.646Z"
   },
   {
    "duration": 102,
    "start_time": "2021-08-25T23:18:57.703Z"
   },
   {
    "duration": 15,
    "start_time": "2021-08-25T23:18:57.808Z"
   },
   {
    "duration": 29,
    "start_time": "2021-08-25T23:18:57.826Z"
   },
   {
    "duration": 6,
    "start_time": "2021-08-25T23:18:57.857Z"
   },
   {
    "duration": 40,
    "start_time": "2021-08-25T23:18:57.864Z"
   },
   {
    "duration": 7,
    "start_time": "2021-08-25T23:18:57.905Z"
   },
   {
    "duration": 32,
    "start_time": "2021-08-25T23:18:57.914Z"
   },
   {
    "duration": 54,
    "start_time": "2021-08-25T23:18:57.948Z"
   },
   {
    "duration": 39,
    "start_time": "2021-08-25T23:18:58.003Z"
   },
   {
    "duration": 14,
    "start_time": "2021-08-25T23:18:58.043Z"
   },
   {
    "duration": 31,
    "start_time": "2021-08-25T23:18:58.059Z"
   },
   {
    "duration": 7,
    "start_time": "2021-08-25T23:18:58.092Z"
   },
   {
    "duration": 71,
    "start_time": "2021-08-25T23:18:58.101Z"
   },
   {
    "duration": 26,
    "start_time": "2021-08-25T23:18:58.174Z"
   },
   {
    "duration": 7,
    "start_time": "2021-08-25T23:18:58.202Z"
   },
   {
    "duration": 35,
    "start_time": "2021-08-25T23:18:58.210Z"
   },
   {
    "duration": 6,
    "start_time": "2021-08-25T23:18:58.247Z"
   },
   {
    "duration": 6,
    "start_time": "2021-08-25T23:18:58.255Z"
   },
   {
    "duration": 7,
    "start_time": "2021-08-25T23:18:58.263Z"
   },
   {
    "duration": 11,
    "start_time": "2021-08-25T23:18:58.274Z"
   },
   {
    "duration": 5,
    "start_time": "2021-08-25T23:18:58.287Z"
   },
   {
    "duration": 13,
    "start_time": "2021-08-25T23:18:58.293Z"
   },
   {
    "duration": 72,
    "start_time": "2021-08-25T23:18:58.307Z"
   },
   {
    "duration": 102,
    "start_time": "2021-08-25T23:18:58.380Z"
   },
   {
    "duration": 81,
    "start_time": "2021-08-25T23:18:58.484Z"
   },
   {
    "duration": 21,
    "start_time": "2021-08-25T23:18:58.566Z"
   },
   {
    "duration": 28,
    "start_time": "2021-08-25T23:18:58.589Z"
   },
   {
    "duration": 44,
    "start_time": "2021-08-25T23:18:58.619Z"
   },
   {
    "duration": 34,
    "start_time": "2021-08-25T23:18:58.664Z"
   },
   {
    "duration": 3,
    "start_time": "2021-08-25T23:18:58.700Z"
   },
   {
    "duration": 13,
    "start_time": "2021-08-25T23:18:58.704Z"
   },
   {
    "duration": 9,
    "start_time": "2021-08-25T23:18:58.741Z"
   },
   {
    "duration": 17,
    "start_time": "2021-08-25T23:18:58.751Z"
   },
   {
    "duration": 12,
    "start_time": "2021-08-25T23:18:58.770Z"
   },
   {
    "duration": 26,
    "start_time": "2021-08-25T23:18:58.784Z"
   },
   {
    "duration": 935,
    "start_time": "2021-08-25T23:18:58.811Z"
   },
   {
    "duration": 361,
    "start_time": "2021-08-25T23:18:59.747Z"
   },
   {
    "duration": 11,
    "start_time": "2021-08-25T23:19:00.110Z"
   },
   {
    "duration": 22,
    "start_time": "2021-08-25T23:19:00.123Z"
   },
   {
    "duration": 914,
    "start_time": "2021-08-25T23:20:56.899Z"
   },
   {
    "duration": 40,
    "start_time": "2021-08-25T23:22:29.541Z"
   },
   {
    "duration": 60,
    "start_time": "2021-08-25T23:23:26.130Z"
   },
   {
    "duration": 28,
    "start_time": "2021-08-25T23:23:44.102Z"
   },
   {
    "duration": 49,
    "start_time": "2021-08-25T23:25:11.201Z"
   },
   {
    "duration": 293,
    "start_time": "2021-08-25T23:26:04.251Z"
   },
   {
    "duration": 3977,
    "start_time": "2021-08-25T23:26:14.000Z"
   },
   {
    "duration": 3472,
    "start_time": "2021-08-25T23:27:23.432Z"
   },
   {
    "duration": 4,
    "start_time": "2021-08-25T23:27:41.029Z"
   },
   {
    "duration": 153,
    "start_time": "2021-08-25T23:27:41.035Z"
   },
   {
    "duration": 129,
    "start_time": "2021-08-25T23:27:41.190Z"
   },
   {
    "duration": 86,
    "start_time": "2021-08-25T23:27:41.321Z"
   },
   {
    "duration": 20,
    "start_time": "2021-08-25T23:27:41.408Z"
   },
   {
    "duration": 220,
    "start_time": "2021-08-25T23:27:41.430Z"
   },
   {
    "duration": 58,
    "start_time": "2021-08-25T23:27:41.652Z"
   },
   {
    "duration": 109,
    "start_time": "2021-08-25T23:27:41.711Z"
   },
   {
    "duration": 18,
    "start_time": "2021-08-25T23:27:41.823Z"
   },
   {
    "duration": 15,
    "start_time": "2021-08-25T23:27:41.843Z"
   },
   {
    "duration": 4,
    "start_time": "2021-08-25T23:27:41.860Z"
   },
   {
    "duration": 43,
    "start_time": "2021-08-25T23:27:41.866Z"
   },
   {
    "duration": 5,
    "start_time": "2021-08-25T23:27:41.911Z"
   },
   {
    "duration": 7,
    "start_time": "2021-08-25T23:27:41.940Z"
   },
   {
    "duration": 57,
    "start_time": "2021-08-25T23:27:41.948Z"
   },
   {
    "duration": 13,
    "start_time": "2021-08-25T23:27:42.006Z"
   },
   {
    "duration": 14,
    "start_time": "2021-08-25T23:27:42.040Z"
   },
   {
    "duration": 29,
    "start_time": "2021-08-25T23:27:42.056Z"
   },
   {
    "duration": 5,
    "start_time": "2021-08-25T23:27:42.087Z"
   },
   {
    "duration": 70,
    "start_time": "2021-08-25T23:27:42.093Z"
   },
   {
    "duration": 27,
    "start_time": "2021-08-25T23:27:42.165Z"
   },
   {
    "duration": 5,
    "start_time": "2021-08-25T23:27:42.193Z"
   },
   {
    "duration": 21,
    "start_time": "2021-08-25T23:27:42.199Z"
   },
   {
    "duration": 18,
    "start_time": "2021-08-25T23:27:42.222Z"
   },
   {
    "duration": 7,
    "start_time": "2021-08-25T23:27:42.242Z"
   },
   {
    "duration": 25,
    "start_time": "2021-08-25T23:27:42.251Z"
   },
   {
    "duration": 18,
    "start_time": "2021-08-25T23:27:42.279Z"
   },
   {
    "duration": 13,
    "start_time": "2021-08-25T23:27:42.299Z"
   },
   {
    "duration": 34,
    "start_time": "2021-08-25T23:27:42.314Z"
   },
   {
    "duration": 56,
    "start_time": "2021-08-25T23:27:42.350Z"
   },
   {
    "duration": 81,
    "start_time": "2021-08-25T23:27:42.408Z"
   },
   {
    "duration": 74,
    "start_time": "2021-08-25T23:27:42.490Z"
   },
   {
    "duration": 23,
    "start_time": "2021-08-25T23:27:42.566Z"
   },
   {
    "duration": 51,
    "start_time": "2021-08-25T23:27:42.591Z"
   },
   {
    "duration": 28,
    "start_time": "2021-08-25T23:27:42.644Z"
   },
   {
    "duration": 37,
    "start_time": "2021-08-25T23:27:42.674Z"
   },
   {
    "duration": 29,
    "start_time": "2021-08-25T23:27:42.713Z"
   },
   {
    "duration": 17,
    "start_time": "2021-08-25T23:27:42.744Z"
   },
   {
    "duration": 12,
    "start_time": "2021-08-25T23:27:42.763Z"
   },
   {
    "duration": 30,
    "start_time": "2021-08-25T23:27:42.777Z"
   },
   {
    "duration": 19,
    "start_time": "2021-08-25T23:27:42.809Z"
   },
   {
    "duration": 37,
    "start_time": "2021-08-25T23:27:42.830Z"
   },
   {
    "duration": 262,
    "start_time": "2021-08-25T23:27:42.868Z"
   },
   {
    "duration": 1423,
    "start_time": "2021-08-25T23:27:41.709Z"
   },
   {
    "duration": 1417,
    "start_time": "2021-08-25T23:27:41.716Z"
   },
   {
    "duration": 313,
    "start_time": "2021-08-25T23:28:07.790Z"
   },
   {
    "duration": 100,
    "start_time": "2021-08-25T23:36:01.490Z"
   },
   {
    "duration": 108,
    "start_time": "2021-08-25T23:36:08.520Z"
   },
   {
    "duration": 2,
    "start_time": "2021-08-25T23:36:44.491Z"
   },
   {
    "duration": 147,
    "start_time": "2021-08-25T23:36:44.495Z"
   },
   {
    "duration": 131,
    "start_time": "2021-08-25T23:36:44.644Z"
   },
   {
    "duration": 88,
    "start_time": "2021-08-25T23:36:44.777Z"
   },
   {
    "duration": 20,
    "start_time": "2021-08-25T23:36:44.867Z"
   },
   {
    "duration": 62,
    "start_time": "2021-08-25T23:36:44.889Z"
   },
   {
    "duration": 65,
    "start_time": "2021-08-25T23:36:44.953Z"
   },
   {
    "duration": 101,
    "start_time": "2021-08-25T23:36:45.020Z"
   },
   {
    "duration": 28,
    "start_time": "2021-08-25T23:36:45.123Z"
   },
   {
    "duration": 15,
    "start_time": "2021-08-25T23:36:45.153Z"
   },
   {
    "duration": 5,
    "start_time": "2021-08-25T23:36:45.170Z"
   },
   {
    "duration": 38,
    "start_time": "2021-08-25T23:36:45.176Z"
   },
   {
    "duration": 27,
    "start_time": "2021-08-25T23:36:45.215Z"
   },
   {
    "duration": 6,
    "start_time": "2021-08-25T23:36:45.244Z"
   },
   {
    "duration": 60,
    "start_time": "2021-08-25T23:36:45.252Z"
   },
   {
    "duration": 34,
    "start_time": "2021-08-25T23:36:45.314Z"
   },
   {
    "duration": 15,
    "start_time": "2021-08-25T23:36:45.350Z"
   },
   {
    "duration": 45,
    "start_time": "2021-08-25T23:36:45.367Z"
   },
   {
    "duration": 32,
    "start_time": "2021-08-25T23:36:45.414Z"
   },
   {
    "duration": 46,
    "start_time": "2021-08-25T23:36:45.448Z"
   },
   {
    "duration": 48,
    "start_time": "2021-08-25T23:36:45.496Z"
   },
   {
    "duration": 7,
    "start_time": "2021-08-25T23:36:45.546Z"
   },
   {
    "duration": 9,
    "start_time": "2021-08-25T23:36:45.555Z"
   },
   {
    "duration": 7,
    "start_time": "2021-08-25T23:36:45.566Z"
   },
   {
    "duration": 6,
    "start_time": "2021-08-25T23:36:45.574Z"
   },
   {
    "duration": 8,
    "start_time": "2021-08-25T23:36:45.582Z"
   },
   {
    "duration": 51,
    "start_time": "2021-08-25T23:36:45.594Z"
   },
   {
    "duration": 4,
    "start_time": "2021-08-25T23:36:45.647Z"
   },
   {
    "duration": 14,
    "start_time": "2021-08-25T23:36:45.653Z"
   },
   {
    "duration": 40,
    "start_time": "2021-08-25T23:36:45.668Z"
   },
   {
    "duration": 101,
    "start_time": "2021-08-25T23:36:45.709Z"
   },
   {
    "duration": 78,
    "start_time": "2021-08-25T23:36:45.812Z"
   },
   {
    "duration": 20,
    "start_time": "2021-08-25T23:36:45.891Z"
   },
   {
    "duration": 3,
    "start_time": "2021-08-25T23:36:45.912Z"
   },
   {
    "duration": 48,
    "start_time": "2021-08-25T23:36:45.917Z"
   },
   {
    "duration": 26,
    "start_time": "2021-08-25T23:36:45.967Z"
   },
   {
    "duration": 54,
    "start_time": "2021-08-25T23:36:45.995Z"
   },
   {
    "duration": 3,
    "start_time": "2021-08-25T23:36:46.051Z"
   },
   {
    "duration": 13,
    "start_time": "2021-08-25T23:36:46.056Z"
   },
   {
    "duration": 9,
    "start_time": "2021-08-25T23:36:46.071Z"
   },
   {
    "duration": 17,
    "start_time": "2021-08-25T23:36:46.081Z"
   },
   {
    "duration": 13,
    "start_time": "2021-08-25T23:36:46.100Z"
   },
   {
    "duration": 328,
    "start_time": "2021-08-25T23:36:46.114Z"
   },
   {
    "duration": 265,
    "start_time": "2021-08-25T23:36:46.444Z"
   },
   {
    "duration": 1443,
    "start_time": "2021-08-25T23:36:45.267Z"
   },
   {
    "duration": 1436,
    "start_time": "2021-08-25T23:36:45.275Z"
   },
   {
    "duration": 3,
    "start_time": "2021-08-25T23:37:07.870Z"
   },
   {
    "duration": 147,
    "start_time": "2021-08-25T23:37:07.874Z"
   },
   {
    "duration": 124,
    "start_time": "2021-08-25T23:37:08.023Z"
   },
   {
    "duration": 86,
    "start_time": "2021-08-25T23:37:08.148Z"
   },
   {
    "duration": 21,
    "start_time": "2021-08-25T23:37:08.236Z"
   },
   {
    "duration": 61,
    "start_time": "2021-08-25T23:37:08.259Z"
   },
   {
    "duration": 65,
    "start_time": "2021-08-25T23:37:08.321Z"
   },
   {
    "duration": 117,
    "start_time": "2021-08-25T23:37:08.387Z"
   },
   {
    "duration": 22,
    "start_time": "2021-08-25T23:37:08.506Z"
   },
   {
    "duration": 25,
    "start_time": "2021-08-25T23:37:08.530Z"
   },
   {
    "duration": 5,
    "start_time": "2021-08-25T23:37:08.557Z"
   },
   {
    "duration": 44,
    "start_time": "2021-08-25T23:37:08.563Z"
   },
   {
    "duration": 5,
    "start_time": "2021-08-25T23:37:08.609Z"
   },
   {
    "duration": 26,
    "start_time": "2021-08-25T23:37:08.616Z"
   },
   {
    "duration": 60,
    "start_time": "2021-08-25T23:37:08.644Z"
   },
   {
    "duration": 13,
    "start_time": "2021-08-25T23:37:08.706Z"
   },
   {
    "duration": 30,
    "start_time": "2021-08-25T23:37:08.721Z"
   },
   {
    "duration": 32,
    "start_time": "2021-08-25T23:37:08.753Z"
   },
   {
    "duration": 6,
    "start_time": "2021-08-25T23:37:08.786Z"
   },
   {
    "duration": 77,
    "start_time": "2021-08-25T23:37:08.794Z"
   },
   {
    "duration": 29,
    "start_time": "2021-08-25T23:37:08.873Z"
   },
   {
    "duration": 5,
    "start_time": "2021-08-25T23:37:08.904Z"
   },
   {
    "duration": 30,
    "start_time": "2021-08-25T23:37:08.911Z"
   },
   {
    "duration": 6,
    "start_time": "2021-08-25T23:37:08.943Z"
   },
   {
    "duration": 19,
    "start_time": "2021-08-25T23:37:08.951Z"
   },
   {
    "duration": 8,
    "start_time": "2021-08-25T23:37:08.971Z"
   },
   {
    "duration": 10,
    "start_time": "2021-08-25T23:37:08.982Z"
   },
   {
    "duration": 6,
    "start_time": "2021-08-25T23:37:08.994Z"
   },
   {
    "duration": 12,
    "start_time": "2021-08-25T23:37:09.001Z"
   },
   {
    "duration": 57,
    "start_time": "2021-08-25T23:37:09.015Z"
   },
   {
    "duration": 92,
    "start_time": "2021-08-25T23:37:09.073Z"
   },
   {
    "duration": 80,
    "start_time": "2021-08-25T23:37:09.166Z"
   },
   {
    "duration": 23,
    "start_time": "2021-08-25T23:37:09.248Z"
   },
   {
    "duration": 3,
    "start_time": "2021-08-25T23:37:09.273Z"
   },
   {
    "duration": 32,
    "start_time": "2021-08-25T23:37:09.278Z"
   },
   {
    "duration": 48,
    "start_time": "2021-08-25T23:37:09.312Z"
   },
   {
    "duration": 40,
    "start_time": "2021-08-25T23:37:09.362Z"
   },
   {
    "duration": 3,
    "start_time": "2021-08-25T23:37:09.404Z"
   },
   {
    "duration": 13,
    "start_time": "2021-08-25T23:37:17.509Z"
   },
   {
    "duration": 9,
    "start_time": "2021-08-25T23:37:23.540Z"
   },
   {
    "duration": 16,
    "start_time": "2021-08-25T23:37:41.420Z"
   },
   {
    "duration": 14,
    "start_time": "2021-08-25T23:38:28.509Z"
   },
   {
    "duration": 28,
    "start_time": "2021-08-25T23:38:40.411Z"
   },
   {
    "duration": 279,
    "start_time": "2021-08-25T23:38:56.260Z"
   },
   {
    "duration": 3,
    "start_time": "2021-08-25T23:39:12.590Z"
   },
   {
    "duration": 151,
    "start_time": "2021-08-25T23:39:12.594Z"
   },
   {
    "duration": 139,
    "start_time": "2021-08-25T23:39:12.747Z"
   },
   {
    "duration": 81,
    "start_time": "2021-08-25T23:39:12.888Z"
   },
   {
    "duration": 21,
    "start_time": "2021-08-25T23:39:12.971Z"
   },
   {
    "duration": 59,
    "start_time": "2021-08-25T23:39:12.993Z"
   },
   {
    "duration": 72,
    "start_time": "2021-08-25T23:39:13.054Z"
   },
   {
    "duration": 116,
    "start_time": "2021-08-25T23:39:13.127Z"
   },
   {
    "duration": 14,
    "start_time": "2021-08-25T23:39:13.246Z"
   },
   {
    "duration": 16,
    "start_time": "2021-08-25T23:39:13.261Z"
   },
   {
    "duration": 4,
    "start_time": "2021-08-25T23:39:13.279Z"
   },
   {
    "duration": 63,
    "start_time": "2021-08-25T23:39:13.285Z"
   },
   {
    "duration": 6,
    "start_time": "2021-08-25T23:39:13.349Z"
   },
   {
    "duration": 11,
    "start_time": "2021-08-25T23:39:13.356Z"
   },
   {
    "duration": 75,
    "start_time": "2021-08-25T23:39:13.368Z"
   },
   {
    "duration": 12,
    "start_time": "2021-08-25T23:39:13.445Z"
   },
   {
    "duration": 15,
    "start_time": "2021-08-25T23:39:13.458Z"
   },
   {
    "duration": 33,
    "start_time": "2021-08-25T23:39:13.474Z"
   },
   {
    "duration": 35,
    "start_time": "2021-08-25T23:39:13.509Z"
   },
   {
    "duration": 49,
    "start_time": "2021-08-25T23:39:13.545Z"
   },
   {
    "duration": 46,
    "start_time": "2021-08-25T23:39:13.595Z"
   },
   {
    "duration": 6,
    "start_time": "2021-08-25T23:39:13.642Z"
   },
   {
    "duration": 9,
    "start_time": "2021-08-25T23:39:13.649Z"
   },
   {
    "duration": 6,
    "start_time": "2021-08-25T23:39:13.660Z"
   },
   {
    "duration": 6,
    "start_time": "2021-08-25T23:39:13.668Z"
   },
   {
    "duration": 8,
    "start_time": "2021-08-25T23:39:13.675Z"
   },
   {
    "duration": 11,
    "start_time": "2021-08-25T23:39:13.686Z"
   },
   {
    "duration": 3,
    "start_time": "2021-08-25T23:39:13.699Z"
   },
   {
    "duration": 40,
    "start_time": "2021-08-25T23:39:13.703Z"
   },
   {
    "duration": 40,
    "start_time": "2021-08-25T23:39:13.744Z"
   },
   {
    "duration": 97,
    "start_time": "2021-08-25T23:39:13.786Z"
   },
   {
    "duration": 76,
    "start_time": "2021-08-25T23:39:13.884Z"
   },
   {
    "duration": 21,
    "start_time": "2021-08-25T23:39:13.961Z"
   },
   {
    "duration": 3,
    "start_time": "2021-08-25T23:39:13.984Z"
   },
   {
    "duration": 53,
    "start_time": "2021-08-25T23:39:13.989Z"
   },
   {
    "duration": 29,
    "start_time": "2021-08-25T23:39:14.043Z"
   },
   {
    "duration": 39,
    "start_time": "2021-08-25T23:39:14.074Z"
   },
   {
    "duration": 4,
    "start_time": "2021-08-25T23:39:14.114Z"
   },
   {
    "duration": 33,
    "start_time": "2021-08-25T23:39:14.119Z"
   },
   {
    "duration": 18,
    "start_time": "2021-08-25T23:39:14.154Z"
   },
   {
    "duration": 24,
    "start_time": "2021-08-25T23:39:14.173Z"
   },
   {
    "duration": 14,
    "start_time": "2021-08-25T23:39:14.199Z"
   },
   {
    "duration": 287,
    "start_time": "2021-08-25T23:39:19.131Z"
   },
   {
    "duration": 22,
    "start_time": "2021-08-25T23:40:01.331Z"
   },
   {
    "duration": 2,
    "start_time": "2021-08-25T23:40:10.830Z"
   },
   {
    "duration": 159,
    "start_time": "2021-08-25T23:40:10.834Z"
   },
   {
    "duration": 129,
    "start_time": "2021-08-25T23:40:10.995Z"
   },
   {
    "duration": 103,
    "start_time": "2021-08-25T23:40:11.126Z"
   },
   {
    "duration": 21,
    "start_time": "2021-08-25T23:40:11.231Z"
   },
   {
    "duration": 62,
    "start_time": "2021-08-25T23:40:11.253Z"
   },
   {
    "duration": 74,
    "start_time": "2021-08-25T23:40:11.317Z"
   },
   {
    "duration": 112,
    "start_time": "2021-08-25T23:40:11.393Z"
   },
   {
    "duration": 13,
    "start_time": "2021-08-25T23:40:11.508Z"
   },
   {
    "duration": 29,
    "start_time": "2021-08-25T23:40:11.523Z"
   },
   {
    "duration": 5,
    "start_time": "2021-08-25T23:40:11.554Z"
   },
   {
    "duration": 53,
    "start_time": "2021-08-25T23:40:11.561Z"
   },
   {
    "duration": 7,
    "start_time": "2021-08-25T23:40:11.616Z"
   },
   {
    "duration": 21,
    "start_time": "2021-08-25T23:40:11.625Z"
   },
   {
    "duration": 69,
    "start_time": "2021-08-25T23:40:11.648Z"
   },
   {
    "duration": 35,
    "start_time": "2021-08-25T23:40:11.719Z"
   },
   {
    "duration": 16,
    "start_time": "2021-08-25T23:40:11.756Z"
   },
   {
    "duration": 37,
    "start_time": "2021-08-25T23:40:11.774Z"
   },
   {
    "duration": 8,
    "start_time": "2021-08-25T23:40:11.841Z"
   },
   {
    "duration": 61,
    "start_time": "2021-08-25T23:40:11.851Z"
   },
   {
    "duration": 56,
    "start_time": "2021-08-25T23:40:11.914Z"
   },
   {
    "duration": 5,
    "start_time": "2021-08-25T23:40:11.972Z"
   },
   {
    "duration": 9,
    "start_time": "2021-08-25T23:40:11.979Z"
   },
   {
    "duration": 7,
    "start_time": "2021-08-25T23:40:11.990Z"
   },
   {
    "duration": 5,
    "start_time": "2021-08-25T23:40:11.999Z"
   },
   {
    "duration": 39,
    "start_time": "2021-08-25T23:40:12.006Z"
   },
   {
    "duration": 11,
    "start_time": "2021-08-25T23:40:12.048Z"
   },
   {
    "duration": 7,
    "start_time": "2021-08-25T23:40:12.061Z"
   },
   {
    "duration": 14,
    "start_time": "2021-08-25T23:40:12.069Z"
   },
   {
    "duration": 69,
    "start_time": "2021-08-25T23:40:12.085Z"
   },
   {
    "duration": 95,
    "start_time": "2021-08-25T23:40:12.155Z"
   },
   {
    "duration": 74,
    "start_time": "2021-08-25T23:40:12.252Z"
   },
   {
    "duration": 34,
    "start_time": "2021-08-25T23:40:12.328Z"
   },
   {
    "duration": 4,
    "start_time": "2021-08-25T23:40:12.364Z"
   },
   {
    "duration": 36,
    "start_time": "2021-08-25T23:40:12.369Z"
   },
   {
    "duration": 50,
    "start_time": "2021-08-25T23:40:12.407Z"
   },
   {
    "duration": 47,
    "start_time": "2021-08-25T23:40:12.459Z"
   },
   {
    "duration": 3,
    "start_time": "2021-08-25T23:40:12.508Z"
   },
   {
    "duration": 31,
    "start_time": "2021-08-25T23:40:12.513Z"
   },
   {
    "duration": 10,
    "start_time": "2021-08-25T23:40:12.546Z"
   },
   {
    "duration": 18,
    "start_time": "2021-08-25T23:40:12.558Z"
   },
   {
    "duration": 20,
    "start_time": "2021-08-25T23:40:17.150Z"
   },
   {
    "duration": 14,
    "start_time": "2021-08-25T23:41:16.930Z"
   },
   {
    "duration": 18,
    "start_time": "2021-08-25T23:41:34.538Z"
   },
   {
    "duration": 282,
    "start_time": "2021-08-25T23:41:52.822Z"
   },
   {
    "duration": 305,
    "start_time": "2021-08-25T23:42:50.353Z"
   },
   {
    "duration": 636,
    "start_time": "2021-08-25T23:43:05.944Z"
   },
   {
    "duration": 152,
    "start_time": "2021-08-25T23:43:06.582Z"
   },
   {
    "duration": 129,
    "start_time": "2021-08-25T23:43:06.736Z"
   },
   {
    "duration": 88,
    "start_time": "2021-08-25T23:43:06.866Z"
   },
   {
    "duration": 21,
    "start_time": "2021-08-25T23:43:06.956Z"
   },
   {
    "duration": 33,
    "start_time": "2021-08-25T23:43:06.978Z"
   },
   {
    "duration": 46,
    "start_time": "2021-08-25T23:43:07.012Z"
   },
   {
    "duration": 100,
    "start_time": "2021-08-25T23:43:07.060Z"
   },
   {
    "duration": 16,
    "start_time": "2021-08-25T23:43:07.162Z"
   },
   {
    "duration": 20,
    "start_time": "2021-08-25T23:43:07.180Z"
   },
   {
    "duration": 4,
    "start_time": "2021-08-25T23:43:07.202Z"
   },
   {
    "duration": 51,
    "start_time": "2021-08-25T23:43:07.208Z"
   },
   {
    "duration": 7,
    "start_time": "2021-08-25T23:43:07.261Z"
   },
   {
    "duration": 8,
    "start_time": "2021-08-25T23:43:07.269Z"
   },
   {
    "duration": 73,
    "start_time": "2021-08-25T23:43:07.279Z"
   },
   {
    "duration": 13,
    "start_time": "2021-08-25T23:43:07.354Z"
   },
   {
    "duration": 15,
    "start_time": "2021-08-25T23:43:07.369Z"
   },
   {
    "duration": 55,
    "start_time": "2021-08-25T23:43:07.386Z"
   },
   {
    "duration": 7,
    "start_time": "2021-08-25T23:43:07.443Z"
   },
   {
    "duration": 41,
    "start_time": "2021-08-25T23:43:07.451Z"
   },
   {
    "duration": 24,
    "start_time": "2021-08-25T23:43:07.494Z"
   },
   {
    "duration": 21,
    "start_time": "2021-08-25T23:43:07.520Z"
   },
   {
    "duration": 13,
    "start_time": "2021-08-25T23:43:07.543Z"
   },
   {
    "duration": 6,
    "start_time": "2021-08-25T23:43:07.558Z"
   },
   {
    "duration": 4,
    "start_time": "2021-08-25T23:43:07.566Z"
   },
   {
    "duration": 8,
    "start_time": "2021-08-25T23:43:07.572Z"
   },
   {
    "duration": 10,
    "start_time": "2021-08-25T23:43:07.583Z"
   },
   {
    "duration": 4,
    "start_time": "2021-08-25T23:43:07.595Z"
   },
   {
    "duration": 43,
    "start_time": "2021-08-25T23:43:07.601Z"
   },
   {
    "duration": 40,
    "start_time": "2021-08-25T23:43:07.646Z"
   },
   {
    "duration": 101,
    "start_time": "2021-08-25T23:43:07.688Z"
   },
   {
    "duration": 81,
    "start_time": "2021-08-25T23:43:07.791Z"
   },
   {
    "duration": 22,
    "start_time": "2021-08-25T23:43:07.874Z"
   },
   {
    "duration": 4,
    "start_time": "2021-08-25T23:43:07.897Z"
   },
   {
    "duration": 67,
    "start_time": "2021-08-25T23:43:07.903Z"
   },
   {
    "duration": 28,
    "start_time": "2021-08-25T23:43:07.972Z"
   },
   {
    "duration": 57,
    "start_time": "2021-08-25T23:43:08.002Z"
   },
   {
    "duration": 39,
    "start_time": "2021-08-25T23:43:14.983Z"
   },
   {
    "duration": 4,
    "start_time": "2021-08-25T23:43:20.564Z"
   },
   {
    "duration": 277,
    "start_time": "2021-08-25T23:43:32.144Z"
   },
   {
    "duration": 9,
    "start_time": "2021-08-25T23:43:43.661Z"
   },
   {
    "duration": 277,
    "start_time": "2021-08-25T23:43:46.374Z"
   },
   {
    "duration": 13,
    "start_time": "2021-08-25T23:43:56.803Z"
   },
   {
    "duration": 8,
    "start_time": "2021-08-25T23:44:05.154Z"
   },
   {
    "duration": 17,
    "start_time": "2021-08-25T23:44:09.854Z"
   },
   {
    "duration": 14,
    "start_time": "2021-08-25T23:44:18.293Z"
   },
   {
    "duration": 20,
    "start_time": "2021-08-25T23:44:31.355Z"
   },
   {
    "duration": 259,
    "start_time": "2021-08-25T23:44:42.834Z"
   },
   {
    "duration": 30,
    "start_time": "2021-08-25T23:45:09.625Z"
   },
   {
    "duration": 422,
    "start_time": "2021-08-25T23:45:38.104Z"
   },
   {
    "duration": 3,
    "start_time": "2021-08-25T23:46:32.744Z"
   },
   {
    "duration": 146,
    "start_time": "2021-08-25T23:46:32.749Z"
   },
   {
    "duration": 126,
    "start_time": "2021-08-25T23:46:32.898Z"
   },
   {
    "duration": 84,
    "start_time": "2021-08-25T23:46:33.026Z"
   },
   {
    "duration": 21,
    "start_time": "2021-08-25T23:46:33.112Z"
   },
   {
    "duration": 63,
    "start_time": "2021-08-25T23:46:33.135Z"
   },
   {
    "duration": 54,
    "start_time": "2021-08-25T23:46:33.200Z"
   },
   {
    "duration": 98,
    "start_time": "2021-08-25T23:46:33.257Z"
   },
   {
    "duration": 15,
    "start_time": "2021-08-25T23:46:33.358Z"
   },
   {
    "duration": 15,
    "start_time": "2021-08-25T23:46:33.375Z"
   },
   {
    "duration": 5,
    "start_time": "2021-08-25T23:46:33.392Z"
   },
   {
    "duration": 62,
    "start_time": "2021-08-25T23:46:33.398Z"
   },
   {
    "duration": 6,
    "start_time": "2021-08-25T23:46:33.461Z"
   },
   {
    "duration": 7,
    "start_time": "2021-08-25T23:46:33.468Z"
   },
   {
    "duration": 68,
    "start_time": "2021-08-25T23:46:33.477Z"
   },
   {
    "duration": 14,
    "start_time": "2021-08-25T23:46:33.546Z"
   },
   {
    "duration": 13,
    "start_time": "2021-08-25T23:46:33.562Z"
   },
   {
    "duration": 29,
    "start_time": "2021-08-25T23:46:33.577Z"
   },
   {
    "duration": 36,
    "start_time": "2021-08-25T23:46:33.608Z"
   },
   {
    "duration": 40,
    "start_time": "2021-08-25T23:46:33.646Z"
   },
   {
    "duration": 27,
    "start_time": "2021-08-25T23:46:33.688Z"
   },
   {
    "duration": 6,
    "start_time": "2021-08-25T23:46:33.740Z"
   },
   {
    "duration": 10,
    "start_time": "2021-08-25T23:46:33.748Z"
   },
   {
    "duration": 7,
    "start_time": "2021-08-25T23:46:33.760Z"
   },
   {
    "duration": 7,
    "start_time": "2021-08-25T23:46:33.769Z"
   },
   {
    "duration": 12,
    "start_time": "2021-08-25T23:46:33.778Z"
   },
   {
    "duration": 14,
    "start_time": "2021-08-25T23:46:33.794Z"
   },
   {
    "duration": 32,
    "start_time": "2021-08-25T23:46:33.809Z"
   },
   {
    "duration": 14,
    "start_time": "2021-08-25T23:46:33.843Z"
   },
   {
    "duration": 44,
    "start_time": "2021-08-25T23:46:33.859Z"
   },
   {
    "duration": 181,
    "start_time": "2021-08-25T23:46:33.905Z"
   },
   {
    "duration": 127,
    "start_time": "2021-08-25T23:46:34.088Z"
   },
   {
    "duration": 32,
    "start_time": "2021-08-25T23:46:34.217Z"
   },
   {
    "duration": 4,
    "start_time": "2021-08-25T23:46:34.251Z"
   },
   {
    "duration": 46,
    "start_time": "2021-08-25T23:46:34.257Z"
   },
   {
    "duration": 59,
    "start_time": "2021-08-25T23:46:34.305Z"
   },
   {
    "duration": 57,
    "start_time": "2021-08-25T23:46:34.367Z"
   },
   {
    "duration": 15,
    "start_time": "2021-08-25T23:46:34.426Z"
   },
   {
    "duration": 14,
    "start_time": "2021-08-25T23:46:34.443Z"
   },
   {
    "duration": 8,
    "start_time": "2021-08-25T23:46:34.459Z"
   },
   {
    "duration": 20,
    "start_time": "2021-08-25T23:46:34.469Z"
   },
   {
    "duration": 27,
    "start_time": "2021-08-25T23:46:38.205Z"
   },
   {
    "duration": 53,
    "start_time": "2021-08-25T23:46:55.205Z"
   },
   {
    "duration": 282,
    "start_time": "2021-08-25T23:49:09.805Z"
   },
   {
    "duration": 391,
    "start_time": "2021-08-25T23:49:19.074Z"
   },
   {
    "duration": 29,
    "start_time": "2021-08-25T23:50:10.964Z"
   },
   {
    "duration": 28,
    "start_time": "2021-08-25T23:50:31.994Z"
   },
   {
    "duration": 3,
    "start_time": "2021-08-25T23:51:10.004Z"
   },
   {
    "duration": 155,
    "start_time": "2021-08-25T23:51:10.009Z"
   },
   {
    "duration": 126,
    "start_time": "2021-08-25T23:51:10.166Z"
   },
   {
    "duration": 78,
    "start_time": "2021-08-25T23:51:10.294Z"
   },
   {
    "duration": 30,
    "start_time": "2021-08-25T23:51:10.373Z"
   },
   {
    "duration": 60,
    "start_time": "2021-08-25T23:51:10.404Z"
   },
   {
    "duration": 56,
    "start_time": "2021-08-25T23:51:10.465Z"
   },
   {
    "duration": 104,
    "start_time": "2021-08-25T23:51:10.523Z"
   },
   {
    "duration": 23,
    "start_time": "2021-08-25T23:51:10.630Z"
   },
   {
    "duration": 15,
    "start_time": "2021-08-25T23:51:10.655Z"
   },
   {
    "duration": 4,
    "start_time": "2021-08-25T23:51:10.672Z"
   },
   {
    "duration": 38,
    "start_time": "2021-08-25T23:51:10.678Z"
   },
   {
    "duration": 26,
    "start_time": "2021-08-25T23:51:10.718Z"
   },
   {
    "duration": 6,
    "start_time": "2021-08-25T23:51:10.746Z"
   },
   {
    "duration": 55,
    "start_time": "2021-08-25T23:51:10.754Z"
   },
   {
    "duration": 33,
    "start_time": "2021-08-25T23:51:10.811Z"
   },
   {
    "duration": 14,
    "start_time": "2021-08-25T23:51:10.846Z"
   },
   {
    "duration": 30,
    "start_time": "2021-08-25T23:51:10.861Z"
   },
   {
    "duration": 5,
    "start_time": "2021-08-25T23:51:10.893Z"
   },
   {
    "duration": 68,
    "start_time": "2021-08-25T23:51:10.900Z"
   },
   {
    "duration": 24,
    "start_time": "2021-08-25T23:51:10.970Z"
   },
   {
    "duration": 5,
    "start_time": "2021-08-25T23:51:10.996Z"
   },
   {
    "duration": 9,
    "start_time": "2021-08-25T23:51:11.003Z"
   },
   {
    "duration": 29,
    "start_time": "2021-08-25T23:51:11.014Z"
   },
   {
    "duration": 4,
    "start_time": "2021-08-25T23:51:11.045Z"
   },
   {
    "duration": 11,
    "start_time": "2021-08-25T23:51:11.051Z"
   },
   {
    "duration": 10,
    "start_time": "2021-08-25T23:51:11.065Z"
   },
   {
    "duration": 5,
    "start_time": "2021-08-25T23:51:11.077Z"
   },
   {
    "duration": 13,
    "start_time": "2021-08-25T23:51:11.084Z"
   },
   {
    "duration": 59,
    "start_time": "2021-08-25T23:51:11.098Z"
   },
   {
    "duration": 91,
    "start_time": "2021-08-25T23:51:11.159Z"
   },
   {
    "duration": 71,
    "start_time": "2021-08-25T23:51:11.252Z"
   },
   {
    "duration": 30,
    "start_time": "2021-08-25T23:51:11.325Z"
   },
   {
    "duration": 3,
    "start_time": "2021-08-25T23:51:11.356Z"
   },
   {
    "duration": 36,
    "start_time": "2021-08-25T23:51:11.360Z"
   },
   {
    "duration": 45,
    "start_time": "2021-08-25T23:51:11.397Z"
   },
   {
    "duration": 33,
    "start_time": "2021-08-25T23:51:11.443Z"
   },
   {
    "duration": 3,
    "start_time": "2021-08-25T23:51:11.478Z"
   },
   {
    "duration": 13,
    "start_time": "2021-08-25T23:51:11.482Z"
   },
   {
    "duration": 9,
    "start_time": "2021-08-25T23:51:11.497Z"
   },
   {
    "duration": 46,
    "start_time": "2021-08-25T23:51:11.508Z"
   },
   {
    "duration": 14,
    "start_time": "2021-08-25T23:51:14.424Z"
   },
   {
    "duration": 19,
    "start_time": "2021-08-25T23:51:22.233Z"
   },
   {
    "duration": 29,
    "start_time": "2021-08-25T23:51:37.305Z"
   },
   {
    "duration": 434,
    "start_time": "2021-08-25T23:52:02.554Z"
   },
   {
    "duration": 27,
    "start_time": "2021-08-25T23:52:54.775Z"
   },
   {
    "duration": 2,
    "start_time": "2021-08-25T23:53:00.984Z"
   },
   {
    "duration": 143,
    "start_time": "2021-08-25T23:53:00.988Z"
   },
   {
    "duration": 120,
    "start_time": "2021-08-25T23:53:01.140Z"
   },
   {
    "duration": 84,
    "start_time": "2021-08-25T23:53:01.262Z"
   },
   {
    "duration": 21,
    "start_time": "2021-08-25T23:53:01.347Z"
   },
   {
    "duration": 76,
    "start_time": "2021-08-25T23:53:01.370Z"
   },
   {
    "duration": 62,
    "start_time": "2021-08-25T23:53:01.448Z"
   },
   {
    "duration": 107,
    "start_time": "2021-08-25T23:53:01.513Z"
   },
   {
    "duration": 23,
    "start_time": "2021-08-25T23:53:01.622Z"
   },
   {
    "duration": 18,
    "start_time": "2021-08-25T23:53:01.647Z"
   },
   {
    "duration": 13,
    "start_time": "2021-08-25T23:53:01.667Z"
   },
   {
    "duration": 54,
    "start_time": "2021-08-25T23:53:01.682Z"
   },
   {
    "duration": 6,
    "start_time": "2021-08-25T23:53:01.738Z"
   },
   {
    "duration": 13,
    "start_time": "2021-08-25T23:53:01.746Z"
   },
   {
    "duration": 62,
    "start_time": "2021-08-25T23:53:01.761Z"
   },
   {
    "duration": 25,
    "start_time": "2021-08-25T23:53:01.825Z"
   },
   {
    "duration": 14,
    "start_time": "2021-08-25T23:53:01.852Z"
   },
   {
    "duration": 43,
    "start_time": "2021-08-25T23:53:01.868Z"
   },
   {
    "duration": 5,
    "start_time": "2021-08-25T23:53:01.913Z"
   },
   {
    "duration": 59,
    "start_time": "2021-08-25T23:53:01.920Z"
   },
   {
    "duration": 28,
    "start_time": "2021-08-25T23:53:01.980Z"
   },
   {
    "duration": 6,
    "start_time": "2021-08-25T23:53:02.009Z"
   },
   {
    "duration": 25,
    "start_time": "2021-08-25T23:53:02.018Z"
   },
   {
    "duration": 11,
    "start_time": "2021-08-25T23:53:02.045Z"
   },
   {
    "duration": 23,
    "start_time": "2021-08-25T23:53:02.058Z"
   },
   {
    "duration": 27,
    "start_time": "2021-08-25T23:53:02.083Z"
   },
   {
    "duration": 22,
    "start_time": "2021-08-25T23:53:02.112Z"
   },
   {
    "duration": 16,
    "start_time": "2021-08-25T23:53:02.136Z"
   },
   {
    "duration": 27,
    "start_time": "2021-08-25T23:53:02.154Z"
   },
   {
    "duration": 74,
    "start_time": "2021-08-25T23:53:02.183Z"
   },
   {
    "duration": 160,
    "start_time": "2021-08-25T23:53:02.259Z"
   },
   {
    "duration": 145,
    "start_time": "2021-08-25T23:53:02.422Z"
   },
   {
    "duration": 29,
    "start_time": "2021-08-25T23:53:02.570Z"
   },
   {
    "duration": 5,
    "start_time": "2021-08-25T23:53:02.600Z"
   },
   {
    "duration": 71,
    "start_time": "2021-08-25T23:53:02.606Z"
   },
   {
    "duration": 40,
    "start_time": "2021-08-25T23:53:02.679Z"
   },
   {
    "duration": 70,
    "start_time": "2021-08-25T23:53:02.721Z"
   },
   {
    "duration": 4,
    "start_time": "2021-08-25T23:53:02.793Z"
   },
   {
    "duration": 29,
    "start_time": "2021-08-25T23:53:02.799Z"
   },
   {
    "duration": 11,
    "start_time": "2021-08-25T23:53:02.830Z"
   },
   {
    "duration": 36,
    "start_time": "2021-08-25T23:53:02.843Z"
   },
   {
    "duration": 22,
    "start_time": "2021-08-25T23:53:05.275Z"
   },
   {
    "duration": 74,
    "start_time": "2021-08-25T23:53:12.715Z"
   },
   {
    "duration": 29,
    "start_time": "2021-08-25T23:56:17.053Z"
   },
   {
    "duration": 34,
    "start_time": "2021-08-25T23:56:25.520Z"
   },
   {
    "duration": 27,
    "start_time": "2021-08-25T23:57:08.195Z"
   },
   {
    "duration": 27,
    "start_time": "2021-08-25T23:58:26.914Z"
   },
   {
    "duration": 1130,
    "start_time": "2021-08-25T23:59:01.264Z"
   },
   {
    "duration": 1028,
    "start_time": "2021-08-25T23:59:19.334Z"
   },
   {
    "duration": 39,
    "start_time": "2021-08-25T23:59:25.718Z"
   },
   {
    "duration": 37,
    "start_time": "2021-08-25T23:59:40.565Z"
   },
   {
    "duration": 39,
    "start_time": "2021-08-25T23:59:53.423Z"
   },
   {
    "duration": 1147,
    "start_time": "2021-08-26T00:00:18.334Z"
   },
   {
    "duration": 90,
    "start_time": "2021-08-26T00:02:30.364Z"
   },
   {
    "duration": 37,
    "start_time": "2021-08-26T00:02:51.474Z"
   },
   {
    "duration": 102,
    "start_time": "2021-08-26T00:03:52.545Z"
   },
   {
    "duration": 95,
    "start_time": "2021-08-26T00:04:12.925Z"
   },
   {
    "duration": 38,
    "start_time": "2021-08-26T00:04:39.095Z"
   },
   {
    "duration": 38,
    "start_time": "2021-08-26T00:04:51.364Z"
   },
   {
    "duration": 573,
    "start_time": "2021-08-26T00:05:36.794Z"
   },
   {
    "duration": 3,
    "start_time": "2021-08-26T00:05:46.324Z"
   },
   {
    "duration": 145,
    "start_time": "2021-08-26T00:05:46.329Z"
   },
   {
    "duration": 122,
    "start_time": "2021-08-26T00:05:46.475Z"
   },
   {
    "duration": 81,
    "start_time": "2021-08-26T00:05:46.599Z"
   },
   {
    "duration": 21,
    "start_time": "2021-08-26T00:05:46.681Z"
   },
   {
    "duration": 67,
    "start_time": "2021-08-26T00:05:46.703Z"
   },
   {
    "duration": 63,
    "start_time": "2021-08-26T00:05:46.771Z"
   },
   {
    "duration": 113,
    "start_time": "2021-08-26T00:05:46.841Z"
   },
   {
    "duration": 15,
    "start_time": "2021-08-26T00:05:46.956Z"
   },
   {
    "duration": 16,
    "start_time": "2021-08-26T00:05:46.973Z"
   },
   {
    "duration": 4,
    "start_time": "2021-08-26T00:05:46.991Z"
   },
   {
    "duration": 63,
    "start_time": "2021-08-26T00:05:46.997Z"
   },
   {
    "duration": 6,
    "start_time": "2021-08-26T00:05:47.062Z"
   },
   {
    "duration": 6,
    "start_time": "2021-08-26T00:05:47.069Z"
   },
   {
    "duration": 75,
    "start_time": "2021-08-26T00:05:47.077Z"
   },
   {
    "duration": 13,
    "start_time": "2021-08-26T00:05:47.153Z"
   },
   {
    "duration": 14,
    "start_time": "2021-08-26T00:05:47.167Z"
   },
   {
    "duration": 30,
    "start_time": "2021-08-26T00:05:47.183Z"
   },
   {
    "duration": 26,
    "start_time": "2021-08-26T00:05:47.215Z"
   },
   {
    "duration": 47,
    "start_time": "2021-08-26T00:05:47.243Z"
   },
   {
    "duration": 49,
    "start_time": "2021-08-26T00:05:47.292Z"
   },
   {
    "duration": 5,
    "start_time": "2021-08-26T00:05:47.343Z"
   },
   {
    "duration": 8,
    "start_time": "2021-08-26T00:05:47.350Z"
   },
   {
    "duration": 8,
    "start_time": "2021-08-26T00:05:47.360Z"
   },
   {
    "duration": 8,
    "start_time": "2021-08-26T00:05:47.369Z"
   },
   {
    "duration": 11,
    "start_time": "2021-08-26T00:05:47.378Z"
   },
   {
    "duration": 8,
    "start_time": "2021-08-26T00:05:47.392Z"
   },
   {
    "duration": 5,
    "start_time": "2021-08-26T00:05:47.402Z"
   },
   {
    "duration": 38,
    "start_time": "2021-08-26T00:05:47.408Z"
   },
   {
    "duration": 41,
    "start_time": "2021-08-26T00:05:47.448Z"
   },
   {
    "duration": 101,
    "start_time": "2021-08-26T00:05:47.491Z"
   },
   {
    "duration": 79,
    "start_time": "2021-08-26T00:05:47.594Z"
   },
   {
    "duration": 20,
    "start_time": "2021-08-26T00:05:47.675Z"
   },
   {
    "duration": 3,
    "start_time": "2021-08-26T00:05:47.697Z"
   },
   {
    "duration": 51,
    "start_time": "2021-08-26T00:05:47.701Z"
   },
   {
    "duration": 26,
    "start_time": "2021-08-26T00:05:47.754Z"
   },
   {
    "duration": 39,
    "start_time": "2021-08-26T00:05:47.782Z"
   },
   {
    "duration": 20,
    "start_time": "2021-08-26T00:05:47.822Z"
   },
   {
    "duration": 25,
    "start_time": "2021-08-26T00:05:47.843Z"
   },
   {
    "duration": 13,
    "start_time": "2021-08-26T00:05:47.870Z"
   },
   {
    "duration": 26,
    "start_time": "2021-08-26T00:05:47.884Z"
   },
   {
    "duration": 20,
    "start_time": "2021-08-26T00:05:55.394Z"
   },
   {
    "duration": 26,
    "start_time": "2021-08-26T00:06:08.027Z"
   },
   {
    "duration": 31,
    "start_time": "2021-08-26T00:07:07.584Z"
   },
   {
    "duration": 3,
    "start_time": "2021-08-26T00:07:22.084Z"
   },
   {
    "duration": 144,
    "start_time": "2021-08-26T00:07:22.088Z"
   },
   {
    "duration": 125,
    "start_time": "2021-08-26T00:07:22.241Z"
   },
   {
    "duration": 88,
    "start_time": "2021-08-26T00:07:22.367Z"
   },
   {
    "duration": 26,
    "start_time": "2021-08-26T00:07:22.457Z"
   },
   {
    "duration": 44,
    "start_time": "2021-08-26T00:07:22.485Z"
   },
   {
    "duration": 72,
    "start_time": "2021-08-26T00:07:22.531Z"
   },
   {
    "duration": 114,
    "start_time": "2021-08-26T00:07:22.605Z"
   },
   {
    "duration": 23,
    "start_time": "2021-08-26T00:07:22.721Z"
   },
   {
    "duration": 16,
    "start_time": "2021-08-26T00:07:22.746Z"
   },
   {
    "duration": 5,
    "start_time": "2021-08-26T00:07:22.764Z"
   },
   {
    "duration": 50,
    "start_time": "2021-08-26T00:07:22.771Z"
   },
   {
    "duration": 18,
    "start_time": "2021-08-26T00:07:22.823Z"
   },
   {
    "duration": 6,
    "start_time": "2021-08-26T00:07:22.842Z"
   },
   {
    "duration": 61,
    "start_time": "2021-08-26T00:07:22.849Z"
   },
   {
    "duration": 33,
    "start_time": "2021-08-26T00:07:22.911Z"
   },
   {
    "duration": 17,
    "start_time": "2021-08-26T00:07:22.945Z"
   },
   {
    "duration": 32,
    "start_time": "2021-08-26T00:07:22.963Z"
   },
   {
    "duration": 6,
    "start_time": "2021-08-26T00:07:22.997Z"
   },
   {
    "duration": 84,
    "start_time": "2021-08-26T00:07:23.005Z"
   },
   {
    "duration": 28,
    "start_time": "2021-08-26T00:07:23.091Z"
   },
   {
    "duration": 5,
    "start_time": "2021-08-26T00:07:23.121Z"
   },
   {
    "duration": 10,
    "start_time": "2021-08-26T00:07:23.141Z"
   },
   {
    "duration": 15,
    "start_time": "2021-08-26T00:07:23.153Z"
   },
   {
    "duration": 8,
    "start_time": "2021-08-26T00:07:23.170Z"
   },
   {
    "duration": 11,
    "start_time": "2021-08-26T00:07:23.179Z"
   },
   {
    "duration": 11,
    "start_time": "2021-08-26T00:07:23.193Z"
   },
   {
    "duration": 8,
    "start_time": "2021-08-26T00:07:23.206Z"
   },
   {
    "duration": 30,
    "start_time": "2021-08-26T00:07:23.215Z"
   },
   {
    "duration": 42,
    "start_time": "2021-08-26T00:07:23.247Z"
   },
   {
    "duration": 96,
    "start_time": "2021-08-26T00:07:23.290Z"
   },
   {
    "duration": 83,
    "start_time": "2021-08-26T00:07:23.387Z"
   },
   {
    "duration": 23,
    "start_time": "2021-08-26T00:07:23.471Z"
   },
   {
    "duration": 4,
    "start_time": "2021-08-26T00:07:23.496Z"
   },
   {
    "duration": 53,
    "start_time": "2021-08-26T00:07:23.501Z"
   },
   {
    "duration": 29,
    "start_time": "2021-08-26T00:07:23.556Z"
   },
   {
    "duration": 62,
    "start_time": "2021-08-26T00:07:23.587Z"
   },
   {
    "duration": 4,
    "start_time": "2021-08-26T00:07:23.651Z"
   },
   {
    "duration": 15,
    "start_time": "2021-08-26T00:07:23.657Z"
   },
   {
    "duration": 9,
    "start_time": "2021-08-26T00:07:23.674Z"
   },
   {
    "duration": 20,
    "start_time": "2021-08-26T00:07:23.685Z"
   },
   {
    "duration": 31,
    "start_time": "2021-08-26T00:07:29.074Z"
   },
   {
    "duration": 2,
    "start_time": "2021-08-26T00:09:10.265Z"
   },
   {
    "duration": 153,
    "start_time": "2021-08-26T00:09:10.269Z"
   },
   {
    "duration": 130,
    "start_time": "2021-08-26T00:09:10.424Z"
   },
   {
    "duration": 89,
    "start_time": "2021-08-26T00:09:10.556Z"
   },
   {
    "duration": 21,
    "start_time": "2021-08-26T00:09:10.647Z"
   },
   {
    "duration": 48,
    "start_time": "2021-08-26T00:09:10.669Z"
   },
   {
    "duration": 79,
    "start_time": "2021-08-26T00:09:10.718Z"
   },
   {
    "duration": 105,
    "start_time": "2021-08-26T00:09:10.798Z"
   },
   {
    "duration": 14,
    "start_time": "2021-08-26T00:09:10.905Z"
   },
   {
    "duration": 31,
    "start_time": "2021-08-26T00:09:10.921Z"
   },
   {
    "duration": 4,
    "start_time": "2021-08-26T00:09:10.954Z"
   },
   {
    "duration": 53,
    "start_time": "2021-08-26T00:09:10.960Z"
   },
   {
    "duration": 6,
    "start_time": "2021-08-26T00:09:11.014Z"
   },
   {
    "duration": 16,
    "start_time": "2021-08-26T00:09:11.021Z"
   },
   {
    "duration": 81,
    "start_time": "2021-08-26T00:09:11.038Z"
   },
   {
    "duration": 13,
    "start_time": "2021-08-26T00:09:11.120Z"
   },
   {
    "duration": 33,
    "start_time": "2021-08-26T00:09:11.134Z"
   },
   {
    "duration": 34,
    "start_time": "2021-08-26T00:09:11.169Z"
   },
   {
    "duration": 5,
    "start_time": "2021-08-26T00:09:11.204Z"
   },
   {
    "duration": 72,
    "start_time": "2021-08-26T00:09:11.211Z"
   },
   {
    "duration": 30,
    "start_time": "2021-08-26T00:09:11.285Z"
   },
   {
    "duration": 5,
    "start_time": "2021-08-26T00:09:11.316Z"
   },
   {
    "duration": 29,
    "start_time": "2021-08-26T00:09:11.323Z"
   },
   {
    "duration": 21,
    "start_time": "2021-08-26T00:09:11.354Z"
   },
   {
    "duration": 15,
    "start_time": "2021-08-26T00:09:11.377Z"
   },
   {
    "duration": 24,
    "start_time": "2021-08-26T00:09:11.394Z"
   },
   {
    "duration": 21,
    "start_time": "2021-08-26T00:09:11.421Z"
   },
   {
    "duration": 20,
    "start_time": "2021-08-26T00:09:11.443Z"
   },
   {
    "duration": 22,
    "start_time": "2021-08-26T00:09:11.464Z"
   },
   {
    "duration": 45,
    "start_time": "2021-08-26T00:09:11.488Z"
   },
   {
    "duration": 81,
    "start_time": "2021-08-26T00:09:11.535Z"
   },
   {
    "duration": 82,
    "start_time": "2021-08-26T00:09:11.617Z"
   },
   {
    "duration": 44,
    "start_time": "2021-08-26T00:09:11.701Z"
   },
   {
    "duration": 4,
    "start_time": "2021-08-26T00:09:11.746Z"
   },
   {
    "duration": 43,
    "start_time": "2021-08-26T00:09:11.751Z"
   },
   {
    "duration": 30,
    "start_time": "2021-08-26T00:09:11.795Z"
   },
   {
    "duration": 61,
    "start_time": "2021-08-26T00:09:11.826Z"
   },
   {
    "duration": 3,
    "start_time": "2021-08-26T00:09:11.889Z"
   },
   {
    "duration": 25,
    "start_time": "2021-08-26T00:09:11.894Z"
   },
   {
    "duration": 8,
    "start_time": "2021-08-26T00:09:11.921Z"
   },
   {
    "duration": 18,
    "start_time": "2021-08-26T00:09:11.941Z"
   },
   {
    "duration": 14,
    "start_time": "2021-08-26T00:09:17.414Z"
   },
   {
    "duration": 39,
    "start_time": "2021-08-26T00:09:22.484Z"
   },
   {
    "duration": 24,
    "start_time": "2021-08-26T00:10:01.802Z"
   },
   {
    "duration": 2,
    "start_time": "2021-08-26T00:10:08.140Z"
   },
   {
    "duration": 157,
    "start_time": "2021-08-26T00:10:08.144Z"
   },
   {
    "duration": 130,
    "start_time": "2021-08-26T00:10:08.304Z"
   },
   {
    "duration": 93,
    "start_time": "2021-08-26T00:10:08.441Z"
   },
   {
    "duration": 22,
    "start_time": "2021-08-26T00:10:08.536Z"
   },
   {
    "duration": 35,
    "start_time": "2021-08-26T00:10:08.559Z"
   },
   {
    "duration": 72,
    "start_time": "2021-08-26T00:10:08.595Z"
   },
   {
    "duration": 108,
    "start_time": "2021-08-26T00:10:08.669Z"
   },
   {
    "duration": 14,
    "start_time": "2021-08-26T00:10:08.780Z"
   },
   {
    "duration": 17,
    "start_time": "2021-08-26T00:10:08.796Z"
   },
   {
    "duration": 5,
    "start_time": "2021-08-26T00:10:08.814Z"
   },
   {
    "duration": 41,
    "start_time": "2021-08-26T00:10:08.841Z"
   },
   {
    "duration": 5,
    "start_time": "2021-08-26T00:10:08.884Z"
   },
   {
    "duration": 8,
    "start_time": "2021-08-26T00:10:08.891Z"
   },
   {
    "duration": 82,
    "start_time": "2021-08-26T00:10:08.900Z"
   },
   {
    "duration": 13,
    "start_time": "2021-08-26T00:10:08.984Z"
   },
   {
    "duration": 14,
    "start_time": "2021-08-26T00:10:08.999Z"
   },
   {
    "duration": 54,
    "start_time": "2021-08-26T00:10:09.015Z"
   },
   {
    "duration": 7,
    "start_time": "2021-08-26T00:10:09.071Z"
   },
   {
    "duration": 76,
    "start_time": "2021-08-26T00:10:09.080Z"
   },
   {
    "duration": 36,
    "start_time": "2021-08-26T00:10:09.158Z"
   },
   {
    "duration": 5,
    "start_time": "2021-08-26T00:10:09.196Z"
   },
   {
    "duration": 12,
    "start_time": "2021-08-26T00:10:09.203Z"
   },
   {
    "duration": 26,
    "start_time": "2021-08-26T00:10:09.217Z"
   },
   {
    "duration": 4,
    "start_time": "2021-08-26T00:10:09.245Z"
   },
   {
    "duration": 15,
    "start_time": "2021-08-26T00:10:09.251Z"
   },
   {
    "duration": 13,
    "start_time": "2021-08-26T00:10:09.269Z"
   },
   {
    "duration": 8,
    "start_time": "2021-08-26T00:10:09.284Z"
   },
   {
    "duration": 15,
    "start_time": "2021-08-26T00:10:09.293Z"
   },
   {
    "duration": 48,
    "start_time": "2021-08-26T00:10:09.309Z"
   },
   {
    "duration": 89,
    "start_time": "2021-08-26T00:10:09.358Z"
   },
   {
    "duration": 69,
    "start_time": "2021-08-26T00:10:09.449Z"
   },
   {
    "duration": 29,
    "start_time": "2021-08-26T00:10:09.519Z"
   },
   {
    "duration": 3,
    "start_time": "2021-08-26T00:10:09.550Z"
   },
   {
    "duration": 35,
    "start_time": "2021-08-26T00:10:09.555Z"
   },
   {
    "duration": 30,
    "start_time": "2021-08-26T00:10:09.591Z"
   },
   {
    "duration": 50,
    "start_time": "2021-08-26T00:10:09.641Z"
   },
   {
    "duration": 4,
    "start_time": "2021-08-26T00:10:09.692Z"
   },
   {
    "duration": 18,
    "start_time": "2021-08-26T00:10:09.698Z"
   },
   {
    "duration": 27,
    "start_time": "2021-08-26T00:10:09.718Z"
   },
   {
    "duration": 20,
    "start_time": "2021-08-26T00:10:09.747Z"
   },
   {
    "duration": 14,
    "start_time": "2021-08-26T00:10:13.294Z"
   },
   {
    "duration": 18,
    "start_time": "2021-08-26T00:10:18.285Z"
   },
   {
    "duration": 40,
    "start_time": "2021-08-26T00:10:26.464Z"
   },
   {
    "duration": 3,
    "start_time": "2021-08-26T00:27:19.964Z"
   },
   {
    "duration": 173,
    "start_time": "2021-08-26T00:27:19.969Z"
   },
   {
    "duration": 136,
    "start_time": "2021-08-26T00:27:20.144Z"
   },
   {
    "duration": 93,
    "start_time": "2021-08-26T00:27:20.282Z"
   },
   {
    "duration": 22,
    "start_time": "2021-08-26T00:27:20.376Z"
   },
   {
    "duration": 41,
    "start_time": "2021-08-26T00:27:20.399Z"
   },
   {
    "duration": 78,
    "start_time": "2021-08-26T00:27:20.441Z"
   },
   {
    "duration": 109,
    "start_time": "2021-08-26T00:27:20.520Z"
   },
   {
    "duration": 16,
    "start_time": "2021-08-26T00:27:20.640Z"
   },
   {
    "duration": 18,
    "start_time": "2021-08-26T00:27:20.659Z"
   },
   {
    "duration": 5,
    "start_time": "2021-08-26T00:27:20.679Z"
   },
   {
    "duration": 74,
    "start_time": "2021-08-26T00:27:20.686Z"
   },
   {
    "duration": 7,
    "start_time": "2021-08-26T00:27:20.762Z"
   },
   {
    "duration": 7,
    "start_time": "2021-08-26T00:27:20.771Z"
   },
   {
    "duration": 91,
    "start_time": "2021-08-26T00:27:20.780Z"
   },
   {
    "duration": 13,
    "start_time": "2021-08-26T00:27:20.873Z"
   },
   {
    "duration": 22,
    "start_time": "2021-08-26T00:27:20.888Z"
   },
   {
    "duration": 44,
    "start_time": "2021-08-26T00:27:20.911Z"
   },
   {
    "duration": 6,
    "start_time": "2021-08-26T00:27:20.956Z"
   },
   {
    "duration": 86,
    "start_time": "2021-08-26T00:27:20.964Z"
   },
   {
    "duration": 34,
    "start_time": "2021-08-26T00:27:21.051Z"
   },
   {
    "duration": 6,
    "start_time": "2021-08-26T00:27:21.086Z"
   },
   {
    "duration": 23,
    "start_time": "2021-08-26T00:27:21.093Z"
   },
   {
    "duration": 29,
    "start_time": "2021-08-26T00:27:21.118Z"
   },
   {
    "duration": 20,
    "start_time": "2021-08-26T00:27:21.149Z"
   },
   {
    "duration": 23,
    "start_time": "2021-08-26T00:27:21.170Z"
   },
   {
    "duration": 26,
    "start_time": "2021-08-26T00:27:21.196Z"
   },
   {
    "duration": 15,
    "start_time": "2021-08-26T00:27:21.224Z"
   },
   {
    "duration": 36,
    "start_time": "2021-08-26T00:27:21.240Z"
   },
   {
    "duration": 69,
    "start_time": "2021-08-26T00:27:21.277Z"
   },
   {
    "duration": 83,
    "start_time": "2021-08-26T00:27:21.347Z"
   },
   {
    "duration": 72,
    "start_time": "2021-08-26T00:27:21.432Z"
   },
   {
    "duration": 18,
    "start_time": "2021-08-26T00:27:21.506Z"
   },
   {
    "duration": 20,
    "start_time": "2021-08-26T00:27:21.526Z"
   },
   {
    "duration": 43,
    "start_time": "2021-08-26T00:27:21.548Z"
   },
   {
    "duration": 28,
    "start_time": "2021-08-26T00:27:21.593Z"
   },
   {
    "duration": 57,
    "start_time": "2021-08-26T00:27:21.623Z"
   },
   {
    "duration": 4,
    "start_time": "2021-08-26T00:27:21.682Z"
   },
   {
    "duration": 35,
    "start_time": "2021-08-26T00:27:21.688Z"
   },
   {
    "duration": 15,
    "start_time": "2021-08-26T00:27:21.725Z"
   },
   {
    "duration": 27,
    "start_time": "2021-08-26T00:27:21.742Z"
   },
   {
    "duration": 14,
    "start_time": "2021-08-26T00:27:21.771Z"
   },
   {
    "duration": 36,
    "start_time": "2021-08-26T00:27:27.014Z"
   },
   {
    "duration": 280,
    "start_time": "2021-08-26T00:31:48.506Z"
   },
   {
    "duration": 48,
    "start_time": "2021-08-26T00:32:14.445Z"
   },
   {
    "duration": 3,
    "start_time": "2021-08-26T00:32:33.584Z"
   },
   {
    "duration": 174,
    "start_time": "2021-08-26T00:32:33.589Z"
   },
   {
    "duration": 130,
    "start_time": "2021-08-26T00:32:33.765Z"
   },
   {
    "duration": 89,
    "start_time": "2021-08-26T00:32:33.897Z"
   },
   {
    "duration": 21,
    "start_time": "2021-08-26T00:32:33.987Z"
   },
   {
    "duration": 48,
    "start_time": "2021-08-26T00:32:34.009Z"
   },
   {
    "duration": 84,
    "start_time": "2021-08-26T00:32:34.059Z"
   },
   {
    "duration": 108,
    "start_time": "2021-08-26T00:32:34.145Z"
   },
   {
    "duration": 14,
    "start_time": "2021-08-26T00:32:34.257Z"
   },
   {
    "duration": 17,
    "start_time": "2021-08-26T00:32:34.274Z"
   },
   {
    "duration": 20,
    "start_time": "2021-08-26T00:32:34.292Z"
   },
   {
    "duration": 60,
    "start_time": "2021-08-26T00:32:34.314Z"
   },
   {
    "duration": 5,
    "start_time": "2021-08-26T00:32:34.376Z"
   },
   {
    "duration": 32,
    "start_time": "2021-08-26T00:32:34.383Z"
   },
   {
    "duration": 86,
    "start_time": "2021-08-26T00:32:34.416Z"
   },
   {
    "duration": 12,
    "start_time": "2021-08-26T00:32:34.504Z"
   },
   {
    "duration": 30,
    "start_time": "2021-08-26T00:32:34.517Z"
   },
   {
    "duration": 44,
    "start_time": "2021-08-26T00:32:34.549Z"
   },
   {
    "duration": 7,
    "start_time": "2021-08-26T00:32:34.595Z"
   },
   {
    "duration": 69,
    "start_time": "2021-08-26T00:32:34.604Z"
   },
   {
    "duration": 32,
    "start_time": "2021-08-26T00:32:34.674Z"
   },
   {
    "duration": 5,
    "start_time": "2021-08-26T00:32:34.708Z"
   },
   {
    "duration": 28,
    "start_time": "2021-08-26T00:32:34.714Z"
   },
   {
    "duration": 20,
    "start_time": "2021-08-26T00:32:34.744Z"
   },
   {
    "duration": 20,
    "start_time": "2021-08-26T00:32:34.765Z"
   },
   {
    "duration": 23,
    "start_time": "2021-08-26T00:32:34.787Z"
   },
   {
    "duration": 27,
    "start_time": "2021-08-26T00:32:34.813Z"
   },
   {
    "duration": 11,
    "start_time": "2021-08-26T00:32:34.842Z"
   },
   {
    "duration": 30,
    "start_time": "2021-08-26T00:32:34.854Z"
   },
   {
    "duration": 56,
    "start_time": "2021-08-26T00:32:34.886Z"
   },
   {
    "duration": 82,
    "start_time": "2021-08-26T00:32:34.943Z"
   },
   {
    "duration": 80,
    "start_time": "2021-08-26T00:32:35.027Z"
   },
   {
    "duration": 21,
    "start_time": "2021-08-26T00:32:35.108Z"
   },
   {
    "duration": 14,
    "start_time": "2021-08-26T00:32:35.130Z"
   },
   {
    "duration": 52,
    "start_time": "2021-08-26T00:32:35.145Z"
   },
   {
    "duration": 28,
    "start_time": "2021-08-26T00:32:35.198Z"
   },
   {
    "duration": 44,
    "start_time": "2021-08-26T00:32:35.228Z"
   },
   {
    "duration": 3,
    "start_time": "2021-08-26T00:32:35.274Z"
   },
   {
    "duration": 33,
    "start_time": "2021-08-26T00:32:35.278Z"
   },
   {
    "duration": 20,
    "start_time": "2021-08-26T00:32:35.313Z"
   },
   {
    "duration": 30,
    "start_time": "2021-08-26T00:32:35.334Z"
   },
   {
    "duration": 20,
    "start_time": "2021-08-26T00:32:35.365Z"
   },
   {
    "duration": 35,
    "start_time": "2021-08-26T00:32:41.465Z"
   },
   {
    "duration": 34,
    "start_time": "2021-08-26T00:32:56.223Z"
   },
   {
    "duration": 31,
    "start_time": "2021-08-26T00:33:07.124Z"
   },
   {
    "duration": 31,
    "start_time": "2021-08-26T00:33:38.136Z"
   },
   {
    "duration": 18,
    "start_time": "2021-08-26T00:36:12.613Z"
   },
   {
    "duration": 5,
    "start_time": "2021-08-26T00:58:50.233Z"
   },
   {
    "duration": 13,
    "start_time": "2021-08-26T00:59:27.283Z"
   },
   {
    "duration": 14,
    "start_time": "2021-08-26T00:59:34.733Z"
   },
   {
    "duration": 14,
    "start_time": "2021-08-26T01:00:23.253Z"
   },
   {
    "duration": 13,
    "start_time": "2021-08-26T01:00:36.803Z"
   },
   {
    "duration": 3,
    "start_time": "2021-08-26T01:00:54.493Z"
   },
   {
    "duration": 152,
    "start_time": "2021-08-26T01:00:54.498Z"
   },
   {
    "duration": 132,
    "start_time": "2021-08-26T01:00:54.652Z"
   },
   {
    "duration": 90,
    "start_time": "2021-08-26T01:00:54.786Z"
   },
   {
    "duration": 21,
    "start_time": "2021-08-26T01:00:54.878Z"
   },
   {
    "duration": 35,
    "start_time": "2021-08-26T01:00:54.901Z"
   },
   {
    "duration": 71,
    "start_time": "2021-08-26T01:00:54.937Z"
   },
   {
    "duration": 116,
    "start_time": "2021-08-26T01:00:55.010Z"
   },
   {
    "duration": 23,
    "start_time": "2021-08-26T01:00:55.128Z"
   },
   {
    "duration": 17,
    "start_time": "2021-08-26T01:00:55.152Z"
   },
   {
    "duration": 5,
    "start_time": "2021-08-26T01:00:55.170Z"
   },
   {
    "duration": 44,
    "start_time": "2021-08-26T01:00:55.176Z"
   },
   {
    "duration": 22,
    "start_time": "2021-08-26T01:00:55.222Z"
   },
   {
    "duration": 6,
    "start_time": "2021-08-26T01:00:55.245Z"
   },
   {
    "duration": 64,
    "start_time": "2021-08-26T01:00:55.253Z"
   },
   {
    "duration": 33,
    "start_time": "2021-08-26T01:00:55.319Z"
   },
   {
    "duration": 14,
    "start_time": "2021-08-26T01:00:55.353Z"
   },
   {
    "duration": 33,
    "start_time": "2021-08-26T01:00:55.369Z"
   },
   {
    "duration": 5,
    "start_time": "2021-08-26T01:00:55.403Z"
   },
   {
    "duration": 81,
    "start_time": "2021-08-26T01:00:55.410Z"
   },
   {
    "duration": 31,
    "start_time": "2021-08-26T01:00:55.492Z"
   },
   {
    "duration": 18,
    "start_time": "2021-08-26T01:00:55.525Z"
   },
   {
    "duration": 9,
    "start_time": "2021-08-26T01:00:55.546Z"
   },
   {
    "duration": 10,
    "start_time": "2021-08-26T01:00:55.557Z"
   },
   {
    "duration": 5,
    "start_time": "2021-08-26T01:00:55.568Z"
   },
   {
    "duration": 10,
    "start_time": "2021-08-26T01:00:55.575Z"
   },
   {
    "duration": 13,
    "start_time": "2021-08-26T01:00:55.586Z"
   },
   {
    "duration": 4,
    "start_time": "2021-08-26T01:00:55.601Z"
   },
   {
    "duration": 39,
    "start_time": "2021-08-26T01:00:55.607Z"
   },
   {
    "duration": 41,
    "start_time": "2021-08-26T01:00:55.647Z"
   },
   {
    "duration": 94,
    "start_time": "2021-08-26T01:00:55.690Z"
   },
   {
    "duration": 74,
    "start_time": "2021-08-26T01:00:55.785Z"
   },
   {
    "duration": 22,
    "start_time": "2021-08-26T01:00:55.861Z"
   },
   {
    "duration": 3,
    "start_time": "2021-08-26T01:00:55.884Z"
   },
   {
    "duration": 52,
    "start_time": "2021-08-26T01:00:55.889Z"
   },
   {
    "duration": 29,
    "start_time": "2021-08-26T01:00:55.942Z"
   },
   {
    "duration": 47,
    "start_time": "2021-08-26T01:00:55.973Z"
   },
   {
    "duration": 21,
    "start_time": "2021-08-26T01:00:56.021Z"
   },
   {
    "duration": 17,
    "start_time": "2021-08-26T01:00:56.044Z"
   },
   {
    "duration": 10,
    "start_time": "2021-08-26T01:00:56.062Z"
   },
   {
    "duration": 24,
    "start_time": "2021-08-26T01:00:56.074Z"
   },
   {
    "duration": 14,
    "start_time": "2021-08-26T01:00:56.099Z"
   },
   {
    "duration": 57,
    "start_time": "2021-08-26T01:00:56.115Z"
   },
   {
    "duration": -123,
    "start_time": "2021-08-26T01:01:07.479Z"
   },
   {
    "duration": 6257,
    "start_time": "2021-08-26T01:01:12.636Z"
   },
   {
    "duration": 10,
    "start_time": "2021-08-26T01:01:19.793Z"
   },
   {
    "duration": 19,
    "start_time": "2021-08-26T01:01:34.789Z"
   },
   {
    "duration": 14,
    "start_time": "2021-08-26T01:01:42.731Z"
   },
   {
    "duration": 16,
    "start_time": "2021-08-26T01:02:12.963Z"
   },
   {
    "duration": 14,
    "start_time": "2021-08-26T01:02:23.413Z"
   },
   {
    "duration": 15,
    "start_time": "2021-08-26T01:05:12.701Z"
   },
   {
    "duration": 16,
    "start_time": "2021-08-26T01:12:26.573Z"
   },
   {
    "duration": 16,
    "start_time": "2021-08-26T01:13:03.523Z"
   },
   {
    "duration": 424,
    "start_time": "2021-08-26T01:13:47.553Z"
   },
   {
    "duration": 4,
    "start_time": "2021-08-26T01:13:58.053Z"
   },
   {
    "duration": 4,
    "start_time": "2021-08-26T01:14:00.243Z"
   },
   {
    "duration": 5,
    "start_time": "2021-08-26T01:14:12.443Z"
   },
   {
    "duration": 5,
    "start_time": "2021-08-26T01:14:13.863Z"
   },
   {
    "duration": 4,
    "start_time": "2021-08-26T01:14:27.763Z"
   },
   {
    "duration": 267,
    "start_time": "2021-08-26T01:15:09.733Z"
   },
   {
    "duration": 22,
    "start_time": "2021-08-26T01:15:55.533Z"
   },
   {
    "duration": 5,
    "start_time": "2021-08-26T01:16:09.381Z"
   },
   {
    "duration": 15,
    "start_time": "2021-08-26T01:17:13.933Z"
   },
   {
    "duration": 829,
    "start_time": "2021-08-26T01:17:27.014Z"
   },
   {
    "duration": 4,
    "start_time": "2021-08-26T01:18:16.093Z"
   },
   {
    "duration": 20,
    "start_time": "2021-08-26T01:18:21.183Z"
   },
   {
    "duration": 10,
    "start_time": "2021-08-26T01:25:11.973Z"
   },
   {
    "duration": 10,
    "start_time": "2021-08-26T01:25:45.347Z"
   },
   {
    "duration": 8,
    "start_time": "2021-08-26T01:26:20.824Z"
   },
   {
    "duration": 257,
    "start_time": "2021-08-26T01:26:41.064Z"
   },
   {
    "duration": 8,
    "start_time": "2021-08-26T01:26:55.113Z"
   },
   {
    "duration": 13,
    "start_time": "2021-08-26T01:27:34.249Z"
   },
   {
    "duration": 8,
    "start_time": "2021-08-26T01:28:03.124Z"
   },
   {
    "duration": 615,
    "start_time": "2021-08-26T22:49:19.318Z"
   },
   {
    "duration": 147,
    "start_time": "2021-08-26T22:49:19.935Z"
   },
   {
    "duration": 122,
    "start_time": "2021-08-26T22:49:20.084Z"
   },
   {
    "duration": 80,
    "start_time": "2021-08-26T22:49:20.207Z"
   },
   {
    "duration": 18,
    "start_time": "2021-08-26T22:49:20.289Z"
   },
   {
    "duration": 33,
    "start_time": "2021-08-26T22:49:20.309Z"
   },
   {
    "duration": 45,
    "start_time": "2021-08-26T22:49:20.343Z"
   },
   {
    "duration": 91,
    "start_time": "2021-08-26T22:49:20.390Z"
   },
   {
    "duration": 9,
    "start_time": "2021-08-26T22:49:20.492Z"
   },
   {
    "duration": 5677,
    "start_time": "2021-08-26T22:49:20.503Z"
   },
   {
    "duration": 341,
    "start_time": "2021-08-26T22:49:25.841Z"
   },
   {
    "duration": 326,
    "start_time": "2021-08-26T22:49:25.857Z"
   },
   {
    "duration": 318,
    "start_time": "2021-08-26T22:49:25.866Z"
   },
   {
    "duration": 313,
    "start_time": "2021-08-26T22:49:25.872Z"
   },
   {
    "duration": 307,
    "start_time": "2021-08-26T22:49:25.878Z"
   },
   {
    "duration": 301,
    "start_time": "2021-08-26T22:49:25.885Z"
   },
   {
    "duration": 294,
    "start_time": "2021-08-26T22:49:25.893Z"
   },
   {
    "duration": 285,
    "start_time": "2021-08-26T22:49:25.903Z"
   },
   {
    "duration": 279,
    "start_time": "2021-08-26T22:49:25.910Z"
   },
   {
    "duration": 273,
    "start_time": "2021-08-26T22:49:25.917Z"
   },
   {
    "duration": 266,
    "start_time": "2021-08-26T22:49:25.925Z"
   },
   {
    "duration": 259,
    "start_time": "2021-08-26T22:49:25.933Z"
   },
   {
    "duration": 254,
    "start_time": "2021-08-26T22:49:25.939Z"
   },
   {
    "duration": 244,
    "start_time": "2021-08-26T22:49:25.949Z"
   },
   {
    "duration": 222,
    "start_time": "2021-08-26T22:49:25.972Z"
   },
   {
    "duration": 217,
    "start_time": "2021-08-26T22:49:25.978Z"
   },
   {
    "duration": 210,
    "start_time": "2021-08-26T22:49:25.986Z"
   },
   {
    "duration": 205,
    "start_time": "2021-08-26T22:49:25.992Z"
   },
   {
    "duration": 198,
    "start_time": "2021-08-26T22:49:26.000Z"
   },
   {
    "duration": 191,
    "start_time": "2021-08-26T22:49:26.008Z"
   },
   {
    "duration": 182,
    "start_time": "2021-08-26T22:49:26.017Z"
   },
   {
    "duration": 154,
    "start_time": "2021-08-26T22:49:26.046Z"
   },
   {
    "duration": 128,
    "start_time": "2021-08-26T22:49:26.073Z"
   },
   {
    "duration": 96,
    "start_time": "2021-08-26T22:49:26.106Z"
   },
   {
    "duration": 60,
    "start_time": "2021-08-26T22:49:26.143Z"
   },
   {
    "duration": 33,
    "start_time": "2021-08-26T22:49:26.170Z"
   },
   {
    "duration": 24,
    "start_time": "2021-08-26T22:49:26.180Z"
   },
   {
    "duration": 19,
    "start_time": "2021-08-26T22:49:26.186Z"
   },
   {
    "duration": 14,
    "start_time": "2021-08-26T22:49:26.192Z"
   },
   {
    "duration": 8,
    "start_time": "2021-08-26T22:49:26.199Z"
   },
   {
    "duration": 2,
    "start_time": "2021-08-26T22:49:26.205Z"
   },
   {
    "duration": -2,
    "start_time": "2021-08-26T22:49:26.210Z"
   },
   {
    "duration": -8,
    "start_time": "2021-08-26T22:49:26.217Z"
   },
   {
    "duration": -12,
    "start_time": "2021-08-26T22:49:26.222Z"
   },
   {
    "duration": -18,
    "start_time": "2021-08-26T22:49:26.228Z"
   },
   {
    "duration": -23,
    "start_time": "2021-08-26T22:49:26.234Z"
   },
   {
    "duration": -25,
    "start_time": "2021-08-26T22:49:26.239Z"
   },
   {
    "duration": -31,
    "start_time": "2021-08-26T22:49:26.245Z"
   },
   {
    "duration": -36,
    "start_time": "2021-08-26T22:49:26.251Z"
   },
   {
    "duration": 8,
    "start_time": "2021-08-26T22:59:58.511Z"
   },
   {
    "duration": 8,
    "start_time": "2021-08-26T23:00:22.771Z"
   },
   {
    "duration": 11,
    "start_time": "2021-08-26T23:01:15.033Z"
   },
   {
    "duration": 5,
    "start_time": "2021-08-26T23:01:27.403Z"
   },
   {
    "duration": 8,
    "start_time": "2021-08-26T23:01:32.963Z"
   },
   {
    "duration": 3,
    "start_time": "2021-08-26T23:07:20.793Z"
   },
   {
    "duration": 161,
    "start_time": "2021-08-26T23:07:20.798Z"
   },
   {
    "duration": 139,
    "start_time": "2021-08-26T23:07:20.962Z"
   },
   {
    "duration": 90,
    "start_time": "2021-08-26T23:07:21.103Z"
   },
   {
    "duration": 21,
    "start_time": "2021-08-26T23:07:21.195Z"
   },
   {
    "duration": 33,
    "start_time": "2021-08-26T23:07:21.218Z"
   },
   {
    "duration": 47,
    "start_time": "2021-08-26T23:07:21.253Z"
   },
   {
    "duration": 92,
    "start_time": "2021-08-26T23:07:21.302Z"
   },
   {
    "duration": 7,
    "start_time": "2021-08-26T23:07:21.398Z"
   },
   {
    "duration": 16,
    "start_time": "2021-08-26T23:07:21.408Z"
   },
   {
    "duration": 15,
    "start_time": "2021-08-26T23:07:21.426Z"
   },
   {
    "duration": 4,
    "start_time": "2021-08-26T23:07:21.443Z"
   },
   {
    "duration": 60,
    "start_time": "2021-08-26T23:07:21.448Z"
   },
   {
    "duration": 5,
    "start_time": "2021-08-26T23:07:21.510Z"
   },
   {
    "duration": 9,
    "start_time": "2021-08-26T23:07:21.516Z"
   },
   {
    "duration": 50,
    "start_time": "2021-08-26T23:07:21.527Z"
   },
   {
    "duration": 13,
    "start_time": "2021-08-26T23:07:21.591Z"
   },
   {
    "duration": 13,
    "start_time": "2021-08-26T23:07:21.605Z"
   },
   {
    "duration": 27,
    "start_time": "2021-08-26T23:07:21.619Z"
   },
   {
    "duration": 5,
    "start_time": "2021-08-26T23:07:21.647Z"
   },
   {
    "duration": 67,
    "start_time": "2021-08-26T23:07:21.654Z"
   },
   {
    "duration": 25,
    "start_time": "2021-08-26T23:07:21.723Z"
   },
   {
    "duration": 5,
    "start_time": "2021-08-26T23:07:21.749Z"
   },
   {
    "duration": 13,
    "start_time": "2021-08-26T23:07:21.756Z"
   },
   {
    "duration": 23,
    "start_time": "2021-08-26T23:07:21.770Z"
   },
   {
    "duration": 10,
    "start_time": "2021-08-26T23:07:21.795Z"
   },
   {
    "duration": 8,
    "start_time": "2021-08-26T23:07:21.808Z"
   },
   {
    "duration": 11,
    "start_time": "2021-08-26T23:07:21.818Z"
   },
   {
    "duration": 8,
    "start_time": "2021-08-26T23:07:21.830Z"
   },
   {
    "duration": 17,
    "start_time": "2021-08-26T23:07:21.839Z"
   },
   {
    "duration": 51,
    "start_time": "2021-08-26T23:07:21.858Z"
   },
   {
    "duration": 85,
    "start_time": "2021-08-26T23:07:21.910Z"
   },
   {
    "duration": 69,
    "start_time": "2021-08-26T23:07:21.997Z"
   },
   {
    "duration": 31,
    "start_time": "2021-08-26T23:07:22.067Z"
   },
   {
    "duration": 3,
    "start_time": "2021-08-26T23:07:22.100Z"
   },
   {
    "duration": 46,
    "start_time": "2021-08-26T23:07:22.104Z"
   },
   {
    "duration": 44,
    "start_time": "2021-08-26T23:07:22.151Z"
   },
   {
    "duration": 34,
    "start_time": "2021-08-26T23:07:22.197Z"
   },
   {
    "duration": 3,
    "start_time": "2021-08-26T23:07:22.233Z"
   },
   {
    "duration": 13,
    "start_time": "2021-08-26T23:07:22.238Z"
   },
   {
    "duration": 8,
    "start_time": "2021-08-26T23:07:22.252Z"
   },
   {
    "duration": 40,
    "start_time": "2021-08-26T23:07:22.261Z"
   },
   {
    "duration": 16,
    "start_time": "2021-08-26T23:07:22.303Z"
   },
   {
    "duration": 30,
    "start_time": "2021-08-26T23:07:22.321Z"
   },
   {
    "duration": 40,
    "start_time": "2021-08-26T23:07:22.353Z"
   },
   {
    "duration": 13,
    "start_time": "2021-08-26T23:07:22.394Z"
   },
   {
    "duration": 284,
    "start_time": "2021-08-26T23:07:22.409Z"
   },
   {
    "duration": 336,
    "start_time": "2021-08-26T23:07:22.358Z"
   },
   {
    "duration": 7,
    "start_time": "2021-08-26T23:11:40.358Z"
   },
   {
    "duration": 7,
    "start_time": "2021-08-26T23:12:22.108Z"
   },
   {
    "duration": 8,
    "start_time": "2021-08-26T23:12:26.517Z"
   },
   {
    "duration": 21,
    "start_time": "2021-08-26T23:12:44.848Z"
   },
   {
    "duration": 7,
    "start_time": "2021-08-26T23:16:53.557Z"
   },
   {
    "duration": 23,
    "start_time": "2021-08-26T23:18:43.977Z"
   },
   {
    "duration": 21,
    "start_time": "2021-08-26T23:19:43.208Z"
   },
   {
    "duration": 7,
    "start_time": "2021-08-26T23:20:13.528Z"
   },
   {
    "duration": 9,
    "start_time": "2021-08-26T23:21:05.309Z"
   },
   {
    "duration": 3,
    "start_time": "2021-08-26T23:27:04.413Z"
   },
   {
    "duration": 3,
    "start_time": "2021-08-26T23:27:10.733Z"
   },
   {
    "duration": 232,
    "start_time": "2021-08-26T23:27:42.152Z"
   },
   {
    "duration": 4,
    "start_time": "2021-08-26T23:30:24.137Z"
   },
   {
    "duration": 13,
    "start_time": "2021-08-26T23:30:36.778Z"
   },
   {
    "duration": 245,
    "start_time": "2021-08-26T23:31:42.667Z"
   },
   {
    "duration": 15,
    "start_time": "2021-08-26T23:37:12.072Z"
   },
   {
    "duration": 19,
    "start_time": "2021-08-26T23:37:40.996Z"
   },
   {
    "duration": 20,
    "start_time": "2021-08-26T23:38:33.392Z"
   },
   {
    "duration": 19,
    "start_time": "2021-08-26T23:39:37.984Z"
   },
   {
    "duration": 401,
    "start_time": "2021-08-26T23:40:20.474Z"
   },
   {
    "duration": 21,
    "start_time": "2021-08-26T23:48:03.573Z"
   },
   {
    "duration": 249,
    "start_time": "2021-08-27T00:18:42.596Z"
   },
   {
    "duration": 20,
    "start_time": "2021-08-27T00:18:58.163Z"
   },
   {
    "duration": 17,
    "start_time": "2021-08-27T00:23:16.785Z"
   },
   {
    "duration": 16,
    "start_time": "2021-08-27T00:23:26.905Z"
   },
   {
    "duration": 16,
    "start_time": "2021-08-27T00:24:17.543Z"
   },
   {
    "duration": 16,
    "start_time": "2021-08-27T00:24:48.449Z"
   },
   {
    "duration": 79,
    "start_time": "2021-08-27T00:25:48.960Z"
   },
   {
    "duration": 85,
    "start_time": "2021-08-27T00:26:06.001Z"
   },
   {
    "duration": 14,
    "start_time": "2021-08-27T00:26:29.869Z"
   },
   {
    "duration": 18,
    "start_time": "2021-08-27T00:31:16.769Z"
   },
   {
    "duration": 19,
    "start_time": "2021-08-27T00:34:26.528Z"
   },
   {
    "duration": 20,
    "start_time": "2021-08-27T00:41:50.914Z"
   },
   {
    "duration": 245,
    "start_time": "2021-08-27T01:08:57.560Z"
   },
   {
    "duration": 14,
    "start_time": "2021-08-27T01:09:22.099Z"
   },
   {
    "duration": 3,
    "start_time": "2021-08-27T01:11:31.910Z"
   },
   {
    "duration": 149,
    "start_time": "2021-08-27T01:11:31.915Z"
   },
   {
    "duration": 122,
    "start_time": "2021-08-27T01:11:32.066Z"
   },
   {
    "duration": 81,
    "start_time": "2021-08-27T01:11:32.191Z"
   },
   {
    "duration": 20,
    "start_time": "2021-08-27T01:11:32.273Z"
   },
   {
    "duration": 34,
    "start_time": "2021-08-27T01:11:32.294Z"
   },
   {
    "duration": 47,
    "start_time": "2021-08-27T01:11:32.329Z"
   },
   {
    "duration": 78,
    "start_time": "2021-08-27T01:11:32.377Z"
   },
   {
    "duration": 7,
    "start_time": "2021-08-27T01:11:32.457Z"
   },
   {
    "duration": 26,
    "start_time": "2021-08-27T01:11:32.466Z"
   },
   {
    "duration": 13,
    "start_time": "2021-08-27T01:11:32.493Z"
   },
   {
    "duration": 6,
    "start_time": "2021-08-27T01:11:32.508Z"
   },
   {
    "duration": 38,
    "start_time": "2021-08-27T01:11:32.515Z"
   },
   {
    "duration": 7,
    "start_time": "2021-08-27T01:11:32.555Z"
   },
   {
    "duration": 30,
    "start_time": "2021-08-27T01:11:32.563Z"
   },
   {
    "duration": 52,
    "start_time": "2021-08-27T01:11:32.594Z"
   },
   {
    "duration": 14,
    "start_time": "2021-08-27T01:11:32.648Z"
   },
   {
    "duration": 29,
    "start_time": "2021-08-27T01:11:32.663Z"
   },
   {
    "duration": 27,
    "start_time": "2021-08-27T01:11:32.694Z"
   },
   {
    "duration": 6,
    "start_time": "2021-08-27T01:11:32.723Z"
   },
   {
    "duration": 40,
    "start_time": "2021-08-27T01:11:32.731Z"
   },
   {
    "duration": 25,
    "start_time": "2021-08-27T01:11:32.792Z"
   },
   {
    "duration": 15,
    "start_time": "2021-08-27T01:11:32.819Z"
   },
   {
    "duration": 37,
    "start_time": "2021-08-27T01:11:32.836Z"
   },
   {
    "duration": 26,
    "start_time": "2021-08-27T01:11:32.875Z"
   },
   {
    "duration": 19,
    "start_time": "2021-08-27T01:11:32.902Z"
   },
   {
    "duration": 31,
    "start_time": "2021-08-27T01:11:32.924Z"
   },
   {
    "duration": 27,
    "start_time": "2021-08-27T01:11:32.957Z"
   },
   {
    "duration": 30,
    "start_time": "2021-08-27T01:11:32.986Z"
   },
   {
    "duration": 38,
    "start_time": "2021-08-27T01:11:33.017Z"
   },
   {
    "duration": 54,
    "start_time": "2021-08-27T01:11:33.056Z"
   },
   {
    "duration": 92,
    "start_time": "2021-08-27T01:11:33.111Z"
   },
   {
    "duration": 70,
    "start_time": "2021-08-27T01:11:33.205Z"
   },
   {
    "duration": 32,
    "start_time": "2021-08-27T01:11:33.277Z"
   },
   {
    "duration": 8,
    "start_time": "2021-08-27T01:11:33.311Z"
   },
   {
    "duration": 57,
    "start_time": "2021-08-27T01:11:33.320Z"
   },
   {
    "duration": 27,
    "start_time": "2021-08-27T01:11:33.379Z"
   },
   {
    "duration": 37,
    "start_time": "2021-08-27T01:11:33.408Z"
   },
   {
    "duration": 4,
    "start_time": "2021-08-27T01:11:33.447Z"
   },
   {
    "duration": 35,
    "start_time": "2021-08-27T01:11:33.452Z"
   },
   {
    "duration": 22,
    "start_time": "2021-08-27T01:11:33.489Z"
   },
   {
    "duration": 56,
    "start_time": "2021-08-27T01:11:33.513Z"
   },
   {
    "duration": 14,
    "start_time": "2021-08-27T01:11:33.571Z"
   },
   {
    "duration": 44,
    "start_time": "2021-08-27T01:11:33.586Z"
   },
   {
    "duration": 18,
    "start_time": "2021-08-27T01:11:33.632Z"
   },
   {
    "duration": 21,
    "start_time": "2021-08-27T01:11:33.652Z"
   },
   {
    "duration": 25,
    "start_time": "2021-08-27T01:11:33.675Z"
   },
   {
    "duration": 14,
    "start_time": "2021-08-27T01:11:33.701Z"
   },
   {
    "duration": 13,
    "start_time": "2021-08-27T01:11:33.716Z"
   },
   {
    "duration": 241,
    "start_time": "2021-08-27T01:15:08.810Z"
   },
   {
    "duration": 14,
    "start_time": "2021-08-27T01:18:20.610Z"
   },
   {
    "duration": 243,
    "start_time": "2021-08-27T01:19:23.659Z"
   },
   {
    "duration": 13,
    "start_time": "2021-08-27T01:19:33.410Z"
   },
   {
    "duration": 982,
    "start_time": "2021-08-27T12:40:02.439Z"
   },
   {
    "duration": 290,
    "start_time": "2021-08-27T12:40:03.424Z"
   },
   {
    "duration": 210,
    "start_time": "2021-08-27T12:40:03.717Z"
   },
   {
    "duration": 107,
    "start_time": "2021-08-27T12:40:03.930Z"
   },
   {
    "duration": 24,
    "start_time": "2021-08-27T12:40:04.039Z"
   },
   {
    "duration": 37,
    "start_time": "2021-08-27T12:40:04.065Z"
   },
   {
    "duration": 69,
    "start_time": "2021-08-27T12:40:04.105Z"
   },
   {
    "duration": 128,
    "start_time": "2021-08-27T12:40:04.178Z"
   },
   {
    "duration": 9,
    "start_time": "2021-08-27T12:40:04.309Z"
   },
   {
    "duration": 29,
    "start_time": "2021-08-27T12:40:04.321Z"
   },
   {
    "duration": 42,
    "start_time": "2021-08-27T12:40:04.353Z"
   },
   {
    "duration": 7,
    "start_time": "2021-08-27T12:40:04.397Z"
   },
   {
    "duration": 64,
    "start_time": "2021-08-27T12:40:04.406Z"
   },
   {
    "duration": 21,
    "start_time": "2021-08-27T12:40:04.472Z"
   },
   {
    "duration": 8,
    "start_time": "2021-08-27T12:40:04.494Z"
   },
   {
    "duration": 204,
    "start_time": "2021-08-27T12:40:04.505Z"
   },
   {
    "duration": 19,
    "start_time": "2021-08-27T12:40:04.712Z"
   },
   {
    "duration": 78,
    "start_time": "2021-08-27T12:40:04.734Z"
   },
   {
    "duration": 97,
    "start_time": "2021-08-27T12:40:04.815Z"
   },
   {
    "duration": 8,
    "start_time": "2021-08-27T12:40:04.915Z"
   },
   {
    "duration": 180,
    "start_time": "2021-08-27T12:40:04.925Z"
   },
   {
    "duration": 90,
    "start_time": "2021-08-27T12:40:05.107Z"
   },
   {
    "duration": 6,
    "start_time": "2021-08-27T12:40:05.202Z"
   },
   {
    "duration": 18,
    "start_time": "2021-08-27T12:40:05.211Z"
   },
   {
    "duration": 10,
    "start_time": "2021-08-27T12:40:05.231Z"
   },
   {
    "duration": 24,
    "start_time": "2021-08-27T12:40:05.243Z"
   },
   {
    "duration": 28,
    "start_time": "2021-08-27T12:40:05.270Z"
   },
   {
    "duration": 18,
    "start_time": "2021-08-27T12:40:05.300Z"
   },
   {
    "duration": 13,
    "start_time": "2021-08-27T12:40:05.320Z"
   },
   {
    "duration": 25,
    "start_time": "2021-08-27T12:40:05.335Z"
   },
   {
    "duration": 62,
    "start_time": "2021-08-27T12:40:05.362Z"
   },
   {
    "duration": 112,
    "start_time": "2021-08-27T12:40:05.427Z"
   },
   {
    "duration": 130,
    "start_time": "2021-08-27T12:40:05.541Z"
   },
   {
    "duration": 49,
    "start_time": "2021-08-27T12:40:05.674Z"
   },
   {
    "duration": 5,
    "start_time": "2021-08-27T12:40:05.726Z"
   },
   {
    "duration": 83,
    "start_time": "2021-08-27T12:40:05.733Z"
   },
   {
    "duration": 36,
    "start_time": "2021-08-27T12:40:05.819Z"
   },
   {
    "duration": 65,
    "start_time": "2021-08-27T12:40:05.857Z"
   },
   {
    "duration": 4,
    "start_time": "2021-08-27T12:40:05.924Z"
   },
   {
    "duration": 19,
    "start_time": "2021-08-27T12:40:05.929Z"
   },
   {
    "duration": 43,
    "start_time": "2021-08-27T12:40:05.950Z"
   },
   {
    "duration": 21,
    "start_time": "2021-08-27T12:40:05.995Z"
   },
   {
    "duration": 18,
    "start_time": "2021-08-27T12:40:06.018Z"
   },
   {
    "duration": 76,
    "start_time": "2021-08-27T12:40:06.039Z"
   },
   {
    "duration": 32,
    "start_time": "2021-08-27T12:40:06.118Z"
   },
   {
    "duration": 40,
    "start_time": "2021-08-27T12:40:06.153Z"
   },
   {
    "duration": 25,
    "start_time": "2021-08-27T12:40:06.195Z"
   },
   {
    "duration": 22,
    "start_time": "2021-08-27T12:40:06.222Z"
   },
   {
    "duration": 58,
    "start_time": "2021-08-27T12:40:06.247Z"
   },
   {
    "duration": 23,
    "start_time": "2021-08-27T12:54:10.606Z"
   },
   {
    "duration": 15,
    "start_time": "2021-08-27T13:39:11.517Z"
   },
   {
    "duration": 21,
    "start_time": "2021-08-27T13:39:42.285Z"
   },
   {
    "duration": 604,
    "start_time": "2021-08-28T02:12:22.490Z"
   },
   {
    "duration": 155,
    "start_time": "2021-08-28T02:12:23.096Z"
   },
   {
    "duration": 125,
    "start_time": "2021-08-28T02:12:23.254Z"
   },
   {
    "duration": 83,
    "start_time": "2021-08-28T02:12:23.381Z"
   },
   {
    "duration": 20,
    "start_time": "2021-08-28T02:12:23.466Z"
   },
   {
    "duration": 34,
    "start_time": "2021-08-28T02:12:23.487Z"
   },
   {
    "duration": 47,
    "start_time": "2021-08-28T02:12:23.523Z"
   },
   {
    "duration": 97,
    "start_time": "2021-08-28T02:12:23.571Z"
   },
   {
    "duration": 7,
    "start_time": "2021-08-28T02:12:23.670Z"
   },
   {
    "duration": 16,
    "start_time": "2021-08-28T02:12:23.680Z"
   },
   {
    "duration": 19,
    "start_time": "2021-08-28T02:12:23.698Z"
   },
   {
    "duration": 26,
    "start_time": "2021-08-28T02:12:23.718Z"
   },
   {
    "duration": 34,
    "start_time": "2021-08-28T02:12:23.746Z"
   },
   {
    "duration": 7,
    "start_time": "2021-08-28T02:12:23.782Z"
   },
   {
    "duration": 7,
    "start_time": "2021-08-28T02:12:23.791Z"
   },
   {
    "duration": 114,
    "start_time": "2021-08-28T02:12:23.800Z"
   },
   {
    "duration": 12,
    "start_time": "2021-08-28T02:12:23.916Z"
   },
   {
    "duration": 15,
    "start_time": "2021-08-28T02:12:23.941Z"
   },
   {
    "duration": 26,
    "start_time": "2021-08-28T02:12:23.958Z"
   },
   {
    "duration": 6,
    "start_time": "2021-08-28T02:12:23.986Z"
   },
   {
    "duration": 66,
    "start_time": "2021-08-28T02:12:23.993Z"
   },
   {
    "duration": 23,
    "start_time": "2021-08-28T02:12:24.061Z"
   },
   {
    "duration": 5,
    "start_time": "2021-08-28T02:12:24.086Z"
   },
   {
    "duration": 8,
    "start_time": "2021-08-28T02:12:24.093Z"
   },
   {
    "duration": 9,
    "start_time": "2021-08-28T02:12:24.102Z"
   },
   {
    "duration": 31,
    "start_time": "2021-08-28T02:12:24.113Z"
   },
   {
    "duration": 7,
    "start_time": "2021-08-28T02:12:24.147Z"
   },
   {
    "duration": 10,
    "start_time": "2021-08-28T02:12:24.156Z"
   },
   {
    "duration": 3,
    "start_time": "2021-08-28T02:12:24.167Z"
   },
   {
    "duration": 13,
    "start_time": "2021-08-28T02:12:24.172Z"
   },
   {
    "duration": 65,
    "start_time": "2021-08-28T02:12:24.186Z"
   },
   {
    "duration": 96,
    "start_time": "2021-08-28T02:12:24.252Z"
   },
   {
    "duration": 75,
    "start_time": "2021-08-28T02:12:24.349Z"
   },
   {
    "duration": 32,
    "start_time": "2021-08-28T02:12:24.425Z"
   },
   {
    "duration": 4,
    "start_time": "2021-08-28T02:12:24.458Z"
   },
   {
    "duration": 47,
    "start_time": "2021-08-28T02:12:24.463Z"
   },
   {
    "duration": 49,
    "start_time": "2021-08-28T02:12:24.511Z"
   },
   {
    "duration": 33,
    "start_time": "2021-08-28T02:12:24.561Z"
   },
   {
    "duration": 3,
    "start_time": "2021-08-28T02:12:24.596Z"
   },
   {
    "duration": 14,
    "start_time": "2021-08-28T02:12:24.601Z"
   },
   {
    "duration": 30,
    "start_time": "2021-08-28T02:12:24.617Z"
   },
   {
    "duration": 22,
    "start_time": "2021-08-28T02:12:24.649Z"
   },
   {
    "duration": 14,
    "start_time": "2021-08-28T02:12:24.673Z"
   },
   {
    "duration": 53,
    "start_time": "2021-08-28T02:12:24.689Z"
   },
   {
    "duration": 16,
    "start_time": "2021-08-28T02:12:24.744Z"
   },
   {
    "duration": 14,
    "start_time": "2021-08-28T02:12:24.762Z"
   },
   {
    "duration": 20,
    "start_time": "2021-08-28T02:12:24.778Z"
   },
   {
    "duration": 46,
    "start_time": "2021-08-28T02:12:24.800Z"
   },
   {
    "duration": 15,
    "start_time": "2021-08-28T02:12:24.848Z"
   },
   {
    "duration": 21,
    "start_time": "2021-08-28T02:12:24.865Z"
   },
   {
    "duration": 19,
    "start_time": "2021-08-28T02:12:24.888Z"
   },
   {
    "duration": 367,
    "start_time": "2021-08-28T03:07:22.250Z"
   },
   {
    "duration": 21,
    "start_time": "2021-08-28T04:16:14.306Z"
   },
   {
    "duration": 353,
    "start_time": "2021-08-28T04:16:34.461Z"
   },
   {
    "duration": 5,
    "start_time": "2021-08-28T04:17:38.148Z"
   },
   {
    "duration": 3,
    "start_time": "2021-08-28T04:18:05.551Z"
   },
   {
    "duration": 148,
    "start_time": "2021-08-28T04:18:05.555Z"
   },
   {
    "duration": 142,
    "start_time": "2021-08-28T04:18:05.704Z"
   },
   {
    "duration": 94,
    "start_time": "2021-08-28T04:18:05.848Z"
   },
   {
    "duration": 22,
    "start_time": "2021-08-28T04:18:05.943Z"
   },
   {
    "duration": 36,
    "start_time": "2021-08-28T04:18:05.967Z"
   },
   {
    "duration": 47,
    "start_time": "2021-08-28T04:18:06.005Z"
   },
   {
    "duration": 84,
    "start_time": "2021-08-28T04:18:06.054Z"
   },
   {
    "duration": 7,
    "start_time": "2021-08-28T04:18:06.141Z"
   },
   {
    "duration": 15,
    "start_time": "2021-08-28T04:18:06.150Z"
   },
   {
    "duration": 10,
    "start_time": "2021-08-28T04:18:06.167Z"
   },
   {
    "duration": 4,
    "start_time": "2021-08-28T04:18:06.179Z"
   },
   {
    "duration": 57,
    "start_time": "2021-08-28T04:18:06.185Z"
   },
   {
    "duration": 6,
    "start_time": "2021-08-28T04:18:06.244Z"
   },
   {
    "duration": 5,
    "start_time": "2021-08-28T04:18:06.252Z"
   },
   {
    "duration": 84,
    "start_time": "2021-08-28T04:18:06.259Z"
   },
   {
    "duration": 12,
    "start_time": "2021-08-28T04:18:06.345Z"
   },
   {
    "duration": 13,
    "start_time": "2021-08-28T04:18:06.359Z"
   },
   {
    "duration": 26,
    "start_time": "2021-08-28T04:18:06.374Z"
   },
   {
    "duration": 9,
    "start_time": "2021-08-28T04:18:06.402Z"
   },
   {
    "duration": 60,
    "start_time": "2021-08-28T04:18:06.413Z"
   },
   {
    "duration": 24,
    "start_time": "2021-08-28T04:18:06.475Z"
   },
   {
    "duration": 5,
    "start_time": "2021-08-28T04:18:06.501Z"
   },
   {
    "duration": 8,
    "start_time": "2021-08-28T04:18:06.507Z"
   },
   {
    "duration": 6,
    "start_time": "2021-08-28T04:18:06.540Z"
   },
   {
    "duration": 11,
    "start_time": "2021-08-28T04:18:06.547Z"
   },
   {
    "duration": 6,
    "start_time": "2021-08-28T04:18:06.561Z"
   },
   {
    "duration": 9,
    "start_time": "2021-08-28T04:18:06.569Z"
   },
   {
    "duration": 5,
    "start_time": "2021-08-28T04:18:06.580Z"
   },
   {
    "duration": 11,
    "start_time": "2021-08-28T04:18:06.586Z"
   },
   {
    "duration": 68,
    "start_time": "2021-08-28T04:18:06.598Z"
   },
   {
    "duration": 93,
    "start_time": "2021-08-28T04:18:06.668Z"
   },
   {
    "duration": 78,
    "start_time": "2021-08-28T04:18:06.763Z"
   },
   {
    "duration": 21,
    "start_time": "2021-08-28T04:18:06.842Z"
   },
   {
    "duration": 3,
    "start_time": "2021-08-28T04:18:06.865Z"
   },
   {
    "duration": 47,
    "start_time": "2021-08-28T04:18:06.870Z"
   },
   {
    "duration": 47,
    "start_time": "2021-08-28T04:18:06.919Z"
   },
   {
    "duration": 34,
    "start_time": "2021-08-28T04:18:06.967Z"
   },
   {
    "duration": 4,
    "start_time": "2021-08-28T04:18:07.002Z"
   },
   {
    "duration": 35,
    "start_time": "2021-08-28T04:18:07.007Z"
   },
   {
    "duration": 9,
    "start_time": "2021-08-28T04:18:07.043Z"
   },
   {
    "duration": 18,
    "start_time": "2021-08-28T04:18:07.053Z"
   },
   {
    "duration": 13,
    "start_time": "2021-08-28T04:18:07.072Z"
   },
   {
    "duration": 56,
    "start_time": "2021-08-28T04:18:07.086Z"
   },
   {
    "duration": 18,
    "start_time": "2021-08-28T04:18:07.143Z"
   },
   {
    "duration": 14,
    "start_time": "2021-08-28T04:18:07.162Z"
   },
   {
    "duration": 32,
    "start_time": "2021-08-28T04:18:07.177Z"
   },
   {
    "duration": 15,
    "start_time": "2021-08-28T04:18:07.211Z"
   },
   {
    "duration": 13,
    "start_time": "2021-08-28T04:18:07.241Z"
   },
   {
    "duration": 20,
    "start_time": "2021-08-28T04:18:07.256Z"
   },
   {
    "duration": 18,
    "start_time": "2021-08-28T04:18:07.277Z"
   },
   {
    "duration": 4,
    "start_time": "2021-08-28T04:18:07.296Z"
   },
   {
    "duration": 293,
    "start_time": "2021-08-28T04:18:07.302Z"
   },
   {
    "duration": 288,
    "start_time": "2021-08-28T04:18:45.260Z"
   },
   {
    "duration": 289,
    "start_time": "2021-08-28T04:18:54.680Z"
   },
   {
    "duration": 6,
    "start_time": "2021-08-28T04:19:13.530Z"
   },
   {
    "duration": 31,
    "start_time": "2021-08-28T04:19:26.940Z"
   },
   {
    "duration": 5,
    "start_time": "2021-08-28T04:19:34.470Z"
   },
   {
    "duration": 8,
    "start_time": "2021-08-28T05:55:28.687Z"
   },
   {
    "duration": 10,
    "start_time": "2021-08-28T05:56:07.836Z"
   },
   {
    "duration": 9,
    "start_time": "2021-08-28T06:01:48.775Z"
   },
   {
    "duration": 24,
    "start_time": "2021-08-28T06:14:45.297Z"
   },
   {
    "duration": 22,
    "start_time": "2021-08-28T06:14:52.937Z"
   },
   {
    "duration": 22,
    "start_time": "2021-08-28T06:15:05.707Z"
   },
   {
    "duration": 2,
    "start_time": "2021-08-28T06:57:38.588Z"
   },
   {
    "duration": 155,
    "start_time": "2021-08-28T06:57:38.606Z"
   },
   {
    "duration": 132,
    "start_time": "2021-08-28T06:57:38.763Z"
   },
   {
    "duration": 92,
    "start_time": "2021-08-28T06:57:38.897Z"
   },
   {
    "duration": 21,
    "start_time": "2021-08-28T06:57:38.991Z"
   },
   {
    "duration": 44,
    "start_time": "2021-08-28T06:57:39.013Z"
   },
   {
    "duration": 53,
    "start_time": "2021-08-28T06:57:39.058Z"
   },
   {
    "duration": 85,
    "start_time": "2021-08-28T06:57:39.112Z"
   },
   {
    "duration": 7,
    "start_time": "2021-08-28T06:57:39.199Z"
   },
   {
    "duration": 17,
    "start_time": "2021-08-28T06:57:39.208Z"
   },
   {
    "duration": 26,
    "start_time": "2021-08-28T06:57:39.227Z"
   },
   {
    "duration": 5,
    "start_time": "2021-08-28T06:57:39.254Z"
   },
   {
    "duration": 37,
    "start_time": "2021-08-28T06:57:39.261Z"
   },
   {
    "duration": 7,
    "start_time": "2021-08-28T06:57:39.300Z"
   },
   {
    "duration": 33,
    "start_time": "2021-08-28T06:57:39.309Z"
   },
   {
    "duration": 51,
    "start_time": "2021-08-28T06:57:39.345Z"
   },
   {
    "duration": 13,
    "start_time": "2021-08-28T06:57:39.398Z"
   },
   {
    "duration": 57,
    "start_time": "2021-08-28T06:57:39.412Z"
   },
   {
    "duration": 26,
    "start_time": "2021-08-28T06:57:39.470Z"
   },
   {
    "duration": 5,
    "start_time": "2021-08-28T06:57:39.498Z"
   },
   {
    "duration": 60,
    "start_time": "2021-08-28T06:57:39.505Z"
   },
   {
    "duration": 24,
    "start_time": "2021-08-28T06:57:39.567Z"
   },
   {
    "duration": 5,
    "start_time": "2021-08-28T06:57:39.593Z"
   },
   {
    "duration": 11,
    "start_time": "2021-08-28T06:57:39.602Z"
   },
   {
    "duration": 28,
    "start_time": "2021-08-28T06:57:39.615Z"
   },
   {
    "duration": 5,
    "start_time": "2021-08-28T06:57:39.645Z"
   },
   {
    "duration": 11,
    "start_time": "2021-08-28T06:57:39.652Z"
   },
   {
    "duration": 13,
    "start_time": "2021-08-28T06:57:39.664Z"
   },
   {
    "duration": 8,
    "start_time": "2021-08-28T06:57:39.679Z"
   },
   {
    "duration": 15,
    "start_time": "2021-08-28T06:57:39.689Z"
   },
   {
    "duration": 59,
    "start_time": "2021-08-28T06:57:39.706Z"
   },
   {
    "duration": 87,
    "start_time": "2021-08-28T06:57:39.766Z"
   },
   {
    "duration": 70,
    "start_time": "2021-08-28T06:57:39.854Z"
   },
   {
    "duration": 29,
    "start_time": "2021-08-28T06:57:39.925Z"
   },
   {
    "duration": 3,
    "start_time": "2021-08-28T06:57:39.956Z"
   },
   {
    "duration": 35,
    "start_time": "2021-08-28T06:57:39.960Z"
   },
   {
    "duration": 61,
    "start_time": "2021-08-28T06:57:39.996Z"
   },
   {
    "duration": 34,
    "start_time": "2021-08-28T06:57:40.058Z"
   },
   {
    "duration": 3,
    "start_time": "2021-08-28T06:57:40.094Z"
   },
   {
    "duration": 19,
    "start_time": "2021-08-28T06:57:40.098Z"
   },
   {
    "duration": 25,
    "start_time": "2021-08-28T06:57:40.118Z"
   },
   {
    "duration": 19,
    "start_time": "2021-08-28T06:57:40.145Z"
   },
   {
    "duration": 14,
    "start_time": "2021-08-28T06:57:40.166Z"
   },
   {
    "duration": 32,
    "start_time": "2021-08-28T06:57:40.181Z"
   },
   {
    "duration": 41,
    "start_time": "2021-08-28T06:57:40.215Z"
   },
   {
    "duration": 13,
    "start_time": "2021-08-28T06:57:40.257Z"
   },
   {
    "duration": 24,
    "start_time": "2021-08-28T06:57:40.272Z"
   },
   {
    "duration": 16,
    "start_time": "2021-08-28T06:57:40.297Z"
   },
   {
    "duration": 35,
    "start_time": "2021-08-28T06:57:40.315Z"
   },
   {
    "duration": 21,
    "start_time": "2021-08-28T06:57:40.352Z"
   },
   {
    "duration": 19,
    "start_time": "2021-08-28T06:57:40.374Z"
   },
   {
    "duration": 9,
    "start_time": "2021-08-28T06:57:40.394Z"
   },
   {
    "duration": 9,
    "start_time": "2021-08-28T07:36:01.860Z"
   },
   {
    "duration": 9,
    "start_time": "2021-08-28T07:37:03.278Z"
   },
   {
    "duration": 175,
    "start_time": "2021-08-28T07:42:53.168Z"
   },
   {
    "duration": 190,
    "start_time": "2021-08-28T07:43:20.558Z"
   },
   {
    "duration": 721,
    "start_time": "2021-08-28T07:44:47.709Z"
   },
   {
    "duration": 185,
    "start_time": "2021-08-28T07:45:05.488Z"
   },
   {
    "duration": 194,
    "start_time": "2021-08-28T07:45:21.318Z"
   },
   {
    "duration": 185,
    "start_time": "2021-08-28T07:46:40.808Z"
   },
   {
    "duration": 185,
    "start_time": "2021-08-28T07:46:47.428Z"
   },
   {
    "duration": 183,
    "start_time": "2021-08-28T07:46:57.308Z"
   },
   {
    "duration": 186,
    "start_time": "2021-08-28T07:47:03.627Z"
   },
   {
    "duration": 271,
    "start_time": "2021-08-28T08:02:25.628Z"
   },
   {
    "duration": 272,
    "start_time": "2021-08-28T08:06:45.528Z"
   },
   {
    "duration": 244,
    "start_time": "2021-08-28T08:07:00.628Z"
   },
   {
    "duration": 232,
    "start_time": "2021-08-28T08:07:15.828Z"
   },
   {
    "duration": 230,
    "start_time": "2021-08-28T08:07:50.868Z"
   },
   {
    "duration": 241,
    "start_time": "2021-08-28T08:17:45.137Z"
   },
   {
    "duration": 9,
    "start_time": "2021-08-28T08:27:55.208Z"
   },
   {
    "duration": 13,
    "start_time": "2021-08-28T08:28:11.108Z"
   },
   {
    "duration": 225,
    "start_time": "2021-08-28T08:33:06.706Z"
   },
   {
    "duration": 254,
    "start_time": "2021-08-28T08:34:17.418Z"
   },
   {
    "duration": 265,
    "start_time": "2021-08-28T08:34:27.408Z"
   },
   {
    "duration": 240,
    "start_time": "2021-08-28T08:37:18.035Z"
   },
   {
    "duration": 264,
    "start_time": "2021-08-28T08:38:03.688Z"
   },
   {
    "duration": 4,
    "start_time": "2021-08-28T10:01:57.842Z"
   },
   {
    "duration": 5,
    "start_time": "2021-08-28T10:02:13.703Z"
   },
   {
    "duration": 5,
    "start_time": "2021-08-28T10:07:31.423Z"
   },
   {
    "duration": 5,
    "start_time": "2021-08-28T10:07:43.993Z"
   },
   {
    "duration": 6,
    "start_time": "2021-08-28T10:11:50.164Z"
   },
   {
    "duration": 6,
    "start_time": "2021-08-28T10:12:05.825Z"
   },
   {
    "duration": 271,
    "start_time": "2021-08-28T10:12:24.522Z"
   },
   {
    "duration": 295,
    "start_time": "2021-08-28T10:12:40.518Z"
   },
   {
    "duration": 271,
    "start_time": "2021-08-28T10:14:16.510Z"
   },
   {
    "duration": 6,
    "start_time": "2021-08-28T10:14:24.803Z"
   },
   {
    "duration": 6,
    "start_time": "2021-08-28T10:14:39.074Z"
   },
   {
    "duration": 85,
    "start_time": "2021-08-28T10:15:05.253Z"
   },
   {
    "duration": 6,
    "start_time": "2021-08-28T10:15:14.153Z"
   },
   {
    "duration": 6,
    "start_time": "2021-08-28T10:15:23.305Z"
   },
   {
    "duration": 6,
    "start_time": "2021-08-28T10:15:30.504Z"
   },
   {
    "duration": 6,
    "start_time": "2021-08-28T10:15:48.973Z"
   },
   {
    "duration": 121,
    "start_time": "2021-08-28T10:16:12.996Z"
   },
   {
    "duration": 7,
    "start_time": "2021-08-28T10:23:49.765Z"
   },
   {
    "duration": 7,
    "start_time": "2021-08-28T10:26:30.765Z"
   },
   {
    "duration": 269,
    "start_time": "2021-08-28T10:29:31.253Z"
   },
   {
    "duration": 7,
    "start_time": "2021-08-28T10:29:47.595Z"
   },
   {
    "duration": 7,
    "start_time": "2021-08-28T10:31:53.516Z"
   },
   {
    "duration": 1321,
    "start_time": "2021-08-29T02:46:10.281Z"
   },
   {
    "duration": 213,
    "start_time": "2021-08-29T02:46:11.605Z"
   },
   {
    "duration": 170,
    "start_time": "2021-08-29T02:46:11.821Z"
   },
   {
    "duration": 122,
    "start_time": "2021-08-29T02:46:11.994Z"
   },
   {
    "duration": 26,
    "start_time": "2021-08-29T02:46:12.118Z"
   },
   {
    "duration": 43,
    "start_time": "2021-08-29T02:46:12.146Z"
   },
   {
    "duration": 69,
    "start_time": "2021-08-29T02:46:12.191Z"
   },
   {
    "duration": 133,
    "start_time": "2021-08-29T02:46:12.262Z"
   },
   {
    "duration": 11,
    "start_time": "2021-08-29T02:46:12.399Z"
   },
   {
    "duration": 40,
    "start_time": "2021-08-29T02:46:12.414Z"
   },
   {
    "duration": 27,
    "start_time": "2021-08-29T02:46:12.457Z"
   },
   {
    "duration": 7,
    "start_time": "2021-08-29T02:46:12.486Z"
   },
   {
    "duration": 72,
    "start_time": "2021-08-29T02:46:12.496Z"
   },
   {
    "duration": 10,
    "start_time": "2021-08-29T02:46:12.570Z"
   },
   {
    "duration": 8,
    "start_time": "2021-08-29T02:46:12.583Z"
   },
   {
    "duration": 128,
    "start_time": "2021-08-29T02:46:12.594Z"
   },
   {
    "duration": 31,
    "start_time": "2021-08-29T02:46:12.725Z"
   },
   {
    "duration": 19,
    "start_time": "2021-08-29T02:46:12.758Z"
   },
   {
    "duration": 37,
    "start_time": "2021-08-29T02:46:12.780Z"
   },
   {
    "duration": 37,
    "start_time": "2021-08-29T02:46:12.820Z"
   },
   {
    "duration": 53,
    "start_time": "2021-08-29T02:46:12.860Z"
   },
   {
    "duration": 60,
    "start_time": "2021-08-29T02:46:12.915Z"
   },
   {
    "duration": 8,
    "start_time": "2021-08-29T02:46:12.977Z"
   },
   {
    "duration": 23,
    "start_time": "2021-08-29T02:46:12.987Z"
   },
   {
    "duration": 19,
    "start_time": "2021-08-29T02:46:13.012Z"
   },
   {
    "duration": 24,
    "start_time": "2021-08-29T02:46:13.033Z"
   },
   {
    "duration": 23,
    "start_time": "2021-08-29T02:46:13.062Z"
   },
   {
    "duration": 28,
    "start_time": "2021-08-29T02:46:13.088Z"
   },
   {
    "duration": 16,
    "start_time": "2021-08-29T02:46:13.118Z"
   },
   {
    "duration": 19,
    "start_time": "2021-08-29T02:46:13.137Z"
   },
   {
    "duration": 58,
    "start_time": "2021-08-29T02:46:13.158Z"
   },
   {
    "duration": 150,
    "start_time": "2021-08-29T02:46:13.219Z"
   },
   {
    "duration": 119,
    "start_time": "2021-08-29T02:46:13.371Z"
   },
   {
    "duration": 34,
    "start_time": "2021-08-29T02:46:13.492Z"
   },
   {
    "duration": 5,
    "start_time": "2021-08-29T02:46:13.528Z"
   },
   {
    "duration": 61,
    "start_time": "2021-08-29T02:46:13.555Z"
   },
   {
    "duration": 68,
    "start_time": "2021-08-29T02:46:13.618Z"
   },
   {
    "duration": 49,
    "start_time": "2021-08-29T02:46:13.688Z"
   },
   {
    "duration": 18,
    "start_time": "2021-08-29T02:46:13.739Z"
   },
   {
    "duration": 23,
    "start_time": "2021-08-29T02:46:13.759Z"
   },
   {
    "duration": 19,
    "start_time": "2021-08-29T02:46:13.784Z"
   },
   {
    "duration": 51,
    "start_time": "2021-08-29T02:46:13.805Z"
   },
   {
    "duration": 21,
    "start_time": "2021-08-29T02:46:13.858Z"
   },
   {
    "duration": 74,
    "start_time": "2021-08-29T02:46:13.882Z"
   },
   {
    "duration": 27,
    "start_time": "2021-08-29T02:46:13.958Z"
   },
   {
    "duration": 21,
    "start_time": "2021-08-29T02:46:13.987Z"
   },
   {
    "duration": 62,
    "start_time": "2021-08-29T02:46:14.010Z"
   },
   {
    "duration": 26,
    "start_time": "2021-08-29T02:46:14.074Z"
   },
   {
    "duration": 14,
    "start_time": "2021-08-29T02:46:14.103Z"
   },
   {
    "duration": 443,
    "start_time": "2021-08-29T02:46:14.120Z"
   },
   {
    "duration": 399,
    "start_time": "2021-08-29T02:46:14.566Z"
   },
   {
    "duration": 410,
    "start_time": "2021-08-29T02:46:14.968Z"
   },
   {
    "duration": 477,
    "start_time": "2021-08-29T02:46:15.381Z"
   },
   {
    "duration": 23,
    "start_time": "2021-08-29T02:46:15.860Z"
   },
   {
    "duration": 28,
    "start_time": "2021-08-29T02:46:15.886Z"
   },
   {
    "duration": 38,
    "start_time": "2021-08-29T02:46:15.917Z"
   },
   {
    "duration": 50,
    "start_time": "2021-08-29T02:46:15.957Z"
   },
   {
    "duration": 30,
    "start_time": "2021-08-29T02:46:16.010Z"
   },
   {
    "duration": 22,
    "start_time": "2021-08-29T02:46:16.042Z"
   },
   {
    "duration": 374,
    "start_time": "2021-08-29T02:46:16.067Z"
   },
   {
    "duration": 14,
    "start_time": "2021-08-29T02:49:11.844Z"
   },
   {
    "duration": 14,
    "start_time": "2021-08-29T02:50:34.863Z"
   },
   {
    "duration": 13,
    "start_time": "2021-08-29T02:53:56.601Z"
   },
   {
    "duration": 6,
    "start_time": "2021-08-29T02:57:16.341Z"
   },
   {
    "duration": 7,
    "start_time": "2021-08-29T02:57:49.539Z"
   },
   {
    "duration": 8,
    "start_time": "2021-08-29T02:58:21.440Z"
   },
   {
    "duration": 6,
    "start_time": "2021-08-29T02:58:39.631Z"
   },
   {
    "duration": 50,
    "start_time": "2021-08-29T03:00:42.209Z"
   },
   {
    "duration": 27,
    "start_time": "2021-08-29T03:10:00.456Z"
   },
   {
    "duration": 24,
    "start_time": "2021-08-29T03:10:46.341Z"
   },
   {
    "duration": 23,
    "start_time": "2021-08-29T03:11:04.031Z"
   },
   {
    "duration": 98,
    "start_time": "2021-08-29T03:11:22.351Z"
   },
   {
    "duration": 51,
    "start_time": "2021-08-29T03:11:30.531Z"
   },
   {
    "duration": 35,
    "start_time": "2021-08-29T03:11:57.901Z"
   },
   {
    "duration": 32,
    "start_time": "2021-08-29T03:12:04.491Z"
   },
   {
    "duration": 6,
    "start_time": "2021-08-29T03:31:15.429Z"
   },
   {
    "duration": 6834,
    "start_time": "2021-08-29T03:35:53.019Z"
   },
   {
    "duration": 51,
    "start_time": "2021-08-29T03:36:19.231Z"
   },
   {
    "duration": 4,
    "start_time": "2021-08-29T03:38:30.331Z"
   },
   {
    "duration": 253,
    "start_time": "2021-08-29T03:38:30.339Z"
   },
   {
    "duration": 203,
    "start_time": "2021-08-29T03:38:30.595Z"
   },
   {
    "duration": 121,
    "start_time": "2021-08-29T03:38:30.801Z"
   },
   {
    "duration": 25,
    "start_time": "2021-08-29T03:38:30.925Z"
   },
   {
    "duration": 64,
    "start_time": "2021-08-29T03:38:30.955Z"
   },
   {
    "duration": 72,
    "start_time": "2021-08-29T03:38:31.021Z"
   },
   {
    "duration": 141,
    "start_time": "2021-08-29T03:38:31.095Z"
   },
   {
    "duration": 17,
    "start_time": "2021-08-29T03:38:31.240Z"
   },
   {
    "duration": 31,
    "start_time": "2021-08-29T03:38:31.260Z"
   },
   {
    "duration": 18,
    "start_time": "2021-08-29T03:38:31.294Z"
   },
   {
    "duration": 7,
    "start_time": "2021-08-29T03:38:31.315Z"
   },
   {
    "duration": 72,
    "start_time": "2021-08-29T03:38:31.324Z"
   },
   {
    "duration": 8,
    "start_time": "2021-08-29T03:38:31.398Z"
   },
   {
    "duration": 27,
    "start_time": "2021-08-29T03:38:31.409Z"
   },
   {
    "duration": 108,
    "start_time": "2021-08-29T03:38:31.439Z"
   },
   {
    "duration": 16,
    "start_time": "2021-08-29T03:38:31.550Z"
   },
   {
    "duration": 34,
    "start_time": "2021-08-29T03:38:31.569Z"
   },
   {
    "duration": 37,
    "start_time": "2021-08-29T03:38:31.605Z"
   },
   {
    "duration": 17,
    "start_time": "2021-08-29T03:38:31.644Z"
   },
   {
    "duration": 56,
    "start_time": "2021-08-29T03:38:31.663Z"
   },
   {
    "duration": 56,
    "start_time": "2021-08-29T03:38:31.721Z"
   },
   {
    "duration": 7,
    "start_time": "2021-08-29T03:38:31.780Z"
   },
   {
    "duration": 19,
    "start_time": "2021-08-29T03:38:31.789Z"
   },
   {
    "duration": 22,
    "start_time": "2021-08-29T03:38:31.810Z"
   },
   {
    "duration": 10,
    "start_time": "2021-08-29T03:38:31.855Z"
   },
   {
    "duration": 30,
    "start_time": "2021-08-29T03:38:31.870Z"
   },
   {
    "duration": 17,
    "start_time": "2021-08-29T03:38:31.904Z"
   },
   {
    "duration": 15,
    "start_time": "2021-08-29T03:38:31.924Z"
   },
   {
    "duration": 32,
    "start_time": "2021-08-29T03:38:31.942Z"
   },
   {
    "duration": 57,
    "start_time": "2021-08-29T03:38:31.977Z"
   },
   {
    "duration": 155,
    "start_time": "2021-08-29T03:38:32.037Z"
   },
   {
    "duration": 121,
    "start_time": "2021-08-29T03:38:32.194Z"
   },
   {
    "duration": 44,
    "start_time": "2021-08-29T03:38:32.318Z"
   },
   {
    "duration": 5,
    "start_time": "2021-08-29T03:38:32.364Z"
   },
   {
    "duration": 64,
    "start_time": "2021-08-29T03:38:32.371Z"
   },
   {
    "duration": 59,
    "start_time": "2021-08-29T03:38:32.438Z"
   },
   {
    "duration": 88,
    "start_time": "2021-08-29T03:38:32.500Z"
   },
   {
    "duration": 6,
    "start_time": "2021-08-29T03:38:32.591Z"
   },
   {
    "duration": 21,
    "start_time": "2021-08-29T03:38:32.600Z"
   },
   {
    "duration": 41,
    "start_time": "2021-08-29T03:38:32.623Z"
   },
   {
    "duration": 27,
    "start_time": "2021-08-29T03:38:32.667Z"
   },
   {
    "duration": 22,
    "start_time": "2021-08-29T03:38:41.711Z"
   },
   {
    "duration": 53,
    "start_time": "2021-08-29T03:38:46.455Z"
   },
   {
    "duration": 27,
    "start_time": "2021-08-29T03:38:49.361Z"
   },
   {
    "duration": 3,
    "start_time": "2021-08-29T03:41:35.622Z"
   },
   {
    "duration": 228,
    "start_time": "2021-08-29T03:41:35.628Z"
   },
   {
    "duration": 181,
    "start_time": "2021-08-29T03:41:35.859Z"
   },
   {
    "duration": 114,
    "start_time": "2021-08-29T03:41:36.043Z"
   },
   {
    "duration": 25,
    "start_time": "2021-08-29T03:41:36.159Z"
   },
   {
    "duration": 41,
    "start_time": "2021-08-29T03:41:36.186Z"
   },
   {
    "duration": 73,
    "start_time": "2021-08-29T03:41:36.230Z"
   },
   {
    "duration": 129,
    "start_time": "2021-08-29T03:41:36.306Z"
   },
   {
    "duration": 22,
    "start_time": "2021-08-29T03:41:36.441Z"
   },
   {
    "duration": 22,
    "start_time": "2021-08-29T03:41:36.467Z"
   },
   {
    "duration": 19,
    "start_time": "2021-08-29T03:41:36.492Z"
   },
   {
    "duration": 43,
    "start_time": "2021-08-29T03:41:36.514Z"
   },
   {
    "duration": 49,
    "start_time": "2021-08-29T03:41:36.560Z"
   },
   {
    "duration": 44,
    "start_time": "2021-08-29T03:41:36.613Z"
   },
   {
    "duration": 11,
    "start_time": "2021-08-29T03:41:36.660Z"
   },
   {
    "duration": 120,
    "start_time": "2021-08-29T03:41:36.674Z"
   },
   {
    "duration": 19,
    "start_time": "2021-08-29T03:41:36.798Z"
   },
   {
    "duration": 48,
    "start_time": "2021-08-29T03:41:36.820Z"
   },
   {
    "duration": 40,
    "start_time": "2021-08-29T03:41:36.871Z"
   },
   {
    "duration": 10,
    "start_time": "2021-08-29T03:41:36.914Z"
   },
   {
    "duration": 59,
    "start_time": "2021-08-29T03:41:36.955Z"
   },
   {
    "duration": 62,
    "start_time": "2021-08-29T03:41:37.017Z"
   },
   {
    "duration": 10,
    "start_time": "2021-08-29T03:41:37.082Z"
   },
   {
    "duration": 16,
    "start_time": "2021-08-29T03:41:37.095Z"
   },
   {
    "duration": 46,
    "start_time": "2021-08-29T03:41:37.114Z"
   },
   {
    "duration": 10,
    "start_time": "2021-08-29T03:41:37.163Z"
   },
   {
    "duration": 11,
    "start_time": "2021-08-29T03:41:37.180Z"
   },
   {
    "duration": 63,
    "start_time": "2021-08-29T03:41:37.194Z"
   },
   {
    "duration": 13,
    "start_time": "2021-08-29T03:41:37.260Z"
   },
   {
    "duration": 36,
    "start_time": "2021-08-29T03:41:37.275Z"
   },
   {
    "duration": 70,
    "start_time": "2021-08-29T03:41:37.314Z"
   },
   {
    "duration": 140,
    "start_time": "2021-08-29T03:41:37.387Z"
   },
   {
    "duration": 135,
    "start_time": "2021-08-29T03:41:37.529Z"
   },
   {
    "duration": 33,
    "start_time": "2021-08-29T03:41:37.666Z"
   },
   {
    "duration": 5,
    "start_time": "2021-08-29T03:41:37.702Z"
   },
   {
    "duration": 45,
    "start_time": "2021-08-29T03:42:12.171Z"
   },
   {
    "duration": 45,
    "start_time": "2021-08-29T03:42:21.831Z"
   },
   {
    "duration": 50,
    "start_time": "2021-08-29T03:42:34.191Z"
   },
   {
    "duration": 5,
    "start_time": "2021-08-29T03:42:49.141Z"
   },
   {
    "duration": 18,
    "start_time": "2021-08-29T03:43:46.741Z"
   },
   {
    "duration": 1042,
    "start_time": "2021-08-29T06:55:32.699Z"
   },
   {
    "duration": 152,
    "start_time": "2021-08-29T06:55:33.743Z"
   },
   {
    "duration": 124,
    "start_time": "2021-08-29T06:55:33.897Z"
   },
   {
    "duration": 86,
    "start_time": "2021-08-29T06:55:34.023Z"
   },
   {
    "duration": 20,
    "start_time": "2021-08-29T06:55:34.111Z"
   },
   {
    "duration": 57,
    "start_time": "2021-08-29T06:55:34.133Z"
   },
   {
    "duration": 47,
    "start_time": "2021-08-29T06:55:34.191Z"
   },
   {
    "duration": 105,
    "start_time": "2021-08-29T06:55:34.240Z"
   },
   {
    "duration": 8,
    "start_time": "2021-08-29T06:55:34.347Z"
   },
   {
    "duration": 30,
    "start_time": "2021-08-29T06:55:34.356Z"
   },
   {
    "duration": 15,
    "start_time": "2021-08-29T06:55:34.388Z"
   },
   {
    "duration": 4,
    "start_time": "2021-08-29T06:55:34.404Z"
   },
   {
    "duration": 35,
    "start_time": "2021-08-29T06:55:34.410Z"
   },
   {
    "duration": 5,
    "start_time": "2021-08-29T06:55:34.447Z"
   },
   {
    "duration": 32,
    "start_time": "2021-08-29T06:55:34.454Z"
   },
   {
    "duration": 54,
    "start_time": "2021-08-29T06:55:34.488Z"
   },
   {
    "duration": 14,
    "start_time": "2021-08-29T06:55:34.544Z"
   },
   {
    "duration": 33,
    "start_time": "2021-08-29T06:55:34.560Z"
   },
   {
    "duration": 27,
    "start_time": "2021-08-29T06:55:34.594Z"
   },
   {
    "duration": 6,
    "start_time": "2021-08-29T06:55:34.623Z"
   },
   {
    "duration": 57,
    "start_time": "2021-08-29T06:55:34.631Z"
   },
   {
    "duration": 23,
    "start_time": "2021-08-29T06:55:34.690Z"
   },
   {
    "duration": 5,
    "start_time": "2021-08-29T06:55:34.717Z"
   },
   {
    "duration": 8,
    "start_time": "2021-08-29T06:55:34.724Z"
   },
   {
    "duration": 10,
    "start_time": "2021-08-29T06:55:34.733Z"
   },
   {
    "duration": 6,
    "start_time": "2021-08-29T06:55:34.744Z"
   },
   {
    "duration": 36,
    "start_time": "2021-08-29T06:55:34.752Z"
   },
   {
    "duration": 9,
    "start_time": "2021-08-29T06:55:34.790Z"
   },
   {
    "duration": 8,
    "start_time": "2021-08-29T06:55:34.800Z"
   },
   {
    "duration": 12,
    "start_time": "2021-08-29T06:55:34.809Z"
   },
   {
    "duration": 41,
    "start_time": "2021-08-29T06:55:34.822Z"
   },
   {
    "duration": 97,
    "start_time": "2021-08-29T06:55:34.865Z"
   },
   {
    "duration": 80,
    "start_time": "2021-08-29T06:55:34.964Z"
   },
   {
    "duration": 21,
    "start_time": "2021-08-29T06:55:35.045Z"
   },
   {
    "duration": 4,
    "start_time": "2021-08-29T06:55:35.084Z"
   },
   {
    "duration": 46,
    "start_time": "2021-08-29T06:55:35.090Z"
   },
   {
    "duration": 29,
    "start_time": "2021-08-29T06:55:35.137Z"
   },
   {
    "duration": 48,
    "start_time": "2021-08-29T06:55:35.168Z"
   },
   {
    "duration": 3,
    "start_time": "2021-08-29T06:55:35.217Z"
   },
   {
    "duration": 14,
    "start_time": "2021-08-29T06:55:35.222Z"
   },
   {
    "duration": 12,
    "start_time": "2021-08-29T06:55:35.237Z"
   },
   {
    "duration": 43,
    "start_time": "2021-08-29T06:55:35.250Z"
   },
   {
    "duration": 14,
    "start_time": "2021-08-29T06:55:35.295Z"
   },
   {
    "duration": 32,
    "start_time": "2021-08-29T06:55:35.310Z"
   },
   {
    "duration": 40,
    "start_time": "2021-08-29T06:55:35.344Z"
   },
   {
    "duration": 18,
    "start_time": "2021-08-29T06:55:35.386Z"
   },
   {
    "duration": 13,
    "start_time": "2021-08-29T06:55:35.406Z"
   },
   {
    "duration": 20,
    "start_time": "2021-08-29T06:55:35.421Z"
   },
   {
    "duration": 45,
    "start_time": "2021-08-29T06:55:35.442Z"
   },
   {
    "duration": 26,
    "start_time": "2021-08-29T06:55:35.488Z"
   },
   {
    "duration": 15,
    "start_time": "2021-08-29T06:55:35.516Z"
   },
   {
    "duration": 13,
    "start_time": "2021-08-29T06:55:35.533Z"
   },
   {
    "duration": 275,
    "start_time": "2021-08-29T06:55:35.547Z"
   },
   {
    "duration": 249,
    "start_time": "2021-08-29T06:55:35.824Z"
   },
   {
    "duration": 253,
    "start_time": "2021-08-29T06:55:36.075Z"
   },
   {
    "duration": 285,
    "start_time": "2021-08-29T06:55:36.330Z"
   },
   {
    "duration": 14,
    "start_time": "2021-08-29T06:55:36.617Z"
   },
   {
    "duration": 7,
    "start_time": "2021-08-29T06:55:36.633Z"
   },
   {
    "duration": 11,
    "start_time": "2021-08-29T06:55:36.641Z"
   },
   {
    "duration": 45,
    "start_time": "2021-08-29T06:55:36.654Z"
   },
   {
    "duration": 17,
    "start_time": "2021-08-29T06:55:36.700Z"
   },
   {
    "duration": 9,
    "start_time": "2021-08-29T06:55:36.718Z"
   },
   {
    "duration": 10,
    "start_time": "2021-08-29T06:55:36.728Z"
   },
   {
    "duration": 8,
    "start_time": "2021-08-29T06:55:36.740Z"
   },
   {
    "duration": 33,
    "start_time": "2021-08-29T06:59:17.329Z"
   },
   {
    "duration": 1030,
    "start_time": "2021-08-29T07:02:14.900Z"
   },
   {
    "duration": 26,
    "start_time": "2021-08-29T07:02:35.520Z"
   },
   {
    "duration": 26,
    "start_time": "2021-08-29T07:03:09.340Z"
   },
   {
    "duration": 24,
    "start_time": "2021-08-29T07:03:56.159Z"
   },
   {
    "duration": 186,
    "start_time": "2021-08-29T07:06:16.889Z"
   },
   {
    "duration": 20,
    "start_time": "2021-08-29T07:06:30.079Z"
   },
   {
    "duration": 26,
    "start_time": "2021-08-29T07:07:00.787Z"
   },
   {
    "duration": 12,
    "start_time": "2021-08-29T07:07:06.299Z"
   },
   {
    "duration": 36,
    "start_time": "2021-08-29T07:08:12.079Z"
   },
   {
    "duration": 9,
    "start_time": "2021-08-29T07:08:41.249Z"
   },
   {
    "duration": 34,
    "start_time": "2021-08-29T07:09:20.909Z"
   },
   {
    "duration": 22,
    "start_time": "2021-08-29T07:09:59.010Z"
   },
   {
    "duration": 30,
    "start_time": "2021-08-29T07:14:54.350Z"
   },
   {
    "duration": 10,
    "start_time": "2021-08-29T07:15:05.369Z"
   },
   {
    "duration": 8,
    "start_time": "2021-08-29T07:15:07.609Z"
   },
   {
    "duration": 17,
    "start_time": "2021-08-29T07:15:10.329Z"
   },
   {
    "duration": 4,
    "start_time": "2021-08-29T07:21:54.729Z"
   },
   {
    "duration": 63,
    "start_time": "2021-08-29T07:22:57.899Z"
   },
   {
    "duration": 6,
    "start_time": "2021-08-29T07:23:12.800Z"
   },
   {
    "duration": 70,
    "start_time": "2021-08-29T07:24:00.359Z"
   },
   {
    "duration": 5,
    "start_time": "2021-08-29T07:24:07.749Z"
   },
   {
    "duration": 4271,
    "start_time": "2021-08-29T07:25:53.626Z"
   },
   {
    "duration": 20,
    "start_time": "2021-08-29T07:26:20.059Z"
   },
   {
    "duration": 6,
    "start_time": "2021-08-29T07:26:32.749Z"
   },
   {
    "duration": 9,
    "start_time": "2021-08-29T07:32:29.180Z"
   },
   {
    "duration": 14,
    "start_time": "2021-08-29T07:32:52.869Z"
   },
   {
    "duration": 21,
    "start_time": "2021-08-29T07:33:49.150Z"
   },
   {
    "duration": 18,
    "start_time": "2021-08-29T07:33:52.309Z"
   },
   {
    "duration": 12,
    "start_time": "2021-08-29T07:34:25.349Z"
   },
   {
    "duration": 5,
    "start_time": "2021-08-29T07:34:34.030Z"
   },
   {
    "duration": 2,
    "start_time": "2021-08-29T07:34:59.090Z"
   },
   {
    "duration": 146,
    "start_time": "2021-08-29T07:34:59.094Z"
   },
   {
    "duration": 129,
    "start_time": "2021-08-29T07:34:59.242Z"
   },
   {
    "duration": 94,
    "start_time": "2021-08-29T07:34:59.373Z"
   },
   {
    "duration": 21,
    "start_time": "2021-08-29T07:34:59.469Z"
   },
   {
    "duration": 46,
    "start_time": "2021-08-29T07:34:59.492Z"
   },
   {
    "duration": 50,
    "start_time": "2021-08-29T07:34:59.540Z"
   },
   {
    "duration": 94,
    "start_time": "2021-08-29T07:34:59.593Z"
   },
   {
    "duration": 7,
    "start_time": "2021-08-29T07:34:59.689Z"
   },
   {
    "duration": 15,
    "start_time": "2021-08-29T07:34:59.698Z"
   },
   {
    "duration": 10,
    "start_time": "2021-08-29T07:34:59.715Z"
   },
   {
    "duration": 4,
    "start_time": "2021-08-29T07:34:59.727Z"
   },
   {
    "duration": 66,
    "start_time": "2021-08-29T07:34:59.732Z"
   },
   {
    "duration": 5,
    "start_time": "2021-08-29T07:34:59.799Z"
   },
   {
    "duration": 9,
    "start_time": "2021-08-29T07:34:59.806Z"
   },
   {
    "duration": 45,
    "start_time": "2021-08-29T07:34:59.816Z"
   },
   {
    "duration": 28,
    "start_time": "2021-08-29T07:34:59.863Z"
   },
   {
    "duration": 11,
    "start_time": "2021-08-29T07:34:59.893Z"
   },
   {
    "duration": 25,
    "start_time": "2021-08-29T07:34:59.906Z"
   },
   {
    "duration": 5,
    "start_time": "2021-08-29T07:34:59.932Z"
   },
   {
    "duration": 63,
    "start_time": "2021-08-29T07:34:59.938Z"
   },
   {
    "duration": 26,
    "start_time": "2021-08-29T07:35:00.003Z"
   },
   {
    "duration": 5,
    "start_time": "2021-08-29T07:35:00.034Z"
   },
   {
    "duration": 14,
    "start_time": "2021-08-29T07:35:00.041Z"
   },
   {
    "duration": 28,
    "start_time": "2021-08-29T07:35:00.057Z"
   },
   {
    "duration": 11,
    "start_time": "2021-08-29T07:35:00.086Z"
   },
   {
    "duration": 31,
    "start_time": "2021-08-29T07:35:00.099Z"
   },
   {
    "duration": 13,
    "start_time": "2021-08-29T07:35:00.132Z"
   },
   {
    "duration": 8,
    "start_time": "2021-08-29T07:35:00.146Z"
   },
   {
    "duration": 13,
    "start_time": "2021-08-29T07:35:00.156Z"
   },
   {
    "duration": 43,
    "start_time": "2021-08-29T07:35:00.170Z"
   },
   {
    "duration": 97,
    "start_time": "2021-08-29T07:35:00.214Z"
   },
   {
    "duration": 81,
    "start_time": "2021-08-29T07:35:00.313Z"
   },
   {
    "duration": 23,
    "start_time": "2021-08-29T07:35:00.395Z"
   },
   {
    "duration": 9,
    "start_time": "2021-08-29T07:35:00.420Z"
   },
   {
    "duration": 55,
    "start_time": "2021-08-29T07:35:00.431Z"
   },
   {
    "duration": 29,
    "start_time": "2021-08-29T07:35:00.487Z"
   },
   {
    "duration": 34,
    "start_time": "2021-08-29T07:35:00.518Z"
   },
   {
    "duration": 4,
    "start_time": "2021-08-29T07:35:00.553Z"
   },
   {
    "duration": 36,
    "start_time": "2021-08-29T07:35:00.558Z"
   },
   {
    "duration": 8,
    "start_time": "2021-08-29T07:35:00.595Z"
   },
   {
    "duration": 22,
    "start_time": "2021-08-29T07:35:00.605Z"
   },
   {
    "duration": 14,
    "start_time": "2021-08-29T07:35:00.629Z"
   },
   {
    "duration": 50,
    "start_time": "2021-08-29T07:35:00.644Z"
   },
   {
    "duration": 16,
    "start_time": "2021-08-29T07:35:00.695Z"
   },
   {
    "duration": 4,
    "start_time": "2021-08-29T07:35:00.713Z"
   },
   {
    "duration": 21,
    "start_time": "2021-08-29T07:35:00.719Z"
   },
   {
    "duration": 12,
    "start_time": "2021-08-29T07:35:00.741Z"
   },
   {
    "duration": 12,
    "start_time": "2021-08-29T07:35:00.755Z"
   },
   {
    "duration": 24,
    "start_time": "2021-08-29T07:35:00.769Z"
   },
   {
    "duration": 19,
    "start_time": "2021-08-29T07:35:00.795Z"
   },
   {
    "duration": 16,
    "start_time": "2021-08-29T07:35:00.816Z"
   },
   {
    "duration": 20,
    "start_time": "2021-08-29T07:35:00.833Z"
   },
   {
    "duration": 263,
    "start_time": "2021-08-29T07:35:00.854Z"
   },
   {
    "duration": 246,
    "start_time": "2021-08-29T07:35:01.119Z"
   },
   {
    "duration": 250,
    "start_time": "2021-08-29T07:35:01.367Z"
   },
   {
    "duration": 358,
    "start_time": "2021-08-29T07:35:01.618Z"
   },
   {
    "duration": 19,
    "start_time": "2021-08-29T07:35:01.978Z"
   },
   {
    "duration": 9,
    "start_time": "2021-08-29T07:35:01.998Z"
   },
   {
    "duration": 15,
    "start_time": "2021-08-29T07:35:02.008Z"
   },
   {
    "duration": 25,
    "start_time": "2021-08-29T07:35:02.024Z"
   },
   {
    "duration": 38,
    "start_time": "2021-08-29T07:35:02.050Z"
   },
   {
    "duration": 7,
    "start_time": "2021-08-29T07:35:02.090Z"
   },
   {
    "duration": 14,
    "start_time": "2021-08-29T07:35:02.098Z"
   },
   {
    "duration": 6,
    "start_time": "2021-08-29T07:35:02.114Z"
   },
   {
    "duration": 19,
    "start_time": "2021-08-29T07:41:27.399Z"
   },
   {
    "duration": 16,
    "start_time": "2021-08-29T07:41:42.899Z"
   },
   {
    "duration": 19,
    "start_time": "2021-08-29T07:42:52.910Z"
   },
   {
    "duration": 62,
    "start_time": "2021-08-29T07:45:52.089Z"
   },
   {
    "duration": 14,
    "start_time": "2021-08-29T07:46:06.209Z"
   },
   {
    "duration": 4,
    "start_time": "2021-08-29T07:46:25.749Z"
   },
   {
    "duration": 62,
    "start_time": "2021-08-29T07:47:35.910Z"
   },
   {
    "duration": 61,
    "start_time": "2021-08-29T07:48:03.820Z"
   },
   {
    "duration": 13,
    "start_time": "2021-08-29T07:48:32.279Z"
   },
   {
    "duration": 13,
    "start_time": "2021-08-29T07:48:38.579Z"
   },
   {
    "duration": 2,
    "start_time": "2021-08-29T07:48:49.370Z"
   },
   {
    "duration": 152,
    "start_time": "2021-08-29T07:48:49.374Z"
   },
   {
    "duration": 136,
    "start_time": "2021-08-29T07:48:49.528Z"
   },
   {
    "duration": 83,
    "start_time": "2021-08-29T07:48:49.666Z"
   },
   {
    "duration": 22,
    "start_time": "2021-08-29T07:48:49.751Z"
   },
   {
    "duration": 48,
    "start_time": "2021-08-29T07:48:49.775Z"
   },
   {
    "duration": 51,
    "start_time": "2021-08-29T07:48:49.825Z"
   },
   {
    "duration": 84,
    "start_time": "2021-08-29T07:48:49.878Z"
   },
   {
    "duration": 7,
    "start_time": "2021-08-29T07:48:49.966Z"
   },
   {
    "duration": 24,
    "start_time": "2021-08-29T07:48:49.975Z"
   },
   {
    "duration": 13,
    "start_time": "2021-08-29T07:48:50.000Z"
   },
   {
    "duration": 5,
    "start_time": "2021-08-29T07:48:50.014Z"
   },
   {
    "duration": 64,
    "start_time": "2021-08-29T07:48:50.021Z"
   },
   {
    "duration": 8,
    "start_time": "2021-08-29T07:48:50.086Z"
   },
   {
    "duration": 7,
    "start_time": "2021-08-29T07:48:50.095Z"
   },
   {
    "duration": 46,
    "start_time": "2021-08-29T07:48:50.104Z"
   },
   {
    "duration": 41,
    "start_time": "2021-08-29T07:48:50.152Z"
   },
   {
    "duration": 13,
    "start_time": "2021-08-29T07:48:50.195Z"
   },
   {
    "duration": 27,
    "start_time": "2021-08-29T07:48:50.210Z"
   },
   {
    "duration": 7,
    "start_time": "2021-08-29T07:48:50.239Z"
   },
   {
    "duration": 66,
    "start_time": "2021-08-29T07:48:50.247Z"
   },
   {
    "duration": 26,
    "start_time": "2021-08-29T07:48:50.315Z"
   },
   {
    "duration": 6,
    "start_time": "2021-08-29T07:48:50.343Z"
   },
   {
    "duration": 35,
    "start_time": "2021-08-29T07:48:50.351Z"
   },
   {
    "duration": 18,
    "start_time": "2021-08-29T07:48:50.387Z"
   },
   {
    "duration": 10,
    "start_time": "2021-08-29T07:48:50.407Z"
   },
   {
    "duration": 19,
    "start_time": "2021-08-29T07:48:50.421Z"
   },
   {
    "duration": 17,
    "start_time": "2021-08-29T07:48:50.442Z"
   },
   {
    "duration": 11,
    "start_time": "2021-08-29T07:48:50.460Z"
   },
   {
    "duration": 17,
    "start_time": "2021-08-29T07:48:50.472Z"
   },
   {
    "duration": 42,
    "start_time": "2021-08-29T07:48:50.491Z"
   },
   {
    "duration": 92,
    "start_time": "2021-08-29T07:48:50.535Z"
   },
   {
    "duration": 79,
    "start_time": "2021-08-29T07:48:50.629Z"
   },
   {
    "duration": 23,
    "start_time": "2021-08-29T07:48:50.710Z"
   },
   {
    "duration": 4,
    "start_time": "2021-08-29T07:48:50.735Z"
   },
   {
    "duration": 55,
    "start_time": "2021-08-29T07:48:50.741Z"
   },
   {
    "duration": 29,
    "start_time": "2021-08-29T07:48:50.798Z"
   },
   {
    "duration": 62,
    "start_time": "2021-08-29T07:48:50.829Z"
   },
   {
    "duration": 5,
    "start_time": "2021-08-29T07:48:50.892Z"
   },
   {
    "duration": 14,
    "start_time": "2021-08-29T07:48:50.898Z"
   },
   {
    "duration": 12,
    "start_time": "2021-08-29T07:48:50.913Z"
   },
   {
    "duration": 22,
    "start_time": "2021-08-29T07:48:50.927Z"
   },
   {
    "duration": 15,
    "start_time": "2021-08-29T07:48:55.699Z"
   },
   {
    "duration": 14,
    "start_time": "2021-08-29T07:48:57.869Z"
   },
   {
    "duration": 18,
    "start_time": "2021-08-29T07:49:02.599Z"
   },
   {
    "duration": 13,
    "start_time": "2021-08-29T07:49:10.559Z"
   },
   {
    "duration": 2,
    "start_time": "2021-08-29T07:49:21.310Z"
   },
   {
    "duration": 148,
    "start_time": "2021-08-29T07:49:21.315Z"
   },
   {
    "duration": 137,
    "start_time": "2021-08-29T07:49:21.465Z"
   },
   {
    "duration": 83,
    "start_time": "2021-08-29T07:49:21.604Z"
   },
   {
    "duration": 20,
    "start_time": "2021-08-29T07:49:21.689Z"
   },
   {
    "duration": 62,
    "start_time": "2021-08-29T07:49:21.711Z"
   },
   {
    "duration": 64,
    "start_time": "2021-08-29T07:49:21.775Z"
   },
   {
    "duration": 80,
    "start_time": "2021-08-29T07:49:21.840Z"
   },
   {
    "duration": 8,
    "start_time": "2021-08-29T07:49:21.923Z"
   },
   {
    "duration": 36,
    "start_time": "2021-08-29T07:49:21.933Z"
   },
   {
    "duration": 11,
    "start_time": "2021-08-29T07:49:21.971Z"
   },
   {
    "duration": 18,
    "start_time": "2021-08-29T07:49:21.984Z"
   },
   {
    "duration": 61,
    "start_time": "2021-08-29T07:49:22.004Z"
   },
   {
    "duration": 5,
    "start_time": "2021-08-29T07:49:22.067Z"
   },
   {
    "duration": 26,
    "start_time": "2021-08-29T07:49:22.073Z"
   },
   {
    "duration": 60,
    "start_time": "2021-08-29T07:49:22.101Z"
   },
   {
    "duration": 12,
    "start_time": "2021-08-29T07:49:22.163Z"
   },
   {
    "duration": 11,
    "start_time": "2021-08-29T07:49:22.177Z"
   },
   {
    "duration": 25,
    "start_time": "2021-08-29T07:49:22.190Z"
   },
   {
    "duration": 5,
    "start_time": "2021-08-29T07:49:22.217Z"
   },
   {
    "duration": 39,
    "start_time": "2021-08-29T07:49:22.223Z"
   },
   {
    "duration": 46,
    "start_time": "2021-08-29T07:49:22.263Z"
   },
   {
    "duration": 6,
    "start_time": "2021-08-29T07:49:22.311Z"
   },
   {
    "duration": 9,
    "start_time": "2021-08-29T07:49:22.318Z"
   },
   {
    "duration": 7,
    "start_time": "2021-08-29T07:49:22.328Z"
   },
   {
    "duration": 5,
    "start_time": "2021-08-29T07:49:22.336Z"
   },
   {
    "duration": 40,
    "start_time": "2021-08-29T07:49:22.345Z"
   },
   {
    "duration": 10,
    "start_time": "2021-08-29T07:49:22.387Z"
   },
   {
    "duration": 6,
    "start_time": "2021-08-29T07:49:22.398Z"
   },
   {
    "duration": 12,
    "start_time": "2021-08-29T07:49:22.405Z"
   },
   {
    "duration": 44,
    "start_time": "2021-08-29T07:49:22.418Z"
   },
   {
    "duration": 99,
    "start_time": "2021-08-29T07:49:22.485Z"
   },
   {
    "duration": 73,
    "start_time": "2021-08-29T07:49:22.586Z"
   },
   {
    "duration": 33,
    "start_time": "2021-08-29T07:49:22.661Z"
   },
   {
    "duration": 4,
    "start_time": "2021-08-29T07:49:22.695Z"
   },
   {
    "duration": 34,
    "start_time": "2021-08-29T07:49:22.700Z"
   },
   {
    "duration": 48,
    "start_time": "2021-08-29T07:49:22.736Z"
   },
   {
    "duration": 36,
    "start_time": "2021-08-29T07:49:22.786Z"
   },
   {
    "duration": 4,
    "start_time": "2021-08-29T07:49:22.823Z"
   },
   {
    "duration": 14,
    "start_time": "2021-08-29T07:49:22.828Z"
   },
   {
    "duration": 10,
    "start_time": "2021-08-29T07:49:22.843Z"
   },
   {
    "duration": 17,
    "start_time": "2021-08-29T07:49:27.359Z"
   },
   {
    "duration": 14,
    "start_time": "2021-08-29T07:49:32.949Z"
   },
   {
    "duration": 16,
    "start_time": "2021-08-29T07:51:03.999Z"
   },
   {
    "duration": 4335,
    "start_time": "2021-08-29T07:51:30.179Z"
   },
   {
    "duration": 1609,
    "start_time": "2021-08-29T07:51:32.907Z"
   },
   {
    "duration": 79,
    "start_time": "2021-08-29T07:51:45.119Z"
   },
   {
    "duration": 1030,
    "start_time": "2021-08-29T07:51:47.640Z"
   },
   {
    "duration": 997,
    "start_time": "2021-08-29T07:52:08.363Z"
   },
   {
    "duration": 218,
    "start_time": "2021-08-29T07:52:09.362Z"
   },
   {
    "duration": 308,
    "start_time": "2021-08-29T07:52:09.582Z"
   },
   {
    "duration": 88,
    "start_time": "2021-08-29T07:52:09.892Z"
   },
   {
    "duration": 20,
    "start_time": "2021-08-29T07:52:09.982Z"
   },
   {
    "duration": 37,
    "start_time": "2021-08-29T07:52:10.004Z"
   },
   {
    "duration": 52,
    "start_time": "2021-08-29T07:52:10.043Z"
   },
   {
    "duration": 103,
    "start_time": "2021-08-29T07:52:10.097Z"
   },
   {
    "duration": 8,
    "start_time": "2021-08-29T07:52:10.202Z"
   },
   {
    "duration": 19,
    "start_time": "2021-08-29T07:52:10.211Z"
   },
   {
    "duration": 15,
    "start_time": "2021-08-29T07:52:10.232Z"
   },
   {
    "duration": 4,
    "start_time": "2021-08-29T07:52:10.249Z"
   },
   {
    "duration": 57,
    "start_time": "2021-08-29T07:52:10.254Z"
   },
   {
    "duration": 7,
    "start_time": "2021-08-29T07:52:10.313Z"
   },
   {
    "duration": 6,
    "start_time": "2021-08-29T07:52:10.322Z"
   },
   {
    "duration": 78,
    "start_time": "2021-08-29T07:52:10.329Z"
   },
   {
    "duration": 13,
    "start_time": "2021-08-29T07:52:10.409Z"
   },
   {
    "duration": 13,
    "start_time": "2021-08-29T07:52:10.424Z"
   },
   {
    "duration": 49,
    "start_time": "2021-08-29T07:52:10.439Z"
   },
   {
    "duration": 5,
    "start_time": "2021-08-29T07:52:10.490Z"
   },
   {
    "duration": 36,
    "start_time": "2021-08-29T07:52:10.497Z"
   },
   {
    "duration": 24,
    "start_time": "2021-08-29T07:52:10.535Z"
   },
   {
    "duration": 25,
    "start_time": "2021-08-29T07:52:10.562Z"
   },
   {
    "duration": 15,
    "start_time": "2021-08-29T07:52:10.589Z"
   },
   {
    "duration": 7,
    "start_time": "2021-08-29T07:52:10.605Z"
   },
   {
    "duration": 7,
    "start_time": "2021-08-29T07:52:10.613Z"
   },
   {
    "duration": 14,
    "start_time": "2021-08-29T07:52:10.621Z"
   },
   {
    "duration": 10,
    "start_time": "2021-08-29T07:52:10.637Z"
   },
   {
    "duration": 5,
    "start_time": "2021-08-29T07:52:10.649Z"
   },
   {
    "duration": 31,
    "start_time": "2021-08-29T07:52:10.655Z"
   },
   {
    "duration": 40,
    "start_time": "2021-08-29T07:52:10.688Z"
   },
   {
    "duration": 96,
    "start_time": "2021-08-29T07:52:10.730Z"
   },
   {
    "duration": 79,
    "start_time": "2021-08-29T07:52:10.828Z"
   },
   {
    "duration": 21,
    "start_time": "2021-08-29T07:52:10.908Z"
   },
   {
    "duration": 3,
    "start_time": "2021-08-29T07:52:10.930Z"
   },
   {
    "duration": 66,
    "start_time": "2021-08-29T07:52:10.935Z"
   },
   {
    "duration": 29,
    "start_time": "2021-08-29T07:52:11.002Z"
   },
   {
    "duration": 35,
    "start_time": "2021-08-29T07:52:11.032Z"
   },
   {
    "duration": 17,
    "start_time": "2021-08-29T07:52:11.068Z"
   },
   {
    "duration": 12,
    "start_time": "2021-08-29T07:52:11.086Z"
   },
   {
    "duration": 9,
    "start_time": "2021-08-29T07:52:18.919Z"
   },
   {
    "duration": 9,
    "start_time": "2021-08-29T07:52:24.534Z"
   },
   {
    "duration": 3,
    "start_time": "2021-08-29T07:52:35.527Z"
   },
   {
    "duration": 164,
    "start_time": "2021-08-29T07:52:35.531Z"
   },
   {
    "duration": 139,
    "start_time": "2021-08-29T07:52:35.697Z"
   },
   {
    "duration": 97,
    "start_time": "2021-08-29T07:52:35.838Z"
   },
   {
    "duration": 21,
    "start_time": "2021-08-29T07:52:35.936Z"
   },
   {
    "duration": 46,
    "start_time": "2021-08-29T07:52:35.959Z"
   },
   {
    "duration": 57,
    "start_time": "2021-08-29T07:52:36.007Z"
   },
   {
    "duration": 83,
    "start_time": "2021-08-29T07:52:36.066Z"
   },
   {
    "duration": 8,
    "start_time": "2021-08-29T07:52:36.151Z"
   },
   {
    "duration": 29,
    "start_time": "2021-08-29T07:52:36.161Z"
   },
   {
    "duration": 13,
    "start_time": "2021-08-29T07:52:36.192Z"
   },
   {
    "duration": 5,
    "start_time": "2021-08-29T07:52:36.206Z"
   },
   {
    "duration": 37,
    "start_time": "2021-08-29T07:52:36.213Z"
   },
   {
    "duration": 6,
    "start_time": "2021-08-29T07:52:36.251Z"
   },
   {
    "duration": 6,
    "start_time": "2021-08-29T07:52:36.285Z"
   },
   {
    "duration": 52,
    "start_time": "2021-08-29T07:52:36.293Z"
   },
   {
    "duration": 12,
    "start_time": "2021-08-29T07:52:36.347Z"
   },
   {
    "duration": 35,
    "start_time": "2021-08-29T07:52:36.361Z"
   },
   {
    "duration": 27,
    "start_time": "2021-08-29T07:52:36.397Z"
   },
   {
    "duration": 5,
    "start_time": "2021-08-29T07:52:36.426Z"
   },
   {
    "duration": 67,
    "start_time": "2021-08-29T07:52:36.433Z"
   },
   {
    "duration": 25,
    "start_time": "2021-08-29T07:52:36.501Z"
   },
   {
    "duration": 5,
    "start_time": "2021-08-29T07:52:36.528Z"
   },
   {
    "duration": 9,
    "start_time": "2021-08-29T07:52:36.534Z"
   },
   {
    "duration": 6,
    "start_time": "2021-08-29T07:52:36.545Z"
   },
   {
    "duration": 33,
    "start_time": "2021-08-29T07:52:36.552Z"
   },
   {
    "duration": 7,
    "start_time": "2021-08-29T07:52:36.589Z"
   },
   {
    "duration": 10,
    "start_time": "2021-08-29T07:52:36.598Z"
   },
   {
    "duration": 5,
    "start_time": "2021-08-29T07:52:36.609Z"
   },
   {
    "duration": 11,
    "start_time": "2021-08-29T07:52:36.616Z"
   },
   {
    "duration": 62,
    "start_time": "2021-08-29T07:52:36.629Z"
   },
   {
    "duration": 94,
    "start_time": "2021-08-29T07:52:36.693Z"
   },
   {
    "duration": 74,
    "start_time": "2021-08-29T07:52:36.788Z"
   },
   {
    "duration": 33,
    "start_time": "2021-08-29T07:52:36.864Z"
   },
   {
    "duration": 3,
    "start_time": "2021-08-29T07:52:36.898Z"
   },
   {
    "duration": 39,
    "start_time": "2021-08-29T07:52:36.903Z"
   },
   {
    "duration": 58,
    "start_time": "2021-08-29T07:52:36.943Z"
   },
   {
    "duration": 34,
    "start_time": "2021-08-29T07:52:37.003Z"
   },
   {
    "duration": 3,
    "start_time": "2021-08-29T07:52:37.039Z"
   },
   {
    "duration": 12,
    "start_time": "2021-08-29T07:52:37.044Z"
   },
   {
    "duration": 9,
    "start_time": "2021-08-29T07:52:41.720Z"
   },
   {
    "duration": 10,
    "start_time": "2021-08-29T07:52:47.601Z"
   },
   {
    "duration": 15,
    "start_time": "2021-08-29T07:52:52.301Z"
   },
   {
    "duration": 4,
    "start_time": "2021-08-29T07:53:01.909Z"
   },
   {
    "duration": 14,
    "start_time": "2021-08-29T07:53:36.810Z"
   },
   {
    "duration": 14,
    "start_time": "2021-08-29T07:53:39.537Z"
   },
   {
    "duration": 30,
    "start_time": "2021-08-29T07:53:43.621Z"
   },
   {
    "duration": 24,
    "start_time": "2021-08-29T07:53:51.099Z"
   },
   {
    "duration": 6,
    "start_time": "2021-08-29T07:53:54.539Z"
   },
   {
    "duration": 5,
    "start_time": "2021-08-29T07:53:55.179Z"
   },
   {
    "duration": 5,
    "start_time": "2021-08-29T07:53:55.747Z"
   },
   {
    "duration": 9,
    "start_time": "2021-08-29T07:53:57.471Z"
   },
   {
    "duration": 15,
    "start_time": "2021-08-29T07:54:00.089Z"
   },
   {
    "duration": 20,
    "start_time": "2021-08-29T07:54:04.111Z"
   },
   {
    "duration": 18,
    "start_time": "2021-08-29T07:54:09.559Z"
   },
   {
    "duration": 10,
    "start_time": "2021-08-29T07:54:16.691Z"
   },
   {
    "duration": 57,
    "start_time": "2021-08-29T07:58:25.050Z"
   },
   {
    "duration": 4,
    "start_time": "2021-08-29T07:58:30.729Z"
   },
   {
    "duration": 7,
    "start_time": "2021-08-29T07:59:07.439Z"
   },
   {
    "duration": 5,
    "start_time": "2021-08-29T08:01:01.859Z"
   },
   {
    "duration": 3,
    "start_time": "2021-08-29T08:01:36.069Z"
   },
   {
    "duration": 164,
    "start_time": "2021-08-29T08:01:36.073Z"
   },
   {
    "duration": 129,
    "start_time": "2021-08-29T08:01:36.239Z"
   },
   {
    "duration": 86,
    "start_time": "2021-08-29T08:01:36.371Z"
   },
   {
    "duration": 21,
    "start_time": "2021-08-29T08:01:36.458Z"
   },
   {
    "duration": 47,
    "start_time": "2021-08-29T08:01:36.481Z"
   },
   {
    "duration": 50,
    "start_time": "2021-08-29T08:01:36.530Z"
   },
   {
    "duration": 79,
    "start_time": "2021-08-29T08:01:36.582Z"
   },
   {
    "duration": 7,
    "start_time": "2021-08-29T08:01:36.665Z"
   },
   {
    "duration": 15,
    "start_time": "2021-08-29T08:01:36.686Z"
   },
   {
    "duration": 12,
    "start_time": "2021-08-29T08:01:36.702Z"
   },
   {
    "duration": 5,
    "start_time": "2021-08-29T08:01:36.716Z"
   },
   {
    "duration": 62,
    "start_time": "2021-08-29T08:01:36.723Z"
   },
   {
    "duration": 7,
    "start_time": "2021-08-29T08:01:36.787Z"
   },
   {
    "duration": 7,
    "start_time": "2021-08-29T08:01:36.795Z"
   },
   {
    "duration": 46,
    "start_time": "2021-08-29T08:01:36.804Z"
   },
   {
    "duration": 43,
    "start_time": "2021-08-29T08:01:36.852Z"
   },
   {
    "duration": 13,
    "start_time": "2021-08-29T08:01:36.896Z"
   },
   {
    "duration": 27,
    "start_time": "2021-08-29T08:01:36.910Z"
   },
   {
    "duration": 4,
    "start_time": "2021-08-29T08:01:36.939Z"
   },
   {
    "duration": 67,
    "start_time": "2021-08-29T08:01:36.945Z"
   },
   {
    "duration": 25,
    "start_time": "2021-08-29T08:01:37.014Z"
   },
   {
    "duration": 5,
    "start_time": "2021-08-29T08:01:37.041Z"
   },
   {
    "duration": 8,
    "start_time": "2021-08-29T08:01:37.048Z"
   },
   {
    "duration": 32,
    "start_time": "2021-08-29T08:01:37.057Z"
   },
   {
    "duration": 5,
    "start_time": "2021-08-29T08:01:37.090Z"
   },
   {
    "duration": 6,
    "start_time": "2021-08-29T08:01:37.098Z"
   },
   {
    "duration": 9,
    "start_time": "2021-08-29T08:01:37.106Z"
   },
   {
    "duration": 4,
    "start_time": "2021-08-29T08:01:37.116Z"
   },
   {
    "duration": 14,
    "start_time": "2021-08-29T08:01:37.121Z"
   },
   {
    "duration": 9,
    "start_time": "2021-08-29T08:01:37.136Z"
   },
   {
    "duration": 70,
    "start_time": "2021-08-29T08:01:37.147Z"
   },
   {
    "duration": 88,
    "start_time": "2021-08-29T08:01:37.219Z"
   },
   {
    "duration": 83,
    "start_time": "2021-08-29T08:01:37.308Z"
   },
   {
    "duration": 23,
    "start_time": "2021-08-29T08:01:37.392Z"
   },
   {
    "duration": 5,
    "start_time": "2021-08-29T08:01:37.417Z"
   },
   {
    "duration": 39,
    "start_time": "2021-08-29T08:01:37.423Z"
   },
   {
    "duration": 47,
    "start_time": "2021-08-29T08:01:37.463Z"
   },
   {
    "duration": 34,
    "start_time": "2021-08-29T08:01:37.511Z"
   },
   {
    "duration": 3,
    "start_time": "2021-08-29T08:01:37.546Z"
   },
   {
    "duration": 13,
    "start_time": "2021-08-29T08:01:37.550Z"
   },
   {
    "duration": 8,
    "start_time": "2021-08-29T08:01:37.584Z"
   },
   {
    "duration": 9,
    "start_time": "2021-08-29T08:01:37.593Z"
   },
   {
    "duration": 795,
    "start_time": "2021-08-29T08:01:37.603Z"
   },
   {
    "duration": 1187,
    "start_time": "2021-08-29T08:01:37.213Z"
   },
   {
    "duration": 1135,
    "start_time": "2021-08-29T08:01:37.266Z"
   },
   {
    "duration": 1127,
    "start_time": "2021-08-29T08:01:37.275Z"
   },
   {
    "duration": 1115,
    "start_time": "2021-08-29T08:01:37.288Z"
   },
   {
    "duration": 1106,
    "start_time": "2021-08-29T08:01:37.297Z"
   },
   {
    "duration": 1098,
    "start_time": "2021-08-29T08:01:37.306Z"
   },
   {
    "duration": 1089,
    "start_time": "2021-08-29T08:01:37.316Z"
   },
   {
    "duration": 1080,
    "start_time": "2021-08-29T08:01:37.326Z"
   },
   {
    "duration": 1072,
    "start_time": "2021-08-29T08:01:37.335Z"
   },
   {
    "duration": 1064,
    "start_time": "2021-08-29T08:01:37.344Z"
   },
   {
    "duration": 7,
    "start_time": "2021-08-29T08:01:43.510Z"
   },
   {
    "duration": 723,
    "start_time": "2021-08-29T08:02:35.329Z"
   },
   {
    "duration": 6,
    "start_time": "2021-08-29T08:04:31.940Z"
   },
   {
    "duration": 1762,
    "start_time": "2021-08-29T08:04:38.520Z"
   },
   {
    "duration": 10,
    "start_time": "2021-08-29T08:05:02.591Z"
   },
   {
    "duration": 54,
    "start_time": "2021-08-29T08:06:04.667Z"
   },
   {
    "duration": 8,
    "start_time": "2021-08-29T08:06:09.869Z"
   },
   {
    "duration": 2014,
    "start_time": "2021-08-29T08:06:16.868Z"
   },
   {
    "duration": 56,
    "start_time": "2021-08-29T08:09:19.669Z"
   },
   {
    "duration": 7,
    "start_time": "2021-08-29T08:09:33.379Z"
   },
   {
    "duration": 1892,
    "start_time": "2021-08-29T08:09:37.499Z"
   },
   {
    "duration": 6,
    "start_time": "2021-08-29T08:09:58.129Z"
   },
   {
    "duration": 1866,
    "start_time": "2021-08-29T08:10:03.569Z"
   },
   {
    "duration": 1707,
    "start_time": "2021-08-29T08:15:13.521Z"
   },
   {
    "duration": 3,
    "start_time": "2021-08-29T08:15:23.590Z"
   },
   {
    "duration": 155,
    "start_time": "2021-08-29T08:15:23.595Z"
   },
   {
    "duration": 144,
    "start_time": "2021-08-29T08:15:23.752Z"
   },
   {
    "duration": 85,
    "start_time": "2021-08-29T08:15:23.897Z"
   },
   {
    "duration": 20,
    "start_time": "2021-08-29T08:15:23.984Z"
   },
   {
    "duration": 41,
    "start_time": "2021-08-29T08:15:24.005Z"
   },
   {
    "duration": 52,
    "start_time": "2021-08-29T08:15:24.048Z"
   },
   {
    "duration": 90,
    "start_time": "2021-08-29T08:15:24.102Z"
   },
   {
    "duration": 7,
    "start_time": "2021-08-29T08:15:24.195Z"
   },
   {
    "duration": 17,
    "start_time": "2021-08-29T08:15:24.204Z"
   },
   {
    "duration": 14,
    "start_time": "2021-08-29T08:15:24.222Z"
   },
   {
    "duration": 6,
    "start_time": "2021-08-29T08:15:24.237Z"
   },
   {
    "duration": 66,
    "start_time": "2021-08-29T08:15:24.245Z"
   },
   {
    "duration": 7,
    "start_time": "2021-08-29T08:15:24.314Z"
   },
   {
    "duration": 5,
    "start_time": "2021-08-29T08:15:24.323Z"
   },
   {
    "duration": 65,
    "start_time": "2021-08-29T08:15:24.330Z"
   },
   {
    "duration": 12,
    "start_time": "2021-08-29T08:15:24.397Z"
   },
   {
    "duration": 12,
    "start_time": "2021-08-29T08:15:24.411Z"
   },
   {
    "duration": 26,
    "start_time": "2021-08-29T08:15:24.425Z"
   },
   {
    "duration": 34,
    "start_time": "2021-08-29T08:15:24.452Z"
   },
   {
    "duration": 40,
    "start_time": "2021-08-29T08:15:24.487Z"
   },
   {
    "duration": 26,
    "start_time": "2021-08-29T08:15:24.529Z"
   },
   {
    "duration": 29,
    "start_time": "2021-08-29T08:15:24.557Z"
   },
   {
    "duration": 9,
    "start_time": "2021-08-29T08:15:24.588Z"
   },
   {
    "duration": 14,
    "start_time": "2021-08-29T08:15:24.599Z"
   },
   {
    "duration": 24,
    "start_time": "2021-08-29T08:15:24.614Z"
   },
   {
    "duration": 12,
    "start_time": "2021-08-29T08:15:24.641Z"
   },
   {
    "duration": 10,
    "start_time": "2021-08-29T08:15:27.899Z"
   },
   {
    "duration": 7,
    "start_time": "2021-08-29T08:20:31.749Z"
   },
   {
    "duration": 4,
    "start_time": "2021-08-29T08:22:24.819Z"
   },
   {
    "duration": 4618,
    "start_time": "2021-08-29T08:23:10.209Z"
   },
   {
    "duration": 4,
    "start_time": "2021-08-29T08:23:27.080Z"
   },
   {
    "duration": 77,
    "start_time": "2021-08-29T08:59:38.479Z"
   },
   {
    "duration": 69,
    "start_time": "2021-08-29T08:59:57.970Z"
   },
   {
    "duration": 68,
    "start_time": "2021-08-29T09:00:57.949Z"
   },
   {
    "duration": 64,
    "start_time": "2021-08-29T09:02:24.900Z"
   },
   {
    "duration": 419,
    "start_time": "2021-08-29T09:02:35.379Z"
   },
   {
    "duration": 5,
    "start_time": "2021-08-29T09:03:53.317Z"
   },
   {
    "duration": 5,
    "start_time": "2021-08-29T09:04:03.540Z"
   },
   {
    "duration": 6,
    "start_time": "2021-08-29T09:04:35.526Z"
   },
   {
    "duration": 27,
    "start_time": "2021-08-29T09:04:55.470Z"
   },
   {
    "duration": 6,
    "start_time": "2021-08-29T09:05:28.129Z"
   },
   {
    "duration": 7,
    "start_time": "2021-08-29T09:06:03.288Z"
   },
   {
    "duration": 6,
    "start_time": "2021-08-29T09:06:05.069Z"
   },
   {
    "duration": 6,
    "start_time": "2021-08-29T09:06:56.273Z"
   },
   {
    "duration": 7,
    "start_time": "2021-08-29T09:07:03.478Z"
   },
   {
    "duration": 5,
    "start_time": "2021-08-29T09:07:32.919Z"
   },
   {
    "duration": 7,
    "start_time": "2021-08-29T09:07:34.888Z"
   },
   {
    "duration": 4,
    "start_time": "2021-08-29T09:08:44.749Z"
   },
   {
    "duration": 196,
    "start_time": "2021-08-29T09:09:24.745Z"
   },
   {
    "duration": 5,
    "start_time": "2021-08-29T09:10:08.598Z"
   },
   {
    "duration": 86,
    "start_time": "2021-08-29T09:11:21.039Z"
   },
   {
    "duration": 348,
    "start_time": "2021-08-29T22:52:01.483Z"
   },
   {
    "duration": 1296,
    "start_time": "2021-08-29T22:52:14.843Z"
   },
   {
    "duration": 213,
    "start_time": "2021-08-29T22:52:16.141Z"
   },
   {
    "duration": 171,
    "start_time": "2021-08-29T22:52:16.357Z"
   },
   {
    "duration": 115,
    "start_time": "2021-08-29T22:52:19.551Z"
   },
   {
    "duration": 24,
    "start_time": "2021-08-29T22:52:21.153Z"
   },
   {
    "duration": 38,
    "start_time": "2021-08-29T22:52:22.403Z"
   },
   {
    "duration": 14,
    "start_time": "2021-08-29T22:52:46.533Z"
   },
   {
    "duration": 344,
    "start_time": "2021-08-29T22:53:00.471Z"
   },
   {
    "duration": 8,
    "start_time": "2021-08-29T22:53:10.393Z"
   },
   {
    "duration": 9,
    "start_time": "2021-08-29T22:53:34.671Z"
   },
   {
    "duration": 280,
    "start_time": "2021-08-29T22:54:54.951Z"
   },
   {
    "duration": 5,
    "start_time": "2021-08-29T22:54:59.073Z"
   },
   {
    "duration": 7,
    "start_time": "2021-08-29T22:55:44.434Z"
   },
   {
    "duration": 5,
    "start_time": "2021-08-29T22:55:59.554Z"
   },
   {
    "duration": 5,
    "start_time": "2021-08-29T22:57:13.613Z"
   },
   {
    "duration": 6,
    "start_time": "2021-08-29T22:58:00.031Z"
   },
   {
    "duration": 4,
    "start_time": "2021-08-29T23:01:20.725Z"
   },
   {
    "duration": 208,
    "start_time": "2021-08-29T23:01:20.732Z"
   },
   {
    "duration": 182,
    "start_time": "2021-08-29T23:01:20.944Z"
   },
   {
    "duration": 110,
    "start_time": "2021-08-29T23:01:21.129Z"
   },
   {
    "duration": 24,
    "start_time": "2021-08-29T23:01:21.241Z"
   },
   {
    "duration": 37,
    "start_time": "2021-08-29T23:01:21.267Z"
   },
   {
    "duration": 64,
    "start_time": "2021-08-29T23:01:21.306Z"
   },
   {
    "duration": 116,
    "start_time": "2021-08-29T23:01:21.381Z"
   },
   {
    "duration": 9,
    "start_time": "2021-08-29T23:01:21.501Z"
   },
   {
    "duration": 20,
    "start_time": "2021-08-29T23:01:21.513Z"
   },
   {
    "duration": 21,
    "start_time": "2021-08-29T23:01:21.535Z"
   },
   {
    "duration": 27,
    "start_time": "2021-08-29T23:01:21.558Z"
   },
   {
    "duration": 49,
    "start_time": "2021-08-29T23:01:21.588Z"
   },
   {
    "duration": 9,
    "start_time": "2021-08-29T23:01:21.640Z"
   },
   {
    "duration": 38,
    "start_time": "2021-08-29T23:01:21.651Z"
   },
   {
    "duration": 106,
    "start_time": "2021-08-29T23:01:21.692Z"
   },
   {
    "duration": 16,
    "start_time": "2021-08-29T23:01:21.800Z"
   },
   {
    "duration": 16,
    "start_time": "2021-08-29T23:01:21.819Z"
   },
   {
    "duration": 65,
    "start_time": "2021-08-29T23:01:21.838Z"
   },
   {
    "duration": 7,
    "start_time": "2021-08-29T23:01:21.906Z"
   },
   {
    "duration": 68,
    "start_time": "2021-08-29T23:01:21.916Z"
   },
   {
    "duration": 36,
    "start_time": "2021-08-29T23:01:21.986Z"
   },
   {
    "duration": 8,
    "start_time": "2021-08-29T23:01:22.024Z"
   },
   {
    "duration": 13,
    "start_time": "2021-08-29T23:01:26.363Z"
   },
   {
    "duration": 6,
    "start_time": "2021-08-29T23:01:29.484Z"
   },
   {
    "duration": 6,
    "start_time": "2021-08-29T23:08:20.163Z"
   },
   {
    "duration": 5,
    "start_time": "2021-08-29T23:08:35.573Z"
   },
   {
    "duration": 7,
    "start_time": "2021-08-29T23:09:29.483Z"
   },
   {
    "duration": 100,
    "start_time": "2021-08-29T23:10:12.123Z"
   },
   {
    "duration": 9,
    "start_time": "2021-08-29T23:10:43.433Z"
   },
   {
    "duration": 15,
    "start_time": "2021-08-29T23:11:24.434Z"
   },
   {
    "duration": 5,
    "start_time": "2021-08-29T23:11:36.283Z"
   },
   {
    "duration": 16,
    "start_time": "2021-08-29T23:11:39.163Z"
   },
   {
    "duration": 57,
    "start_time": "2021-08-29T23:12:11.593Z"
   },
   {
    "duration": 133,
    "start_time": "2021-08-29T23:12:15.883Z"
   },
   {
    "duration": 114,
    "start_time": "2021-08-29T23:12:19.911Z"
   },
   {
    "duration": 40,
    "start_time": "2021-08-29T23:12:22.801Z"
   },
   {
    "duration": 5,
    "start_time": "2021-08-29T23:12:34.991Z"
   },
   {
    "duration": 16,
    "start_time": "2021-08-29T23:12:57.803Z"
   },
   {
    "duration": 51,
    "start_time": "2021-08-29T23:13:16.799Z"
   },
   {
    "duration": 42,
    "start_time": "2021-08-29T23:13:33.511Z"
   },
   {
    "duration": 55,
    "start_time": "2021-08-29T23:13:38.894Z"
   },
   {
    "duration": 5,
    "start_time": "2021-08-29T23:13:52.193Z"
   },
   {
    "duration": 19,
    "start_time": "2021-08-29T23:14:01.214Z"
   },
   {
    "duration": 12,
    "start_time": "2021-08-29T23:14:17.493Z"
   },
   {
    "duration": 15,
    "start_time": "2021-08-29T23:14:28.911Z"
   },
   {
    "duration": 35,
    "start_time": "2021-08-29T23:14:42.111Z"
   },
   {
    "duration": 4,
    "start_time": "2021-08-29T23:15:05.153Z"
   },
   {
    "duration": 212,
    "start_time": "2021-08-29T23:15:05.159Z"
   },
   {
    "duration": 161,
    "start_time": "2021-08-29T23:15:05.382Z"
   },
   {
    "duration": 115,
    "start_time": "2021-08-29T23:15:05.546Z"
   },
   {
    "duration": 26,
    "start_time": "2021-08-29T23:15:05.663Z"
   },
   {
    "duration": 42,
    "start_time": "2021-08-29T23:15:05.691Z"
   },
   {
    "duration": 81,
    "start_time": "2021-08-29T23:15:05.735Z"
   },
   {
    "duration": 131,
    "start_time": "2021-08-29T23:15:05.818Z"
   },
   {
    "duration": 10,
    "start_time": "2021-08-29T23:15:05.953Z"
   },
   {
    "duration": 18,
    "start_time": "2021-08-29T23:15:05.982Z"
   },
   {
    "duration": 17,
    "start_time": "2021-08-29T23:15:06.002Z"
   },
   {
    "duration": 7,
    "start_time": "2021-08-29T23:15:06.021Z"
   },
   {
    "duration": 79,
    "start_time": "2021-08-29T23:15:06.031Z"
   },
   {
    "duration": 9,
    "start_time": "2021-08-29T23:15:06.113Z"
   },
   {
    "duration": 8,
    "start_time": "2021-08-29T23:15:06.124Z"
   },
   {
    "duration": 113,
    "start_time": "2021-08-29T23:15:06.134Z"
   },
   {
    "duration": 16,
    "start_time": "2021-08-29T23:15:06.250Z"
   },
   {
    "duration": 30,
    "start_time": "2021-08-29T23:15:06.268Z"
   },
   {
    "duration": 37,
    "start_time": "2021-08-29T23:15:06.300Z"
   },
   {
    "duration": 8,
    "start_time": "2021-08-29T23:15:06.340Z"
   },
   {
    "duration": 52,
    "start_time": "2021-08-29T23:15:06.384Z"
   },
   {
    "duration": 51,
    "start_time": "2021-08-29T23:15:06.439Z"
   },
   {
    "duration": 9,
    "start_time": "2021-08-29T23:15:06.492Z"
   },
   {
    "duration": 13,
    "start_time": "2021-08-29T23:15:06.503Z"
   },
   {
    "duration": 11,
    "start_time": "2021-08-29T23:15:06.518Z"
   },
   {
    "duration": 14,
    "start_time": "2021-08-29T23:15:06.532Z"
   },
   {
    "duration": 11,
    "start_time": "2021-08-29T23:15:06.584Z"
   },
   {
    "duration": 8,
    "start_time": "2021-08-29T23:15:06.598Z"
   },
   {
    "duration": 10,
    "start_time": "2021-08-29T23:15:06.608Z"
   },
   {
    "duration": 14,
    "start_time": "2021-08-29T23:15:06.620Z"
   },
   {
    "duration": 49,
    "start_time": "2021-08-29T23:15:06.636Z"
   },
   {
    "duration": 17,
    "start_time": "2021-08-29T23:15:06.688Z"
   },
   {
    "duration": 57,
    "start_time": "2021-08-29T23:15:06.707Z"
   },
   {
    "duration": 136,
    "start_time": "2021-08-29T23:15:06.783Z"
   },
   {
    "duration": 112,
    "start_time": "2021-08-29T23:15:06.921Z"
   },
   {
    "duration": 48,
    "start_time": "2021-08-29T23:15:07.036Z"
   },
   {
    "duration": 16,
    "start_time": "2021-08-29T23:15:07.086Z"
   },
   {
    "duration": 43,
    "start_time": "2021-08-29T23:15:07.105Z"
   },
   {
    "duration": 71,
    "start_time": "2021-08-29T23:15:07.150Z"
   },
   {
    "duration": 65,
    "start_time": "2021-08-29T23:15:07.224Z"
   },
   {
    "duration": 4,
    "start_time": "2021-08-29T23:15:07.291Z"
   },
   {
    "duration": 20,
    "start_time": "2021-08-29T23:15:07.298Z"
   },
   {
    "duration": 10,
    "start_time": "2021-08-29T23:15:07.321Z"
   },
   {
    "duration": 26,
    "start_time": "2021-08-29T23:15:12.231Z"
   },
   {
    "duration": 23,
    "start_time": "2021-08-29T23:17:19.313Z"
   },
   {
    "duration": 5,
    "start_time": "2021-08-29T23:17:41.341Z"
   },
   {
    "duration": 50,
    "start_time": "2021-08-29T23:18:04.204Z"
   },
   {
    "duration": 26,
    "start_time": "2021-08-29T23:20:58.493Z"
   },
   {
    "duration": 8,
    "start_time": "2021-08-29T23:21:20.933Z"
   },
   {
    "duration": 6,
    "start_time": "2021-08-29T23:21:30.003Z"
   },
   {
    "duration": 6,
    "start_time": "2021-08-29T23:21:31.951Z"
   },
   {
    "duration": 13,
    "start_time": "2021-08-29T23:21:59.471Z"
   },
   {
    "duration": 21,
    "start_time": "2021-08-29T23:22:11.150Z"
   },
   {
    "duration": 32,
    "start_time": "2021-08-29T23:22:33.510Z"
   },
   {
    "duration": 32,
    "start_time": "2021-08-29T23:23:48.473Z"
   },
   {
    "duration": 25,
    "start_time": "2021-08-29T23:24:42.239Z"
   },
   {
    "duration": 14,
    "start_time": "2021-08-29T23:24:54.967Z"
   },
   {
    "duration": 492,
    "start_time": "2021-08-29T23:25:24.323Z"
   },
   {
    "duration": 375,
    "start_time": "2021-08-29T23:25:37.391Z"
   },
   {
    "duration": 407,
    "start_time": "2021-08-29T23:25:46.363Z"
   },
   {
    "duration": 444,
    "start_time": "2021-08-29T23:31:47.041Z"
   },
   {
    "duration": 22,
    "start_time": "2021-08-29T23:31:57.832Z"
   },
   {
    "duration": 12,
    "start_time": "2021-08-29T23:32:12.591Z"
   },
   {
    "duration": 12,
    "start_time": "2021-08-29T23:32:15.206Z"
   },
   {
    "duration": 35,
    "start_time": "2021-08-29T23:32:32.684Z"
   },
   {
    "duration": 28,
    "start_time": "2021-08-29T23:32:34.803Z"
   },
   {
    "duration": 14,
    "start_time": "2021-08-29T23:34:01.601Z"
   },
   {
    "duration": 8,
    "start_time": "2021-08-29T23:34:17.545Z"
   },
   {
    "duration": 307,
    "start_time": "2021-08-29T23:35:36.051Z"
   },
   {
    "duration": 272,
    "start_time": "2021-08-29T23:35:47.932Z"
   },
   {
    "duration": 296,
    "start_time": "2021-08-29T23:37:19.214Z"
   },
   {
    "duration": 8,
    "start_time": "2021-08-29T23:39:01.454Z"
   },
   {
    "duration": 7,
    "start_time": "2021-08-29T23:39:06.791Z"
   },
   {
    "duration": 4,
    "start_time": "2021-08-29T23:49:26.673Z"
   },
   {
    "duration": 6,
    "start_time": "2021-08-29T23:49:29.074Z"
   },
   {
    "duration": 4,
    "start_time": "2021-08-29T23:50:29.283Z"
   },
   {
    "duration": 8,
    "start_time": "2021-08-29T23:50:31.231Z"
   },
   {
    "duration": 4,
    "start_time": "2021-08-29T23:50:43.963Z"
   },
   {
    "duration": 7,
    "start_time": "2021-08-29T23:50:44.883Z"
   },
   {
    "duration": 8,
    "start_time": "2021-08-29T23:59:53.654Z"
   },
   {
    "duration": 12,
    "start_time": "2021-08-30T00:28:01.351Z"
   },
   {
    "duration": 8,
    "start_time": "2021-08-30T00:38:27.031Z"
   },
   {
    "duration": 21,
    "start_time": "2021-08-30T00:50:56.294Z"
   },
   {
    "duration": 5,
    "start_time": "2021-08-30T01:05:08.184Z"
   },
   {
    "duration": 214,
    "start_time": "2021-08-30T01:05:08.192Z"
   },
   {
    "duration": 190,
    "start_time": "2021-08-30T01:05:08.409Z"
   },
   {
    "duration": 113,
    "start_time": "2021-08-30T01:05:08.601Z"
   },
   {
    "duration": 25,
    "start_time": "2021-08-30T01:05:08.716Z"
   },
   {
    "duration": 41,
    "start_time": "2021-08-30T01:05:08.743Z"
   },
   {
    "duration": 68,
    "start_time": "2021-08-30T01:05:08.786Z"
   },
   {
    "duration": 142,
    "start_time": "2021-08-30T01:05:08.858Z"
   },
   {
    "duration": 10,
    "start_time": "2021-08-30T01:05:09.004Z"
   },
   {
    "duration": 22,
    "start_time": "2021-08-30T01:05:09.016Z"
   },
   {
    "duration": 47,
    "start_time": "2021-08-30T01:05:09.040Z"
   },
   {
    "duration": 7,
    "start_time": "2021-08-30T01:05:09.089Z"
   },
   {
    "duration": 47,
    "start_time": "2021-08-30T01:05:09.098Z"
   },
   {
    "duration": 37,
    "start_time": "2021-08-30T01:05:09.148Z"
   },
   {
    "duration": 8,
    "start_time": "2021-08-30T01:05:09.188Z"
   },
   {
    "duration": 114,
    "start_time": "2021-08-30T01:05:09.198Z"
   },
   {
    "duration": 17,
    "start_time": "2021-08-30T01:05:09.314Z"
   },
   {
    "duration": 19,
    "start_time": "2021-08-30T01:05:09.333Z"
   },
   {
    "duration": 63,
    "start_time": "2021-08-30T01:05:09.354Z"
   },
   {
    "duration": 8,
    "start_time": "2021-08-30T01:05:09.419Z"
   },
   {
    "duration": 84,
    "start_time": "2021-08-30T01:05:09.430Z"
   },
   {
    "duration": 33,
    "start_time": "2021-08-30T01:05:09.517Z"
   },
   {
    "duration": 27,
    "start_time": "2021-08-30T01:05:09.556Z"
   },
   {
    "duration": 14,
    "start_time": "2021-08-30T01:05:09.587Z"
   },
   {
    "duration": 6,
    "start_time": "2021-08-30T01:05:09.604Z"
   },
   {
    "duration": 11,
    "start_time": "2021-08-30T01:05:09.612Z"
   },
   {
    "duration": 12,
    "start_time": "2021-08-30T01:05:09.626Z"
   },
   {
    "duration": 47,
    "start_time": "2021-08-30T01:05:09.640Z"
   },
   {
    "duration": 15,
    "start_time": "2021-08-30T01:05:09.689Z"
   },
   {
    "duration": 15,
    "start_time": "2021-08-30T01:05:09.706Z"
   },
   {
    "duration": 5,
    "start_time": "2021-08-30T01:05:09.723Z"
   },
   {
    "duration": 51,
    "start_time": "2021-08-30T01:05:09.731Z"
   },
   {
    "duration": 50,
    "start_time": "2021-08-30T01:05:09.785Z"
   },
   {
    "duration": 145,
    "start_time": "2021-08-30T01:05:09.838Z"
   },
   {
    "duration": 115,
    "start_time": "2021-08-30T01:05:09.986Z"
   },
   {
    "duration": 29,
    "start_time": "2021-08-30T01:05:10.103Z"
   },
   {
    "duration": 16,
    "start_time": "2021-08-30T01:05:10.135Z"
   },
   {
    "duration": 72,
    "start_time": "2021-08-30T01:05:10.153Z"
   },
   {
    "duration": 68,
    "start_time": "2021-08-30T01:05:10.228Z"
   },
   {
    "duration": 48,
    "start_time": "2021-08-30T01:05:10.298Z"
   },
   {
    "duration": 4,
    "start_time": "2021-08-30T01:05:10.349Z"
   },
   {
    "duration": 41,
    "start_time": "2021-08-30T01:05:10.356Z"
   },
   {
    "duration": 12,
    "start_time": "2021-08-30T01:05:10.400Z"
   },
   {
    "duration": 25,
    "start_time": "2021-08-30T01:05:10.415Z"
   },
   {
    "duration": 54,
    "start_time": "2021-08-30T01:05:10.443Z"
   },
   {
    "duration": 6,
    "start_time": "2021-08-30T01:05:10.499Z"
   },
   {
    "duration": 50,
    "start_time": "2021-08-30T01:05:10.508Z"
   },
   {
    "duration": 25,
    "start_time": "2021-08-30T01:05:10.582Z"
   },
   {
    "duration": 7,
    "start_time": "2021-08-30T01:05:10.609Z"
   },
   {
    "duration": 8,
    "start_time": "2021-08-30T01:05:10.618Z"
   },
   {
    "duration": 9,
    "start_time": "2021-08-30T01:05:10.628Z"
   },
   {
    "duration": 46,
    "start_time": "2021-08-30T01:05:10.639Z"
   },
   {
    "duration": 18,
    "start_time": "2021-08-30T01:05:10.687Z"
   },
   {
    "duration": 29,
    "start_time": "2021-08-30T01:05:10.707Z"
   },
   {
    "duration": 63,
    "start_time": "2021-08-30T01:05:10.738Z"
   },
   {
    "duration": 13,
    "start_time": "2021-08-30T01:05:10.803Z"
   },
   {
    "duration": 416,
    "start_time": "2021-08-30T01:05:10.818Z"
   },
   {
    "duration": 393,
    "start_time": "2021-08-30T01:05:11.236Z"
   },
   {
    "duration": 391,
    "start_time": "2021-08-30T01:05:11.632Z"
   },
   {
    "duration": 540,
    "start_time": "2021-08-30T01:05:12.025Z"
   },
   {
    "duration": 29,
    "start_time": "2021-08-30T01:05:12.567Z"
   },
   {
    "duration": 14,
    "start_time": "2021-08-30T01:05:12.598Z"
   },
   {
    "duration": 15,
    "start_time": "2021-08-30T01:05:12.615Z"
   },
   {
    "duration": 73,
    "start_time": "2021-08-30T01:05:12.633Z"
   },
   {
    "duration": 35,
    "start_time": "2021-08-30T01:05:12.708Z"
   },
   {
    "duration": 13,
    "start_time": "2021-08-30T01:05:12.746Z"
   },
   {
    "duration": 4,
    "start_time": "2021-08-30T01:05:12.783Z"
   },
   {
    "duration": 9,
    "start_time": "2021-08-30T01:05:12.794Z"
   },
   {
    "duration": 13,
    "start_time": "2021-08-30T01:05:12.806Z"
   },
   {
    "duration": 8,
    "start_time": "2021-08-30T01:05:12.822Z"
   },
   {
    "duration": 31,
    "start_time": "2021-08-30T01:06:09.923Z"
   },
   {
    "duration": 5,
    "start_time": "2021-08-30T01:09:25.272Z"
   },
   {
    "duration": 208,
    "start_time": "2021-08-30T01:09:25.279Z"
   },
   {
    "duration": 198,
    "start_time": "2021-08-30T01:09:25.490Z"
   },
   {
    "duration": 122,
    "start_time": "2021-08-30T01:09:25.691Z"
   },
   {
    "duration": 25,
    "start_time": "2021-08-30T01:09:25.815Z"
   },
   {
    "duration": 38,
    "start_time": "2021-08-30T01:09:25.843Z"
   },
   {
    "duration": 68,
    "start_time": "2021-08-30T01:09:25.883Z"
   },
   {
    "duration": 137,
    "start_time": "2021-08-30T01:09:25.953Z"
   },
   {
    "duration": 10,
    "start_time": "2021-08-30T01:09:26.095Z"
   },
   {
    "duration": 21,
    "start_time": "2021-08-30T01:09:26.109Z"
   },
   {
    "duration": 17,
    "start_time": "2021-08-30T01:09:26.132Z"
   },
   {
    "duration": 35,
    "start_time": "2021-08-30T01:09:26.151Z"
   },
   {
    "duration": 46,
    "start_time": "2021-08-30T01:09:26.189Z"
   },
   {
    "duration": 8,
    "start_time": "2021-08-30T01:09:26.238Z"
   },
   {
    "duration": 37,
    "start_time": "2021-08-30T01:09:26.249Z"
   },
   {
    "duration": 103,
    "start_time": "2021-08-30T01:09:26.288Z"
   },
   {
    "duration": 17,
    "start_time": "2021-08-30T01:09:26.394Z"
   },
   {
    "duration": 18,
    "start_time": "2021-08-30T01:09:26.413Z"
   },
   {
    "duration": 71,
    "start_time": "2021-08-30T01:09:26.433Z"
   },
   {
    "duration": 8,
    "start_time": "2021-08-30T01:09:26.507Z"
   },
   {
    "duration": 76,
    "start_time": "2021-08-30T01:09:26.518Z"
   },
   {
    "duration": 36,
    "start_time": "2021-08-30T01:09:26.597Z"
   },
   {
    "duration": 9,
    "start_time": "2021-08-30T01:09:26.635Z"
   },
   {
    "duration": 38,
    "start_time": "2021-08-30T01:09:26.646Z"
   },
   {
    "duration": 9,
    "start_time": "2021-08-30T01:09:26.687Z"
   },
   {
    "duration": 10,
    "start_time": "2021-08-30T01:09:26.698Z"
   },
   {
    "duration": 8,
    "start_time": "2021-08-30T01:09:26.714Z"
   },
   {
    "duration": 7,
    "start_time": "2021-08-30T01:09:26.726Z"
   },
   {
    "duration": 52,
    "start_time": "2021-08-30T01:09:26.736Z"
   },
   {
    "duration": 15,
    "start_time": "2021-08-30T01:09:26.790Z"
   },
   {
    "duration": 5,
    "start_time": "2021-08-30T01:09:26.807Z"
   },
   {
    "duration": 18,
    "start_time": "2021-08-30T01:09:26.814Z"
   },
   {
    "duration": 92,
    "start_time": "2021-08-30T01:09:26.835Z"
   },
   {
    "duration": 132,
    "start_time": "2021-08-30T01:09:26.930Z"
   },
   {
    "duration": 118,
    "start_time": "2021-08-30T01:09:27.064Z"
   },
   {
    "duration": 31,
    "start_time": "2021-08-30T01:09:27.184Z"
   },
   {
    "duration": 17,
    "start_time": "2021-08-30T01:09:27.218Z"
   },
   {
    "duration": 79,
    "start_time": "2021-08-30T01:09:27.237Z"
   },
   {
    "duration": 47,
    "start_time": "2021-08-30T01:09:27.318Z"
   },
   {
    "duration": 49,
    "start_time": "2021-08-30T01:09:27.382Z"
   },
   {
    "duration": 5,
    "start_time": "2021-08-30T01:09:27.433Z"
   },
   {
    "duration": 44,
    "start_time": "2021-08-30T01:09:27.441Z"
   },
   {
    "duration": 14,
    "start_time": "2021-08-30T01:09:27.487Z"
   },
   {
    "duration": 26,
    "start_time": "2021-08-30T01:09:27.503Z"
   },
   {
    "duration": 55,
    "start_time": "2021-08-30T01:09:27.532Z"
   },
   {
    "duration": 5,
    "start_time": "2021-08-30T01:09:27.589Z"
   },
   {
    "duration": 49,
    "start_time": "2021-08-30T01:09:27.596Z"
   },
   {
    "duration": 50,
    "start_time": "2021-08-30T01:09:27.647Z"
   },
   {
    "duration": 8,
    "start_time": "2021-08-30T01:09:27.699Z"
   },
   {
    "duration": 6,
    "start_time": "2021-08-30T01:09:27.709Z"
   },
   {
    "duration": 12,
    "start_time": "2021-08-30T01:09:27.717Z"
   },
   {
    "duration": 59,
    "start_time": "2021-08-30T01:09:27.731Z"
   },
   {
    "duration": 18,
    "start_time": "2021-08-30T01:09:27.793Z"
   },
   {
    "duration": 32,
    "start_time": "2021-08-30T01:09:27.814Z"
   },
   {
    "duration": 48,
    "start_time": "2021-08-30T01:09:27.848Z"
   },
   {
    "duration": 15,
    "start_time": "2021-08-30T01:09:27.898Z"
   },
   {
    "duration": 427,
    "start_time": "2021-08-30T01:09:27.915Z"
   },
   {
    "duration": 389,
    "start_time": "2021-08-30T01:09:28.345Z"
   },
   {
    "duration": 388,
    "start_time": "2021-08-30T01:09:28.736Z"
   },
   {
    "duration": 470,
    "start_time": "2021-08-30T01:09:29.126Z"
   },
   {
    "duration": 19,
    "start_time": "2021-08-30T01:09:29.599Z"
   },
   {
    "duration": 14,
    "start_time": "2021-08-30T01:09:29.621Z"
   },
   {
    "duration": 12,
    "start_time": "2021-08-30T01:09:29.637Z"
   },
   {
    "duration": 30,
    "start_time": "2021-08-30T01:09:29.683Z"
   },
   {
    "duration": 27,
    "start_time": "2021-08-30T01:09:29.715Z"
   },
   {
    "duration": 42,
    "start_time": "2021-08-30T01:09:29.744Z"
   },
   {
    "duration": 15,
    "start_time": "2021-08-30T01:09:29.788Z"
   },
   {
    "duration": 12,
    "start_time": "2021-08-30T01:09:29.806Z"
   },
   {
    "duration": 20,
    "start_time": "2021-08-30T01:09:29.820Z"
   },
   {
    "duration": 16,
    "start_time": "2021-08-30T01:09:29.842Z"
   },
   {
    "duration": 1062,
    "start_time": "2021-08-30T19:01:59.396Z"
   },
   {
    "duration": 156,
    "start_time": "2021-08-30T19:02:00.460Z"
   },
   {
    "duration": 128,
    "start_time": "2021-08-30T19:02:00.618Z"
   },
   {
    "duration": 90,
    "start_time": "2021-08-30T19:02:00.748Z"
   },
   {
    "duration": 21,
    "start_time": "2021-08-30T19:02:00.840Z"
   },
   {
    "duration": 39,
    "start_time": "2021-08-30T19:02:00.862Z"
   },
   {
    "duration": 52,
    "start_time": "2021-08-30T19:02:00.902Z"
   },
   {
    "duration": 121,
    "start_time": "2021-08-30T19:02:00.956Z"
   },
   {
    "duration": 17,
    "start_time": "2021-08-30T19:02:01.079Z"
   },
   {
    "duration": 27,
    "start_time": "2021-08-30T19:02:01.098Z"
   },
   {
    "duration": 21,
    "start_time": "2021-08-30T19:02:01.127Z"
   },
   {
    "duration": 5,
    "start_time": "2021-08-30T19:02:01.150Z"
   },
   {
    "duration": 60,
    "start_time": "2021-08-30T19:02:01.156Z"
   },
   {
    "duration": 5,
    "start_time": "2021-08-30T19:02:01.218Z"
   },
   {
    "duration": 7,
    "start_time": "2021-08-30T19:02:01.225Z"
   },
   {
    "duration": 75,
    "start_time": "2021-08-30T19:02:01.233Z"
   },
   {
    "duration": 12,
    "start_time": "2021-08-30T19:02:01.310Z"
   },
   {
    "duration": 19,
    "start_time": "2021-08-30T19:02:01.323Z"
   },
   {
    "duration": 27,
    "start_time": "2021-08-30T19:02:01.344Z"
   },
   {
    "duration": 23,
    "start_time": "2021-08-30T19:02:01.373Z"
   },
   {
    "duration": 43,
    "start_time": "2021-08-30T19:02:01.397Z"
   },
   {
    "duration": 25,
    "start_time": "2021-08-30T19:02:01.442Z"
   },
   {
    "duration": 22,
    "start_time": "2021-08-30T19:02:01.471Z"
   },
   {
    "duration": 8,
    "start_time": "2021-08-30T19:02:01.496Z"
   },
   {
    "duration": 20,
    "start_time": "2021-08-30T19:02:01.505Z"
   },
   {
    "duration": 15,
    "start_time": "2021-08-30T19:02:01.527Z"
   },
   {
    "duration": 12,
    "start_time": "2021-08-30T19:02:01.544Z"
   },
   {
    "duration": 7,
    "start_time": "2021-08-30T19:02:01.558Z"
   },
   {
    "duration": 27,
    "start_time": "2021-08-30T19:02:01.567Z"
   },
   {
    "duration": 18,
    "start_time": "2021-08-30T19:02:01.595Z"
   },
   {
    "duration": 20,
    "start_time": "2021-08-30T19:02:01.615Z"
   },
   {
    "duration": 20,
    "start_time": "2021-08-30T19:02:01.637Z"
   },
   {
    "duration": 59,
    "start_time": "2021-08-30T19:02:01.658Z"
   },
   {
    "duration": 87,
    "start_time": "2021-08-30T19:02:01.719Z"
   },
   {
    "duration": 68,
    "start_time": "2021-08-30T19:02:01.808Z"
   },
   {
    "duration": 37,
    "start_time": "2021-08-30T19:02:01.878Z"
   },
   {
    "duration": 10,
    "start_time": "2021-08-30T19:02:01.917Z"
   },
   {
    "duration": 64,
    "start_time": "2021-08-30T19:02:01.929Z"
   },
   {
    "duration": 28,
    "start_time": "2021-08-30T19:02:01.995Z"
   },
   {
    "duration": 33,
    "start_time": "2021-08-30T19:02:02.025Z"
   },
   {
    "duration": 3,
    "start_time": "2021-08-30T19:02:02.060Z"
   },
   {
    "duration": 35,
    "start_time": "2021-08-30T19:02:02.064Z"
   },
   {
    "duration": 13,
    "start_time": "2021-08-30T19:02:02.101Z"
   },
   {
    "duration": 33,
    "start_time": "2021-08-30T19:02:02.115Z"
   },
   {
    "duration": 15,
    "start_time": "2021-08-30T19:02:02.149Z"
   },
   {
    "duration": 6,
    "start_time": "2021-08-30T19:02:02.165Z"
   },
   {
    "duration": 37,
    "start_time": "2021-08-30T19:02:02.173Z"
   },
   {
    "duration": 15,
    "start_time": "2021-08-30T19:02:02.212Z"
   },
   {
    "duration": 4,
    "start_time": "2021-08-30T19:02:02.229Z"
   },
   {
    "duration": 15,
    "start_time": "2021-08-30T19:02:02.235Z"
   },
   {
    "duration": 7,
    "start_time": "2021-08-30T19:02:02.251Z"
   },
   {
    "duration": 18,
    "start_time": "2021-08-30T19:02:02.259Z"
   },
   {
    "duration": 27,
    "start_time": "2021-08-30T19:02:02.278Z"
   },
   {
    "duration": 19,
    "start_time": "2021-08-30T19:02:02.307Z"
   },
   {
    "duration": 16,
    "start_time": "2021-08-30T19:02:02.328Z"
   },
   {
    "duration": 9,
    "start_time": "2021-08-30T19:02:02.346Z"
   },
   {
    "duration": 249,
    "start_time": "2021-08-30T19:02:02.357Z"
   },
   {
    "duration": 226,
    "start_time": "2021-08-30T19:02:02.608Z"
   },
   {
    "duration": 224,
    "start_time": "2021-08-30T19:02:02.835Z"
   },
   {
    "duration": 274,
    "start_time": "2021-08-30T19:02:03.060Z"
   },
   {
    "duration": 13,
    "start_time": "2021-08-30T19:02:03.336Z"
   },
   {
    "duration": 6,
    "start_time": "2021-08-30T19:02:03.351Z"
   },
   {
    "duration": 7,
    "start_time": "2021-08-30T19:02:03.359Z"
   },
   {
    "duration": 21,
    "start_time": "2021-08-30T19:02:03.391Z"
   },
   {
    "duration": 18,
    "start_time": "2021-08-30T19:02:03.414Z"
   },
   {
    "duration": 8,
    "start_time": "2021-08-30T19:02:03.434Z"
   },
   {
    "duration": 6,
    "start_time": "2021-08-30T19:02:03.444Z"
   },
   {
    "duration": 5,
    "start_time": "2021-08-30T19:02:03.455Z"
   },
   {
    "duration": 35,
    "start_time": "2021-08-30T19:02:03.462Z"
   },
   {
    "duration": 6,
    "start_time": "2021-08-30T19:02:03.499Z"
   },
   {
    "duration": 60,
    "start_time": "2021-08-30T19:06:08.353Z"
   },
   {
    "duration": 6,
    "start_time": "2021-08-30T19:06:25.005Z"
   },
   {
    "duration": 2066,
    "start_time": "2021-08-30T19:06:33.145Z"
   },
   {
    "duration": 4,
    "start_time": "2021-08-30T19:09:20.491Z"
   },
   {
    "duration": 4,
    "start_time": "2021-08-30T19:09:29.178Z"
   },
   {
    "duration": 8,
    "start_time": "2021-08-30T19:10:31.802Z"
   },
   {
    "duration": 98,
    "start_time": "2021-08-31T00:19:12.401Z"
   },
   {
    "duration": 106,
    "start_time": "2021-08-31T00:21:37.951Z"
   },
   {
    "duration": 1363,
    "start_time": "2021-08-31T00:35:12.561Z"
   },
   {
    "duration": 211,
    "start_time": "2021-08-31T00:35:13.927Z"
   },
   {
    "duration": 164,
    "start_time": "2021-08-31T00:35:14.141Z"
   },
   {
    "duration": 125,
    "start_time": "2021-08-31T00:35:14.308Z"
   },
   {
    "duration": 25,
    "start_time": "2021-08-31T00:35:14.435Z"
   },
   {
    "duration": 40,
    "start_time": "2021-08-31T00:35:14.463Z"
   },
   {
    "duration": 78,
    "start_time": "2021-08-31T00:35:14.506Z"
   },
   {
    "duration": 135,
    "start_time": "2021-08-31T00:35:14.587Z"
   },
   {
    "duration": 11,
    "start_time": "2021-08-31T00:35:14.725Z"
   },
   {
    "duration": 34,
    "start_time": "2021-08-31T00:35:14.738Z"
   },
   {
    "duration": 25,
    "start_time": "2021-08-31T00:35:14.774Z"
   },
   {
    "duration": 7,
    "start_time": "2021-08-31T00:35:14.801Z"
   },
   {
    "duration": 74,
    "start_time": "2021-08-31T00:35:14.810Z"
   },
   {
    "duration": 10,
    "start_time": "2021-08-31T00:35:14.886Z"
   },
   {
    "duration": 12,
    "start_time": "2021-08-31T00:35:14.898Z"
   },
   {
    "duration": 121,
    "start_time": "2021-08-31T00:35:14.913Z"
   },
   {
    "duration": 29,
    "start_time": "2021-08-31T00:35:15.036Z"
   },
   {
    "duration": 19,
    "start_time": "2021-08-31T00:35:15.068Z"
   },
   {
    "duration": 38,
    "start_time": "2021-08-31T00:35:15.089Z"
   },
   {
    "duration": 9,
    "start_time": "2021-08-31T00:35:15.154Z"
   },
   {
    "duration": 59,
    "start_time": "2021-08-31T00:35:15.165Z"
   },
   {
    "duration": 51,
    "start_time": "2021-08-31T00:35:15.227Z"
   },
   {
    "duration": 8,
    "start_time": "2021-08-31T00:35:15.284Z"
   },
   {
    "duration": 14,
    "start_time": "2021-08-31T00:35:15.296Z"
   },
   {
    "duration": 6,
    "start_time": "2021-08-31T00:35:15.312Z"
   },
   {
    "duration": 7,
    "start_time": "2021-08-31T00:35:15.355Z"
   },
   {
    "duration": 12,
    "start_time": "2021-08-31T00:35:15.365Z"
   },
   {
    "duration": 7,
    "start_time": "2021-08-31T00:35:15.379Z"
   },
   {
    "duration": 11,
    "start_time": "2021-08-31T00:35:15.389Z"
   },
   {
    "duration": 55,
    "start_time": "2021-08-31T00:35:15.402Z"
   },
   {
    "duration": 13,
    "start_time": "2021-08-31T00:35:15.459Z"
   },
   {
    "duration": 31,
    "start_time": "2021-08-31T00:35:15.475Z"
   },
   {
    "duration": 73,
    "start_time": "2021-08-31T00:35:15.508Z"
   },
   {
    "duration": 137,
    "start_time": "2021-08-31T00:35:15.584Z"
   },
   {
    "duration": 98,
    "start_time": "2021-08-31T00:35:15.724Z"
   },
   {
    "duration": 2307,
    "start_time": "2021-08-31T00:35:15.825Z"
   },
   {
    "duration": 127,
    "start_time": "2021-08-31T00:35:18.135Z"
   },
   {
    "duration": 34,
    "start_time": "2021-08-31T00:35:18.265Z"
   },
   {
    "duration": 17,
    "start_time": "2021-08-31T00:35:18.301Z"
   },
   {
    "duration": 82,
    "start_time": "2021-08-31T00:35:18.320Z"
   },
   {
    "duration": 58,
    "start_time": "2021-08-31T00:35:18.405Z"
   },
   {
    "duration": 49,
    "start_time": "2021-08-31T00:35:18.465Z"
   },
   {
    "duration": 5,
    "start_time": "2021-08-31T00:35:18.517Z"
   },
   {
    "duration": 55,
    "start_time": "2021-08-31T00:35:18.524Z"
   },
   {
    "duration": 13,
    "start_time": "2021-08-31T00:35:18.582Z"
   },
   {
    "duration": 41,
    "start_time": "2021-08-31T00:35:18.598Z"
   },
   {
    "duration": 30,
    "start_time": "2021-08-31T00:35:18.642Z"
   },
   {
    "duration": 5,
    "start_time": "2021-08-31T00:35:18.675Z"
   },
   {
    "duration": 74,
    "start_time": "2021-08-31T00:35:18.682Z"
   },
   {
    "duration": 6,
    "start_time": "2021-08-31T00:35:18.758Z"
   },
   {
    "duration": 43,
    "start_time": "2021-08-31T00:35:18.766Z"
   },
   {
    "duration": 8,
    "start_time": "2021-08-31T00:35:18.812Z"
   },
   {
    "duration": 16,
    "start_time": "2021-08-31T00:35:18.822Z"
   },
   {
    "duration": 7,
    "start_time": "2021-08-31T00:35:18.855Z"
   },
   {
    "duration": 37,
    "start_time": "2021-08-31T00:35:18.864Z"
   },
   {
    "duration": 29,
    "start_time": "2021-08-31T00:35:18.904Z"
   },
   {
    "duration": 37,
    "start_time": "2021-08-31T00:35:18.935Z"
   },
   {
    "duration": 25,
    "start_time": "2021-08-31T00:35:18.974Z"
   },
   {
    "duration": 31,
    "start_time": "2021-08-31T00:35:19.001Z"
   },
   {
    "duration": 26,
    "start_time": "2021-08-31T00:35:19.035Z"
   },
   {
    "duration": 405,
    "start_time": "2021-08-31T00:35:19.063Z"
   },
   {
    "duration": 401,
    "start_time": "2021-08-31T00:35:19.471Z"
   },
   {
    "duration": 403,
    "start_time": "2021-08-31T00:35:19.874Z"
   },
   {
    "duration": 490,
    "start_time": "2021-08-31T00:35:20.279Z"
   },
   {
    "duration": 25,
    "start_time": "2021-08-31T00:35:20.772Z"
   },
   {
    "duration": 18,
    "start_time": "2021-08-31T00:35:20.800Z"
   },
   {
    "duration": 40,
    "start_time": "2021-08-31T00:35:20.821Z"
   },
   {
    "duration": 36,
    "start_time": "2021-08-31T00:35:20.872Z"
   },
   {
    "duration": 63,
    "start_time": "2021-08-31T00:35:20.911Z"
   },
   {
    "duration": 14,
    "start_time": "2021-08-31T00:35:20.977Z"
   },
   {
    "duration": 18,
    "start_time": "2021-08-31T00:35:20.994Z"
   },
   {
    "duration": 40,
    "start_time": "2021-08-31T00:35:21.014Z"
   },
   {
    "duration": 14,
    "start_time": "2021-08-31T00:35:21.057Z"
   },
   {
    "duration": 15,
    "start_time": "2021-08-31T00:35:21.073Z"
   },
   {
    "duration": 404,
    "start_time": "2021-08-31T00:45:27.747Z"
   },
   {
    "duration": 66,
    "start_time": "2021-08-31T00:45:51.401Z"
   },
   {
    "duration": 126,
    "start_time": "2021-08-31T00:46:04.523Z"
   },
   {
    "duration": 287,
    "start_time": "2021-08-31T01:00:12.821Z"
   },
   {
    "duration": 47801,
    "start_time": "2021-08-31T01:10:33.141Z"
   },
   {
    "duration": 38410,
    "start_time": "2021-08-31T01:12:26.862Z"
   },
   {
    "duration": 4,
    "start_time": "2021-08-31T01:24:33.326Z"
   },
   {
    "duration": 247,
    "start_time": "2021-08-31T01:24:33.333Z"
   },
   {
    "duration": 210,
    "start_time": "2021-08-31T01:24:33.583Z"
   },
   {
    "duration": 141,
    "start_time": "2021-08-31T01:24:33.796Z"
   },
   {
    "duration": 34,
    "start_time": "2021-08-31T01:24:33.939Z"
   },
   {
    "duration": 42,
    "start_time": "2021-08-31T01:24:33.975Z"
   },
   {
    "duration": 101,
    "start_time": "2021-08-31T01:24:34.020Z"
   },
   {
    "duration": 148,
    "start_time": "2021-08-31T01:24:34.124Z"
   },
   {
    "duration": 11,
    "start_time": "2021-08-31T01:24:34.276Z"
   },
   {
    "duration": 23,
    "start_time": "2021-08-31T01:24:34.290Z"
   },
   {
    "duration": 49,
    "start_time": "2021-08-31T01:24:34.315Z"
   },
   {
    "duration": 8,
    "start_time": "2021-08-31T01:24:34.367Z"
   },
   {
    "duration": 89,
    "start_time": "2021-08-31T01:24:34.377Z"
   },
   {
    "duration": 8,
    "start_time": "2021-08-31T01:24:34.470Z"
   },
   {
    "duration": 8,
    "start_time": "2021-08-31T01:24:34.480Z"
   },
   {
    "duration": 150,
    "start_time": "2021-08-31T01:24:34.491Z"
   },
   {
    "duration": 30,
    "start_time": "2021-08-31T01:24:34.643Z"
   },
   {
    "duration": 16,
    "start_time": "2021-08-31T01:24:34.675Z"
   },
   {
    "duration": 38,
    "start_time": "2021-08-31T01:24:34.693Z"
   },
   {
    "duration": 28,
    "start_time": "2021-08-31T01:24:34.733Z"
   },
   {
    "duration": 58,
    "start_time": "2021-08-31T01:24:34.765Z"
   },
   {
    "duration": 43,
    "start_time": "2021-08-31T01:24:34.856Z"
   },
   {
    "duration": 9,
    "start_time": "2021-08-31T01:24:34.901Z"
   },
   {
    "duration": 43,
    "start_time": "2021-08-31T01:24:34.912Z"
   },
   {
    "duration": 8,
    "start_time": "2021-08-31T01:24:34.958Z"
   },
   {
    "duration": 8,
    "start_time": "2021-08-31T01:24:34.969Z"
   },
   {
    "duration": 11,
    "start_time": "2021-08-31T01:24:34.988Z"
   },
   {
    "duration": 58,
    "start_time": "2021-08-31T01:24:35.004Z"
   },
   {
    "duration": 12,
    "start_time": "2021-08-31T01:24:35.066Z"
   },
   {
    "duration": 16,
    "start_time": "2021-08-31T01:24:35.080Z"
   },
   {
    "duration": 6,
    "start_time": "2021-08-31T01:24:35.099Z"
   },
   {
    "duration": 67,
    "start_time": "2021-08-31T01:24:35.107Z"
   },
   {
    "duration": 56,
    "start_time": "2021-08-31T01:24:35.176Z"
   },
   {
    "duration": 183,
    "start_time": "2021-08-31T01:24:35.235Z"
   },
   {
    "duration": 109,
    "start_time": "2021-08-31T01:24:35.420Z"
   },
   {
    "duration": 2707,
    "start_time": "2021-08-31T01:24:35.531Z"
   },
   {
    "duration": 147,
    "start_time": "2021-08-31T01:24:38.240Z"
   },
   {
    "duration": 31,
    "start_time": "2021-08-31T01:24:38.389Z"
   },
   {
    "duration": 41,
    "start_time": "2021-08-31T01:24:38.423Z"
   },
   {
    "duration": 49,
    "start_time": "2021-08-31T01:24:38.467Z"
   },
   {
    "duration": 75,
    "start_time": "2021-08-31T01:24:38.519Z"
   },
   {
    "duration": 70,
    "start_time": "2021-08-31T01:24:38.596Z"
   },
   {
    "duration": 5,
    "start_time": "2021-08-31T01:24:38.669Z"
   },
   {
    "duration": 20,
    "start_time": "2021-08-31T01:24:38.677Z"
   },
   {
    "duration": 17,
    "start_time": "2021-08-31T01:24:38.700Z"
   },
   {
    "duration": 65,
    "start_time": "2021-08-31T01:24:38.720Z"
   },
   {
    "duration": 24,
    "start_time": "2021-08-31T01:24:38.788Z"
   },
   {
    "duration": 5,
    "start_time": "2021-08-31T01:24:38.814Z"
   },
   {
    "duration": 59,
    "start_time": "2021-08-31T01:24:38.856Z"
   },
   {
    "duration": 6,
    "start_time": "2021-08-31T01:24:38.917Z"
   },
   {
    "duration": 30,
    "start_time": "2021-08-31T01:24:38.956Z"
   },
   {
    "duration": 8,
    "start_time": "2021-08-31T01:24:38.989Z"
   },
   {
    "duration": 6,
    "start_time": "2021-08-31T01:24:38.999Z"
   },
   {
    "duration": 7,
    "start_time": "2021-08-31T01:24:39.007Z"
   },
   {
    "duration": 19,
    "start_time": "2021-08-31T01:24:39.056Z"
   },
   {
    "duration": 19,
    "start_time": "2021-08-31T01:24:39.077Z"
   },
   {
    "duration": 78,
    "start_time": "2021-08-31T01:24:39.098Z"
   },
   {
    "duration": 34,
    "start_time": "2021-08-31T01:24:39.179Z"
   },
   {
    "duration": 50,
    "start_time": "2021-08-31T01:24:39.216Z"
   },
   {
    "duration": 21,
    "start_time": "2021-08-31T01:24:39.269Z"
   },
   {
    "duration": 489,
    "start_time": "2021-08-31T01:24:39.293Z"
   },
   {
    "duration": 556,
    "start_time": "2021-08-31T01:24:39.784Z"
   },
   {
    "duration": 451,
    "start_time": "2021-08-31T01:24:40.342Z"
   },
   {
    "duration": 539,
    "start_time": "2021-08-31T01:24:40.795Z"
   },
   {
    "duration": 36,
    "start_time": "2021-08-31T01:24:41.338Z"
   },
   {
    "duration": 14,
    "start_time": "2021-08-31T01:24:41.377Z"
   },
   {
    "duration": 13,
    "start_time": "2021-08-31T01:24:41.393Z"
   },
   {
    "duration": 75,
    "start_time": "2021-08-31T01:24:41.408Z"
   },
   {
    "duration": 28,
    "start_time": "2021-08-31T01:24:41.486Z"
   },
   {
    "duration": 43,
    "start_time": "2021-08-31T01:24:41.517Z"
   },
   {
    "duration": 6,
    "start_time": "2021-08-31T01:24:41.566Z"
   },
   {
    "duration": 11,
    "start_time": "2021-08-31T01:24:41.574Z"
   },
   {
    "duration": 13,
    "start_time": "2021-08-31T01:24:41.587Z"
   },
   {
    "duration": 8,
    "start_time": "2021-08-31T01:24:41.603Z"
   },
   {
    "duration": 432,
    "start_time": "2021-08-31T01:27:07.564Z"
   }
  ],
  "kernelspec": {
   "display_name": "Python 3",
   "language": "python",
   "name": "python3"
  },
  "language_info": {
   "codemirror_mode": {
    "name": "ipython",
    "version": 3
   },
   "file_extension": ".py",
   "mimetype": "text/x-python",
   "name": "python",
   "nbconvert_exporter": "python",
   "pygments_lexer": "ipython3",
   "version": "3.7.8"
  },
  "toc": {
   "base_numbering": 1,
   "nav_menu": {},
   "number_sections": true,
   "sideBar": true,
   "skip_h1_title": true,
   "title_cell": "Table of Contents",
   "title_sidebar": "Contents",
   "toc_cell": false,
   "toc_position": {
    "height": "calc(100% - 180px)",
    "left": "10px",
    "top": "150px",
    "width": "217px"
   },
   "toc_section_display": true,
   "toc_window_display": true
  }
 },
 "nbformat": 4,
 "nbformat_minor": 2
}
